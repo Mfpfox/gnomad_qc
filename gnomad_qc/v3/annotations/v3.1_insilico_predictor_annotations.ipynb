{
 "cells": [
  {
   "cell_type": "code",
   "execution_count": 1,
   "metadata": {},
   "outputs": [],
   "source": [
    "import hail as hl\n",
    "import gnomad"
   ]
  },
  {
   "cell_type": "code",
   "execution_count": 2,
   "metadata": {},
   "outputs": [],
   "source": [
    "def create_grch38_revel_info(path, ow = False, give_object = False):\n",
    "    revel_information = hl.import_table(\"gs://gnomad-wphu/revel_grch38_all_chromosomes.csv\", delimiter=\",\", types={'hg19_pos':hl.tint,'grch38_pos':hl.tstr,'REVEL': hl.tfloat64})\n",
    "    revel_information_grch38 = revel_information.drop(\"hg19_pos\")\n",
    "    revel_information_grch38 = revel_information_grch38.filter(revel_information_grch38.grch38_pos.contains(\".\"),keep=False)\n",
    "    revel_information_grch38 = revel_information_grch38.annotate(grch38_pos_int = hl.int(revel_information_grch38.grch38_pos))\n",
    "    revel_information_grch38 = revel_information_grch38.transmute(grch38_pos = revel_information_grch38.grch38_pos_int)\n",
    "    revel_information_grch38 = revel_information_grch38.transmute(chr = \"chr\" + revel_information_grch38.chr)\n",
    "    revel_information_grch38 = revel_information_grch38.annotate(locus = hl.locus(revel_information_grch38.chr, revel_information_grch38.grch38_pos, reference_genome=\"GRCh38\"))\n",
    "    revel_information_grch38 = revel_information_grch38.annotate(alleles = hl.array([revel_information_grch38.ref, revel_information_grch38.alt]))\n",
    "    revel_information_grch38 = revel_information_grch38.select(\"locus\",\"alleles\",\"REVEL\", \"aaref\", \"aaalt\")\n",
    "    revel_information_grch38 = revel_information_grch38.key_by(\"locus\", \"alleles\")\n",
    "    if ow:\n",
    "        revel_information_grch38.write(path, overwrite=ow)\n",
    "    if give_object:\n",
    "        return revel_information_grch38\n",
    "    \n",
    "def load_grch38_revel_info():\n",
    "    return(hl.read_table(\"gs://gnomad-wphu/revel_annotations_grch38.ht\"))"
   ]
  },
  {
   "cell_type": "code",
   "execution_count": 3,
   "metadata": {},
   "outputs": [],
   "source": [
    "from gnomad.utils.vcf import ht_to_vcf_mt\n",
    "def get_chr():\n",
    "    info_ht = gnomad_vars.select()\n",
    "    info_ht = info_ht.filter(info_ht.locus.contig==\"chr1\")\n",
    "    info_ht = info_ht.head(100000000)\n",
    "    hl.export_vcf(info_ht, \"gs://gnomad-wphu/info_split_large_chr1.vcf\")"
   ]
  },
  {
   "cell_type": "code",
   "execution_count": 4,
   "metadata": {},
   "outputs": [],
   "source": [
    "def create_cadd_info():\n",
    "    cadd = hl.import_table(\"gs://gnomad-wphu/gnomad.genomes.r3.0.indel.tsv\", comment = \"#\", types={'Pos':hl.tint32, \"RawScore\":hl.tfloat, \"PHRED\":hl.tfloat})\n",
    "    cadd = cadd.transmute(Chrom = \"chr\" + cadd.Chrom)\n",
    "    cadd = cadd.annotate(locus = hl.locus(cadd.Chrom, cadd.Pos, reference_genome=\"GRCh38\"))\n",
    "    cadd = cadd.annotate(alleles = hl.array([cadd.Ref, cadd.Alt]))\n",
    "    cadd = cadd.select(\"locus\",\"alleles\",\"RawScore\", \"PHRED\")\n",
    "    cadd = cadd.key_by(\"locus\", \"alleles\")\n",
    "    return cadd\n"
   ]
  },
  {
   "cell_type": "code",
   "execution_count": 5,
   "metadata": {},
   "outputs": [],
   "source": [
    "def load_CADD(path, n_partitions, force_bgz = False):\n",
    "    column_names = {'f0': 'chrom', 'f1': 'pos', 'f2': 'ref', 'f3': 'alt', 'f4': 'RawScore', 'f5': 'PHRED'}\n",
    "    types = {'f0': hl.tstr, 'f1': hl.tint32, 'f4': hl.tfloat32, 'f5': hl.tfloat32}\n",
    "    cadd_ht = hl.import_table(path, comment=\"#\", no_header=True, types=types, min_partitions=n_partitions, force_bgz = force_bgz)\n",
    "    cadd_ht = cadd_ht.rename(column_names)\n",
    "    chrom = hl.format(\"chr%s\", cadd_ht.chrom)\n",
    "    locus = hl.locus(chrom, cadd_ht.pos, reference_genome=\"GRCh38\")\n",
    "    alleles = hl.array([cadd_ht.ref, cadd_ht.alt])\n",
    "    cadd_ht = cadd_ht.transmute(locus=locus, alleles=alleles)\n",
    "    cadd_union_ht = cadd_ht.head(0)\n",
    "    for contigs in (range(1, 10), list(range(10, 23)) + [\"X\", \"Y\", \"MT\"]):\n",
    "        contigs = [\"chr%s\" % contig for contig in contigs]\n",
    "        cadd_ht_subset = cadd_ht.filter(hl.array(list(map(str, contigs))).contains(cadd_ht.locus.contig))\n",
    "        cadd_union_ht = cadd_union_ht.union(cadd_ht_subset)\n",
    "\n",
    "    cadd_union_ht = cadd_union_ht.select(\"locus\", \"alleles\", \"RawScore\", \"PHRED\")\n",
    "    cadd_union_ht = cadd_union_ht.key_by(\"locus\", \"alleles\")\n",
    "    cadd_union_ht = cadd_union_ht.annotate_globals(source_file_path = path)\n",
    "\n",
    "    cadd_union_ht.describe()\n",
    "\n",
    "    return cadd_union_ht\n",
    "\n",
    "def make_unified_CADD():\n",
    "    snvs = hl.read_table(\"gs://gnomad-wphu/CADD-v1.6-SNVs.ht\")\n",
    "    release3_indels = hl.read_table(\"gs://gnomad-wphu/CADD-v1.6-indels-updated.ht\")\n",
    "    raw31_indels = hl.read_table(\"gs://gnomad-wphu/CADD-indels-gnomad.3.1.ht\")\n",
    "    raw31_complex = hl.read_table(\"gs://gnomad-wphu/CADD-1.6-gnomad-complex-variants.ht\")\n",
    "    unified = snvs.head(0)\n",
    "    unified = unified.union(snvs,release3_indels,raw31_indels, raw31_complex)\n",
    "    unified = unified.annotate_globals(source_file_path = {\"snvs\":\"gs://gnomad-wphu/CADD-v1.6-SNVs.ht\",\n",
    "                                                         \"v3-indels\":\"gs://gnomad-wphu/CADD-v1.6-indels-updated.ht\",\n",
    "                                                         \"v3.1-indels\":\"gs://gnomad-wphu/CADD-indels-gnomad.3.1.ht\",\n",
    "                                                         \"v3.1-complex\":\"gs://gnomad-wphu/CADD-1.6-gnomad-complex-variants.ht\"\n",
    "                                                        })\n",
    "    #unified.describe()\n",
    "    return unified\n",
    "\n",
    "def convert_CADD_indels_64_32():\n",
    "    release3_indels = hl.read_table(\"gs://gnomad-wphu/CADD-v1.6-indels.ht\")\n",
    "    release3_indels = release3_indels.transmute(RawScore = hl.float32(release3_indels.RawScore))\n",
    "    release3_indels = release3_indels.transmute(PHRED = hl.float32(release3_indels.PHRED))\n",
    "    release3_indels.describe()\n",
    "    release3_indels.write(\"gs://gnomad-wphu/CADD-v1.6-indels-updated.ht\", overwrite = True)\n",
    "    \n",
    "#unified_CADD = make_unified_CADD()\n",
    "#unified_CADD = unified_CADD.write(\"gs://gnomad-wphu/complete-CADD-v1.6-annotations.ht\", overwrite=True)"
   ]
  },
  {
   "cell_type": "code",
   "execution_count": 6,
   "metadata": {},
   "outputs": [],
   "source": [
    "def export_for_CADD_analysis(hl_tbl,path):\n",
    "    export = hl_tbl.select()\n",
    "    export = export.filter(export.locus.contig==\"chrM\",keep=False)\n",
    "    hl.methods.export_vcf(export, path)"
   ]
  },
  {
   "cell_type": "code",
   "execution_count": 7,
   "metadata": {},
   "outputs": [],
   "source": [
    "def combine_splice_ai():\n",
    "    recode = {f\"{i}\":f\"chr{i}\" for i in (list(range(1, 23)) + ['X', 'Y'])}\n",
    "    splice_snps_skip_invalid = hl.import_vcf(\"gs://gnomad-wphu/splice_ai_data/splice_ai_data/genome_scores_v1.3_ds.20a701bc58ab45b59de2576db79ac8d0/spliceai_scores.masked.snv.hg38.vcf.gz\",\n",
    "                                force_bgz= True,\n",
    "                                min_partitions=3000,\n",
    "                                reference_genome='GRCh38', contig_recoding=recode, skip_invalid_loci= True\n",
    "                               )\n",
    "    splice_snps_skip_invalid.annotate_globals(source_file_path=\"gs://gnomad-wphu/splice_ai_data/splice_ai_data/genome_scores_v1.3_ds.20a701bc58ab45b59de2576db79ac8d0/spliceai_scores.masked.snv.hg38.vcf.gz\")\n",
    "    \n",
    "    splice_indels_skip_invalid = hl.import_vcf(\"gs://gnomad-wphu/splice_ai_data/gnomAD_v3.1_SpliceAI_scores-selected/spliceai_scores.masked.gnomad_indel.hg38.vcf.gz\",\n",
    "                                   force_bgz=True,\n",
    "                                   reference_genome='GRCh38', contig_recoding=recode,skip_invalid_loci=True,\n",
    "                                   min_partitions=1000)\n",
    "    splice_indels_skip_invalid.annotate_globals(source_file_path = \"gs://gnomad-wphu/splice_ai_data/gnomAD_v3.1_SpliceAI_scores-selected/spliceai_scores.masked.gnomad_indel.hg38.vcf.gz\")\n",
    "    \n",
    "    spliceAi_info_skip_invalid = splice_snps_skip_invalid.union_rows(splice_indels_skip_invalid)\n",
    "    return spliceAi_info_skip_invalid\n",
    "\n",
    "def annotate_spliceAi(mt):\n",
    "    delta_scores = mt.info.SpliceAI[0].split(delim=\"\\\\|\")[2:6]\n",
    "    splice_split = mt.info.annotate(\n",
    "        SpliceAI=hl.map(lambda x: hl.float32(x), delta_scores)\n",
    "    ).rename({\"SpliceAI\":\"splice_ai\"})\n",
    "    mt = mt.annotate_rows(info=splice_split)\n",
    "\n",
    "    # Annotate info.max_DS with the max of DS_AG, DS_AL, DS_DG, DS_DL in info.\n",
    "    # delta_score array is |DS_AG|DS_AL|DS_DG|DS_DL\n",
    "    consequences = hl.literal(\n",
    "        [\"acceptor_gain\", \"acceptor_loss\", \"donor_gain\", \"donor_loss\"]\n",
    "    )\n",
    "    mt = mt.annotate_rows(info=mt.info.annotate(max_ds=hl.max(mt.info.splice_ai)))\n",
    "    mt = mt.annotate_rows(\n",
    "        info=mt.info.annotate(\n",
    "            splice_consequence=hl.if_else(\n",
    "                mt.info.max_ds > 0,\n",
    "                consequences[mt.info.splice_ai.index(mt.info.max_ds)],\n",
    "                \"no_consequence\",\n",
    "            )\n",
    "        )\n",
    "    )\n",
    "\n",
    "    return mt\n",
    "#spliceAi_info_skip_invalid = combine_splice_ai()\n",
    "#spliceAi_info_skip_invalid = annotate_spliceAi(spliceAi_info_skip_invalid)\n",
    "#spliceAi_info_skip_invalid.write(\"gs://gnomad-wphu/spliceai-scores-updated.ht\", overwrite=True)\n"
   ]
  },
  {
   "cell_type": "code",
   "execution_count": 8,
   "metadata": {},
   "outputs": [],
   "source": [
    "#chr, pos, ref, alt, refAA, altAA, strand_1pos_0neg, trinucleotide_context, UCSC_gene, ExAC_coverage,primateDL_score\n",
    "def create_primate_ai_info(write = False, path = \"\", rewrite = False):\n",
    "    primate_ai= hl.import_table(\"gs://gnomad-wphu/PrimateAI_scores_v0.2_hg38.tsv.gz\",\n",
    "                                          force=True, comment=\"#\", skip_blank_lines=True,\n",
    "                                          types={\"pos\":hl.tint32, 'primateDL_score':hl.tfloat32, 'ExAC_coverage':hl.tfloat32}\n",
    "                                         )\n",
    "    primate_ai = primate_ai.annotate_globals(source_file_path=\"gs://gnomad-wphu/PrimateAI_scores_v0.2_hg38.tsv.gz\")\n",
    "    primate_ai = primate_ai.annotate(locus = hl.locus(primate_ai.chr,primate_ai.pos, reference_genome=\"GRCh38\"))\n",
    "    primate_ai = primate_ai.annotate(alleles = hl.array([primate_ai.ref, primate_ai.alt]))\n",
    "    primate_ai = primate_ai.select(\"locus\", \"alleles\", \"primateDL_score\", \"ExAC_coverage\",\"strand_1pos_0neg\",\"refAA\", \"altAA\", \"trinucleotide_context\", \"UCSC_gene\")\n",
    "    primate_ai = primate_ai.key_by(\"locus\",\"alleles\")\n",
    "    if primate_ai.n_partitions() < 10:\n",
    "        primate_ai = primate_ai.repartition(500)\n",
    "    if write:\n",
    "        if overwrite:\n",
    "            primate_ai.write(path, overwrite = rewrite)\n",
    "        else:\n",
    "            try:\n",
    "                primate_ai.write(path)\n",
    "            except Exception as e: print(e)\n",
    "    primate_ai.describe()\n",
    "    return primate_ai\n"
   ]
  },
  {
   "cell_type": "code",
   "execution_count": 9,
   "metadata": {},
   "outputs": [
    {
     "name": "stderr",
     "output_type": "stream",
     "text": [
      "Initializing Hail with default parameters...\n",
      "Running on Apache Spark version 2.4.5\n",
      "SparkUI available at http://wphu-m.c.broad-mpg-gnomad.internal:4040\n",
      "Welcome to\n",
      "     __  __     <>__\n",
      "    / /_/ /__  __/ /\n",
      "   / __  / _ `/ / /\n",
      "  /_/ /_/\\_,_/_/_/   version 0.2.57-582b2e31b8bd\n",
      "LOGGING: writing to /home/hail/hail-20201207-1818-0.2.57-582b2e31b8bd.log\n"
     ]
    }
   ],
   "source": [
    "gnomad_variants = hl.read_table(\"gs://gnomad/annotations/hail-0.2/ht/genomes_v3.1/gnomad_genomes_v3.1_info.split.ht\")\n",
    "gnomad_indels = hl.read_table(\"gs://gnomad-wphu/gnomad_indels.ht\")\n",
    "gnomad_variants_v3 = hl.read_table(\"gs://gnomad/annotations/hail-0.2/ht/genomes_v3/gnomad_genomes_v3_info.split.ht\")\n",
    "gnomad3_release = hl.read_table(\"gs://gnomad-public-requester-pays/release/3.0/ht/genomes/gnomad.genomes.r3.0.sites.ht\")\n",
    "\n",
    "#seqr_annotations_tbl = hl.read_table(\"gs://seqr-reference-data/GRCh38/all_reference_data/v2/combined_reference_data_grch38-2.0.3.ht\")\n",
    "#gnomad_vars_in_seqr = gnomad_variants.semi_join(seqr_annotations_tbl)\n",
    "#gnomad_vars_not_in_seqr = gnomad_variants.anti_join(seqr_annotations_tbl)\n",
    "\n",
    "#cadd_tbl = hl.read_table(\"gs://seqr-reference-data/GRCh38/CADD/CADD_snvs_and_indels.v1.4.ht\")\n",
    "#CADD_indels = create_cadd_indel_info()\n",
    "CADD_indels = hl.read_table(\"gs://gnomad-wphu/CADD-v1.6-indels-updated.ht\")\n",
    "gnomad_indels_not_in_CADD = hl.read_table(\"gs://gnomad-wphu/gnomad-indels-anti-CADD.ht\")\n",
    "gnomad_indels_in_CADD = hl.read_table(\"gs://gnomad-wphu/gnomad-indels-semi-CADD.ht\")\n",
    "CADD_snps = hl.read_table(\"gs://gnomad-wphu/CADD-v1.6-SNVs.ht\")\n",
    "cadd = hl.read_table(\"gs://gnomad-wphu/complete-CADD-v1.6-annotations.ht\")\n",
    "\n",
    "primate_ai_info_old = hl.read_table(\"gs://seqr-reference-data/GRCh38/primate_ai/PrimateAI_scores_v0.2.liftover_grch38.ht\")\n",
    "primate_ai_info = hl.read_table(\"gs://gnomad-wphu/primate-ai-info.ht\")\n",
    "gnomad_vars_not_in_primate_ai = hl.read_table(\"gs://gnomad-wphu/gnomad-vars-anti-primate.ht\")\n",
    "\n",
    "\n",
    "#revel_information = hl.import_table(\"gs://gnomad-wphu/revel_grch38_all_chromosomes.csv\", delimiter=\",\", types={'hg19_pos':hl.tint,'grch38_pos':hl.tstr,'REVEL': hl.tfloat64})\n",
    "revel_information_grch38 = hl.read_table(\"gs://gnomad-wphu/revel_annotations_grch38.ht\")\n",
    "gnomad_vars_not_in_revel = hl.read_table(\"gs://gnomad-wphu/gnomad-vars-anti-revel.ht\")\n",
    "gnomad_vars_in_revel = hl.read_table(\"gs://gnomad-wphu/gnomad-vars-semi-revel.ht\")\n",
    "\n",
    "spliceAi_info_skip_invalid = hl.read_matrix_table(\"gs://gnomad-wphu/spliceai-scores-updated.ht\")\n",
    "spliceAi_snps_skip_invalid = hl.read_matrix_table(\"gs://gnomad-wphu/splice_snps_skip_invalid.ht\")\n",
    "spliceAi_indels_skip_invalid = hl.read_matrix_table(\"gs://gnomad-wphu/splice_indels_skip_invalid.ht\")\n",
    "\n",
    "full_annotations = hl.read_table(\"gs://gnomad/annotations/hail-0.2/ht/genomes_v3.1/gnomad_genomes_v3.1.analyst_annotations.ht\")\n"
   ]
  },
  {
   "cell_type": "code",
   "execution_count": 50,
   "metadata": {},
   "outputs": [],
   "source": [
    "#gnomad_vars_in_revel = gnomad_variants.semi_join(revel_information_grch38)\n",
    "#gnomad_vars_not_in_revel = gnomad_variants.anti_join(revel_information_grch38)\n",
    "\n",
    "#gnomad_vars_not_in_revel = gnomad_vars_not_in_revel.checkpoint(\"gs://gnomad-wphu/gnomad-vars-anti-revel.ht\")\n",
    "#gnomad_indels_in_revel = gnomad_vars_in_revel.checkpoint(\"gs://gnomad-wphu/gnomad-vars-semi-revel.ht\")\n",
    "\n",
    "#gnomad_indels = gnomad_indels.checkpoint(\"gs://gnomad-wphu/gnomad-indels-v3.1.ht\")\n",
    "#gnomad_indels_not_in_CADD = gnomad_indels.anti_join(CADD_indels)\n",
    "#gnomad_indels_in_CADD = gnomad_indels.semi_join(CADD_indels)\n",
    "\n",
    "#gnomad_indels_not_in_CADD = gnomad_indels_not_in_CADD.checkpoint(\"gs://gnomad-wphu/gnomad-indels-anti-CADD.ht\")\n",
    "#gnomad_indels_in_CADD = gnomad_indels_in_CADD.checkpoint(\"gs://gnomad-wphu/gnomad-indels-semi-CADD.ht\")\n",
    "\n",
    "\n",
    "#gnomad_indels = gnomad_indels.checkpoint(\"gs://gnomad-wphu/gnomad_indels.ht\", overwrite = True)\n",
    "#gnomad_indels.count()\n",
    "#gnomad_indels.write(\"gs://gnomad-wphu/gnomad_indels.ht\", overwrite = True)\n",
    "\n",
    "#gnomad3_release = hl.read_table(\"gs://gnomad-public-requester-pays/release/3.0/ht/genomes/gnomad.genomes.r3.0.sites.ht\")\n",
    "#gnomad3_release.describe()\n",
    "\n",
    "#gnomad3_release_indels = gnomad3_release.filter(\n",
    "                            #hl.is_indel(gnomad3_release.alleles[0], gnomad3_release.alleles[1]))\n",
    "\n",
    "#gnomad3_release_indels.count()"
   ]
  },
  {
   "cell_type": "code",
   "execution_count": 17,
   "metadata": {
    "scrolled": false
   },
   "outputs": [
    {
     "name": "stdout",
     "output_type": "stream",
     "text": [
      "cadd\n"
     ]
    },
    {
     "name": "stderr",
     "output_type": "stream",
     "text": [
      "2020-12-07 18:29:04 Hail: INFO: Table.join: renamed the following fields on the right to avoid name conflicts:\n",
      "    'alleles' -> 'alleles_1'\n",
      "    'locus' -> 'locus_1'\n"
     ]
    },
    {
     "name": "stdout",
     "output_type": "stream",
     "text": [
      "1570602305\n",
      "revel\n"
     ]
    },
    {
     "name": "stderr",
     "output_type": "stream",
     "text": [
      "2020-12-07 18:38:54 Hail: INFO: Table.join: renamed the following fields on the right to avoid name conflicts:\n",
      "    'alleles' -> 'alleles_1'\n",
      "    'locus' -> 'locus_1'\n"
     ]
    },
    {
     "name": "stdout",
     "output_type": "stream",
     "text": [
      "1571019842\n",
      "spliceai\n"
     ]
    },
    {
     "name": "stderr",
     "output_type": "stream",
     "text": [
      "2020-12-07 18:52:42 Hail: INFO: Table.join: renamed the following fields on the right to avoid name conflicts:\n",
      "    'locus' -> 'locus_1'\n",
      "    'alleles' -> 'alleles_1'\n"
     ]
    },
    {
     "name": "stdout",
     "output_type": "stream",
     "text": [
      "1584070311\n",
      "primateai\n"
     ]
    },
    {
     "name": "stderr",
     "output_type": "stream",
     "text": [
      "2020-12-07 19:11:31 Hail: INFO: Table.join: renamed the following fields on the right to avoid name conflicts:\n",
      "    'alleles' -> 'alleles_1'\n",
      "    'locus' -> 'locus_1'\n"
     ]
    },
    {
     "name": "stdout",
     "output_type": "stream",
     "text": [
      "1584091437\n",
      "----------------------------------------\n",
      "Global fields:\n",
      "    'annotation_file_path': dict<str, str> \n",
      "----------------------------------------\n",
      "Row fields:\n",
      "    'locus': locus<GRCh38> \n",
      "    'alleles': array<str> \n",
      "    'info': struct {\n",
      "        ReadPosRankSum: float64, \n",
      "        MQRankSum: float64, \n",
      "        QUALapprox: int64, \n",
      "        VarDP: int32, \n",
      "        SB: array<int32>, \n",
      "        MQ: float64, \n",
      "        QD: float32, \n",
      "        FS: float64, \n",
      "        AS_ReadPosRankSum: float64, \n",
      "        AS_MQRankSum: float64, \n",
      "        AS_QUALapprox: int64, \n",
      "        AS_VarDP: int32, \n",
      "        AS_MQ: float64, \n",
      "        AS_QD: float32, \n",
      "        AS_SB_TABLE: array<int32>, \n",
      "        AS_FS: float64, \n",
      "        AC_raw: int32, \n",
      "        AC: int32, \n",
      "        AS_pab_max: float64\n",
      "    } \n",
      "    'lowqual': bool \n",
      "    'AS_lowqual': bool \n",
      "    'a_index': int32 \n",
      "    'was_split': bool \n",
      "    'old_locus': locus<GRCh38> \n",
      "    'old_alleles': array<str> \n",
      "    'cadd': struct {\n",
      "        raw_score: float32, \n",
      "        phred: float32\n",
      "    } \n",
      "    'revel': struct {\n",
      "        revel_score: float64, \n",
      "        ref_aa: str, \n",
      "        alt_aa: str\n",
      "    } \n",
      "    'rsid': str \n",
      "    'qual': float64 \n",
      "    'filters': set<str> \n",
      "    'splice_ai': struct {\n",
      "        splice_ai: array<float32>, \n",
      "        max_ds: float32, \n",
      "        splice_consequence: str\n",
      "    } \n",
      "    'ExAC_coverage': float32 \n",
      "    'strand_1pos_0neg': str \n",
      "    'refAA': str \n",
      "    'altAA': str \n",
      "    'trinucleotide_context': str \n",
      "    'UCSC_gene': str \n",
      "    'primate_ai': struct {\n",
      "        primate_ai_score: float32\n",
      "    } \n",
      "----------------------------------------\n",
      "Key: ['locus', 'alleles']\n",
      "----------------------------------------\n",
      "----------------------------------------\n",
      "Global fields:\n",
      "    'annotation_file_path': dict<str, str> \n",
      "----------------------------------------\n",
      "Row fields:\n",
      "    'locus': locus<GRCh38> \n",
      "    'alleles': array<str> \n",
      "    'cadd': struct {\n",
      "        raw_score: float32, \n",
      "        phred: float32\n",
      "    } \n",
      "    'revel': struct {\n",
      "        revel_score: float64, \n",
      "        ref_aa: str, \n",
      "        alt_aa: str\n",
      "    } \n",
      "    'splice_ai': struct {\n",
      "        splice_ai: array<float32>, \n",
      "        max_ds: float32, \n",
      "        splice_consequence: str\n",
      "    } \n",
      "    'primate_ai': struct {\n",
      "        primate_ai_score: float32\n",
      "    } \n",
      "----------------------------------------\n",
      "Key: ['locus', 'alleles']\n",
      "----------------------------------------\n"
     ]
    }
   ],
   "source": [
    "def annotate_gnomad_v31(list_of_annotations, gnomad_v31_tbl):\n",
    "    import re\n",
    "    global_annotations = {}\n",
    "    for annotation in list_of_annotations:\n",
    "        annotation = re.sub(r'(_| |-)',\"\",annotation.lower())\n",
    "        print(annotation)\n",
    "        if annotation == \"cadd\":\n",
    "            cadd = hl.read_table(\"gs://gnomad-wphu/complete-CADD-v1.6-annotations.ht\")\n",
    "            cadd = cadd.transmute(cadd = hl.struct(raw_score = cadd.RawScore,\n",
    "                                                   phred = cadd.PHRED\n",
    "                                                  ))\n",
    "            #CADD = hl.read_table()\n",
    "            #gnomad_v31_tbl = gnomad_v31_tbl.join(CADD.transmute(CADD = hl.struct(RawScore = CADD.RawScore, PHRED = CADD.PHRED)), how=\"left\")\n",
    "            gnomad_v31_tbl = gnomad_v31_tbl.join(cadd, how = \"left\")\n",
    "            global_annotations[\"cadd\"]=\"gs://gnomad-wphu/complete-CADD-v1.6-annotations.ht\"\n",
    "            \n",
    "        elif annotation == \"revel\":\n",
    "            revel = hl.read_table(\"gs://gnomad-wphu/revel_annotations_grch38.ht\")\n",
    "            revel = revel.transmute(revel = hl.struct(revel_score = revel.REVEL,\n",
    "                                                      ref_aa = revel.aaref,\n",
    "                                                      alt_aa = revel.aaalt\n",
    "                                                     ))\n",
    "            gnomad_v31_tbl = gnomad_v31_tbl.join(revel, how = \"left\")\n",
    "            global_annotations[\"revel\"] = \"gs://gnomad-wphu/revel_annotations_grch38.ht\"\n",
    "            \n",
    "        elif annotation == \"spliceai\":\n",
    "            spliceai = hl.read_matrix_table(\"gs://gnomad-wphu/spliceai-scores-updated.ht\")\n",
    "            #spliceai = spliceai.annotate_rows(info = spliceai.info.annotate(\n",
    "                                                #risd = spliceai.rsid,\n",
    "                                                #qual = spliceai.qual,\n",
    "                                                #filters = spliceai.filters\n",
    "                                                #)\n",
    "                                             #)\n",
    "            spliceai = spliceai.rename({\"info\" : \"splice_ai\"})\n",
    "            gnomad_v31_tbl = gnomad_v31_tbl.join(spliceai.make_table(), how = \"left\")\n",
    "            global_annotations[\"splice_ai\"] = \"gs://gnomad-wphu/spliceai-scores-updated.ht\"\n",
    "            \n",
    "        elif annotation == \"primateai\":\n",
    "            primateai = hl.read_table(\"gs://gnomad-wphu/primate-ai-info.ht\")\n",
    "            primateai = primateai.transmute(primate_ai = hl.struct(primate_ai_score = primateai.primateDL_score))\n",
    "            gnomad_v31_tbl = gnomad_v31_tbl.join(primateai, how = \"left\")\n",
    "            global_annotations[\"primate_ai\"] = \"gs://gnomad-wphu/primate-ai-info.ht\"\n",
    "    gnomad_v31_tbl = gnomad_v31_tbl.select_globals()\n",
    "    gnomad_v31_tbl = gnomad_v31_tbl.annotate_globals(annotation_file_path=global_annotations)\n",
    "    gnomad_v31_tbl.describe()\n",
    "    gnomad_v31_tbl = gnomad_v31_tbl.select(\"cadd\", \"revel\", \"splice_ai\", \"primate_ai\")\n",
    "    return gnomad_v31_tbl\n",
    "        \n",
    "result = annotate_gnomad_v31([\"CADD\", \"REVEL\", \"SPLICE-AI\", \"PRIMATE-AI\"], gnomad_variants)\n",
    "result.describe()\n"
   ]
  },
  {
   "cell_type": "code",
   "execution_count": 18,
   "metadata": {},
   "outputs": [
    {
     "data": {
      "text/html": [
       "<table><thead><tr><td style=\"white-space: nowrap; max-width: 500px; overflow: hidden; text-overflow: ellipsis; \" colspan=\"1\"><div style=\"text-align: left;\"></div></td><td style=\"white-space: nowrap; max-width: 500px; overflow: hidden; text-overflow: ellipsis; \" colspan=\"1\"><div style=\"text-align: left;\"></div></td><td style=\"white-space: nowrap; max-width: 500px; overflow: hidden; text-overflow: ellipsis; \" colspan=\"19\"><div style=\"text-align: left;\"></div></td><td style=\"white-space: nowrap; max-width: 500px; overflow: hidden; text-overflow: ellipsis; \" colspan=\"1\"><div style=\"text-align: left;\"></div></td><td style=\"white-space: nowrap; max-width: 500px; overflow: hidden; text-overflow: ellipsis; \" colspan=\"1\"><div style=\"text-align: left;\"></div></td><td style=\"white-space: nowrap; max-width: 500px; overflow: hidden; text-overflow: ellipsis; \" colspan=\"1\"><div style=\"text-align: left;\"></div></td><td style=\"white-space: nowrap; max-width: 500px; overflow: hidden; text-overflow: ellipsis; \" colspan=\"1\"><div style=\"text-align: left;\"></div></td><td style=\"white-space: nowrap; max-width: 500px; overflow: hidden; text-overflow: ellipsis; \" colspan=\"1\"><div style=\"text-align: left;\"></div></td><td style=\"white-space: nowrap; max-width: 500px; overflow: hidden; text-overflow: ellipsis; \" colspan=\"1\"><div style=\"text-align: left;\"></div></td></tr><tr><td style=\"white-space: nowrap; max-width: 500px; overflow: hidden; text-overflow: ellipsis; \" colspan=\"1\"><div style=\"text-align: left;\"></div></td><td style=\"white-space: nowrap; max-width: 500px; overflow: hidden; text-overflow: ellipsis; \" colspan=\"1\"><div style=\"text-align: left;\"></div></td><td style=\"white-space: nowrap; max-width: 500px; overflow: hidden; text-overflow: ellipsis; \" colspan=\"19\"><div style=\"text-align: left;border-bottom: solid 2px #000; padding-bottom: 5px\">info</div></td><td style=\"white-space: nowrap; max-width: 500px; overflow: hidden; text-overflow: ellipsis; \" colspan=\"1\"><div style=\"text-align: left;\"></div></td><td style=\"white-space: nowrap; max-width: 500px; overflow: hidden; text-overflow: ellipsis; \" colspan=\"1\"><div style=\"text-align: left;\"></div></td><td style=\"white-space: nowrap; max-width: 500px; overflow: hidden; text-overflow: ellipsis; \" colspan=\"1\"><div style=\"text-align: left;\"></div></td><td style=\"white-space: nowrap; max-width: 500px; overflow: hidden; text-overflow: ellipsis; \" colspan=\"1\"><div style=\"text-align: left;\"></div></td><td style=\"white-space: nowrap; max-width: 500px; overflow: hidden; text-overflow: ellipsis; \" colspan=\"1\"><div style=\"text-align: left;\"></div></td><td style=\"white-space: nowrap; max-width: 500px; overflow: hidden; text-overflow: ellipsis; \" colspan=\"1\"><div style=\"text-align: left;\"></div></td></tr><tr><td style=\"white-space: nowrap; max-width: 500px; overflow: hidden; text-overflow: ellipsis; \" colspan=\"1\"><div style=\"text-align: left;border-bottom: solid 2px #000; padding-bottom: 5px\">locus</div></td><td style=\"white-space: nowrap; max-width: 500px; overflow: hidden; text-overflow: ellipsis; \" colspan=\"1\"><div style=\"text-align: left;border-bottom: solid 2px #000; padding-bottom: 5px\">alleles</div></td><td style=\"white-space: nowrap; max-width: 500px; overflow: hidden; text-overflow: ellipsis; \" colspan=\"1\"><div style=\"text-align: left;border-bottom: solid 2px #000; padding-bottom: 5px\">ReadPosRankSum</div></td><td style=\"white-space: nowrap; max-width: 500px; overflow: hidden; text-overflow: ellipsis; \" colspan=\"1\"><div style=\"text-align: left;border-bottom: solid 2px #000; padding-bottom: 5px\">MQRankSum</div></td><td style=\"white-space: nowrap; max-width: 500px; overflow: hidden; text-overflow: ellipsis; \" colspan=\"1\"><div style=\"text-align: left;border-bottom: solid 2px #000; padding-bottom: 5px\">QUALapprox</div></td><td style=\"white-space: nowrap; max-width: 500px; overflow: hidden; text-overflow: ellipsis; \" colspan=\"1\"><div style=\"text-align: left;border-bottom: solid 2px #000; padding-bottom: 5px\">VarDP</div></td><td style=\"white-space: nowrap; max-width: 500px; overflow: hidden; text-overflow: ellipsis; \" colspan=\"1\"><div style=\"text-align: left;border-bottom: solid 2px #000; padding-bottom: 5px\">SB</div></td><td style=\"white-space: nowrap; max-width: 500px; overflow: hidden; text-overflow: ellipsis; \" colspan=\"1\"><div style=\"text-align: left;border-bottom: solid 2px #000; padding-bottom: 5px\">MQ</div></td><td style=\"white-space: nowrap; max-width: 500px; overflow: hidden; text-overflow: ellipsis; \" colspan=\"1\"><div style=\"text-align: left;border-bottom: solid 2px #000; padding-bottom: 5px\">QD</div></td><td style=\"white-space: nowrap; max-width: 500px; overflow: hidden; text-overflow: ellipsis; \" colspan=\"1\"><div style=\"text-align: left;border-bottom: solid 2px #000; padding-bottom: 5px\">FS</div></td><td style=\"white-space: nowrap; max-width: 500px; overflow: hidden; text-overflow: ellipsis; \" colspan=\"1\"><div style=\"text-align: left;border-bottom: solid 2px #000; padding-bottom: 5px\">AS_ReadPosRankSum</div></td><td style=\"white-space: nowrap; max-width: 500px; overflow: hidden; text-overflow: ellipsis; \" colspan=\"1\"><div style=\"text-align: left;border-bottom: solid 2px #000; padding-bottom: 5px\">AS_MQRankSum</div></td><td style=\"white-space: nowrap; max-width: 500px; overflow: hidden; text-overflow: ellipsis; \" colspan=\"1\"><div style=\"text-align: left;border-bottom: solid 2px #000; padding-bottom: 5px\">AS_QUALapprox</div></td><td style=\"white-space: nowrap; max-width: 500px; overflow: hidden; text-overflow: ellipsis; \" colspan=\"1\"><div style=\"text-align: left;border-bottom: solid 2px #000; padding-bottom: 5px\">AS_VarDP</div></td><td style=\"white-space: nowrap; max-width: 500px; overflow: hidden; text-overflow: ellipsis; \" colspan=\"1\"><div style=\"text-align: left;border-bottom: solid 2px #000; padding-bottom: 5px\">AS_MQ</div></td><td style=\"white-space: nowrap; max-width: 500px; overflow: hidden; text-overflow: ellipsis; \" colspan=\"1\"><div style=\"text-align: left;border-bottom: solid 2px #000; padding-bottom: 5px\">AS_QD</div></td><td style=\"white-space: nowrap; max-width: 500px; overflow: hidden; text-overflow: ellipsis; \" colspan=\"1\"><div style=\"text-align: left;border-bottom: solid 2px #000; padding-bottom: 5px\">AS_SB_TABLE</div></td><td style=\"white-space: nowrap; max-width: 500px; overflow: hidden; text-overflow: ellipsis; \" colspan=\"1\"><div style=\"text-align: left;border-bottom: solid 2px #000; padding-bottom: 5px\">AS_FS</div></td><td style=\"white-space: nowrap; max-width: 500px; overflow: hidden; text-overflow: ellipsis; \" colspan=\"1\"><div style=\"text-align: left;border-bottom: solid 2px #000; padding-bottom: 5px\">AC_raw</div></td><td style=\"white-space: nowrap; max-width: 500px; overflow: hidden; text-overflow: ellipsis; \" colspan=\"1\"><div style=\"text-align: left;border-bottom: solid 2px #000; padding-bottom: 5px\">AC</div></td><td style=\"white-space: nowrap; max-width: 500px; overflow: hidden; text-overflow: ellipsis; \" colspan=\"1\"><div style=\"text-align: left;border-bottom: solid 2px #000; padding-bottom: 5px\">AS_pab_max</div></td><td style=\"white-space: nowrap; max-width: 500px; overflow: hidden; text-overflow: ellipsis; \" colspan=\"1\"><div style=\"text-align: left;border-bottom: solid 2px #000; padding-bottom: 5px\">lowqual</div></td><td style=\"white-space: nowrap; max-width: 500px; overflow: hidden; text-overflow: ellipsis; \" colspan=\"1\"><div style=\"text-align: left;border-bottom: solid 2px #000; padding-bottom: 5px\">AS_lowqual</div></td><td style=\"white-space: nowrap; max-width: 500px; overflow: hidden; text-overflow: ellipsis; \" colspan=\"1\"><div style=\"text-align: left;border-bottom: solid 2px #000; padding-bottom: 5px\">a_index</div></td><td style=\"white-space: nowrap; max-width: 500px; overflow: hidden; text-overflow: ellipsis; \" colspan=\"1\"><div style=\"text-align: left;border-bottom: solid 2px #000; padding-bottom: 5px\">was_split</div></td><td style=\"white-space: nowrap; max-width: 500px; overflow: hidden; text-overflow: ellipsis; \" colspan=\"1\"><div style=\"text-align: left;border-bottom: solid 2px #000; padding-bottom: 5px\">old_locus</div></td><td style=\"white-space: nowrap; max-width: 500px; overflow: hidden; text-overflow: ellipsis; \" colspan=\"1\"><div style=\"text-align: left;border-bottom: solid 2px #000; padding-bottom: 5px\">old_alleles</div></td></tr><tr><td style=\"white-space: nowrap; max-width: 500px; overflow: hidden; text-overflow: ellipsis; text-align: left;\">locus&lt;GRCh38&gt;</td><td style=\"white-space: nowrap; max-width: 500px; overflow: hidden; text-overflow: ellipsis; text-align: left;\">array&lt;str&gt;</td><td style=\"white-space: nowrap; max-width: 500px; overflow: hidden; text-overflow: ellipsis; text-align: left;\">float64</td><td style=\"white-space: nowrap; max-width: 500px; overflow: hidden; text-overflow: ellipsis; text-align: left;\">float64</td><td style=\"white-space: nowrap; max-width: 500px; overflow: hidden; text-overflow: ellipsis; text-align: left;\">int64</td><td style=\"white-space: nowrap; max-width: 500px; overflow: hidden; text-overflow: ellipsis; text-align: left;\">int32</td><td style=\"white-space: nowrap; max-width: 500px; overflow: hidden; text-overflow: ellipsis; text-align: left;\">array&lt;int32&gt;</td><td style=\"white-space: nowrap; max-width: 500px; overflow: hidden; text-overflow: ellipsis; text-align: left;\">float64</td><td style=\"white-space: nowrap; max-width: 500px; overflow: hidden; text-overflow: ellipsis; text-align: left;\">float32</td><td style=\"white-space: nowrap; max-width: 500px; overflow: hidden; text-overflow: ellipsis; text-align: left;\">float64</td><td style=\"white-space: nowrap; max-width: 500px; overflow: hidden; text-overflow: ellipsis; text-align: left;\">float64</td><td style=\"white-space: nowrap; max-width: 500px; overflow: hidden; text-overflow: ellipsis; text-align: left;\">float64</td><td style=\"white-space: nowrap; max-width: 500px; overflow: hidden; text-overflow: ellipsis; text-align: left;\">int64</td><td style=\"white-space: nowrap; max-width: 500px; overflow: hidden; text-overflow: ellipsis; text-align: left;\">int32</td><td style=\"white-space: nowrap; max-width: 500px; overflow: hidden; text-overflow: ellipsis; text-align: left;\">float64</td><td style=\"white-space: nowrap; max-width: 500px; overflow: hidden; text-overflow: ellipsis; text-align: left;\">float32</td><td style=\"white-space: nowrap; max-width: 500px; overflow: hidden; text-overflow: ellipsis; text-align: left;\">array&lt;int32&gt;</td><td style=\"white-space: nowrap; max-width: 500px; overflow: hidden; text-overflow: ellipsis; text-align: left;\">float64</td><td style=\"white-space: nowrap; max-width: 500px; overflow: hidden; text-overflow: ellipsis; text-align: left;\">int32</td><td style=\"white-space: nowrap; max-width: 500px; overflow: hidden; text-overflow: ellipsis; text-align: left;\">int32</td><td style=\"white-space: nowrap; max-width: 500px; overflow: hidden; text-overflow: ellipsis; text-align: left;\">float64</td><td style=\"white-space: nowrap; max-width: 500px; overflow: hidden; text-overflow: ellipsis; text-align: left;\">bool</td><td style=\"white-space: nowrap; max-width: 500px; overflow: hidden; text-overflow: ellipsis; text-align: left;\">bool</td><td style=\"white-space: nowrap; max-width: 500px; overflow: hidden; text-overflow: ellipsis; text-align: left;\">int32</td><td style=\"white-space: nowrap; max-width: 500px; overflow: hidden; text-overflow: ellipsis; text-align: left;\">bool</td><td style=\"white-space: nowrap; max-width: 500px; overflow: hidden; text-overflow: ellipsis; text-align: left;\">locus&lt;GRCh38&gt;</td><td style=\"white-space: nowrap; max-width: 500px; overflow: hidden; text-overflow: ellipsis; text-align: left;\">array&lt;str&gt;</td></tr>\n",
       "</thead><tbody></tbody></table>"
      ],
      "text/plain": [
       "+---------------+------------+---------------------+----------------+-----------------+------------+--------------+---------+---------+\n",
       "| locus         | alleles    | info.ReadPosRankSum | info.MQRankSum | info.QUALapprox | info.VarDP | info.SB      | info.MQ | info.QD |\n",
       "+---------------+------------+---------------------+----------------+-----------------+------------+--------------+---------+---------+\n",
       "| locus<GRCh38> | array<str> |             float64 |        float64 |           int64 |      int32 | array<int32> | float64 | float32 |\n",
       "+---------------+------------+---------------------+----------------+-----------------+------------+--------------+---------+---------+\n",
       "+---------------+------------+---------------------+----------------+-----------------+------------+--------------+---------+---------+\n",
       "\n",
       "+---------+------------------------+-------------------+--------------------+---------------+------------+------------+------------------+\n",
       "| info.FS | info.AS_ReadPosRankSum | info.AS_MQRankSum | info.AS_QUALapprox | info.AS_VarDP | info.AS_MQ | info.AS_QD | info.AS_SB_TABLE |\n",
       "+---------+------------------------+-------------------+--------------------+---------------+------------+------------+------------------+\n",
       "| float64 |                float64 |           float64 |              int64 |         int32 |    float64 |    float32 | array<int32>     |\n",
       "+---------+------------------------+-------------------+--------------------+---------------+------------+------------+------------------+\n",
       "+---------+------------------------+-------------------+--------------------+---------------+------------+------------+------------------+\n",
       "\n",
       "+------------+-------------+---------+-----------------+---------+------------+---------+-----------+---------------+-------------+\n",
       "| info.AS_FS | info.AC_raw | info.AC | info.AS_pab_max | lowqual | AS_lowqual | a_index | was_split | old_locus     | old_alleles |\n",
       "+------------+-------------+---------+-----------------+---------+------------+---------+-----------+---------------+-------------+\n",
       "|    float64 |       int32 |   int32 |         float64 |    bool |       bool |   int32 |      bool | locus<GRCh38> | array<str>  |\n",
       "+------------+-------------+---------+-----------------+---------+------------+---------+-----------+---------------+-------------+\n",
       "+------------+-------------+---------+-----------------+---------+------------+---------+-----------+---------------+-------------+"
      ]
     },
     "metadata": {},
     "output_type": "display_data"
    }
   ],
   "source": [
    "#r = gnomad_variants.anti_join(full_annotations)\n",
    "#r.show()"
   ]
  },
  {
   "cell_type": "code",
   "execution_count": 15,
   "metadata": {},
   "outputs": [
    {
     "data": {
      "text/plain": [
       "1584091437"
      ]
     },
     "execution_count": 15,
     "metadata": {},
     "output_type": "execute_result"
    }
   ],
   "source": [
    "#full_annotations.count()"
   ]
  },
  {
   "cell_type": "code",
   "execution_count": 16,
   "metadata": {},
   "outputs": [
    {
     "data": {
      "text/plain": [
       "1570602305"
      ]
     },
     "execution_count": 16,
     "metadata": {},
     "output_type": "execute_result"
    }
   ],
   "source": [
    "#gnomad_variants.count()"
   ]
  },
  {
   "cell_type": "code",
   "execution_count": 46,
   "metadata": {},
   "outputs": [
    {
     "name": "stdout",
     "output_type": "stream",
     "text": [
      "1570602305\n"
     ]
    },
    {
     "name": "stderr",
     "output_type": "stream",
     "text": [
      "2020-12-07 20:23:50 Hail: INFO: Table.join: renamed the following fields on the right to avoid name conflicts:\n",
      "    'alleles' -> 'alleles_1'\n",
      "    'locus' -> 'locus_1'\n"
     ]
    },
    {
     "data": {
      "text/plain": [
       "1571019842"
      ]
     },
     "execution_count": 46,
     "metadata": {},
     "output_type": "execute_result"
    }
   ],
   "source": [
    "#test = gnomad_variants\n",
    "#print(test.count())\n",
    "#revel = hl.read_table(\"gs://gnomad-wphu/revel_annotations_grch38.ht\")\n",
    "#revel = revel.transmute(revel = hl.struct(revel_score = revel.REVEL,\n",
    "#                                                      ref_aa = revel.aaref,\n",
    "#                                                      alt_aa = revel.aaalt\n",
    "#                                                     ))\n",
    "#test = test.join(revel, how = \"left\")\n",
    "#test.count()"
   ]
  },
  {
   "cell_type": "code",
   "execution_count": 47,
   "metadata": {},
   "outputs": [
    {
     "data": {
      "text/plain": [
       "0"
      ]
     },
     "execution_count": 47,
     "metadata": {},
     "output_type": "execute_result"
    }
   ],
   "source": [
    "#r = test.anti_join(gnomad_variants)\n",
    "#r.count()"
   ]
  },
  {
   "cell_type": "code",
   "execution_count": 50,
   "metadata": {},
   "outputs": [
    {
     "data": {
      "text/plain": [
       "1570602305"
      ]
     },
     "execution_count": 50,
     "metadata": {},
     "output_type": "execute_result"
    }
   ],
   "source": [
    "#test.distinct().count()"
   ]
  },
  {
   "cell_type": "code",
   "execution_count": 77,
   "metadata": {},
   "outputs": [
    {
     "data": {
      "text/html": [
       "<table><thead><tr><td style=\"white-space: nowrap; max-width: 500px; overflow: hidden; text-overflow: ellipsis; \" colspan=\"1\"><div style=\"text-align: left;\"></div></td><td style=\"white-space: nowrap; max-width: 500px; overflow: hidden; text-overflow: ellipsis; \" colspan=\"1\"><div style=\"text-align: left;\"></div></td><td style=\"white-space: nowrap; max-width: 500px; overflow: hidden; text-overflow: ellipsis; \" colspan=\"2\"><div style=\"text-align: left;\"></div></td><td style=\"white-space: nowrap; max-width: 500px; overflow: hidden; text-overflow: ellipsis; \" colspan=\"3\"><div style=\"text-align: left;\"></div></td><td style=\"white-space: nowrap; max-width: 500px; overflow: hidden; text-overflow: ellipsis; \" colspan=\"3\"><div style=\"text-align: left;\"></div></td><td style=\"white-space: nowrap; max-width: 500px; overflow: hidden; text-overflow: ellipsis; \" colspan=\"1\"><div style=\"text-align: left;\"></div></td></tr><tr><td style=\"white-space: nowrap; max-width: 500px; overflow: hidden; text-overflow: ellipsis; \" colspan=\"1\"><div style=\"text-align: left;\"></div></td><td style=\"white-space: nowrap; max-width: 500px; overflow: hidden; text-overflow: ellipsis; \" colspan=\"1\"><div style=\"text-align: left;\"></div></td><td style=\"white-space: nowrap; max-width: 500px; overflow: hidden; text-overflow: ellipsis; \" colspan=\"2\"><div style=\"text-align: left;border-bottom: solid 2px #000; padding-bottom: 5px\">cadd</div></td><td style=\"white-space: nowrap; max-width: 500px; overflow: hidden; text-overflow: ellipsis; \" colspan=\"3\"><div style=\"text-align: left;border-bottom: solid 2px #000; padding-bottom: 5px\">revel</div></td><td style=\"white-space: nowrap; max-width: 500px; overflow: hidden; text-overflow: ellipsis; \" colspan=\"3\"><div style=\"text-align: left;border-bottom: solid 2px #000; padding-bottom: 5px\">splice_ai</div></td><td style=\"white-space: nowrap; max-width: 500px; overflow: hidden; text-overflow: ellipsis; \" colspan=\"1\"><div style=\"text-align: left;border-bottom: solid 2px #000; padding-bottom: 5px\">primate_ai</div></td></tr><tr><td style=\"white-space: nowrap; max-width: 500px; overflow: hidden; text-overflow: ellipsis; \" colspan=\"1\"><div style=\"text-align: left;border-bottom: solid 2px #000; padding-bottom: 5px\">locus</div></td><td style=\"white-space: nowrap; max-width: 500px; overflow: hidden; text-overflow: ellipsis; \" colspan=\"1\"><div style=\"text-align: left;border-bottom: solid 2px #000; padding-bottom: 5px\">alleles</div></td><td style=\"white-space: nowrap; max-width: 500px; overflow: hidden; text-overflow: ellipsis; \" colspan=\"1\"><div style=\"text-align: left;border-bottom: solid 2px #000; padding-bottom: 5px\">raw_score</div></td><td style=\"white-space: nowrap; max-width: 500px; overflow: hidden; text-overflow: ellipsis; \" colspan=\"1\"><div style=\"text-align: left;border-bottom: solid 2px #000; padding-bottom: 5px\">phred</div></td><td style=\"white-space: nowrap; max-width: 500px; overflow: hidden; text-overflow: ellipsis; \" colspan=\"1\"><div style=\"text-align: left;border-bottom: solid 2px #000; padding-bottom: 5px\">revel_score</div></td><td style=\"white-space: nowrap; max-width: 500px; overflow: hidden; text-overflow: ellipsis; \" colspan=\"1\"><div style=\"text-align: left;border-bottom: solid 2px #000; padding-bottom: 5px\">ref_aa</div></td><td style=\"white-space: nowrap; max-width: 500px; overflow: hidden; text-overflow: ellipsis; \" colspan=\"1\"><div style=\"text-align: left;border-bottom: solid 2px #000; padding-bottom: 5px\">alt_aa</div></td><td style=\"white-space: nowrap; max-width: 500px; overflow: hidden; text-overflow: ellipsis; \" colspan=\"1\"><div style=\"text-align: left;border-bottom: solid 2px #000; padding-bottom: 5px\">splice_ai</div></td><td style=\"white-space: nowrap; max-width: 500px; overflow: hidden; text-overflow: ellipsis; \" colspan=\"1\"><div style=\"text-align: left;border-bottom: solid 2px #000; padding-bottom: 5px\">max_ds</div></td><td style=\"white-space: nowrap; max-width: 500px; overflow: hidden; text-overflow: ellipsis; \" colspan=\"1\"><div style=\"text-align: left;border-bottom: solid 2px #000; padding-bottom: 5px\">splice_consequence</div></td><td style=\"white-space: nowrap; max-width: 500px; overflow: hidden; text-overflow: ellipsis; \" colspan=\"1\"><div style=\"text-align: left;border-bottom: solid 2px #000; padding-bottom: 5px\">primate_ai_score</div></td></tr><tr><td style=\"white-space: nowrap; max-width: 500px; overflow: hidden; text-overflow: ellipsis; text-align: left;\">locus&lt;GRCh38&gt;</td><td style=\"white-space: nowrap; max-width: 500px; overflow: hidden; text-overflow: ellipsis; text-align: left;\">array&lt;str&gt;</td><td style=\"white-space: nowrap; max-width: 500px; overflow: hidden; text-overflow: ellipsis; text-align: left;\">float32</td><td style=\"white-space: nowrap; max-width: 500px; overflow: hidden; text-overflow: ellipsis; text-align: left;\">float32</td><td style=\"white-space: nowrap; max-width: 500px; overflow: hidden; text-overflow: ellipsis; text-align: left;\">float64</td><td style=\"white-space: nowrap; max-width: 500px; overflow: hidden; text-overflow: ellipsis; text-align: left;\">str</td><td style=\"white-space: nowrap; max-width: 500px; overflow: hidden; text-overflow: ellipsis; text-align: left;\">str</td><td style=\"white-space: nowrap; max-width: 500px; overflow: hidden; text-overflow: ellipsis; text-align: left;\">array&lt;float32&gt;</td><td style=\"white-space: nowrap; max-width: 500px; overflow: hidden; text-overflow: ellipsis; text-align: left;\">float32</td><td style=\"white-space: nowrap; max-width: 500px; overflow: hidden; text-overflow: ellipsis; text-align: left;\">str</td><td style=\"white-space: nowrap; max-width: 500px; overflow: hidden; text-overflow: ellipsis; text-align: left;\">float32</td></tr>\n",
       "</thead><tbody><tr><td style=\"white-space: nowrap; max-width: 500px; overflow: hidden; text-overflow: ellipsis; \">chr1:925884</td><td style=\"white-space: nowrap; max-width: 500px; overflow: hidden; text-overflow: ellipsis; \">[&quot;C&quot;,&quot;T&quot;]</td><td style=\"white-space: nowrap; max-width: 500px; overflow: hidden; text-overflow: ellipsis; \">5.99e-01</td><td style=\"white-space: nowrap; max-width: 500px; overflow: hidden; text-overflow: ellipsis; \">7.50e+00</td><td style=\"white-space: nowrap; max-width: 500px; overflow: hidden; text-overflow: ellipsis; \">NA</td><td style=\"white-space: nowrap; max-width: 500px; overflow: hidden; text-overflow: ellipsis; \">NA</td><td style=\"white-space: nowrap; max-width: 500px; overflow: hidden; text-overflow: ellipsis; \">NA</td><td style=\"white-space: nowrap; max-width: 500px; overflow: hidden; text-overflow: ellipsis; \">[0.00e+00,0.00e+00,0.00e+00,0.00e+00]</td><td style=\"white-space: nowrap; max-width: 500px; overflow: hidden; text-overflow: ellipsis; \">0.00e+00</td><td style=\"white-space: nowrap; max-width: 500px; overflow: hidden; text-overflow: ellipsis; \">&quot;no_consequence&quot;</td><td style=\"white-space: nowrap; max-width: 500px; overflow: hidden; text-overflow: ellipsis; \">NA</td></tr>\n",
       "<tr><td style=\"white-space: nowrap; max-width: 500px; overflow: hidden; text-overflow: ellipsis; \">chr1:925884</td><td style=\"white-space: nowrap; max-width: 500px; overflow: hidden; text-overflow: ellipsis; \">[&quot;C&quot;,&quot;T&quot;]</td><td style=\"white-space: nowrap; max-width: 500px; overflow: hidden; text-overflow: ellipsis; \">5.99e-01</td><td style=\"white-space: nowrap; max-width: 500px; overflow: hidden; text-overflow: ellipsis; \">7.50e+00</td><td style=\"white-space: nowrap; max-width: 500px; overflow: hidden; text-overflow: ellipsis; \">NA</td><td style=\"white-space: nowrap; max-width: 500px; overflow: hidden; text-overflow: ellipsis; \">NA</td><td style=\"white-space: nowrap; max-width: 500px; overflow: hidden; text-overflow: ellipsis; \">NA</td><td style=\"white-space: nowrap; max-width: 500px; overflow: hidden; text-overflow: ellipsis; \">[4.00e-02,4.00e-02,0.00e+00,0.00e+00]</td><td style=\"white-space: nowrap; max-width: 500px; overflow: hidden; text-overflow: ellipsis; \">4.00e-02</td><td style=\"white-space: nowrap; max-width: 500px; overflow: hidden; text-overflow: ellipsis; \">&quot;acceptor_gain&quot;</td><td style=\"white-space: nowrap; max-width: 500px; overflow: hidden; text-overflow: ellipsis; \">NA</td></tr>\n",
       "<tr><td style=\"white-space: nowrap; max-width: 500px; overflow: hidden; text-overflow: ellipsis; \">chr1:925885</td><td style=\"white-space: nowrap; max-width: 500px; overflow: hidden; text-overflow: ellipsis; \">[&quot;C&quot;,&quot;T&quot;]</td><td style=\"white-space: nowrap; max-width: 500px; overflow: hidden; text-overflow: ellipsis; \">3.01e-02</td><td style=\"white-space: nowrap; max-width: 500px; overflow: hidden; text-overflow: ellipsis; \">1.53e+00</td><td style=\"white-space: nowrap; max-width: 500px; overflow: hidden; text-overflow: ellipsis; \">NA</td><td style=\"white-space: nowrap; max-width: 500px; overflow: hidden; text-overflow: ellipsis; \">NA</td><td style=\"white-space: nowrap; max-width: 500px; overflow: hidden; text-overflow: ellipsis; \">NA</td><td style=\"white-space: nowrap; max-width: 500px; overflow: hidden; text-overflow: ellipsis; \">[0.00e+00,0.00e+00,0.00e+00,0.00e+00]</td><td style=\"white-space: nowrap; max-width: 500px; overflow: hidden; text-overflow: ellipsis; \">0.00e+00</td><td style=\"white-space: nowrap; max-width: 500px; overflow: hidden; text-overflow: ellipsis; \">&quot;no_consequence&quot;</td><td style=\"white-space: nowrap; max-width: 500px; overflow: hidden; text-overflow: ellipsis; \">NA</td></tr>\n",
       "<tr><td style=\"white-space: nowrap; max-width: 500px; overflow: hidden; text-overflow: ellipsis; \">chr1:925885</td><td style=\"white-space: nowrap; max-width: 500px; overflow: hidden; text-overflow: ellipsis; \">[&quot;C&quot;,&quot;T&quot;]</td><td style=\"white-space: nowrap; max-width: 500px; overflow: hidden; text-overflow: ellipsis; \">3.01e-02</td><td style=\"white-space: nowrap; max-width: 500px; overflow: hidden; text-overflow: ellipsis; \">1.53e+00</td><td style=\"white-space: nowrap; max-width: 500px; overflow: hidden; text-overflow: ellipsis; \">NA</td><td style=\"white-space: nowrap; max-width: 500px; overflow: hidden; text-overflow: ellipsis; \">NA</td><td style=\"white-space: nowrap; max-width: 500px; overflow: hidden; text-overflow: ellipsis; \">NA</td><td style=\"white-space: nowrap; max-width: 500px; overflow: hidden; text-overflow: ellipsis; \">[1.00e-02,2.00e-02,0.00e+00,0.00e+00]</td><td style=\"white-space: nowrap; max-width: 500px; overflow: hidden; text-overflow: ellipsis; \">2.00e-02</td><td style=\"white-space: nowrap; max-width: 500px; overflow: hidden; text-overflow: ellipsis; \">&quot;acceptor_loss&quot;</td><td style=\"white-space: nowrap; max-width: 500px; overflow: hidden; text-overflow: ellipsis; \">NA</td></tr>\n",
       "<tr><td style=\"white-space: nowrap; max-width: 500px; overflow: hidden; text-overflow: ellipsis; \">chr1:925886</td><td style=\"white-space: nowrap; max-width: 500px; overflow: hidden; text-overflow: ellipsis; \">[&quot;G&quot;,&quot;T&quot;]</td><td style=\"white-space: nowrap; max-width: 500px; overflow: hidden; text-overflow: ellipsis; \">3.78e-01</td><td style=\"white-space: nowrap; max-width: 500px; overflow: hidden; text-overflow: ellipsis; \">5.18e+00</td><td style=\"white-space: nowrap; max-width: 500px; overflow: hidden; text-overflow: ellipsis; \">NA</td><td style=\"white-space: nowrap; max-width: 500px; overflow: hidden; text-overflow: ellipsis; \">NA</td><td style=\"white-space: nowrap; max-width: 500px; overflow: hidden; text-overflow: ellipsis; \">NA</td><td style=\"white-space: nowrap; max-width: 500px; overflow: hidden; text-overflow: ellipsis; \">[0.00e+00,0.00e+00,0.00e+00,0.00e+00]</td><td style=\"white-space: nowrap; max-width: 500px; overflow: hidden; text-overflow: ellipsis; \">0.00e+00</td><td style=\"white-space: nowrap; max-width: 500px; overflow: hidden; text-overflow: ellipsis; \">&quot;no_consequence&quot;</td><td style=\"white-space: nowrap; max-width: 500px; overflow: hidden; text-overflow: ellipsis; \">NA</td></tr>\n",
       "<tr><td style=\"white-space: nowrap; max-width: 500px; overflow: hidden; text-overflow: ellipsis; \">chr1:925886</td><td style=\"white-space: nowrap; max-width: 500px; overflow: hidden; text-overflow: ellipsis; \">[&quot;G&quot;,&quot;T&quot;]</td><td style=\"white-space: nowrap; max-width: 500px; overflow: hidden; text-overflow: ellipsis; \">3.78e-01</td><td style=\"white-space: nowrap; max-width: 500px; overflow: hidden; text-overflow: ellipsis; \">5.18e+00</td><td style=\"white-space: nowrap; max-width: 500px; overflow: hidden; text-overflow: ellipsis; \">NA</td><td style=\"white-space: nowrap; max-width: 500px; overflow: hidden; text-overflow: ellipsis; \">NA</td><td style=\"white-space: nowrap; max-width: 500px; overflow: hidden; text-overflow: ellipsis; \">NA</td><td style=\"white-space: nowrap; max-width: 500px; overflow: hidden; text-overflow: ellipsis; \">[1.10e-01,5.00e-02,1.00e-02,0.00e+00]</td><td style=\"white-space: nowrap; max-width: 500px; overflow: hidden; text-overflow: ellipsis; \">1.10e-01</td><td style=\"white-space: nowrap; max-width: 500px; overflow: hidden; text-overflow: ellipsis; \">&quot;acceptor_gain&quot;</td><td style=\"white-space: nowrap; max-width: 500px; overflow: hidden; text-overflow: ellipsis; \">NA</td></tr>\n",
       "<tr><td style=\"white-space: nowrap; max-width: 500px; overflow: hidden; text-overflow: ellipsis; \">chr1:925887</td><td style=\"white-space: nowrap; max-width: 500px; overflow: hidden; text-overflow: ellipsis; \">[&quot;C&quot;,&quot;T&quot;]</td><td style=\"white-space: nowrap; max-width: 500px; overflow: hidden; text-overflow: ellipsis; \">8.18e-01</td><td style=\"white-space: nowrap; max-width: 500px; overflow: hidden; text-overflow: ellipsis; \">9.57e+00</td><td style=\"white-space: nowrap; max-width: 500px; overflow: hidden; text-overflow: ellipsis; \">NA</td><td style=\"white-space: nowrap; max-width: 500px; overflow: hidden; text-overflow: ellipsis; \">NA</td><td style=\"white-space: nowrap; max-width: 500px; overflow: hidden; text-overflow: ellipsis; \">NA</td><td style=\"white-space: nowrap; max-width: 500px; overflow: hidden; text-overflow: ellipsis; \">[0.00e+00,0.00e+00,0.00e+00,0.00e+00]</td><td style=\"white-space: nowrap; max-width: 500px; overflow: hidden; text-overflow: ellipsis; \">0.00e+00</td><td style=\"white-space: nowrap; max-width: 500px; overflow: hidden; text-overflow: ellipsis; \">&quot;no_consequence&quot;</td><td style=\"white-space: nowrap; max-width: 500px; overflow: hidden; text-overflow: ellipsis; \">NA</td></tr>\n",
       "<tr><td style=\"white-space: nowrap; max-width: 500px; overflow: hidden; text-overflow: ellipsis; \">chr1:925887</td><td style=\"white-space: nowrap; max-width: 500px; overflow: hidden; text-overflow: ellipsis; \">[&quot;C&quot;,&quot;T&quot;]</td><td style=\"white-space: nowrap; max-width: 500px; overflow: hidden; text-overflow: ellipsis; \">8.18e-01</td><td style=\"white-space: nowrap; max-width: 500px; overflow: hidden; text-overflow: ellipsis; \">9.57e+00</td><td style=\"white-space: nowrap; max-width: 500px; overflow: hidden; text-overflow: ellipsis; \">NA</td><td style=\"white-space: nowrap; max-width: 500px; overflow: hidden; text-overflow: ellipsis; \">NA</td><td style=\"white-space: nowrap; max-width: 500px; overflow: hidden; text-overflow: ellipsis; \">NA</td><td style=\"white-space: nowrap; max-width: 500px; overflow: hidden; text-overflow: ellipsis; \">[3.00e-02,2.00e-02,0.00e+00,0.00e+00]</td><td style=\"white-space: nowrap; max-width: 500px; overflow: hidden; text-overflow: ellipsis; \">3.00e-02</td><td style=\"white-space: nowrap; max-width: 500px; overflow: hidden; text-overflow: ellipsis; \">&quot;acceptor_gain&quot;</td><td style=\"white-space: nowrap; max-width: 500px; overflow: hidden; text-overflow: ellipsis; \">NA</td></tr>\n",
       "<tr><td style=\"white-space: nowrap; max-width: 500px; overflow: hidden; text-overflow: ellipsis; \">chr1:925889</td><td style=\"white-space: nowrap; max-width: 500px; overflow: hidden; text-overflow: ellipsis; \">[&quot;C&quot;,&quot;G&quot;]</td><td style=\"white-space: nowrap; max-width: 500px; overflow: hidden; text-overflow: ellipsis; \">9.28e-01</td><td style=\"white-space: nowrap; max-width: 500px; overflow: hidden; text-overflow: ellipsis; \">1.07e+01</td><td style=\"white-space: nowrap; max-width: 500px; overflow: hidden; text-overflow: ellipsis; \">NA</td><td style=\"white-space: nowrap; max-width: 500px; overflow: hidden; text-overflow: ellipsis; \">NA</td><td style=\"white-space: nowrap; max-width: 500px; overflow: hidden; text-overflow: ellipsis; \">NA</td><td style=\"white-space: nowrap; max-width: 500px; overflow: hidden; text-overflow: ellipsis; \">[0.00e+00,0.00e+00,0.00e+00,0.00e+00]</td><td style=\"white-space: nowrap; max-width: 500px; overflow: hidden; text-overflow: ellipsis; \">0.00e+00</td><td style=\"white-space: nowrap; max-width: 500px; overflow: hidden; text-overflow: ellipsis; \">&quot;no_consequence&quot;</td><td style=\"white-space: nowrap; max-width: 500px; overflow: hidden; text-overflow: ellipsis; \">NA</td></tr>\n",
       "<tr><td style=\"white-space: nowrap; max-width: 500px; overflow: hidden; text-overflow: ellipsis; \">chr1:925889</td><td style=\"white-space: nowrap; max-width: 500px; overflow: hidden; text-overflow: ellipsis; \">[&quot;C&quot;,&quot;G&quot;]</td><td style=\"white-space: nowrap; max-width: 500px; overflow: hidden; text-overflow: ellipsis; \">9.28e-01</td><td style=\"white-space: nowrap; max-width: 500px; overflow: hidden; text-overflow: ellipsis; \">1.07e+01</td><td style=\"white-space: nowrap; max-width: 500px; overflow: hidden; text-overflow: ellipsis; \">NA</td><td style=\"white-space: nowrap; max-width: 500px; overflow: hidden; text-overflow: ellipsis; \">NA</td><td style=\"white-space: nowrap; max-width: 500px; overflow: hidden; text-overflow: ellipsis; \">NA</td><td style=\"white-space: nowrap; max-width: 500px; overflow: hidden; text-overflow: ellipsis; \">[0.00e+00,0.00e+00,0.00e+00,0.00e+00]</td><td style=\"white-space: nowrap; max-width: 500px; overflow: hidden; text-overflow: ellipsis; \">0.00e+00</td><td style=\"white-space: nowrap; max-width: 500px; overflow: hidden; text-overflow: ellipsis; \">&quot;no_consequence&quot;</td><td style=\"white-space: nowrap; max-width: 500px; overflow: hidden; text-overflow: ellipsis; \">NA</td></tr>\n",
       "</tbody></table><p style=\"background: #fdd; padding: 0.4em;\">showing top 10 rows</p>\n"
      ],
      "text/plain": [
       "+---------------+------------+----------------+------------+-------------------+--------------+--------------+\n",
       "| locus         | alleles    | cadd.raw_score | cadd.phred | revel.revel_score | revel.ref_aa | revel.alt_aa |\n",
       "+---------------+------------+----------------+------------+-------------------+--------------+--------------+\n",
       "| locus<GRCh38> | array<str> |        float32 |    float32 |           float64 | str          | str          |\n",
       "+---------------+------------+----------------+------------+-------------------+--------------+--------------+\n",
       "| chr1:925884   | [\"C\",\"T\"]  |       5.99e-01 |   7.50e+00 |                NA | NA           | NA           |\n",
       "| chr1:925884   | [\"C\",\"T\"]  |       5.99e-01 |   7.50e+00 |                NA | NA           | NA           |\n",
       "| chr1:925885   | [\"C\",\"T\"]  |       3.01e-02 |   1.53e+00 |                NA | NA           | NA           |\n",
       "| chr1:925885   | [\"C\",\"T\"]  |       3.01e-02 |   1.53e+00 |                NA | NA           | NA           |\n",
       "| chr1:925886   | [\"G\",\"T\"]  |       3.78e-01 |   5.18e+00 |                NA | NA           | NA           |\n",
       "| chr1:925886   | [\"G\",\"T\"]  |       3.78e-01 |   5.18e+00 |                NA | NA           | NA           |\n",
       "| chr1:925887   | [\"C\",\"T\"]  |       8.18e-01 |   9.57e+00 |                NA | NA           | NA           |\n",
       "| chr1:925887   | [\"C\",\"T\"]  |       8.18e-01 |   9.57e+00 |                NA | NA           | NA           |\n",
       "| chr1:925889   | [\"C\",\"G\"]  |       9.28e-01 |   1.07e+01 |                NA | NA           | NA           |\n",
       "| chr1:925889   | [\"C\",\"G\"]  |       9.28e-01 |   1.07e+01 |                NA | NA           | NA           |\n",
       "+---------------+------------+----------------+------------+-------------------+--------------+--------------+\n",
       "\n",
       "+---------------------------------------+------------------+------------------------------+-----------------------------+\n",
       "| splice_ai.splice_ai                   | splice_ai.max_ds | splice_ai.splice_consequence | primate_ai.primate_ai_score |\n",
       "+---------------------------------------+------------------+------------------------------+-----------------------------+\n",
       "| array<float32>                        |          float32 | str                          |                     float32 |\n",
       "+---------------------------------------+------------------+------------------------------+-----------------------------+\n",
       "| [0.00e+00,0.00e+00,0.00e+00,0.00e+00] |         0.00e+00 | \"no_consequence\"             |                          NA |\n",
       "| [4.00e-02,4.00e-02,0.00e+00,0.00e+00] |         4.00e-02 | \"acceptor_gain\"              |                          NA |\n",
       "| [0.00e+00,0.00e+00,0.00e+00,0.00e+00] |         0.00e+00 | \"no_consequence\"             |                          NA |\n",
       "| [1.00e-02,2.00e-02,0.00e+00,0.00e+00] |         2.00e-02 | \"acceptor_loss\"              |                          NA |\n",
       "| [0.00e+00,0.00e+00,0.00e+00,0.00e+00] |         0.00e+00 | \"no_consequence\"             |                          NA |\n",
       "| [1.10e-01,5.00e-02,1.00e-02,0.00e+00] |         1.10e-01 | \"acceptor_gain\"              |                          NA |\n",
       "| [0.00e+00,0.00e+00,0.00e+00,0.00e+00] |         0.00e+00 | \"no_consequence\"             |                          NA |\n",
       "| [3.00e-02,2.00e-02,0.00e+00,0.00e+00] |         3.00e-02 | \"acceptor_gain\"              |                          NA |\n",
       "| [0.00e+00,0.00e+00,0.00e+00,0.00e+00] |         0.00e+00 | \"no_consequence\"             |                          NA |\n",
       "| [0.00e+00,0.00e+00,0.00e+00,0.00e+00] |         0.00e+00 | \"no_consequence\"             |                          NA |\n",
       "+---------------------------------------+------------------+------------------------------+-----------------------------+\n",
       "showing top 10 rows"
      ]
     },
     "metadata": {},
     "output_type": "display_data"
    }
   ],
   "source": [
    "#a = full_annotations.collect_by_key()\n",
    "#b = a.filter(hl.len(a.values)>1)\n",
    "#full_annotations.semi_join(b).show()"
   ]
  },
  {
   "cell_type": "code",
   "execution_count": 89,
   "metadata": {},
   "outputs": [
    {
     "name": "stdout",
     "output_type": "stream",
     "text": [
      "3696314616\n",
      "3602698485\n"
     ]
    },
    {
     "data": {
      "text/html": [
       "<table><thead><tr><td style=\"white-space: nowrap; max-width: 500px; overflow: hidden; text-overflow: ellipsis; \" colspan=\"1\"><div style=\"text-align: left;\"></div></td><td style=\"white-space: nowrap; max-width: 500px; overflow: hidden; text-overflow: ellipsis; \" colspan=\"1\"><div style=\"text-align: left;\"></div></td><td style=\"white-space: nowrap; max-width: 500px; overflow: hidden; text-overflow: ellipsis; \" colspan=\"1\"><div style=\"text-align: left;\"></div></td><td style=\"white-space: nowrap; max-width: 500px; overflow: hidden; text-overflow: ellipsis; \" colspan=\"1\"><div style=\"text-align: left;\"></div></td><td style=\"white-space: nowrap; max-width: 500px; overflow: hidden; text-overflow: ellipsis; \" colspan=\"1\"><div style=\"text-align: left;\"></div></td><td style=\"white-space: nowrap; max-width: 500px; overflow: hidden; text-overflow: ellipsis; \" colspan=\"3\"><div style=\"text-align: left;\"></div></td></tr><tr><td style=\"white-space: nowrap; max-width: 500px; overflow: hidden; text-overflow: ellipsis; \" colspan=\"1\"><div style=\"text-align: left;\"></div></td><td style=\"white-space: nowrap; max-width: 500px; overflow: hidden; text-overflow: ellipsis; \" colspan=\"1\"><div style=\"text-align: left;\"></div></td><td style=\"white-space: nowrap; max-width: 500px; overflow: hidden; text-overflow: ellipsis; \" colspan=\"1\"><div style=\"text-align: left;\"></div></td><td style=\"white-space: nowrap; max-width: 500px; overflow: hidden; text-overflow: ellipsis; \" colspan=\"1\"><div style=\"text-align: left;\"></div></td><td style=\"white-space: nowrap; max-width: 500px; overflow: hidden; text-overflow: ellipsis; \" colspan=\"1\"><div style=\"text-align: left;\"></div></td><td style=\"white-space: nowrap; max-width: 500px; overflow: hidden; text-overflow: ellipsis; \" colspan=\"3\"><div style=\"text-align: left;border-bottom: solid 2px #000; padding-bottom: 5px\">info</div></td></tr><tr><td style=\"white-space: nowrap; max-width: 500px; overflow: hidden; text-overflow: ellipsis; \" colspan=\"1\"><div style=\"text-align: left;border-bottom: solid 2px #000; padding-bottom: 5px\">locus</div></td><td style=\"white-space: nowrap; max-width: 500px; overflow: hidden; text-overflow: ellipsis; \" colspan=\"1\"><div style=\"text-align: left;border-bottom: solid 2px #000; padding-bottom: 5px\">alleles</div></td><td style=\"white-space: nowrap; max-width: 500px; overflow: hidden; text-overflow: ellipsis; \" colspan=\"1\"><div style=\"text-align: left;border-bottom: solid 2px #000; padding-bottom: 5px\">rsid</div></td><td style=\"white-space: nowrap; max-width: 500px; overflow: hidden; text-overflow: ellipsis; \" colspan=\"1\"><div style=\"text-align: left;border-bottom: solid 2px #000; padding-bottom: 5px\">qual</div></td><td style=\"white-space: nowrap; max-width: 500px; overflow: hidden; text-overflow: ellipsis; \" colspan=\"1\"><div style=\"text-align: left;border-bottom: solid 2px #000; padding-bottom: 5px\">filters</div></td><td style=\"white-space: nowrap; max-width: 500px; overflow: hidden; text-overflow: ellipsis; \" colspan=\"1\"><div style=\"text-align: left;border-bottom: solid 2px #000; padding-bottom: 5px\">splice_ai</div></td><td style=\"white-space: nowrap; max-width: 500px; overflow: hidden; text-overflow: ellipsis; \" colspan=\"1\"><div style=\"text-align: left;border-bottom: solid 2px #000; padding-bottom: 5px\">max_ds</div></td><td style=\"white-space: nowrap; max-width: 500px; overflow: hidden; text-overflow: ellipsis; \" colspan=\"1\"><div style=\"text-align: left;border-bottom: solid 2px #000; padding-bottom: 5px\">splice_consequence</div></td></tr><tr><td style=\"white-space: nowrap; max-width: 500px; overflow: hidden; text-overflow: ellipsis; text-align: left;\">locus&lt;GRCh38&gt;</td><td style=\"white-space: nowrap; max-width: 500px; overflow: hidden; text-overflow: ellipsis; text-align: left;\">array&lt;str&gt;</td><td style=\"white-space: nowrap; max-width: 500px; overflow: hidden; text-overflow: ellipsis; text-align: left;\">str</td><td style=\"white-space: nowrap; max-width: 500px; overflow: hidden; text-overflow: ellipsis; text-align: left;\">float64</td><td style=\"white-space: nowrap; max-width: 500px; overflow: hidden; text-overflow: ellipsis; text-align: left;\">set&lt;str&gt;</td><td style=\"white-space: nowrap; max-width: 500px; overflow: hidden; text-overflow: ellipsis; text-align: left;\">array&lt;float32&gt;</td><td style=\"white-space: nowrap; max-width: 500px; overflow: hidden; text-overflow: ellipsis; text-align: left;\">float32</td><td style=\"white-space: nowrap; max-width: 500px; overflow: hidden; text-overflow: ellipsis; text-align: left;\">str</td></tr>\n",
       "</thead><tbody><tr><td style=\"white-space: nowrap; max-width: 500px; overflow: hidden; text-overflow: ellipsis; \">chr1:925884</td><td style=\"white-space: nowrap; max-width: 500px; overflow: hidden; text-overflow: ellipsis; \">[&quot;C&quot;,&quot;A&quot;]</td><td style=\"white-space: nowrap; max-width: 500px; overflow: hidden; text-overflow: ellipsis; \">NA</td><td style=\"white-space: nowrap; max-width: 500px; overflow: hidden; text-overflow: ellipsis; \">-1.00e+01</td><td style=\"white-space: nowrap; max-width: 500px; overflow: hidden; text-overflow: ellipsis; \">NA</td><td style=\"white-space: nowrap; max-width: 500px; overflow: hidden; text-overflow: ellipsis; \">[0.00e+00,0.00e+00,0.00e+00,0.00e+00]</td><td style=\"white-space: nowrap; max-width: 500px; overflow: hidden; text-overflow: ellipsis; \">0.00e+00</td><td style=\"white-space: nowrap; max-width: 500px; overflow: hidden; text-overflow: ellipsis; \">&quot;no_consequence&quot;</td></tr>\n",
       "<tr><td style=\"white-space: nowrap; max-width: 500px; overflow: hidden; text-overflow: ellipsis; \">chr1:925884</td><td style=\"white-space: nowrap; max-width: 500px; overflow: hidden; text-overflow: ellipsis; \">[&quot;C&quot;,&quot;A&quot;]</td><td style=\"white-space: nowrap; max-width: 500px; overflow: hidden; text-overflow: ellipsis; \">NA</td><td style=\"white-space: nowrap; max-width: 500px; overflow: hidden; text-overflow: ellipsis; \">-1.00e+01</td><td style=\"white-space: nowrap; max-width: 500px; overflow: hidden; text-overflow: ellipsis; \">NA</td><td style=\"white-space: nowrap; max-width: 500px; overflow: hidden; text-overflow: ellipsis; \">[2.00e-02,1.00e-02,0.00e+00,0.00e+00]</td><td style=\"white-space: nowrap; max-width: 500px; overflow: hidden; text-overflow: ellipsis; \">2.00e-02</td><td style=\"white-space: nowrap; max-width: 500px; overflow: hidden; text-overflow: ellipsis; \">&quot;acceptor_gain&quot;</td></tr>\n",
       "<tr><td style=\"white-space: nowrap; max-width: 500px; overflow: hidden; text-overflow: ellipsis; \">chr1:925884</td><td style=\"white-space: nowrap; max-width: 500px; overflow: hidden; text-overflow: ellipsis; \">[&quot;C&quot;,&quot;G&quot;]</td><td style=\"white-space: nowrap; max-width: 500px; overflow: hidden; text-overflow: ellipsis; \">NA</td><td style=\"white-space: nowrap; max-width: 500px; overflow: hidden; text-overflow: ellipsis; \">-1.00e+01</td><td style=\"white-space: nowrap; max-width: 500px; overflow: hidden; text-overflow: ellipsis; \">NA</td><td style=\"white-space: nowrap; max-width: 500px; overflow: hidden; text-overflow: ellipsis; \">[0.00e+00,0.00e+00,0.00e+00,0.00e+00]</td><td style=\"white-space: nowrap; max-width: 500px; overflow: hidden; text-overflow: ellipsis; \">0.00e+00</td><td style=\"white-space: nowrap; max-width: 500px; overflow: hidden; text-overflow: ellipsis; \">&quot;no_consequence&quot;</td></tr>\n",
       "<tr><td style=\"white-space: nowrap; max-width: 500px; overflow: hidden; text-overflow: ellipsis; \">chr1:925884</td><td style=\"white-space: nowrap; max-width: 500px; overflow: hidden; text-overflow: ellipsis; \">[&quot;C&quot;,&quot;G&quot;]</td><td style=\"white-space: nowrap; max-width: 500px; overflow: hidden; text-overflow: ellipsis; \">NA</td><td style=\"white-space: nowrap; max-width: 500px; overflow: hidden; text-overflow: ellipsis; \">-1.00e+01</td><td style=\"white-space: nowrap; max-width: 500px; overflow: hidden; text-overflow: ellipsis; \">NA</td><td style=\"white-space: nowrap; max-width: 500px; overflow: hidden; text-overflow: ellipsis; \">[0.00e+00,0.00e+00,0.00e+00,0.00e+00]</td><td style=\"white-space: nowrap; max-width: 500px; overflow: hidden; text-overflow: ellipsis; \">0.00e+00</td><td style=\"white-space: nowrap; max-width: 500px; overflow: hidden; text-overflow: ellipsis; \">&quot;no_consequence&quot;</td></tr>\n",
       "<tr><td style=\"white-space: nowrap; max-width: 500px; overflow: hidden; text-overflow: ellipsis; \">chr1:925884</td><td style=\"white-space: nowrap; max-width: 500px; overflow: hidden; text-overflow: ellipsis; \">[&quot;C&quot;,&quot;T&quot;]</td><td style=\"white-space: nowrap; max-width: 500px; overflow: hidden; text-overflow: ellipsis; \">NA</td><td style=\"white-space: nowrap; max-width: 500px; overflow: hidden; text-overflow: ellipsis; \">-1.00e+01</td><td style=\"white-space: nowrap; max-width: 500px; overflow: hidden; text-overflow: ellipsis; \">NA</td><td style=\"white-space: nowrap; max-width: 500px; overflow: hidden; text-overflow: ellipsis; \">[0.00e+00,0.00e+00,0.00e+00,0.00e+00]</td><td style=\"white-space: nowrap; max-width: 500px; overflow: hidden; text-overflow: ellipsis; \">0.00e+00</td><td style=\"white-space: nowrap; max-width: 500px; overflow: hidden; text-overflow: ellipsis; \">&quot;no_consequence&quot;</td></tr>\n",
       "<tr><td style=\"white-space: nowrap; max-width: 500px; overflow: hidden; text-overflow: ellipsis; \">chr1:925884</td><td style=\"white-space: nowrap; max-width: 500px; overflow: hidden; text-overflow: ellipsis; \">[&quot;C&quot;,&quot;T&quot;]</td><td style=\"white-space: nowrap; max-width: 500px; overflow: hidden; text-overflow: ellipsis; \">NA</td><td style=\"white-space: nowrap; max-width: 500px; overflow: hidden; text-overflow: ellipsis; \">-1.00e+01</td><td style=\"white-space: nowrap; max-width: 500px; overflow: hidden; text-overflow: ellipsis; \">NA</td><td style=\"white-space: nowrap; max-width: 500px; overflow: hidden; text-overflow: ellipsis; \">[4.00e-02,4.00e-02,0.00e+00,0.00e+00]</td><td style=\"white-space: nowrap; max-width: 500px; overflow: hidden; text-overflow: ellipsis; \">4.00e-02</td><td style=\"white-space: nowrap; max-width: 500px; overflow: hidden; text-overflow: ellipsis; \">&quot;acceptor_gain&quot;</td></tr>\n",
       "<tr><td style=\"white-space: nowrap; max-width: 500px; overflow: hidden; text-overflow: ellipsis; \">chr1:925885</td><td style=\"white-space: nowrap; max-width: 500px; overflow: hidden; text-overflow: ellipsis; \">[&quot;C&quot;,&quot;A&quot;]</td><td style=\"white-space: nowrap; max-width: 500px; overflow: hidden; text-overflow: ellipsis; \">NA</td><td style=\"white-space: nowrap; max-width: 500px; overflow: hidden; text-overflow: ellipsis; \">-1.00e+01</td><td style=\"white-space: nowrap; max-width: 500px; overflow: hidden; text-overflow: ellipsis; \">NA</td><td style=\"white-space: nowrap; max-width: 500px; overflow: hidden; text-overflow: ellipsis; \">[0.00e+00,0.00e+00,0.00e+00,0.00e+00]</td><td style=\"white-space: nowrap; max-width: 500px; overflow: hidden; text-overflow: ellipsis; \">0.00e+00</td><td style=\"white-space: nowrap; max-width: 500px; overflow: hidden; text-overflow: ellipsis; \">&quot;no_consequence&quot;</td></tr>\n",
       "<tr><td style=\"white-space: nowrap; max-width: 500px; overflow: hidden; text-overflow: ellipsis; \">chr1:925885</td><td style=\"white-space: nowrap; max-width: 500px; overflow: hidden; text-overflow: ellipsis; \">[&quot;C&quot;,&quot;A&quot;]</td><td style=\"white-space: nowrap; max-width: 500px; overflow: hidden; text-overflow: ellipsis; \">NA</td><td style=\"white-space: nowrap; max-width: 500px; overflow: hidden; text-overflow: ellipsis; \">-1.00e+01</td><td style=\"white-space: nowrap; max-width: 500px; overflow: hidden; text-overflow: ellipsis; \">NA</td><td style=\"white-space: nowrap; max-width: 500px; overflow: hidden; text-overflow: ellipsis; \">[0.00e+00,0.00e+00,0.00e+00,0.00e+00]</td><td style=\"white-space: nowrap; max-width: 500px; overflow: hidden; text-overflow: ellipsis; \">0.00e+00</td><td style=\"white-space: nowrap; max-width: 500px; overflow: hidden; text-overflow: ellipsis; \">&quot;no_consequence&quot;</td></tr>\n",
       "<tr><td style=\"white-space: nowrap; max-width: 500px; overflow: hidden; text-overflow: ellipsis; \">chr1:925885</td><td style=\"white-space: nowrap; max-width: 500px; overflow: hidden; text-overflow: ellipsis; \">[&quot;C&quot;,&quot;G&quot;]</td><td style=\"white-space: nowrap; max-width: 500px; overflow: hidden; text-overflow: ellipsis; \">NA</td><td style=\"white-space: nowrap; max-width: 500px; overflow: hidden; text-overflow: ellipsis; \">-1.00e+01</td><td style=\"white-space: nowrap; max-width: 500px; overflow: hidden; text-overflow: ellipsis; \">NA</td><td style=\"white-space: nowrap; max-width: 500px; overflow: hidden; text-overflow: ellipsis; \">[0.00e+00,0.00e+00,0.00e+00,0.00e+00]</td><td style=\"white-space: nowrap; max-width: 500px; overflow: hidden; text-overflow: ellipsis; \">0.00e+00</td><td style=\"white-space: nowrap; max-width: 500px; overflow: hidden; text-overflow: ellipsis; \">&quot;no_consequence&quot;</td></tr>\n",
       "<tr><td style=\"white-space: nowrap; max-width: 500px; overflow: hidden; text-overflow: ellipsis; \">chr1:925885</td><td style=\"white-space: nowrap; max-width: 500px; overflow: hidden; text-overflow: ellipsis; \">[&quot;C&quot;,&quot;G&quot;]</td><td style=\"white-space: nowrap; max-width: 500px; overflow: hidden; text-overflow: ellipsis; \">NA</td><td style=\"white-space: nowrap; max-width: 500px; overflow: hidden; text-overflow: ellipsis; \">-1.00e+01</td><td style=\"white-space: nowrap; max-width: 500px; overflow: hidden; text-overflow: ellipsis; \">NA</td><td style=\"white-space: nowrap; max-width: 500px; overflow: hidden; text-overflow: ellipsis; \">[0.00e+00,2.00e-02,0.00e+00,0.00e+00]</td><td style=\"white-space: nowrap; max-width: 500px; overflow: hidden; text-overflow: ellipsis; \">2.00e-02</td><td style=\"white-space: nowrap; max-width: 500px; overflow: hidden; text-overflow: ellipsis; \">&quot;acceptor_loss&quot;</td></tr>\n",
       "</tbody></table><p style=\"background: #fdd; padding: 0.4em;\">showing top 10 rows</p>\n"
      ],
      "text/plain": [
       "+---------------+------------+------+-----------+----------+---------------------------------------+-------------+-------------------------+\n",
       "| locus         | alleles    | rsid |      qual | filters  | info.splice_ai                        | info.max_ds | info.splice_consequence |\n",
       "+---------------+------------+------+-----------+----------+---------------------------------------+-------------+-------------------------+\n",
       "| locus<GRCh38> | array<str> | str  |   float64 | set<str> | array<float32>                        |     float32 | str                     |\n",
       "+---------------+------------+------+-----------+----------+---------------------------------------+-------------+-------------------------+\n",
       "| chr1:925884   | [\"C\",\"A\"]  | NA   | -1.00e+01 | NA       | [0.00e+00,0.00e+00,0.00e+00,0.00e+00] |    0.00e+00 | \"no_consequence\"        |\n",
       "| chr1:925884   | [\"C\",\"A\"]  | NA   | -1.00e+01 | NA       | [2.00e-02,1.00e-02,0.00e+00,0.00e+00] |    2.00e-02 | \"acceptor_gain\"         |\n",
       "| chr1:925884   | [\"C\",\"G\"]  | NA   | -1.00e+01 | NA       | [0.00e+00,0.00e+00,0.00e+00,0.00e+00] |    0.00e+00 | \"no_consequence\"        |\n",
       "| chr1:925884   | [\"C\",\"G\"]  | NA   | -1.00e+01 | NA       | [0.00e+00,0.00e+00,0.00e+00,0.00e+00] |    0.00e+00 | \"no_consequence\"        |\n",
       "| chr1:925884   | [\"C\",\"T\"]  | NA   | -1.00e+01 | NA       | [0.00e+00,0.00e+00,0.00e+00,0.00e+00] |    0.00e+00 | \"no_consequence\"        |\n",
       "| chr1:925884   | [\"C\",\"T\"]  | NA   | -1.00e+01 | NA       | [4.00e-02,4.00e-02,0.00e+00,0.00e+00] |    4.00e-02 | \"acceptor_gain\"         |\n",
       "| chr1:925885   | [\"C\",\"A\"]  | NA   | -1.00e+01 | NA       | [0.00e+00,0.00e+00,0.00e+00,0.00e+00] |    0.00e+00 | \"no_consequence\"        |\n",
       "| chr1:925885   | [\"C\",\"A\"]  | NA   | -1.00e+01 | NA       | [0.00e+00,0.00e+00,0.00e+00,0.00e+00] |    0.00e+00 | \"no_consequence\"        |\n",
       "| chr1:925885   | [\"C\",\"G\"]  | NA   | -1.00e+01 | NA       | [0.00e+00,0.00e+00,0.00e+00,0.00e+00] |    0.00e+00 | \"no_consequence\"        |\n",
       "| chr1:925885   | [\"C\",\"G\"]  | NA   | -1.00e+01 | NA       | [0.00e+00,2.00e-02,0.00e+00,0.00e+00] |    2.00e-02 | \"acceptor_loss\"         |\n",
       "+---------------+------------+------+-----------+----------+---------------------------------------+-------------+-------------------------+\n",
       "showing top 10 rows"
      ]
     },
     "metadata": {},
     "output_type": "display_data"
    }
   ],
   "source": [
    "#print(spliceAi_info_skip_invalid.make_table().count())\n",
    "#print(spliceAi_info_skip_invalid.make_table().distinct().count())\n",
    "#a = spliceAi_info_skip_invalid.make_table().collect_by_key()\n",
    "#b = a.filter(hl.len(a.values)>1)\n",
    "#spliceAi_info_skip_invalid.make_table().semi_join(b).show()"
   ]
  },
  {
   "cell_type": "code",
   "execution_count": 113,
   "metadata": {},
   "outputs": [
    {
     "data": {
      "text/html": [
       "<table><thead><tr><td style=\"white-space: nowrap; max-width: 500px; overflow: hidden; text-overflow: ellipsis; \" colspan=\"1\"><div style=\"text-align: left;\"></div></td><td style=\"white-space: nowrap; max-width: 500px; overflow: hidden; text-overflow: ellipsis; \" colspan=\"1\"><div style=\"text-align: left;\"></div></td><td style=\"white-space: nowrap; max-width: 500px; overflow: hidden; text-overflow: ellipsis; \" colspan=\"1\"><div style=\"text-align: left;\"></div></td><td style=\"white-space: nowrap; max-width: 500px; overflow: hidden; text-overflow: ellipsis; \" colspan=\"1\"><div style=\"text-align: left;\"></div></td><td style=\"white-space: nowrap; max-width: 500px; overflow: hidden; text-overflow: ellipsis; \" colspan=\"1\"><div style=\"text-align: left;\"></div></td><td style=\"white-space: nowrap; max-width: 500px; overflow: hidden; text-overflow: ellipsis; \" colspan=\"1\"><div style=\"text-align: left;\"></div></td></tr><tr><td style=\"white-space: nowrap; max-width: 500px; overflow: hidden; text-overflow: ellipsis; \" colspan=\"1\"><div style=\"text-align: left;\"></div></td><td style=\"white-space: nowrap; max-width: 500px; overflow: hidden; text-overflow: ellipsis; \" colspan=\"1\"><div style=\"text-align: left;\"></div></td><td style=\"white-space: nowrap; max-width: 500px; overflow: hidden; text-overflow: ellipsis; \" colspan=\"1\"><div style=\"text-align: left;\"></div></td><td style=\"white-space: nowrap; max-width: 500px; overflow: hidden; text-overflow: ellipsis; \" colspan=\"1\"><div style=\"text-align: left;\"></div></td><td style=\"white-space: nowrap; max-width: 500px; overflow: hidden; text-overflow: ellipsis; \" colspan=\"1\"><div style=\"text-align: left;\"></div></td><td style=\"white-space: nowrap; max-width: 500px; overflow: hidden; text-overflow: ellipsis; \" colspan=\"1\"><div style=\"text-align: left;border-bottom: solid 2px #000; padding-bottom: 5px\">info</div></td></tr><tr><td style=\"white-space: nowrap; max-width: 500px; overflow: hidden; text-overflow: ellipsis; \" colspan=\"1\"><div style=\"text-align: left;border-bottom: solid 2px #000; padding-bottom: 5px\">locus</div></td><td style=\"white-space: nowrap; max-width: 500px; overflow: hidden; text-overflow: ellipsis; \" colspan=\"1\"><div style=\"text-align: left;border-bottom: solid 2px #000; padding-bottom: 5px\">alleles</div></td><td style=\"white-space: nowrap; max-width: 500px; overflow: hidden; text-overflow: ellipsis; \" colspan=\"1\"><div style=\"text-align: left;border-bottom: solid 2px #000; padding-bottom: 5px\">rsid</div></td><td style=\"white-space: nowrap; max-width: 500px; overflow: hidden; text-overflow: ellipsis; \" colspan=\"1\"><div style=\"text-align: left;border-bottom: solid 2px #000; padding-bottom: 5px\">qual</div></td><td style=\"white-space: nowrap; max-width: 500px; overflow: hidden; text-overflow: ellipsis; \" colspan=\"1\"><div style=\"text-align: left;border-bottom: solid 2px #000; padding-bottom: 5px\">filters</div></td><td style=\"white-space: nowrap; max-width: 500px; overflow: hidden; text-overflow: ellipsis; \" colspan=\"1\"><div style=\"text-align: left;border-bottom: solid 2px #000; padding-bottom: 5px\">SpliceAI</div></td></tr><tr><td style=\"white-space: nowrap; max-width: 500px; overflow: hidden; text-overflow: ellipsis; text-align: left;\">locus&lt;GRCh38&gt;</td><td style=\"white-space: nowrap; max-width: 500px; overflow: hidden; text-overflow: ellipsis; text-align: left;\">array&lt;str&gt;</td><td style=\"white-space: nowrap; max-width: 500px; overflow: hidden; text-overflow: ellipsis; text-align: left;\">str</td><td style=\"white-space: nowrap; max-width: 500px; overflow: hidden; text-overflow: ellipsis; text-align: left;\">float64</td><td style=\"white-space: nowrap; max-width: 500px; overflow: hidden; text-overflow: ellipsis; text-align: left;\">set&lt;str&gt;</td><td style=\"white-space: nowrap; max-width: 500px; overflow: hidden; text-overflow: ellipsis; text-align: left;\">array&lt;str&gt;</td></tr>\n",
       "</thead><tbody><tr><td style=\"white-space: nowrap; max-width: 500px; overflow: hidden; text-overflow: ellipsis; \">chr1:925884</td><td style=\"white-space: nowrap; max-width: 500px; overflow: hidden; text-overflow: ellipsis; \">[&quot;C&quot;,&quot;A&quot;]</td><td style=\"white-space: nowrap; max-width: 500px; overflow: hidden; text-overflow: ellipsis; \">NA</td><td style=\"white-space: nowrap; max-width: 500px; overflow: hidden; text-overflow: ellipsis; \">-1.00e+01</td><td style=\"white-space: nowrap; max-width: 500px; overflow: hidden; text-overflow: ellipsis; \">NA</td><td style=\"white-space: nowrap; max-width: 500px; overflow: hidden; text-overflow: ellipsis; \">[&quot;A|AL645608.1|0.00|0.00|0.00|0.00|2|27|12|1&quot;]</td></tr>\n",
       "<tr><td style=\"white-space: nowrap; max-width: 500px; overflow: hidden; text-overflow: ellipsis; \">chr1:925884</td><td style=\"white-space: nowrap; max-width: 500px; overflow: hidden; text-overflow: ellipsis; \">[&quot;C&quot;,&quot;A&quot;]</td><td style=\"white-space: nowrap; max-width: 500px; overflow: hidden; text-overflow: ellipsis; \">NA</td><td style=\"white-space: nowrap; max-width: 500px; overflow: hidden; text-overflow: ellipsis; \">-1.00e+01</td><td style=\"white-space: nowrap; max-width: 500px; overflow: hidden; text-overflow: ellipsis; \">NA</td><td style=\"white-space: nowrap; max-width: 500px; overflow: hidden; text-overflow: ellipsis; \">[&quot;A|SAMD11|0.02|0.01|0.00|0.00|14|38|14|38&quot;]</td></tr>\n",
       "<tr><td style=\"white-space: nowrap; max-width: 500px; overflow: hidden; text-overflow: ellipsis; \">chr1:925884</td><td style=\"white-space: nowrap; max-width: 500px; overflow: hidden; text-overflow: ellipsis; \">[&quot;C&quot;,&quot;G&quot;]</td><td style=\"white-space: nowrap; max-width: 500px; overflow: hidden; text-overflow: ellipsis; \">NA</td><td style=\"white-space: nowrap; max-width: 500px; overflow: hidden; text-overflow: ellipsis; \">-1.00e+01</td><td style=\"white-space: nowrap; max-width: 500px; overflow: hidden; text-overflow: ellipsis; \">NA</td><td style=\"white-space: nowrap; max-width: 500px; overflow: hidden; text-overflow: ellipsis; \">[&quot;G|AL645608.1|0.00|0.00|0.00|0.00|27|6|12|1&quot;]</td></tr>\n",
       "<tr><td style=\"white-space: nowrap; max-width: 500px; overflow: hidden; text-overflow: ellipsis; \">chr1:925884</td><td style=\"white-space: nowrap; max-width: 500px; overflow: hidden; text-overflow: ellipsis; \">[&quot;C&quot;,&quot;G&quot;]</td><td style=\"white-space: nowrap; max-width: 500px; overflow: hidden; text-overflow: ellipsis; \">NA</td><td style=\"white-space: nowrap; max-width: 500px; overflow: hidden; text-overflow: ellipsis; \">-1.00e+01</td><td style=\"white-space: nowrap; max-width: 500px; overflow: hidden; text-overflow: ellipsis; \">NA</td><td style=\"white-space: nowrap; max-width: 500px; overflow: hidden; text-overflow: ellipsis; \">[&quot;G|SAMD11|0.00|0.00|0.00|0.00|38|14|38|14&quot;]</td></tr>\n",
       "<tr><td style=\"white-space: nowrap; max-width: 500px; overflow: hidden; text-overflow: ellipsis; \">chr1:925884</td><td style=\"white-space: nowrap; max-width: 500px; overflow: hidden; text-overflow: ellipsis; \">[&quot;C&quot;,&quot;T&quot;]</td><td style=\"white-space: nowrap; max-width: 500px; overflow: hidden; text-overflow: ellipsis; \">NA</td><td style=\"white-space: nowrap; max-width: 500px; overflow: hidden; text-overflow: ellipsis; \">-1.00e+01</td><td style=\"white-space: nowrap; max-width: 500px; overflow: hidden; text-overflow: ellipsis; \">NA</td><td style=\"white-space: nowrap; max-width: 500px; overflow: hidden; text-overflow: ellipsis; \">[&quot;T|AL645608.1|0.00|0.00|0.00|0.00|-2|6|12|1&quot;]</td></tr>\n",
       "<tr><td style=\"white-space: nowrap; max-width: 500px; overflow: hidden; text-overflow: ellipsis; \">chr1:925884</td><td style=\"white-space: nowrap; max-width: 500px; overflow: hidden; text-overflow: ellipsis; \">[&quot;C&quot;,&quot;T&quot;]</td><td style=\"white-space: nowrap; max-width: 500px; overflow: hidden; text-overflow: ellipsis; \">NA</td><td style=\"white-space: nowrap; max-width: 500px; overflow: hidden; text-overflow: ellipsis; \">-1.00e+01</td><td style=\"white-space: nowrap; max-width: 500px; overflow: hidden; text-overflow: ellipsis; \">NA</td><td style=\"white-space: nowrap; max-width: 500px; overflow: hidden; text-overflow: ellipsis; \">[&quot;T|SAMD11|0.04|0.04|0.00|0.00|14|38|14|38&quot;]</td></tr>\n",
       "<tr><td style=\"white-space: nowrap; max-width: 500px; overflow: hidden; text-overflow: ellipsis; \">chr1:925885</td><td style=\"white-space: nowrap; max-width: 500px; overflow: hidden; text-overflow: ellipsis; \">[&quot;C&quot;,&quot;A&quot;]</td><td style=\"white-space: nowrap; max-width: 500px; overflow: hidden; text-overflow: ellipsis; \">NA</td><td style=\"white-space: nowrap; max-width: 500px; overflow: hidden; text-overflow: ellipsis; \">-1.00e+01</td><td style=\"white-space: nowrap; max-width: 500px; overflow: hidden; text-overflow: ellipsis; \">NA</td><td style=\"white-space: nowrap; max-width: 500px; overflow: hidden; text-overflow: ellipsis; \">[&quot;A|AL645608.1|0.00|0.00|0.00|0.00|1|26|6|11&quot;]</td></tr>\n",
       "<tr><td style=\"white-space: nowrap; max-width: 500px; overflow: hidden; text-overflow: ellipsis; \">chr1:925885</td><td style=\"white-space: nowrap; max-width: 500px; overflow: hidden; text-overflow: ellipsis; \">[&quot;C&quot;,&quot;A&quot;]</td><td style=\"white-space: nowrap; max-width: 500px; overflow: hidden; text-overflow: ellipsis; \">NA</td><td style=\"white-space: nowrap; max-width: 500px; overflow: hidden; text-overflow: ellipsis; \">-1.00e+01</td><td style=\"white-space: nowrap; max-width: 500px; overflow: hidden; text-overflow: ellipsis; \">NA</td><td style=\"white-space: nowrap; max-width: 500px; overflow: hidden; text-overflow: ellipsis; \">[&quot;A|SAMD11|0.00|0.00|0.00|0.00|37|13|37|13&quot;]</td></tr>\n",
       "<tr><td style=\"white-space: nowrap; max-width: 500px; overflow: hidden; text-overflow: ellipsis; \">chr1:925885</td><td style=\"white-space: nowrap; max-width: 500px; overflow: hidden; text-overflow: ellipsis; \">[&quot;C&quot;,&quot;G&quot;]</td><td style=\"white-space: nowrap; max-width: 500px; overflow: hidden; text-overflow: ellipsis; \">NA</td><td style=\"white-space: nowrap; max-width: 500px; overflow: hidden; text-overflow: ellipsis; \">-1.00e+01</td><td style=\"white-space: nowrap; max-width: 500px; overflow: hidden; text-overflow: ellipsis; \">NA</td><td style=\"white-space: nowrap; max-width: 500px; overflow: hidden; text-overflow: ellipsis; \">[&quot;G|AL645608.1|0.00|0.00|0.00|0.00|26|5|-25|11&quot;]</td></tr>\n",
       "<tr><td style=\"white-space: nowrap; max-width: 500px; overflow: hidden; text-overflow: ellipsis; \">chr1:925885</td><td style=\"white-space: nowrap; max-width: 500px; overflow: hidden; text-overflow: ellipsis; \">[&quot;C&quot;,&quot;G&quot;]</td><td style=\"white-space: nowrap; max-width: 500px; overflow: hidden; text-overflow: ellipsis; \">NA</td><td style=\"white-space: nowrap; max-width: 500px; overflow: hidden; text-overflow: ellipsis; \">-1.00e+01</td><td style=\"white-space: nowrap; max-width: 500px; overflow: hidden; text-overflow: ellipsis; \">NA</td><td style=\"white-space: nowrap; max-width: 500px; overflow: hidden; text-overflow: ellipsis; \">[&quot;G|SAMD11|0.00|0.02|0.00|0.00|2|37|-5|13&quot;]</td></tr>\n",
       "</tbody></table><p style=\"background: #fdd; padding: 0.4em;\">showing top 10 rows</p>\n"
      ],
      "text/plain": [
       "+---------------+------------+------+-----------+----------+------------------------------------------+\n",
       "| locus         | alleles    | rsid |      qual | filters  | info.SpliceAI                            |\n",
       "+---------------+------------+------+-----------+----------+------------------------------------------+\n",
       "| locus<GRCh38> | array<str> | str  |   float64 | set<str> | array<str>                               |\n",
       "+---------------+------------+------+-----------+----------+------------------------------------------+\n",
       "| chr1:925884   | [\"C\",\"A\"]  | NA   | -1.00e+01 | NA       | [\"A|AL645608.1|0.00|0.00|0.00|0.00|2|... |\n",
       "| chr1:925884   | [\"C\",\"A\"]  | NA   | -1.00e+01 | NA       | [\"A|SAMD11|0.02|0.01|0.00|0.00|14|38|... |\n",
       "| chr1:925884   | [\"C\",\"G\"]  | NA   | -1.00e+01 | NA       | [\"G|AL645608.1|0.00|0.00|0.00|0.00|27... |\n",
       "| chr1:925884   | [\"C\",\"G\"]  | NA   | -1.00e+01 | NA       | [\"G|SAMD11|0.00|0.00|0.00|0.00|38|14|... |\n",
       "| chr1:925884   | [\"C\",\"T\"]  | NA   | -1.00e+01 | NA       | [\"T|AL645608.1|0.00|0.00|0.00|0.00|-2... |\n",
       "| chr1:925884   | [\"C\",\"T\"]  | NA   | -1.00e+01 | NA       | [\"T|SAMD11|0.04|0.04|0.00|0.00|14|38|... |\n",
       "| chr1:925885   | [\"C\",\"A\"]  | NA   | -1.00e+01 | NA       | [\"A|AL645608.1|0.00|0.00|0.00|0.00|1|... |\n",
       "| chr1:925885   | [\"C\",\"A\"]  | NA   | -1.00e+01 | NA       | [\"A|SAMD11|0.00|0.00|0.00|0.00|37|13|... |\n",
       "| chr1:925885   | [\"C\",\"G\"]  | NA   | -1.00e+01 | NA       | [\"G|AL645608.1|0.00|0.00|0.00|0.00|26... |\n",
       "| chr1:925885   | [\"C\",\"G\"]  | NA   | -1.00e+01 | NA       | [\"G|SAMD11|0.00|0.02|0.00|0.00|2|37|-... |\n",
       "+---------------+------------+------+-----------+----------+------------------------------------------+\n",
       "showing top 10 rows"
      ]
     },
     "metadata": {},
     "output_type": "display_data"
    }
   ],
   "source": [
    "#a = spliceAi_snps_skip_invalid.make_table()\n",
    "#a.filter(hl.is_defined(a.info.SpliceAI)).semi_join(b).show()"
   ]
  },
  {
   "cell_type": "code",
   "execution_count": 86,
   "metadata": {},
   "outputs": [
    {
     "name": "stdout",
     "output_type": "stream",
     "text": [
      "82077491\n",
      "77843668\n"
     ]
    },
    {
     "data": {
      "text/html": [
       "<table><thead><tr><td style=\"white-space: nowrap; max-width: 500px; overflow: hidden; text-overflow: ellipsis; \" colspan=\"1\"><div style=\"text-align: left;\"></div></td><td style=\"white-space: nowrap; max-width: 500px; overflow: hidden; text-overflow: ellipsis; \" colspan=\"1\"><div style=\"text-align: left;\"></div></td><td style=\"white-space: nowrap; max-width: 500px; overflow: hidden; text-overflow: ellipsis; \" colspan=\"1\"><div style=\"text-align: left;\"></div></td><td style=\"white-space: nowrap; max-width: 500px; overflow: hidden; text-overflow: ellipsis; \" colspan=\"1\"><div style=\"text-align: left;\"></div></td><td style=\"white-space: nowrap; max-width: 500px; overflow: hidden; text-overflow: ellipsis; \" colspan=\"1\"><div style=\"text-align: left;\"></div></td></tr><tr><td style=\"white-space: nowrap; max-width: 500px; overflow: hidden; text-overflow: ellipsis; \" colspan=\"1\"><div style=\"text-align: left;border-bottom: solid 2px #000; padding-bottom: 5px\">locus</div></td><td style=\"white-space: nowrap; max-width: 500px; overflow: hidden; text-overflow: ellipsis; \" colspan=\"1\"><div style=\"text-align: left;border-bottom: solid 2px #000; padding-bottom: 5px\">alleles</div></td><td style=\"white-space: nowrap; max-width: 500px; overflow: hidden; text-overflow: ellipsis; \" colspan=\"1\"><div style=\"text-align: left;border-bottom: solid 2px #000; padding-bottom: 5px\">REVEL</div></td><td style=\"white-space: nowrap; max-width: 500px; overflow: hidden; text-overflow: ellipsis; \" colspan=\"1\"><div style=\"text-align: left;border-bottom: solid 2px #000; padding-bottom: 5px\">aaref</div></td><td style=\"white-space: nowrap; max-width: 500px; overflow: hidden; text-overflow: ellipsis; \" colspan=\"1\"><div style=\"text-align: left;border-bottom: solid 2px #000; padding-bottom: 5px\">aaalt</div></td></tr><tr><td style=\"white-space: nowrap; max-width: 500px; overflow: hidden; text-overflow: ellipsis; text-align: left;\">locus&lt;GRCh38&gt;</td><td style=\"white-space: nowrap; max-width: 500px; overflow: hidden; text-overflow: ellipsis; text-align: left;\">array&lt;str&gt;</td><td style=\"white-space: nowrap; max-width: 500px; overflow: hidden; text-overflow: ellipsis; text-align: left;\">float64</td><td style=\"white-space: nowrap; max-width: 500px; overflow: hidden; text-overflow: ellipsis; text-align: left;\">str</td><td style=\"white-space: nowrap; max-width: 500px; overflow: hidden; text-overflow: ellipsis; text-align: left;\">str</td></tr>\n",
       "</thead><tbody><tr><td style=\"white-space: nowrap; max-width: 500px; overflow: hidden; text-overflow: ellipsis; \">chr1:930312</td><td style=\"white-space: nowrap; max-width: 500px; overflow: hidden; text-overflow: ellipsis; \">[&quot;C&quot;,&quot;A&quot;]</td><td style=\"white-space: nowrap; max-width: 500px; overflow: hidden; text-overflow: ellipsis; \">9.70e-02</td><td style=\"white-space: nowrap; max-width: 500px; overflow: hidden; text-overflow: ellipsis; \">&quot;P&quot;</td><td style=\"white-space: nowrap; max-width: 500px; overflow: hidden; text-overflow: ellipsis; \">&quot;Q&quot;</td></tr>\n",
       "<tr><td style=\"white-space: nowrap; max-width: 500px; overflow: hidden; text-overflow: ellipsis; \">chr1:930312</td><td style=\"white-space: nowrap; max-width: 500px; overflow: hidden; text-overflow: ellipsis; \">[&quot;C&quot;,&quot;A&quot;]</td><td style=\"white-space: nowrap; max-width: 500px; overflow: hidden; text-overflow: ellipsis; \">3.30e-02</td><td style=\"white-space: nowrap; max-width: 500px; overflow: hidden; text-overflow: ellipsis; \">&quot;R&quot;</td><td style=\"white-space: nowrap; max-width: 500px; overflow: hidden; text-overflow: ellipsis; \">&quot;S&quot;</td></tr>\n",
       "<tr><td style=\"white-space: nowrap; max-width: 500px; overflow: hidden; text-overflow: ellipsis; \">chr1:930312</td><td style=\"white-space: nowrap; max-width: 500px; overflow: hidden; text-overflow: ellipsis; \">[&quot;C&quot;,&quot;G&quot;]</td><td style=\"white-space: nowrap; max-width: 500px; overflow: hidden; text-overflow: ellipsis; \">7.20e-02</td><td style=\"white-space: nowrap; max-width: 500px; overflow: hidden; text-overflow: ellipsis; \">&quot;P&quot;</td><td style=\"white-space: nowrap; max-width: 500px; overflow: hidden; text-overflow: ellipsis; \">&quot;R&quot;</td></tr>\n",
       "<tr><td style=\"white-space: nowrap; max-width: 500px; overflow: hidden; text-overflow: ellipsis; \">chr1:930312</td><td style=\"white-space: nowrap; max-width: 500px; overflow: hidden; text-overflow: ellipsis; \">[&quot;C&quot;,&quot;G&quot;]</td><td style=\"white-space: nowrap; max-width: 500px; overflow: hidden; text-overflow: ellipsis; \">3.80e-02</td><td style=\"white-space: nowrap; max-width: 500px; overflow: hidden; text-overflow: ellipsis; \">&quot;R&quot;</td><td style=\"white-space: nowrap; max-width: 500px; overflow: hidden; text-overflow: ellipsis; \">&quot;G&quot;</td></tr>\n",
       "<tr><td style=\"white-space: nowrap; max-width: 500px; overflow: hidden; text-overflow: ellipsis; \">chr1:930312</td><td style=\"white-space: nowrap; max-width: 500px; overflow: hidden; text-overflow: ellipsis; \">[&quot;C&quot;,&quot;T&quot;]</td><td style=\"white-space: nowrap; max-width: 500px; overflow: hidden; text-overflow: ellipsis; \">7.10e-02</td><td style=\"white-space: nowrap; max-width: 500px; overflow: hidden; text-overflow: ellipsis; \">&quot;P&quot;</td><td style=\"white-space: nowrap; max-width: 500px; overflow: hidden; text-overflow: ellipsis; \">&quot;L&quot;</td></tr>\n",
       "<tr><td style=\"white-space: nowrap; max-width: 500px; overflow: hidden; text-overflow: ellipsis; \">chr1:930312</td><td style=\"white-space: nowrap; max-width: 500px; overflow: hidden; text-overflow: ellipsis; \">[&quot;C&quot;,&quot;T&quot;]</td><td style=\"white-space: nowrap; max-width: 500px; overflow: hidden; text-overflow: ellipsis; \">4.40e-02</td><td style=\"white-space: nowrap; max-width: 500px; overflow: hidden; text-overflow: ellipsis; \">&quot;R&quot;</td><td style=\"white-space: nowrap; max-width: 500px; overflow: hidden; text-overflow: ellipsis; \">&quot;C&quot;</td></tr>\n",
       "<tr><td style=\"white-space: nowrap; max-width: 500px; overflow: hidden; text-overflow: ellipsis; \">chr1:930315</td><td style=\"white-space: nowrap; max-width: 500px; overflow: hidden; text-overflow: ellipsis; \">[&quot;A&quot;,&quot;C&quot;]</td><td style=\"white-space: nowrap; max-width: 500px; overflow: hidden; text-overflow: ellipsis; \">2.60e-01</td><td style=\"white-space: nowrap; max-width: 500px; overflow: hidden; text-overflow: ellipsis; \">&quot;H&quot;</td><td style=\"white-space: nowrap; max-width: 500px; overflow: hidden; text-overflow: ellipsis; \">&quot;P&quot;</td></tr>\n",
       "<tr><td style=\"white-space: nowrap; max-width: 500px; overflow: hidden; text-overflow: ellipsis; \">chr1:930315</td><td style=\"white-space: nowrap; max-width: 500px; overflow: hidden; text-overflow: ellipsis; \">[&quot;A&quot;,&quot;C&quot;]</td><td style=\"white-space: nowrap; max-width: 500px; overflow: hidden; text-overflow: ellipsis; \">4.00e-03</td><td style=\"white-space: nowrap; max-width: 500px; overflow: hidden; text-overflow: ellipsis; \">&quot;T&quot;</td><td style=\"white-space: nowrap; max-width: 500px; overflow: hidden; text-overflow: ellipsis; \">&quot;P&quot;</td></tr>\n",
       "<tr><td style=\"white-space: nowrap; max-width: 500px; overflow: hidden; text-overflow: ellipsis; \">chr1:930315</td><td style=\"white-space: nowrap; max-width: 500px; overflow: hidden; text-overflow: ellipsis; \">[&quot;A&quot;,&quot;G&quot;]</td><td style=\"white-space: nowrap; max-width: 500px; overflow: hidden; text-overflow: ellipsis; \">3.40e-02</td><td style=\"white-space: nowrap; max-width: 500px; overflow: hidden; text-overflow: ellipsis; \">&quot;H&quot;</td><td style=\"white-space: nowrap; max-width: 500px; overflow: hidden; text-overflow: ellipsis; \">&quot;R&quot;</td></tr>\n",
       "<tr><td style=\"white-space: nowrap; max-width: 500px; overflow: hidden; text-overflow: ellipsis; \">chr1:930315</td><td style=\"white-space: nowrap; max-width: 500px; overflow: hidden; text-overflow: ellipsis; \">[&quot;A&quot;,&quot;G&quot;]</td><td style=\"white-space: nowrap; max-width: 500px; overflow: hidden; text-overflow: ellipsis; \">1.80e-02</td><td style=\"white-space: nowrap; max-width: 500px; overflow: hidden; text-overflow: ellipsis; \">&quot;T&quot;</td><td style=\"white-space: nowrap; max-width: 500px; overflow: hidden; text-overflow: ellipsis; \">&quot;A&quot;</td></tr>\n",
       "</tbody></table><p style=\"background: #fdd; padding: 0.4em;\">showing top 10 rows</p>\n"
      ],
      "text/plain": [
       "+---------------+------------+----------+-------+-------+\n",
       "| locus         | alleles    |    REVEL | aaref | aaalt |\n",
       "+---------------+------------+----------+-------+-------+\n",
       "| locus<GRCh38> | array<str> |  float64 | str   | str   |\n",
       "+---------------+------------+----------+-------+-------+\n",
       "| chr1:930312   | [\"C\",\"A\"]  | 9.70e-02 | \"P\"   | \"Q\"   |\n",
       "| chr1:930312   | [\"C\",\"A\"]  | 3.30e-02 | \"R\"   | \"S\"   |\n",
       "| chr1:930312   | [\"C\",\"G\"]  | 7.20e-02 | \"P\"   | \"R\"   |\n",
       "| chr1:930312   | [\"C\",\"G\"]  | 3.80e-02 | \"R\"   | \"G\"   |\n",
       "| chr1:930312   | [\"C\",\"T\"]  | 7.10e-02 | \"P\"   | \"L\"   |\n",
       "| chr1:930312   | [\"C\",\"T\"]  | 4.40e-02 | \"R\"   | \"C\"   |\n",
       "| chr1:930315   | [\"A\",\"C\"]  | 2.60e-01 | \"H\"   | \"P\"   |\n",
       "| chr1:930315   | [\"A\",\"C\"]  | 4.00e-03 | \"T\"   | \"P\"   |\n",
       "| chr1:930315   | [\"A\",\"G\"]  | 3.40e-02 | \"H\"   | \"R\"   |\n",
       "| chr1:930315   | [\"A\",\"G\"]  | 1.80e-02 | \"T\"   | \"A\"   |\n",
       "+---------------+------------+----------+-------+-------+\n",
       "showing top 10 rows"
      ]
     },
     "metadata": {},
     "output_type": "display_data"
    }
   ],
   "source": [
    "#print(revel_information_grch38.count())\n",
    "#print(revel_information_grch38.distinct().count())\n",
    "#a = revel_information_grch38.collect_by_key()\n",
    "#b = a.filter(hl.len(a.values)>1)\n",
    "#revel_information_grch38.semi_join(b).show()"
   ]
  },
  {
   "cell_type": "code",
   "execution_count": 82,
   "metadata": {},
   "outputs": [
    {
     "name": "stdout",
     "output_type": "stream",
     "text": [
      "9079588475\n",
      "9079588475\n"
     ]
    }
   ],
   "source": [
    "#print(cadd.count())\n",
    "#print(cadd.distinct().count())"
   ]
  },
  {
   "cell_type": "code",
   "execution_count": 84,
   "metadata": {},
   "outputs": [
    {
     "name": "stdout",
     "output_type": "stream",
     "text": [
      "70116384\n",
      "70073665\n"
     ]
    },
    {
     "data": {
      "text/html": [
       "<table><thead><tr><td style=\"white-space: nowrap; max-width: 500px; overflow: hidden; text-overflow: ellipsis; \" colspan=\"1\"><div style=\"text-align: left;\"></div></td><td style=\"white-space: nowrap; max-width: 500px; overflow: hidden; text-overflow: ellipsis; \" colspan=\"1\"><div style=\"text-align: left;\"></div></td><td style=\"white-space: nowrap; max-width: 500px; overflow: hidden; text-overflow: ellipsis; \" colspan=\"1\"><div style=\"text-align: left;\"></div></td><td style=\"white-space: nowrap; max-width: 500px; overflow: hidden; text-overflow: ellipsis; \" colspan=\"1\"><div style=\"text-align: left;\"></div></td><td style=\"white-space: nowrap; max-width: 500px; overflow: hidden; text-overflow: ellipsis; \" colspan=\"1\"><div style=\"text-align: left;\"></div></td><td style=\"white-space: nowrap; max-width: 500px; overflow: hidden; text-overflow: ellipsis; \" colspan=\"1\"><div style=\"text-align: left;\"></div></td><td style=\"white-space: nowrap; max-width: 500px; overflow: hidden; text-overflow: ellipsis; \" colspan=\"1\"><div style=\"text-align: left;\"></div></td><td style=\"white-space: nowrap; max-width: 500px; overflow: hidden; text-overflow: ellipsis; \" colspan=\"1\"><div style=\"text-align: left;\"></div></td><td style=\"white-space: nowrap; max-width: 500px; overflow: hidden; text-overflow: ellipsis; \" colspan=\"1\"><div style=\"text-align: left;\"></div></td></tr><tr><td style=\"white-space: nowrap; max-width: 500px; overflow: hidden; text-overflow: ellipsis; \" colspan=\"1\"><div style=\"text-align: left;border-bottom: solid 2px #000; padding-bottom: 5px\">locus</div></td><td style=\"white-space: nowrap; max-width: 500px; overflow: hidden; text-overflow: ellipsis; \" colspan=\"1\"><div style=\"text-align: left;border-bottom: solid 2px #000; padding-bottom: 5px\">alleles</div></td><td style=\"white-space: nowrap; max-width: 500px; overflow: hidden; text-overflow: ellipsis; \" colspan=\"1\"><div style=\"text-align: left;border-bottom: solid 2px #000; padding-bottom: 5px\">primateDL_score</div></td><td style=\"white-space: nowrap; max-width: 500px; overflow: hidden; text-overflow: ellipsis; \" colspan=\"1\"><div style=\"text-align: left;border-bottom: solid 2px #000; padding-bottom: 5px\">ExAC_coverage</div></td><td style=\"white-space: nowrap; max-width: 500px; overflow: hidden; text-overflow: ellipsis; \" colspan=\"1\"><div style=\"text-align: left;border-bottom: solid 2px #000; padding-bottom: 5px\">strand_1pos_0neg</div></td><td style=\"white-space: nowrap; max-width: 500px; overflow: hidden; text-overflow: ellipsis; \" colspan=\"1\"><div style=\"text-align: left;border-bottom: solid 2px #000; padding-bottom: 5px\">refAA</div></td><td style=\"white-space: nowrap; max-width: 500px; overflow: hidden; text-overflow: ellipsis; \" colspan=\"1\"><div style=\"text-align: left;border-bottom: solid 2px #000; padding-bottom: 5px\">altAA</div></td><td style=\"white-space: nowrap; max-width: 500px; overflow: hidden; text-overflow: ellipsis; \" colspan=\"1\"><div style=\"text-align: left;border-bottom: solid 2px #000; padding-bottom: 5px\">trinucleotide_context</div></td><td style=\"white-space: nowrap; max-width: 500px; overflow: hidden; text-overflow: ellipsis; \" colspan=\"1\"><div style=\"text-align: left;border-bottom: solid 2px #000; padding-bottom: 5px\">UCSC_gene</div></td></tr><tr><td style=\"white-space: nowrap; max-width: 500px; overflow: hidden; text-overflow: ellipsis; text-align: left;\">locus&lt;GRCh38&gt;</td><td style=\"white-space: nowrap; max-width: 500px; overflow: hidden; text-overflow: ellipsis; text-align: left;\">array&lt;str&gt;</td><td style=\"white-space: nowrap; max-width: 500px; overflow: hidden; text-overflow: ellipsis; text-align: left;\">float32</td><td style=\"white-space: nowrap; max-width: 500px; overflow: hidden; text-overflow: ellipsis; text-align: left;\">float32</td><td style=\"white-space: nowrap; max-width: 500px; overflow: hidden; text-overflow: ellipsis; text-align: left;\">str</td><td style=\"white-space: nowrap; max-width: 500px; overflow: hidden; text-overflow: ellipsis; text-align: left;\">str</td><td style=\"white-space: nowrap; max-width: 500px; overflow: hidden; text-overflow: ellipsis; text-align: left;\">str</td><td style=\"white-space: nowrap; max-width: 500px; overflow: hidden; text-overflow: ellipsis; text-align: left;\">str</td><td style=\"white-space: nowrap; max-width: 500px; overflow: hidden; text-overflow: ellipsis; text-align: left;\">str</td></tr>\n",
       "</thead><tbody><tr><td style=\"white-space: nowrap; max-width: 500px; overflow: hidden; text-overflow: ellipsis; \">chr1:2385807</td><td style=\"white-space: nowrap; max-width: 500px; overflow: hidden; text-overflow: ellipsis; \">[&quot;T&quot;,&quot;C&quot;]</td><td style=\"white-space: nowrap; max-width: 500px; overflow: hidden; text-overflow: ellipsis; \">2.33e-01</td><td style=\"white-space: nowrap; max-width: 500px; overflow: hidden; text-overflow: ellipsis; \">7.97e+01</td><td style=\"white-space: nowrap; max-width: 500px; overflow: hidden; text-overflow: ellipsis; \">&quot;0&quot;</td><td style=\"white-space: nowrap; max-width: 500px; overflow: hidden; text-overflow: ellipsis; \">&quot;Q&quot;</td><td style=\"white-space: nowrap; max-width: 500px; overflow: hidden; text-overflow: ellipsis; \">&quot;R&quot;</td><td style=\"white-space: nowrap; max-width: 500px; overflow: hidden; text-overflow: ellipsis; \">&quot;CAG&quot;</td><td style=\"white-space: nowrap; max-width: 500px; overflow: hidden; text-overflow: ellipsis; \">&quot;uc001ajb.1&quot;</td></tr>\n",
       "<tr><td style=\"white-space: nowrap; max-width: 500px; overflow: hidden; text-overflow: ellipsis; \">chr1:2385807</td><td style=\"white-space: nowrap; max-width: 500px; overflow: hidden; text-overflow: ellipsis; \">[&quot;T&quot;,&quot;C&quot;]</td><td style=\"white-space: nowrap; max-width: 500px; overflow: hidden; text-overflow: ellipsis; \">2.04e-01</td><td style=\"white-space: nowrap; max-width: 500px; overflow: hidden; text-overflow: ellipsis; \">7.97e+01</td><td style=\"white-space: nowrap; max-width: 500px; overflow: hidden; text-overflow: ellipsis; \">&quot;0&quot;</td><td style=\"white-space: nowrap; max-width: 500px; overflow: hidden; text-overflow: ellipsis; \">&quot;R&quot;</td><td style=\"white-space: nowrap; max-width: 500px; overflow: hidden; text-overflow: ellipsis; \">&quot;G&quot;</td><td style=\"white-space: nowrap; max-width: 500px; overflow: hidden; text-overflow: ellipsis; \">&quot;CAG&quot;</td><td style=\"white-space: nowrap; max-width: 500px; overflow: hidden; text-overflow: ellipsis; \">&quot;uc010nyy.2&quot;</td></tr>\n",
       "<tr><td style=\"white-space: nowrap; max-width: 500px; overflow: hidden; text-overflow: ellipsis; \">chr1:2560633</td><td style=\"white-space: nowrap; max-width: 500px; overflow: hidden; text-overflow: ellipsis; \">[&quot;G&quot;,&quot;C&quot;]</td><td style=\"white-space: nowrap; max-width: 500px; overflow: hidden; text-overflow: ellipsis; \">6.57e-01</td><td style=\"white-space: nowrap; max-width: 500px; overflow: hidden; text-overflow: ellipsis; \">4.77e+01</td><td style=\"white-space: nowrap; max-width: 500px; overflow: hidden; text-overflow: ellipsis; \">&quot;1&quot;</td><td style=\"white-space: nowrap; max-width: 500px; overflow: hidden; text-overflow: ellipsis; \">&quot;V&quot;</td><td style=\"white-space: nowrap; max-width: 500px; overflow: hidden; text-overflow: ellipsis; \">&quot;L&quot;</td><td style=\"white-space: nowrap; max-width: 500px; overflow: hidden; text-overflow: ellipsis; \">&quot;AGT&quot;</td><td style=\"white-space: nowrap; max-width: 500px; overflow: hidden; text-overflow: ellipsis; \">&quot;uc001ajt.1&quot;</td></tr>\n",
       "<tr><td style=\"white-space: nowrap; max-width: 500px; overflow: hidden; text-overflow: ellipsis; \">chr1:2560633</td><td style=\"white-space: nowrap; max-width: 500px; overflow: hidden; text-overflow: ellipsis; \">[&quot;G&quot;,&quot;C&quot;]</td><td style=\"white-space: nowrap; max-width: 500px; overflow: hidden; text-overflow: ellipsis; \">2.78e-01</td><td style=\"white-space: nowrap; max-width: 500px; overflow: hidden; text-overflow: ellipsis; \">4.77e+01</td><td style=\"white-space: nowrap; max-width: 500px; overflow: hidden; text-overflow: ellipsis; \">&quot;1&quot;</td><td style=\"white-space: nowrap; max-width: 500px; overflow: hidden; text-overflow: ellipsis; \">&quot;S&quot;</td><td style=\"white-space: nowrap; max-width: 500px; overflow: hidden; text-overflow: ellipsis; \">&quot;T&quot;</td><td style=\"white-space: nowrap; max-width: 500px; overflow: hidden; text-overflow: ellipsis; \">&quot;AGT&quot;</td><td style=\"white-space: nowrap; max-width: 500px; overflow: hidden; text-overflow: ellipsis; \">&quot;uc001ajr.3&quot;</td></tr>\n",
       "<tr><td style=\"white-space: nowrap; max-width: 500px; overflow: hidden; text-overflow: ellipsis; \">chr1:12824946</td><td style=\"white-space: nowrap; max-width: 500px; overflow: hidden; text-overflow: ellipsis; \">[&quot;C&quot;,&quot;G&quot;]</td><td style=\"white-space: nowrap; max-width: 500px; overflow: hidden; text-overflow: ellipsis; \">3.99e-01</td><td style=\"white-space: nowrap; max-width: 500px; overflow: hidden; text-overflow: ellipsis; \">0.00e+00</td><td style=\"white-space: nowrap; max-width: 500px; overflow: hidden; text-overflow: ellipsis; \">&quot;1&quot;</td><td style=\"white-space: nowrap; max-width: 500px; overflow: hidden; text-overflow: ellipsis; \">&quot;C&quot;</td><td style=\"white-space: nowrap; max-width: 500px; overflow: hidden; text-overflow: ellipsis; \">&quot;W&quot;</td><td style=\"white-space: nowrap; max-width: 500px; overflow: hidden; text-overflow: ellipsis; \">&quot;GCT&quot;</td><td style=\"white-space: nowrap; max-width: 500px; overflow: hidden; text-overflow: ellipsis; \">&quot;uc001ava.1&quot;</td></tr>\n",
       "<tr><td style=\"white-space: nowrap; max-width: 500px; overflow: hidden; text-overflow: ellipsis; \">chr1:12824946</td><td style=\"white-space: nowrap; max-width: 500px; overflow: hidden; text-overflow: ellipsis; \">[&quot;C&quot;,&quot;G&quot;]</td><td style=\"white-space: nowrap; max-width: 500px; overflow: hidden; text-overflow: ellipsis; \">4.03e-01</td><td style=\"white-space: nowrap; max-width: 500px; overflow: hidden; text-overflow: ellipsis; \">8.88e+01</td><td style=\"white-space: nowrap; max-width: 500px; overflow: hidden; text-overflow: ellipsis; \">&quot;0&quot;</td><td style=\"white-space: nowrap; max-width: 500px; overflow: hidden; text-overflow: ellipsis; \">&quot;C&quot;</td><td style=\"white-space: nowrap; max-width: 500px; overflow: hidden; text-overflow: ellipsis; \">&quot;S&quot;</td><td style=\"white-space: nowrap; max-width: 500px; overflow: hidden; text-overflow: ellipsis; \">&quot;TGT&quot;</td><td style=\"white-space: nowrap; max-width: 500px; overflow: hidden; text-overflow: ellipsis; \">&quot;uc001auk.2&quot;</td></tr>\n",
       "<tr><td style=\"white-space: nowrap; max-width: 500px; overflow: hidden; text-overflow: ellipsis; \">chr1:12824950</td><td style=\"white-space: nowrap; max-width: 500px; overflow: hidden; text-overflow: ellipsis; \">[&quot;A&quot;,&quot;C&quot;]</td><td style=\"white-space: nowrap; max-width: 500px; overflow: hidden; text-overflow: ellipsis; \">3.99e-01</td><td style=\"white-space: nowrap; max-width: 500px; overflow: hidden; text-overflow: ellipsis; \">0.00e+00</td><td style=\"white-space: nowrap; max-width: 500px; overflow: hidden; text-overflow: ellipsis; \">&quot;1&quot;</td><td style=\"white-space: nowrap; max-width: 500px; overflow: hidden; text-overflow: ellipsis; \">&quot;Y&quot;</td><td style=\"white-space: nowrap; max-width: 500px; overflow: hidden; text-overflow: ellipsis; \">&quot;S&quot;</td><td style=\"white-space: nowrap; max-width: 500px; overflow: hidden; text-overflow: ellipsis; \">&quot;TAC&quot;</td><td style=\"white-space: nowrap; max-width: 500px; overflow: hidden; text-overflow: ellipsis; \">&quot;uc001ava.1&quot;</td></tr>\n",
       "<tr><td style=\"white-space: nowrap; max-width: 500px; overflow: hidden; text-overflow: ellipsis; \">chr1:12824950</td><td style=\"white-space: nowrap; max-width: 500px; overflow: hidden; text-overflow: ellipsis; \">[&quot;A&quot;,&quot;C&quot;]</td><td style=\"white-space: nowrap; max-width: 500px; overflow: hidden; text-overflow: ellipsis; \">4.13e-01</td><td style=\"white-space: nowrap; max-width: 500px; overflow: hidden; text-overflow: ellipsis; \">9.01e+01</td><td style=\"white-space: nowrap; max-width: 500px; overflow: hidden; text-overflow: ellipsis; \">&quot;0&quot;</td><td style=\"white-space: nowrap; max-width: 500px; overflow: hidden; text-overflow: ellipsis; \">&quot;C&quot;</td><td style=\"white-space: nowrap; max-width: 500px; overflow: hidden; text-overflow: ellipsis; \">&quot;G&quot;</td><td style=\"white-space: nowrap; max-width: 500px; overflow: hidden; text-overflow: ellipsis; \">&quot;CTG&quot;</td><td style=\"white-space: nowrap; max-width: 500px; overflow: hidden; text-overflow: ellipsis; \">&quot;uc001auk.2&quot;</td></tr>\n",
       "<tr><td style=\"white-space: nowrap; max-width: 500px; overflow: hidden; text-overflow: ellipsis; \">chr1:12824950</td><td style=\"white-space: nowrap; max-width: 500px; overflow: hidden; text-overflow: ellipsis; \">[&quot;A&quot;,&quot;G&quot;]</td><td style=\"white-space: nowrap; max-width: 500px; overflow: hidden; text-overflow: ellipsis; \">3.99e-01</td><td style=\"white-space: nowrap; max-width: 500px; overflow: hidden; text-overflow: ellipsis; \">0.00e+00</td><td style=\"white-space: nowrap; max-width: 500px; overflow: hidden; text-overflow: ellipsis; \">&quot;1&quot;</td><td style=\"white-space: nowrap; max-width: 500px; overflow: hidden; text-overflow: ellipsis; \">&quot;Y&quot;</td><td style=\"white-space: nowrap; max-width: 500px; overflow: hidden; text-overflow: ellipsis; \">&quot;C&quot;</td><td style=\"white-space: nowrap; max-width: 500px; overflow: hidden; text-overflow: ellipsis; \">&quot;TAC&quot;</td><td style=\"white-space: nowrap; max-width: 500px; overflow: hidden; text-overflow: ellipsis; \">&quot;uc001ava.1&quot;</td></tr>\n",
       "<tr><td style=\"white-space: nowrap; max-width: 500px; overflow: hidden; text-overflow: ellipsis; \">chr1:12824950</td><td style=\"white-space: nowrap; max-width: 500px; overflow: hidden; text-overflow: ellipsis; \">[&quot;A&quot;,&quot;G&quot;]</td><td style=\"white-space: nowrap; max-width: 500px; overflow: hidden; text-overflow: ellipsis; \">4.49e-01</td><td style=\"white-space: nowrap; max-width: 500px; overflow: hidden; text-overflow: ellipsis; \">9.01e+01</td><td style=\"white-space: nowrap; max-width: 500px; overflow: hidden; text-overflow: ellipsis; \">&quot;0&quot;</td><td style=\"white-space: nowrap; max-width: 500px; overflow: hidden; text-overflow: ellipsis; \">&quot;C&quot;</td><td style=\"white-space: nowrap; max-width: 500px; overflow: hidden; text-overflow: ellipsis; \">&quot;R&quot;</td><td style=\"white-space: nowrap; max-width: 500px; overflow: hidden; text-overflow: ellipsis; \">&quot;CTG&quot;</td><td style=\"white-space: nowrap; max-width: 500px; overflow: hidden; text-overflow: ellipsis; \">&quot;uc001auk.2&quot;</td></tr>\n",
       "</tbody></table><p style=\"background: #fdd; padding: 0.4em;\">showing top 10 rows</p>\n"
      ],
      "text/plain": [
       "+---------------+------------+-----------------+---------------+------------------+-------+-------+-----------------------+--------------+\n",
       "| locus         | alleles    | primateDL_score | ExAC_coverage | strand_1pos_0neg | refAA | altAA | trinucleotide_context | UCSC_gene    |\n",
       "+---------------+------------+-----------------+---------------+------------------+-------+-------+-----------------------+--------------+\n",
       "| locus<GRCh38> | array<str> |         float32 |       float32 | str              | str   | str   | str                   | str          |\n",
       "+---------------+------------+-----------------+---------------+------------------+-------+-------+-----------------------+--------------+\n",
       "| chr1:2385807  | [\"T\",\"C\"]  |        2.33e-01 |      7.97e+01 | \"0\"              | \"Q\"   | \"R\"   | \"CAG\"                 | \"uc001ajb.1\" |\n",
       "| chr1:2385807  | [\"T\",\"C\"]  |        2.04e-01 |      7.97e+01 | \"0\"              | \"R\"   | \"G\"   | \"CAG\"                 | \"uc010nyy.2\" |\n",
       "| chr1:2560633  | [\"G\",\"C\"]  |        6.57e-01 |      4.77e+01 | \"1\"              | \"V\"   | \"L\"   | \"AGT\"                 | \"uc001ajt.1\" |\n",
       "| chr1:2560633  | [\"G\",\"C\"]  |        2.78e-01 |      4.77e+01 | \"1\"              | \"S\"   | \"T\"   | \"AGT\"                 | \"uc001ajr.3\" |\n",
       "| chr1:12824946 | [\"C\",\"G\"]  |        3.99e-01 |      0.00e+00 | \"1\"              | \"C\"   | \"W\"   | \"GCT\"                 | \"uc001ava.1\" |\n",
       "| chr1:12824946 | [\"C\",\"G\"]  |        4.03e-01 |      8.88e+01 | \"0\"              | \"C\"   | \"S\"   | \"TGT\"                 | \"uc001auk.2\" |\n",
       "| chr1:12824950 | [\"A\",\"C\"]  |        3.99e-01 |      0.00e+00 | \"1\"              | \"Y\"   | \"S\"   | \"TAC\"                 | \"uc001ava.1\" |\n",
       "| chr1:12824950 | [\"A\",\"C\"]  |        4.13e-01 |      9.01e+01 | \"0\"              | \"C\"   | \"G\"   | \"CTG\"                 | \"uc001auk.2\" |\n",
       "| chr1:12824950 | [\"A\",\"G\"]  |        3.99e-01 |      0.00e+00 | \"1\"              | \"Y\"   | \"C\"   | \"TAC\"                 | \"uc001ava.1\" |\n",
       "| chr1:12824950 | [\"A\",\"G\"]  |        4.49e-01 |      9.01e+01 | \"0\"              | \"C\"   | \"R\"   | \"CTG\"                 | \"uc001auk.2\" |\n",
       "+---------------+------------+-----------------+---------------+------------------+-------+-------+-----------------------+--------------+\n",
       "showing top 10 rows"
      ]
     },
     "metadata": {},
     "output_type": "display_data"
    }
   ],
   "source": [
    "#print(primate_ai_info.count())\n",
    "#print(primate_ai_info.distinct().count())\n",
    "#a = primate_ai_info.collect_by_key()\n",
    "#b = a.filter(hl.len(a.values)>1)\n",
    "#primate_ai_info.semi_join(b).show()"
   ]
  },
  {
   "cell_type": "markdown",
   "metadata": {},
   "source": [
    "# Splice AI"
   ]
  },
  {
   "cell_type": "code",
   "execution_count": 65,
   "metadata": {},
   "outputs": [
    {
     "name": "stdout",
     "output_type": "stream",
     "text": [
      "----------------------------------------\n",
      "Global fields:\n",
      "    None\n",
      "----------------------------------------\n",
      "Column fields:\n",
      "    's': str\n",
      "----------------------------------------\n",
      "Row fields:\n",
      "    'locus': locus<GRCh38>\n",
      "    'alleles': array<str>\n",
      "    'rsid': str\n",
      "    'qual': float64\n",
      "    'filters': set<str>\n",
      "    'info': struct {\n",
      "        splice_ai: array<float32>, \n",
      "        max_ds: float32, \n",
      "        splice_consequence: str\n",
      "    }\n",
      "----------------------------------------\n",
      "Entry fields:\n",
      "    None\n",
      "----------------------------------------\n",
      "Column key: ['s']\n",
      "Row key: ['locus', 'alleles']\n",
      "----------------------------------------\n"
     ]
    }
   ],
   "source": [
    "spliceAi_info_skip_invalid.describe()"
   ]
  },
  {
   "cell_type": "code",
   "execution_count": 63,
   "metadata": {},
   "outputs": [
    {
     "name": "stdout",
     "output_type": "stream",
     "text": [
      "----------------------------------------\n",
      "Global fields:\n",
      "    None\n",
      "----------------------------------------\n",
      "Column fields:\n",
      "    's': str\n",
      "----------------------------------------\n",
      "Row fields:\n",
      "    'locus': locus<GRCh38>\n",
      "    'alleles': array<str>\n",
      "    'rsid': str\n",
      "    'qual': float64\n",
      "    'filters': set<str>\n",
      "    'info': struct {\n",
      "        splice_ai: array<float32>, \n",
      "        max_DS: float32, \n",
      "        splice_consequence: str\n",
      "    }\n",
      "----------------------------------------\n",
      "Entry fields:\n",
      "    None\n",
      "----------------------------------------\n",
      "Column key: ['s']\n",
      "Row key: ['locus', 'alleles']\n",
      "----------------------------------------\n"
     ]
    }
   ],
   "source": [
    "spliceAi_info_skip_invalid.describe()"
   ]
  },
  {
   "cell_type": "code",
   "execution_count": 22,
   "metadata": {},
   "outputs": [],
   "source": [
    "#splice_indels = hl.import_vcf(\"gs://gnomad-wphu/splice_ai_data/gnomAD_v3.1_SpliceAI_scores-selected/spliceai_scores.masked.gnomad_indel.hg38.vcf.gz\",\n",
    "                                   #force_bgz=True,\n",
    "                                   #reference_genome='GRCh38', contig_recoding=recode,skip_invalid_loci=True,\n",
    "                                   #min_partitions=1000)\n",
    "\n",
    "#splice_snps = hl.import_vcf(\"gs://gnomad-wphu/splice_ai_data/splice_ai_data/genome_scores_v1.3_ds.20a701bc58ab45b59de2576db79ac8d0/spliceai_scores.raw.snv.hg38.vcf.gz\",\n",
    "                                #force_bgz= True,\n",
    "                                #min_partitions=10000,\n",
    "                                #reference_genome='GRCh38', contig_recoding=recode\n",
    "                               #)\n",
    "#splice_snps_withAnno = splice_snps.filter_rows(hl.len(splice_snps.info.SpliceAI)>0, keep=True)\n",
    "\n",
    "#splice_indels = hl.import_vcf(\"gs://gnomad-wphu/splice_ai_data/gnomAD_v3.1_SpliceAI_scores-selected/spliceai_scores.masked.gnomad_indel.hg38.vcf.gz\",\n",
    "                                   #force_bgz=True,\n",
    "                                   #reference_genome='GRCh38', contig_recoding=recode, skip_invalid_loci=True,\n",
    "                                   #min_partitions=1000)"
   ]
  },
  {
   "cell_type": "code",
   "execution_count": 23,
   "metadata": {},
   "outputs": [],
   "source": [
    "#print(spliceAi_indels_skip_invalid.count())\n",
    "#print(spliceAi_snps_skip_invalid.count())\n",
    "#print(spliceAi_info_skip_invalid.count())"
   ]
  },
  {
   "cell_type": "code",
   "execution_count": 24,
   "metadata": {},
   "outputs": [],
   "source": [
    "#spliceAi_info_skipInvalid_tbl = spliceAi_info_skipInvalid.make_table()\n",
    "#spliceAi_info_skipInvalid_tbl.show(5)\n",
    "#spliceAi_info_skipInvalid_tbl.describe()\n",
    "#print(gnomad_variants.anti_join(spliceAi_info_skipInvalid_tbl).count())\n",
    "#gnomad_variants.show(5)\n",
    "#spliceAi_snps_skipInvalid.show()\n",
    "#print(gnomad_variants.count())\n",
    "\n",
    "#numbers do not match because spliceAi only does intergenic variants; should pull up list of genes and compare missing variants against gene list."
   ]
  },
  {
   "cell_type": "code",
   "execution_count": 25,
   "metadata": {},
   "outputs": [],
   "source": [
    "#spliceAi_genes = hl.import_table(\"gs://gnomad-wphu/grch38.tsv\", types = {\"TX_START\":hl.tint64, \"TX_END\":hl.tint64})\n",
    "#spliceAi_genes = hl.import_table(\"gs://gnomad-wphu/grch38.tsv\")\n",
    "#spliceAi_genes = spliceAi_genes.transmute(CHROM = \"chr\" + spliceAi_genes.CHROM)\n",
    "#spliceAi_genes = spliceAi_genes.annotate(INTERVAL = hl.parse_locus_interval(spliceAi_genes.CHROM + \":\"+spliceAi_genes.TX_START + \"-\" +spliceAi_genes.TX_END, reference_genome=\"GRCh38\"))"
   ]
  },
  {
   "cell_type": "code",
   "execution_count": 26,
   "metadata": {},
   "outputs": [],
   "source": [
    "#gnomad_variants_in_genomic_regions = hl.filter_intervals(gnomad_variants, spliceAi_genes.INTERVAL.collect())\n",
    "#gnomad_variants_in_genomic_regions.count()"
   ]
  },
  {
   "cell_type": "code",
   "execution_count": 27,
   "metadata": {},
   "outputs": [],
   "source": [
    "#vars_in_genes_not_found = hl.filter_intervals(gnomad_variants.anti_join(spliceAi_info_skipInvalid_tbl),spliceAi_genes.INTERVAL.collect())"
   ]
  },
  {
   "cell_type": "code",
   "execution_count": 28,
   "metadata": {},
   "outputs": [],
   "source": [
    "#gnomad_indels_not_in_CADD.aggregate(hl.agg.collect_as_set(gnomad_indels_not_in_CADD.locus.contig))\n",
    "\n",
    "\n",
    "#gnomad_indels_not_in_CADD_mitoStripped.aggregate(\n",
    "    #hl.agg.collect_as_set(gnomad_indels_not_in_CADD_mitoStripped.locus.contig))\n",
    "#gnomad_indels_not_in_CADD_mitoStripped.count()\n",
    "\n",
    "\n",
    "#export_indels_for_CADD_analysis(gnomad_indels_not_in_CADD_mitoStripped, \"gs://gnomad-wphu/CADD_indels_for_upload_mitoStripped.vcf.bgz\")"
   ]
  },
  {
   "cell_type": "code",
   "execution_count": 29,
   "metadata": {},
   "outputs": [],
   "source": [
    "#test = gnomad_indels_not_in_CADD.head(150000)\n",
    "#export_indels_for_CADD_analysis(test, \"gs://gnomad-wphu/CADD_indels_for_upload_test_90000.vcf\")\n"
   ]
  },
  {
   "cell_type": "code",
   "execution_count": 30,
   "metadata": {},
   "outputs": [],
   "source": [
    "#CADD_snps_test = load_CADD(path = \"gs://gnomad-wphu/whole_genome_SNVs.tsv\", n_partitions=5000)\n",
    "#CADD_snps_test.show()\n",
    "\n",
    "#CADD_snps = CADD_snps.checkpoint(\"gs://gnomad-wphu/CADD-v1.6-SNVs.ht\")"
   ]
  },
  {
   "cell_type": "code",
   "execution_count": 31,
   "metadata": {},
   "outputs": [],
   "source": [
    "#cadd_ht = hl.import_table(\"gs://gnomad-wphu/whole_genome_SNVs.tsv\", comment=\"#\", no_header=True, min_partitions=5000)"
   ]
  },
  {
   "cell_type": "markdown",
   "metadata": {},
   "source": [
    "# Primate AI"
   ]
  },
  {
   "cell_type": "code",
   "execution_count": 32,
   "metadata": {},
   "outputs": [],
   "source": [
    "#primate_ai_info.count()"
   ]
  },
  {
   "cell_type": "code",
   "execution_count": 34,
   "metadata": {
    "scrolled": true
   },
   "outputs": [],
   "source": [
    "#primate_ai_info_new = create_primate_ai_info()"
   ]
  },
  {
   "cell_type": "code",
   "execution_count": 35,
   "metadata": {},
   "outputs": [],
   "source": [
    "#primate_ai_info_new = primate_ai_info_new.repartition(500)\n",
    "#primate_ai_info_new = primate_ai_info_new.checkpoint(\"gs://gnomad-wphu/primate-ai-info.ht\", overwrite=False)"
   ]
  },
  {
   "cell_type": "markdown",
   "metadata": {},
   "source": [
    "# Combined Annotations"
   ]
  },
  {
   "cell_type": "code",
   "execution_count": 36,
   "metadata": {
    "scrolled": true
   },
   "outputs": [],
   "source": [
    "#gnomad_variants.count()\n",
    "#gnomad_variants.describe()\n",
    "#gnomad_variants.show()"
   ]
  },
  {
   "cell_type": "code",
   "execution_count": 37,
   "metadata": {},
   "outputs": [],
   "source": [
    "#seqr_annotations_tbl.show()\n",
    "#seqr_annotations_tbl.describe()"
   ]
  },
  {
   "cell_type": "code",
   "execution_count": 11,
   "metadata": {},
   "outputs": [
    {
     "name": "stderr",
     "output_type": "stream",
     "text": [
      "2020-10-28 18:07:02 Hail: INFO: wrote table with 1584091437 rows in 7505 partitions to gs://gnomad/annotations/hail-0.2/ht/genomes_v3.1/gnomad_genomes_v3.1.analyst_annotations.ht\n"
     ]
    }
   ],
   "source": [
    "#result = result.checkpoint(\"gs://gnomad-wphu/gnomad-3.1-all-variants-annotations.ht\")\n",
    "result.write(\"gs://gnomad/annotations/hail-0.2/ht/genomes_v3.1/gnomad_genomes_v3.1.analyst_annotations.ht\", overwrite=True)\n"
   ]
  },
  {
   "cell_type": "code",
   "execution_count": 73,
   "metadata": {},
   "outputs": [
    {
     "data": {
      "text/html": [
       "<table><thead><tr><td style=\"white-space: nowrap; max-width: 500px; overflow: hidden; text-overflow: ellipsis; \" colspan=\"1\"><div style=\"text-align: left;\"></div></td><td style=\"white-space: nowrap; max-width: 500px; overflow: hidden; text-overflow: ellipsis; \" colspan=\"1\"><div style=\"text-align: left;\"></div></td><td style=\"white-space: nowrap; max-width: 500px; overflow: hidden; text-overflow: ellipsis; \" colspan=\"2\"><div style=\"text-align: left;\"></div></td><td style=\"white-space: nowrap; max-width: 500px; overflow: hidden; text-overflow: ellipsis; \" colspan=\"3\"><div style=\"text-align: left;\"></div></td><td style=\"white-space: nowrap; max-width: 500px; overflow: hidden; text-overflow: ellipsis; \" colspan=\"3\"><div style=\"text-align: left;\"></div></td><td style=\"white-space: nowrap; max-width: 500px; overflow: hidden; text-overflow: ellipsis; \" colspan=\"1\"><div style=\"text-align: left;\"></div></td></tr><tr><td style=\"white-space: nowrap; max-width: 500px; overflow: hidden; text-overflow: ellipsis; \" colspan=\"1\"><div style=\"text-align: left;\"></div></td><td style=\"white-space: nowrap; max-width: 500px; overflow: hidden; text-overflow: ellipsis; \" colspan=\"1\"><div style=\"text-align: left;\"></div></td><td style=\"white-space: nowrap; max-width: 500px; overflow: hidden; text-overflow: ellipsis; \" colspan=\"2\"><div style=\"text-align: left;border-bottom: solid 2px #000; padding-bottom: 5px\">cadd</div></td><td style=\"white-space: nowrap; max-width: 500px; overflow: hidden; text-overflow: ellipsis; \" colspan=\"3\"><div style=\"text-align: left;border-bottom: solid 2px #000; padding-bottom: 5px\">revel</div></td><td style=\"white-space: nowrap; max-width: 500px; overflow: hidden; text-overflow: ellipsis; \" colspan=\"3\"><div style=\"text-align: left;border-bottom: solid 2px #000; padding-bottom: 5px\">splice_ai</div></td><td style=\"white-space: nowrap; max-width: 500px; overflow: hidden; text-overflow: ellipsis; \" colspan=\"1\"><div style=\"text-align: left;border-bottom: solid 2px #000; padding-bottom: 5px\">primate_ai</div></td></tr><tr><td style=\"white-space: nowrap; max-width: 500px; overflow: hidden; text-overflow: ellipsis; \" colspan=\"1\"><div style=\"text-align: left;border-bottom: solid 2px #000; padding-bottom: 5px\">locus</div></td><td style=\"white-space: nowrap; max-width: 500px; overflow: hidden; text-overflow: ellipsis; \" colspan=\"1\"><div style=\"text-align: left;border-bottom: solid 2px #000; padding-bottom: 5px\">alleles</div></td><td style=\"white-space: nowrap; max-width: 500px; overflow: hidden; text-overflow: ellipsis; \" colspan=\"1\"><div style=\"text-align: left;border-bottom: solid 2px #000; padding-bottom: 5px\">raw_score</div></td><td style=\"white-space: nowrap; max-width: 500px; overflow: hidden; text-overflow: ellipsis; \" colspan=\"1\"><div style=\"text-align: left;border-bottom: solid 2px #000; padding-bottom: 5px\">phred</div></td><td style=\"white-space: nowrap; max-width: 500px; overflow: hidden; text-overflow: ellipsis; \" colspan=\"1\"><div style=\"text-align: left;border-bottom: solid 2px #000; padding-bottom: 5px\">revel_score</div></td><td style=\"white-space: nowrap; max-width: 500px; overflow: hidden; text-overflow: ellipsis; \" colspan=\"1\"><div style=\"text-align: left;border-bottom: solid 2px #000; padding-bottom: 5px\">ref_aa</div></td><td style=\"white-space: nowrap; max-width: 500px; overflow: hidden; text-overflow: ellipsis; \" colspan=\"1\"><div style=\"text-align: left;border-bottom: solid 2px #000; padding-bottom: 5px\">alt_aa</div></td><td style=\"white-space: nowrap; max-width: 500px; overflow: hidden; text-overflow: ellipsis; \" colspan=\"1\"><div style=\"text-align: left;border-bottom: solid 2px #000; padding-bottom: 5px\">splice_ai</div></td><td style=\"white-space: nowrap; max-width: 500px; overflow: hidden; text-overflow: ellipsis; \" colspan=\"1\"><div style=\"text-align: left;border-bottom: solid 2px #000; padding-bottom: 5px\">max_ds</div></td><td style=\"white-space: nowrap; max-width: 500px; overflow: hidden; text-overflow: ellipsis; \" colspan=\"1\"><div style=\"text-align: left;border-bottom: solid 2px #000; padding-bottom: 5px\">splice_consequence</div></td><td style=\"white-space: nowrap; max-width: 500px; overflow: hidden; text-overflow: ellipsis; \" colspan=\"1\"><div style=\"text-align: left;border-bottom: solid 2px #000; padding-bottom: 5px\">primate_ai_score</div></td></tr><tr><td style=\"white-space: nowrap; max-width: 500px; overflow: hidden; text-overflow: ellipsis; text-align: left;\">locus&lt;GRCh38&gt;</td><td style=\"white-space: nowrap; max-width: 500px; overflow: hidden; text-overflow: ellipsis; text-align: left;\">array&lt;str&gt;</td><td style=\"white-space: nowrap; max-width: 500px; overflow: hidden; text-overflow: ellipsis; text-align: left;\">float32</td><td style=\"white-space: nowrap; max-width: 500px; overflow: hidden; text-overflow: ellipsis; text-align: left;\">float32</td><td style=\"white-space: nowrap; max-width: 500px; overflow: hidden; text-overflow: ellipsis; text-align: left;\">float64</td><td style=\"white-space: nowrap; max-width: 500px; overflow: hidden; text-overflow: ellipsis; text-align: left;\">str</td><td style=\"white-space: nowrap; max-width: 500px; overflow: hidden; text-overflow: ellipsis; text-align: left;\">str</td><td style=\"white-space: nowrap; max-width: 500px; overflow: hidden; text-overflow: ellipsis; text-align: left;\">array&lt;float32&gt;</td><td style=\"white-space: nowrap; max-width: 500px; overflow: hidden; text-overflow: ellipsis; text-align: left;\">float32</td><td style=\"white-space: nowrap; max-width: 500px; overflow: hidden; text-overflow: ellipsis; text-align: left;\">str</td><td style=\"white-space: nowrap; max-width: 500px; overflow: hidden; text-overflow: ellipsis; text-align: left;\">float32</td></tr>\n",
       "</thead><tbody><tr><td style=\"white-space: nowrap; max-width: 500px; overflow: hidden; text-overflow: ellipsis; \">chr1:10001</td><td style=\"white-space: nowrap; max-width: 500px; overflow: hidden; text-overflow: ellipsis; \">[&quot;T&quot;,&quot;A&quot;]</td><td style=\"white-space: nowrap; max-width: 500px; overflow: hidden; text-overflow: ellipsis; \">7.03e-01</td><td style=\"white-space: nowrap; max-width: 500px; overflow: hidden; text-overflow: ellipsis; \">8.48e+00</td><td style=\"white-space: nowrap; max-width: 500px; overflow: hidden; text-overflow: ellipsis; \">NA</td><td style=\"white-space: nowrap; max-width: 500px; overflow: hidden; text-overflow: ellipsis; \">NA</td><td style=\"white-space: nowrap; max-width: 500px; overflow: hidden; text-overflow: ellipsis; \">NA</td><td style=\"white-space: nowrap; max-width: 500px; overflow: hidden; text-overflow: ellipsis; \">NA</td><td style=\"white-space: nowrap; max-width: 500px; overflow: hidden; text-overflow: ellipsis; \">NA</td><td style=\"white-space: nowrap; max-width: 500px; overflow: hidden; text-overflow: ellipsis; \">NA</td><td style=\"white-space: nowrap; max-width: 500px; overflow: hidden; text-overflow: ellipsis; \">NA</td></tr>\n",
       "<tr><td style=\"white-space: nowrap; max-width: 500px; overflow: hidden; text-overflow: ellipsis; \">chr1:10001</td><td style=\"white-space: nowrap; max-width: 500px; overflow: hidden; text-overflow: ellipsis; \">[&quot;T&quot;,&quot;C&quot;]</td><td style=\"white-space: nowrap; max-width: 500px; overflow: hidden; text-overflow: ellipsis; \">7.51e-01</td><td style=\"white-space: nowrap; max-width: 500px; overflow: hidden; text-overflow: ellipsis; \">8.92e+00</td><td style=\"white-space: nowrap; max-width: 500px; overflow: hidden; text-overflow: ellipsis; \">NA</td><td style=\"white-space: nowrap; max-width: 500px; overflow: hidden; text-overflow: ellipsis; \">NA</td><td style=\"white-space: nowrap; max-width: 500px; overflow: hidden; text-overflow: ellipsis; \">NA</td><td style=\"white-space: nowrap; max-width: 500px; overflow: hidden; text-overflow: ellipsis; \">NA</td><td style=\"white-space: nowrap; max-width: 500px; overflow: hidden; text-overflow: ellipsis; \">NA</td><td style=\"white-space: nowrap; max-width: 500px; overflow: hidden; text-overflow: ellipsis; \">NA</td><td style=\"white-space: nowrap; max-width: 500px; overflow: hidden; text-overflow: ellipsis; \">NA</td></tr>\n",
       "<tr><td style=\"white-space: nowrap; max-width: 500px; overflow: hidden; text-overflow: ellipsis; \">chr1:10007</td><td style=\"white-space: nowrap; max-width: 500px; overflow: hidden; text-overflow: ellipsis; \">[&quot;T&quot;,&quot;C&quot;]</td><td style=\"white-space: nowrap; max-width: 500px; overflow: hidden; text-overflow: ellipsis; \">7.56e-01</td><td style=\"white-space: nowrap; max-width: 500px; overflow: hidden; text-overflow: ellipsis; \">8.97e+00</td><td style=\"white-space: nowrap; max-width: 500px; overflow: hidden; text-overflow: ellipsis; \">NA</td><td style=\"white-space: nowrap; max-width: 500px; overflow: hidden; text-overflow: ellipsis; \">NA</td><td style=\"white-space: nowrap; max-width: 500px; overflow: hidden; text-overflow: ellipsis; \">NA</td><td style=\"white-space: nowrap; max-width: 500px; overflow: hidden; text-overflow: ellipsis; \">NA</td><td style=\"white-space: nowrap; max-width: 500px; overflow: hidden; text-overflow: ellipsis; \">NA</td><td style=\"white-space: nowrap; max-width: 500px; overflow: hidden; text-overflow: ellipsis; \">NA</td><td style=\"white-space: nowrap; max-width: 500px; overflow: hidden; text-overflow: ellipsis; \">NA</td></tr>\n",
       "<tr><td style=\"white-space: nowrap; max-width: 500px; overflow: hidden; text-overflow: ellipsis; \">chr1:10009</td><td style=\"white-space: nowrap; max-width: 500px; overflow: hidden; text-overflow: ellipsis; \">[&quot;A&quot;,&quot;C&quot;]</td><td style=\"white-space: nowrap; max-width: 500px; overflow: hidden; text-overflow: ellipsis; \">7.20e-01</td><td style=\"white-space: nowrap; max-width: 500px; overflow: hidden; text-overflow: ellipsis; \">8.64e+00</td><td style=\"white-space: nowrap; max-width: 500px; overflow: hidden; text-overflow: ellipsis; \">NA</td><td style=\"white-space: nowrap; max-width: 500px; overflow: hidden; text-overflow: ellipsis; \">NA</td><td style=\"white-space: nowrap; max-width: 500px; overflow: hidden; text-overflow: ellipsis; \">NA</td><td style=\"white-space: nowrap; max-width: 500px; overflow: hidden; text-overflow: ellipsis; \">NA</td><td style=\"white-space: nowrap; max-width: 500px; overflow: hidden; text-overflow: ellipsis; \">NA</td><td style=\"white-space: nowrap; max-width: 500px; overflow: hidden; text-overflow: ellipsis; \">NA</td><td style=\"white-space: nowrap; max-width: 500px; overflow: hidden; text-overflow: ellipsis; \">NA</td></tr>\n",
       "<tr><td style=\"white-space: nowrap; max-width: 500px; overflow: hidden; text-overflow: ellipsis; \">chr1:10013</td><td style=\"white-space: nowrap; max-width: 500px; overflow: hidden; text-overflow: ellipsis; \">[&quot;T&quot;,&quot;A&quot;]</td><td style=\"white-space: nowrap; max-width: 500px; overflow: hidden; text-overflow: ellipsis; \">7.02e-01</td><td style=\"white-space: nowrap; max-width: 500px; overflow: hidden; text-overflow: ellipsis; \">8.47e+00</td><td style=\"white-space: nowrap; max-width: 500px; overflow: hidden; text-overflow: ellipsis; \">NA</td><td style=\"white-space: nowrap; max-width: 500px; overflow: hidden; text-overflow: ellipsis; \">NA</td><td style=\"white-space: nowrap; max-width: 500px; overflow: hidden; text-overflow: ellipsis; \">NA</td><td style=\"white-space: nowrap; max-width: 500px; overflow: hidden; text-overflow: ellipsis; \">NA</td><td style=\"white-space: nowrap; max-width: 500px; overflow: hidden; text-overflow: ellipsis; \">NA</td><td style=\"white-space: nowrap; max-width: 500px; overflow: hidden; text-overflow: ellipsis; \">NA</td><td style=\"white-space: nowrap; max-width: 500px; overflow: hidden; text-overflow: ellipsis; \">NA</td></tr>\n",
       "<tr><td style=\"white-space: nowrap; max-width: 500px; overflow: hidden; text-overflow: ellipsis; \">chr1:10015</td><td style=\"white-space: nowrap; max-width: 500px; overflow: hidden; text-overflow: ellipsis; \">[&quot;A&quot;,&quot;C&quot;]</td><td style=\"white-space: nowrap; max-width: 500px; overflow: hidden; text-overflow: ellipsis; \">7.14e-01</td><td style=\"white-space: nowrap; max-width: 500px; overflow: hidden; text-overflow: ellipsis; \">8.58e+00</td><td style=\"white-space: nowrap; max-width: 500px; overflow: hidden; text-overflow: ellipsis; \">NA</td><td style=\"white-space: nowrap; max-width: 500px; overflow: hidden; text-overflow: ellipsis; \">NA</td><td style=\"white-space: nowrap; max-width: 500px; overflow: hidden; text-overflow: ellipsis; \">NA</td><td style=\"white-space: nowrap; max-width: 500px; overflow: hidden; text-overflow: ellipsis; \">NA</td><td style=\"white-space: nowrap; max-width: 500px; overflow: hidden; text-overflow: ellipsis; \">NA</td><td style=\"white-space: nowrap; max-width: 500px; overflow: hidden; text-overflow: ellipsis; \">NA</td><td style=\"white-space: nowrap; max-width: 500px; overflow: hidden; text-overflow: ellipsis; \">NA</td></tr>\n",
       "<tr><td style=\"white-space: nowrap; max-width: 500px; overflow: hidden; text-overflow: ellipsis; \">chr1:10019</td><td style=\"white-space: nowrap; max-width: 500px; overflow: hidden; text-overflow: ellipsis; \">[&quot;T&quot;,&quot;C&quot;]</td><td style=\"white-space: nowrap; max-width: 500px; overflow: hidden; text-overflow: ellipsis; \">7.51e-01</td><td style=\"white-space: nowrap; max-width: 500px; overflow: hidden; text-overflow: ellipsis; \">8.92e+00</td><td style=\"white-space: nowrap; max-width: 500px; overflow: hidden; text-overflow: ellipsis; \">NA</td><td style=\"white-space: nowrap; max-width: 500px; overflow: hidden; text-overflow: ellipsis; \">NA</td><td style=\"white-space: nowrap; max-width: 500px; overflow: hidden; text-overflow: ellipsis; \">NA</td><td style=\"white-space: nowrap; max-width: 500px; overflow: hidden; text-overflow: ellipsis; \">NA</td><td style=\"white-space: nowrap; max-width: 500px; overflow: hidden; text-overflow: ellipsis; \">NA</td><td style=\"white-space: nowrap; max-width: 500px; overflow: hidden; text-overflow: ellipsis; \">NA</td><td style=\"white-space: nowrap; max-width: 500px; overflow: hidden; text-overflow: ellipsis; \">NA</td></tr>\n",
       "<tr><td style=\"white-space: nowrap; max-width: 500px; overflow: hidden; text-overflow: ellipsis; \">chr1:10020</td><td style=\"white-space: nowrap; max-width: 500px; overflow: hidden; text-overflow: ellipsis; \">[&quot;A&quot;,&quot;C&quot;]</td><td style=\"white-space: nowrap; max-width: 500px; overflow: hidden; text-overflow: ellipsis; \">7.13e-01</td><td style=\"white-space: nowrap; max-width: 500px; overflow: hidden; text-overflow: ellipsis; \">8.57e+00</td><td style=\"white-space: nowrap; max-width: 500px; overflow: hidden; text-overflow: ellipsis; \">NA</td><td style=\"white-space: nowrap; max-width: 500px; overflow: hidden; text-overflow: ellipsis; \">NA</td><td style=\"white-space: nowrap; max-width: 500px; overflow: hidden; text-overflow: ellipsis; \">NA</td><td style=\"white-space: nowrap; max-width: 500px; overflow: hidden; text-overflow: ellipsis; \">NA</td><td style=\"white-space: nowrap; max-width: 500px; overflow: hidden; text-overflow: ellipsis; \">NA</td><td style=\"white-space: nowrap; max-width: 500px; overflow: hidden; text-overflow: ellipsis; \">NA</td><td style=\"white-space: nowrap; max-width: 500px; overflow: hidden; text-overflow: ellipsis; \">NA</td></tr>\n",
       "<tr><td style=\"white-space: nowrap; max-width: 500px; overflow: hidden; text-overflow: ellipsis; \">chr1:10021</td><td style=\"white-space: nowrap; max-width: 500px; overflow: hidden; text-overflow: ellipsis; \">[&quot;A&quot;,&quot;C&quot;]</td><td style=\"white-space: nowrap; max-width: 500px; overflow: hidden; text-overflow: ellipsis; \">7.13e-01</td><td style=\"white-space: nowrap; max-width: 500px; overflow: hidden; text-overflow: ellipsis; \">8.58e+00</td><td style=\"white-space: nowrap; max-width: 500px; overflow: hidden; text-overflow: ellipsis; \">NA</td><td style=\"white-space: nowrap; max-width: 500px; overflow: hidden; text-overflow: ellipsis; \">NA</td><td style=\"white-space: nowrap; max-width: 500px; overflow: hidden; text-overflow: ellipsis; \">NA</td><td style=\"white-space: nowrap; max-width: 500px; overflow: hidden; text-overflow: ellipsis; \">NA</td><td style=\"white-space: nowrap; max-width: 500px; overflow: hidden; text-overflow: ellipsis; \">NA</td><td style=\"white-space: nowrap; max-width: 500px; overflow: hidden; text-overflow: ellipsis; \">NA</td><td style=\"white-space: nowrap; max-width: 500px; overflow: hidden; text-overflow: ellipsis; \">NA</td></tr>\n",
       "<tr><td style=\"white-space: nowrap; max-width: 500px; overflow: hidden; text-overflow: ellipsis; \">chr1:10022</td><td style=\"white-space: nowrap; max-width: 500px; overflow: hidden; text-overflow: ellipsis; \">[&quot;C&quot;,&quot;T&quot;]</td><td style=\"white-space: nowrap; max-width: 500px; overflow: hidden; text-overflow: ellipsis; \">6.21e-01</td><td style=\"white-space: nowrap; max-width: 500px; overflow: hidden; text-overflow: ellipsis; \">7.71e+00</td><td style=\"white-space: nowrap; max-width: 500px; overflow: hidden; text-overflow: ellipsis; \">NA</td><td style=\"white-space: nowrap; max-width: 500px; overflow: hidden; text-overflow: ellipsis; \">NA</td><td style=\"white-space: nowrap; max-width: 500px; overflow: hidden; text-overflow: ellipsis; \">NA</td><td style=\"white-space: nowrap; max-width: 500px; overflow: hidden; text-overflow: ellipsis; \">NA</td><td style=\"white-space: nowrap; max-width: 500px; overflow: hidden; text-overflow: ellipsis; \">NA</td><td style=\"white-space: nowrap; max-width: 500px; overflow: hidden; text-overflow: ellipsis; \">NA</td><td style=\"white-space: nowrap; max-width: 500px; overflow: hidden; text-overflow: ellipsis; \">NA</td></tr>\n",
       "</tbody></table><p style=\"background: #fdd; padding: 0.4em;\">showing top 10 rows</p>\n"
      ],
      "text/plain": [
       "+---------------+------------+----------------+------------+-------------------+--------------+--------------+---------------------+\n",
       "| locus         | alleles    | cadd.raw_score | cadd.phred | revel.revel_score | revel.ref_aa | revel.alt_aa | splice_ai.splice_ai |\n",
       "+---------------+------------+----------------+------------+-------------------+--------------+--------------+---------------------+\n",
       "| locus<GRCh38> | array<str> |        float32 |    float32 |           float64 | str          | str          | array<float32>      |\n",
       "+---------------+------------+----------------+------------+-------------------+--------------+--------------+---------------------+\n",
       "| chr1:10001    | [\"T\",\"A\"]  |       7.03e-01 |   8.48e+00 |                NA | NA           | NA           | NA                  |\n",
       "| chr1:10001    | [\"T\",\"C\"]  |       7.51e-01 |   8.92e+00 |                NA | NA           | NA           | NA                  |\n",
       "| chr1:10007    | [\"T\",\"C\"]  |       7.56e-01 |   8.97e+00 |                NA | NA           | NA           | NA                  |\n",
       "| chr1:10009    | [\"A\",\"C\"]  |       7.20e-01 |   8.64e+00 |                NA | NA           | NA           | NA                  |\n",
       "| chr1:10013    | [\"T\",\"A\"]  |       7.02e-01 |   8.47e+00 |                NA | NA           | NA           | NA                  |\n",
       "| chr1:10015    | [\"A\",\"C\"]  |       7.14e-01 |   8.58e+00 |                NA | NA           | NA           | NA                  |\n",
       "| chr1:10019    | [\"T\",\"C\"]  |       7.51e-01 |   8.92e+00 |                NA | NA           | NA           | NA                  |\n",
       "| chr1:10020    | [\"A\",\"C\"]  |       7.13e-01 |   8.57e+00 |                NA | NA           | NA           | NA                  |\n",
       "| chr1:10021    | [\"A\",\"C\"]  |       7.13e-01 |   8.58e+00 |                NA | NA           | NA           | NA                  |\n",
       "| chr1:10022    | [\"C\",\"T\"]  |       6.21e-01 |   7.71e+00 |                NA | NA           | NA           | NA                  |\n",
       "+---------------+------------+----------------+------------+-------------------+--------------+--------------+---------------------+\n",
       "\n",
       "+------------------+------------------------------+-----------------------------+\n",
       "| splice_ai.max_ds | splice_ai.splice_consequence | primate_ai.primate_ai_score |\n",
       "+------------------+------------------------------+-----------------------------+\n",
       "|          float32 | str                          |                     float32 |\n",
       "+------------------+------------------------------+-----------------------------+\n",
       "|               NA | NA                           |                          NA |\n",
       "|               NA | NA                           |                          NA |\n",
       "|               NA | NA                           |                          NA |\n",
       "|               NA | NA                           |                          NA |\n",
       "|               NA | NA                           |                          NA |\n",
       "|               NA | NA                           |                          NA |\n",
       "|               NA | NA                           |                          NA |\n",
       "|               NA | NA                           |                          NA |\n",
       "|               NA | NA                           |                          NA |\n",
       "|               NA | NA                           |                          NA |\n",
       "+------------------+------------------------------+-----------------------------+\n",
       "showing top 10 rows"
      ]
     },
     "metadata": {},
     "output_type": "display_data"
    }
   ],
   "source": [
    "result.show()"
   ]
  },
  {
   "cell_type": "markdown",
   "metadata": {},
   "source": [
    "# Other Things"
   ]
  },
  {
   "cell_type": "code",
   "execution_count": null,
   "metadata": {},
   "outputs": [],
   "source": [
    "#missing_cadd_scores = result.filter(hl.is_defined(result.cadd.phred),keep=False)\n",
    "#missing_cadd_scores.count()"
   ]
  },
  {
   "cell_type": "code",
   "execution_count": null,
   "metadata": {},
   "outputs": [],
   "source": [
    "#missing_cadd_scores.filter(missing_cadd_scores.locus.contig==\"chrM\", keep=False).count()"
   ]
  },
  {
   "cell_type": "code",
   "execution_count": null,
   "metadata": {},
   "outputs": [],
   "source": [
    "#primate_ai_info.ExAC_coverage.summarize()"
   ]
  },
  {
   "cell_type": "code",
   "execution_count": null,
   "metadata": {},
   "outputs": [],
   "source": [
    "#print(gnomad_indels_in_CADD.count())\n",
    "#print(gnomad_indels_not_in_CADD.count())\n",
    "#print(gnomad_indels.count())\n",
    "\n",
    "#misisng_cadd_scores = missing_cadd_scores.write(\"gs://gnomad-tmp/missing_cadd_scores.ht\", overwrite=True)\n",
    "#missing_cadd_scores = hl.read_table(\"gs://gnomad-tmp/missing_cadd_scores.ht\")"
   ]
  },
  {
   "cell_type": "code",
   "execution_count": null,
   "metadata": {},
   "outputs": [],
   "source": [
    "#missing_cadd_scores_no_M = missing_cadd_scores.filter(missing_cadd_scores.locus.contig==\"chrM\",keep=False)\n",
    "#print(missing_cadd_scores.count())\n",
    "#print(missing_cadd_scores_no_M.count())\n",
    "\n",
    "#print(missing_cadd_scores.filter(missing_cadd_scores.locus.contig==\"chrM\",keep=True).count())\n",
    "#print(gnomad_variants.filter(gnomad_variants.locus.contig==\"chrM\", keep=True).count())\n",
    "#missing_cadd_scores_no_M.alleles.collect()"
   ]
  },
  {
   "cell_type": "code",
   "execution_count": null,
   "metadata": {},
   "outputs": [],
   "source": [
    "#hl.len(missing_cadd_scores_no_M.old_alleles).summarize()\n",
    "#missing_cadd_scores_no_M.count()\n",
    "#hl.len(missing_cadd_scores_no_M.old_alleles).show()\n",
    "#missing_cadd_scores_no_M.select(missing_cadd_scores_no_M.old_alleles).write(\"gs://gnomad-tmp/gnomad-31-complex-variants.ht\")\n",
    "#missing_cadd_scores_no_M.select(missing_cadd_scores_no_M.old_alleles).export(\"gs://gnomad-tmp/gnomad-31-complex-variants.tsv\")"
   ]
  },
  {
   "cell_type": "code",
   "execution_count": null,
   "metadata": {},
   "outputs": [],
   "source": [
    "#missing_cadd_scores_diff_key = missing_cadd_scores_no_M.select(missing_cadd_scores_no_M.old_alleles)\n",
    "#missing_cadd_scores_diff_key = missing_cadd_scores_diff_key.key_by(missing_cadd_scores_diff_key.old_alleles)\n",
    "#missing_cadd_scores_diff_key = missing_cadd_scores_diff_key.collect_by_key()"
   ]
  },
  {
   "cell_type": "code",
   "execution_count": null,
   "metadata": {},
   "outputs": [],
   "source": [
    "#hl.len(missing_cadd_scores_diff_key.values)>1"
   ]
  },
  {
   "cell_type": "code",
   "execution_count": null,
   "metadata": {},
   "outputs": [],
   "source": [
    "#len(set([frozenset(x) for x in missing_cadd_scores_no_M.old_alleles.collect()]))"
   ]
  },
  {
   "cell_type": "code",
   "execution_count": null,
   "metadata": {},
   "outputs": [],
   "source": [
    "#missing_cadd_scores_diff_key.export(\"gs://gnomad-tmp/gnomad-variants-complex-by-old-alleles.tsv\")"
   ]
  },
  {
   "cell_type": "code",
   "execution_count": null,
   "metadata": {},
   "outputs": [],
   "source": [
    "#missing_cadd_scores_diff_key.count()"
   ]
  },
  {
   "cell_type": "code",
   "execution_count": null,
   "metadata": {},
   "outputs": [],
   "source": [
    "#export_for_CADD_analysis(missing_cadd_scores_no_M, \"gs://gnomad-wphu/gnomad-large-deletions-cadd.vcf\")"
   ]
  },
  {
   "cell_type": "code",
   "execution_count": null,
   "metadata": {
    "scrolled": true
   },
   "outputs": [],
   "source": [
    "#example = ['AGGCTGACCTCTGTCCGCGTGGGAGGGGCCGGTGTGAGGCAAGGGGCTCAGGCTGACCTCTGTCCGCGTGGGAGGGGCCGGTGTGAGGCAAGGGGCTCAGGCTGACCTCTGTCCGCGTGGGAGGGGCCGGGGTGAGGCAAGGGCTCACACTGACCTCTCTCAGCGTGGGAGGGGCCGGTGTGAGGCAAGGGGCTCGGGCTGACCTCTCTCAGCGTGGGAGGGGCCGGTGTGAGGCAAGGGGCTCGGGCTGACCTCTCTCAGCGTGGGAGGGGCCGGTGTGAGGCAAGGGGCTCG', 'G']\n",
    "#(~(hl.is_snp(example[0], example[1]))).show()\n",
    "#hl.is_indel(example[0], example[1]).show()"
   ]
  },
  {
   "cell_type": "code",
   "execution_count": null,
   "metadata": {},
   "outputs": [],
   "source": [
    "#not_snps = gnomad_variants.filter(hl.is_snp(gnomad_variants.alleles[0],gnomad_variants.alleles[1]),keep=False)\n",
    "#not_snps.count()"
   ]
  },
  {
   "cell_type": "code",
   "execution_count": null,
   "metadata": {},
   "outputs": [],
   "source": [
    "#gnomad_indels.count()"
   ]
  },
  {
   "cell_type": "code",
   "execution_count": null,
   "metadata": {},
   "outputs": [],
   "source": [
    "#questionable = not_snps.anti_join(gnomad_indels)\n",
    "#questionable.count()"
   ]
  },
  {
   "cell_type": "code",
   "execution_count": null,
   "metadata": {},
   "outputs": [],
   "source": [
    "#print(missing_cadd_scores_no_M.semi_join(questionable).count())\n",
    "#print(missing_cadd_scores_no_M.filter(hl.is_complex(missing_cadd_scores_no_M.alleles[0], missing_cadd_scores_no_M.alleles[1])).count())\n"
   ]
  },
  {
   "cell_type": "code",
   "execution_count": null,
   "metadata": {},
   "outputs": [],
   "source": [
    "#hl.filter_intervals(questionable,spliceAi_genes.INTERVAL.collect()).select().export(\"gs://gnomad-wphu/missing-splice-ai-variants.tsv\")\n"
   ]
  },
  {
   "cell_type": "code",
   "execution_count": null,
   "metadata": {
    "scrolled": true
   },
   "outputs": [],
   "source": [
    "#gnomad_variants.join(CADD_snps.transmute(CADD = hl.struct(RawScore = CADD_snps.RawScore, PHRED = CADD_snps.PHRED)), how=\"left\").show()\n",
    "#CADD_snps.transmute(CADD = hl.struct(RawScore = CADD_snps.RawScore, PHRED = CADD_snps.PHRED))\n"
   ]
  },
  {
   "cell_type": "code",
   "execution_count": null,
   "metadata": {
    "scrolled": true
   },
   "outputs": [],
   "source": [
    "#spliceAi_info_skip_invalid.describe()\n",
    "#spliceAi_info_skip_invalid.rsid.show()\n",
    "#spliceAi_info_skip_invalid.qual.show()\n",
    "#spliceAi_info_skip_invalid.filters.show()\n",
    "#spliceAi_info_skip_invalid.info.show()\n",
    "\n",
    "#reannotate = spliceAi_info_skip_invalid.annotate_rows(info = spliceAi_info_skip_invalid.info.annotate(\n",
    "#                                                risd = spliceAi_info_skip_invalid.rsid,\n",
    "#                                                qual = spliceAi_info_skip_invalid.qual,\n",
    "#                                                filters = spliceAi_info_skip_invalid.filters\n",
    "#                                                )\n",
    "#                                        )\n",
    "\n",
    "#reannotate = reannotate.rename({\"info\" : \"SPLICE_AI\"})\n",
    "#reannotate.describe()"
   ]
  },
  {
   "cell_type": "code",
   "execution_count": null,
   "metadata": {},
   "outputs": [],
   "source": [
    "#gnomadgnomad3_release.filter(hl.is_indel(gnomad3_release.alleles[0], gnomad3_release.alleles[1]))"
   ]
  },
  {
   "cell_type": "code",
   "execution_count": null,
   "metadata": {},
   "outputs": [],
   "source": [
    "#gnomad_31_CADD_indels = hl.import_table(\"gs://gnomad-julia/gnomad_v3.1/cadd_indel_output/CADD_gnomad3.1_scores_*.tsv.gz\", comment=\"#\",no_header=True, force_bgz=True)\n",
    "#gnomad_31_CADD_indels = load_CADD(\"gs://gnomad-julia/gnomad_v3.1/cadd_indel_output/CADD_gnomad3.1_scores_*.tsv.gz\", n_partitions=3000, force_bgz=True)\n",
    "\n"
   ]
  },
  {
   "cell_type": "code",
   "execution_count": null,
   "metadata": {},
   "outputs": [],
   "source": [
    "#gnomad_31_CADD_complex = load_CADD(\"gs://gnomad-julia/gnomad_v3.1/cadd_indel_output_extra/CADD_gnomad3.1_scores_*.tsv.gz\",n_partitions=3000, force_bgz=True)\n",
    "#gnomad_31_CADD_complex.describe()\n",
    "#gnomad_31_CADD_complex.checkpoint(\"gs://gnomad-wphu/CADD-1.6-gnomad-complex-variants.ht\")\n"
   ]
  },
  {
   "cell_type": "code",
   "execution_count": null,
   "metadata": {},
   "outputs": [],
   "source": [
    "#gnomad_31_CADD_complex.count()"
   ]
  },
  {
   "cell_type": "code",
   "execution_count": null,
   "metadata": {},
   "outputs": [],
   "source": [
    "#gnomad_31_CADD_indels.count()"
   ]
  },
  {
   "cell_type": "code",
   "execution_count": null,
   "metadata": {},
   "outputs": [],
   "source": [
    "#gnomad_indels_not_in_CADD.filter(gnomad_indels_not_in_CADD.locus.contig==\"chrM\",keep=False).count()"
   ]
  },
  {
   "cell_type": "code",
   "execution_count": null,
   "metadata": {},
   "outputs": [],
   "source": [
    "#gnomad_indels_not_in_CADD.count()"
   ]
  },
  {
   "cell_type": "code",
   "execution_count": null,
   "metadata": {},
   "outputs": [],
   "source": [
    "#gnomad_indels_not_in_CADD.filter(gnomad_indels_not_in_CADD.locus.contig==\"chrM\",keep=False).anti_join(gnomad_31_CADD_indels).count()"
   ]
  },
  {
   "cell_type": "code",
   "execution_count": null,
   "metadata": {},
   "outputs": [],
   "source": [
    "#gnomad_31_CADD_indels = gnomad_31_CADD_indels.checkpoint(\"gs://gnomad-wphu/CADD-indels-gnomad.3.1.ht\")"
   ]
  },
  {
   "cell_type": "code",
   "execution_count": null,
   "metadata": {},
   "outputs": [],
   "source": [
    "#unified = make_unified_CADD()"
   ]
  },
  {
   "cell_type": "code",
   "execution_count": null,
   "metadata": {},
   "outputs": [],
   "source": [
    "#unified.describe()\n",
    "#unified.show()"
   ]
  },
  {
   "cell_type": "code",
   "execution_count": null,
   "metadata": {},
   "outputs": [],
   "source": [
    "#unified.filePathSource[\"snvs\"].show()"
   ]
  },
  {
   "cell_type": "code",
   "execution_count": null,
   "metadata": {},
   "outputs": [],
   "source": [
    "#unified = unified.checkpoint(\"gs://gnomad-wphu/complete-CADD-v1.6-annotations.ht\")"
   ]
  },
  {
   "cell_type": "code",
   "execution_count": null,
   "metadata": {},
   "outputs": [],
   "source": [
    "#unified.count()"
   ]
  },
  {
   "cell_type": "code",
   "execution_count": null,
   "metadata": {},
   "outputs": [],
   "source": [
    "#import requests\n",
    "#r = requests.get(url = \"https://spliceailookup-api.broadinstitute.org/spliceai/?hg=38&variant=chr8-140300616-T-G\")\n",
    "#print(r.json())"
   ]
  },
  {
   "cell_type": "code",
   "execution_count": null,
   "metadata": {},
   "outputs": [],
   "source": [
    "#test = missing_cadd_scores_no_M.select().head(5).collect()"
   ]
  },
  {
   "cell_type": "code",
   "execution_count": null,
   "metadata": {},
   "outputs": [],
   "source": [
    "#print(test)"
   ]
  },
  {
   "cell_type": "code",
   "execution_count": null,
   "metadata": {},
   "outputs": [],
   "source": [
    "#test[0]"
   ]
  },
  {
   "cell_type": "code",
   "execution_count": null,
   "metadata": {},
   "outputs": [],
   "source": [
    "#primate_ai_info.show()\n",
    "#primate_ai_info_old.show()"
   ]
  },
  {
   "cell_type": "code",
   "execution_count": null,
   "metadata": {},
   "outputs": [],
   "source": [
    "#spliceAi_info_skip_invalid.describe()"
   ]
  },
  {
   "cell_type": "code",
   "execution_count": null,
   "metadata": {},
   "outputs": [],
   "source": [
    "#test = hl.import_vcf(\"gs://seqr-reference-data/GRCh38/primate_ai/PrimateAI_scores_v0.2.liftover_grch38.vcf.gz\", force_bgz=True)"
   ]
  },
  {
   "cell_type": "code",
   "execution_count": null,
   "metadata": {},
   "outputs": [],
   "source": [
    "#test.describe()"
   ]
  },
  {
   "cell_type": "code",
   "execution_count": null,
   "metadata": {},
   "outputs": [],
   "source": [
    "#test2 = hl.read('gs://seqr-reference-data/GRCh38/primate_ai/PrimateAI_scores_v0.2.liftover_grch38.vds')"
   ]
  },
  {
   "cell_type": "code",
   "execution_count": null,
   "metadata": {},
   "outputs": [],
   "source": [
    "#spliceAi_info_skip_invalid.qual.summarize()"
   ]
  },
  {
   "cell_type": "code",
   "execution_count": 7,
   "metadata": {},
   "outputs": [
    {
     "name": "stderr",
     "output_type": "stream",
     "text": [
      "2020-10-22 03:14:17 Hail: WARN: file 'gs://gnomad-wphu/dbNSFP/dbNSFP4.1/dbNSFP4.1a_variant.chr1.gz' is 2.8G\n",
      "  It will be loaded serially (on one core) due to usage of the 'force' argument.\n",
      "  If it is actually block-gzipped, either rename to .bgz or use the 'force_bgz'\n",
      "  argument.\n",
      "2020-10-22 03:14:18 Hail: WARN: file 'gs://gnomad-wphu/dbNSFP/dbNSFP4.1/dbNSFP4.1a_variant.chr10.gz' is 1.1G\n",
      "  It will be loaded serially (on one core) due to usage of the 'force' argument.\n",
      "  If it is actually block-gzipped, either rename to .bgz or use the 'force_bgz'\n",
      "  argument.\n",
      "2020-10-22 03:14:18 Hail: WARN: file 'gs://gnomad-wphu/dbNSFP/dbNSFP4.1/dbNSFP4.1a_variant.chr11.gz' is 1.7G\n",
      "  It will be loaded serially (on one core) due to usage of the 'force' argument.\n",
      "  If it is actually block-gzipped, either rename to .bgz or use the 'force_bgz'\n",
      "  argument.\n",
      "2020-10-22 03:14:18 Hail: WARN: file 'gs://gnomad-wphu/dbNSFP/dbNSFP4.1/dbNSFP4.1a_variant.chr12.gz' is 1.5G\n",
      "  It will be loaded serially (on one core) due to usage of the 'force' argument.\n",
      "  If it is actually block-gzipped, either rename to .bgz or use the 'force_bgz'\n",
      "  argument.\n",
      "2020-10-22 03:14:18 Hail: WARN: file 'gs://gnomad-wphu/dbNSFP/dbNSFP4.1/dbNSFP4.1a_variant.chr13.gz' is 513.3M\n",
      "  It will be loaded serially (on one core) due to usage of the 'force' argument.\n",
      "  If it is actually block-gzipped, either rename to .bgz or use the 'force_bgz'\n",
      "  argument.\n",
      "2020-10-22 03:14:18 Hail: WARN: file 'gs://gnomad-wphu/dbNSFP/dbNSFP4.1/dbNSFP4.1a_variant.chr14.gz' is 926.6M\n",
      "  It will be loaded serially (on one core) due to usage of the 'force' argument.\n",
      "  If it is actually block-gzipped, either rename to .bgz or use the 'force_bgz'\n",
      "  argument.\n",
      "2020-10-22 03:14:18 Hail: WARN: file 'gs://gnomad-wphu/dbNSFP/dbNSFP4.1/dbNSFP4.1a_variant.chr15.gz' is 1004.2M\n",
      "  It will be loaded serially (on one core) due to usage of the 'force' argument.\n",
      "  If it is actually block-gzipped, either rename to .bgz or use the 'force_bgz'\n",
      "  argument.\n",
      "2020-10-22 03:14:18 Hail: WARN: file 'gs://gnomad-wphu/dbNSFP/dbNSFP4.1/dbNSFP4.1a_variant.chr16.gz' is 1.2G\n",
      "  It will be loaded serially (on one core) due to usage of the 'force' argument.\n",
      "  If it is actually block-gzipped, either rename to .bgz or use the 'force_bgz'\n",
      "  argument.\n",
      "2020-10-22 03:14:18 Hail: WARN: file 'gs://gnomad-wphu/dbNSFP/dbNSFP4.1/dbNSFP4.1a_variant.chr17.gz' is 1.6G\n",
      "  It will be loaded serially (on one core) due to usage of the 'force' argument.\n",
      "  If it is actually block-gzipped, either rename to .bgz or use the 'force_bgz'\n",
      "  argument.\n",
      "2020-10-22 03:14:18 Hail: WARN: file 'gs://gnomad-wphu/dbNSFP/dbNSFP4.1/dbNSFP4.1a_variant.chr18.gz' is 467.5M\n",
      "  It will be loaded serially (on one core) due to usage of the 'force' argument.\n",
      "  If it is actually block-gzipped, either rename to .bgz or use the 'force_bgz'\n",
      "  argument.\n",
      "2020-10-22 03:14:18 Hail: WARN: file 'gs://gnomad-wphu/dbNSFP/dbNSFP4.1/dbNSFP4.1a_variant.chr19.gz' is 1.9G\n",
      "  It will be loaded serially (on one core) due to usage of the 'force' argument.\n",
      "  If it is actually block-gzipped, either rename to .bgz or use the 'force_bgz'\n",
      "  argument.\n",
      "2020-10-22 03:14:18 Hail: WARN: file 'gs://gnomad-wphu/dbNSFP/dbNSFP4.1/dbNSFP4.1a_variant.chr2.gz' is 2.1G\n",
      "  It will be loaded serially (on one core) due to usage of the 'force' argument.\n",
      "  If it is actually block-gzipped, either rename to .bgz or use the 'force_bgz'\n",
      "  argument.\n",
      "2020-10-22 03:14:18 Hail: WARN: file 'gs://gnomad-wphu/dbNSFP/dbNSFP4.1/dbNSFP4.1a_variant.chr20.gz' is 692.8M\n",
      "  It will be loaded serially (on one core) due to usage of the 'force' argument.\n",
      "  If it is actually block-gzipped, either rename to .bgz or use the 'force_bgz'\n",
      "  argument.\n",
      "2020-10-22 03:14:18 Hail: WARN: file 'gs://gnomad-wphu/dbNSFP/dbNSFP4.1/dbNSFP4.1a_variant.chr21.gz' is 291.8M\n",
      "  It will be loaded serially (on one core) due to usage of the 'force' argument.\n",
      "  If it is actually block-gzipped, either rename to .bgz or use the 'force_bgz'\n",
      "  argument.\n",
      "2020-10-22 03:14:18 Hail: WARN: file 'gs://gnomad-wphu/dbNSFP/dbNSFP4.1/dbNSFP4.1a_variant.chr22.gz' is 605.2M\n",
      "  It will be loaded serially (on one core) due to usage of the 'force' argument.\n",
      "  If it is actually block-gzipped, either rename to .bgz or use the 'force_bgz'\n",
      "  argument.\n",
      "2020-10-22 03:14:18 Hail: WARN: file 'gs://gnomad-wphu/dbNSFP/dbNSFP4.1/dbNSFP4.1a_variant.chr3.gz' is 1.7G\n",
      "  It will be loaded serially (on one core) due to usage of the 'force' argument.\n",
      "  If it is actually block-gzipped, either rename to .bgz or use the 'force_bgz'\n",
      "  argument.\n",
      "2020-10-22 03:14:18 Hail: WARN: file 'gs://gnomad-wphu/dbNSFP/dbNSFP4.1/dbNSFP4.1a_variant.chr4.gz' is 1.1G\n",
      "  It will be loaded serially (on one core) due to usage of the 'force' argument.\n",
      "  If it is actually block-gzipped, either rename to .bgz or use the 'force_bgz'\n",
      "  argument.\n",
      "2020-10-22 03:14:18 Hail: WARN: file 'gs://gnomad-wphu/dbNSFP/dbNSFP4.1/dbNSFP4.1a_variant.chr5.gz' is 1.3G\n",
      "  It will be loaded serially (on one core) due to usage of the 'force' argument.\n",
      "  If it is actually block-gzipped, either rename to .bgz or use the 'force_bgz'\n",
      "  argument.\n",
      "2020-10-22 03:14:18 Hail: WARN: file 'gs://gnomad-wphu/dbNSFP/dbNSFP4.1/dbNSFP4.1a_variant.chr6.gz' is 1.5G\n",
      "  It will be loaded serially (on one core) due to usage of the 'force' argument.\n",
      "  If it is actually block-gzipped, either rename to .bgz or use the 'force_bgz'\n",
      "  argument.\n",
      "2020-10-22 03:14:18 Hail: WARN: file 'gs://gnomad-wphu/dbNSFP/dbNSFP4.1/dbNSFP4.1a_variant.chr7.gz' is 1.3G\n",
      "  It will be loaded serially (on one core) due to usage of the 'force' argument.\n",
      "  If it is actually block-gzipped, either rename to .bgz or use the 'force_bgz'\n",
      "  argument.\n",
      "2020-10-22 03:14:18 Hail: WARN: file 'gs://gnomad-wphu/dbNSFP/dbNSFP4.1/dbNSFP4.1a_variant.chr8.gz' is 985.0M\n",
      "  It will be loaded serially (on one core) due to usage of the 'force' argument.\n",
      "  If it is actually block-gzipped, either rename to .bgz or use the 'force_bgz'\n",
      "  argument.\n",
      "2020-10-22 03:14:18 Hail: WARN: file 'gs://gnomad-wphu/dbNSFP/dbNSFP4.1/dbNSFP4.1a_variant.chr9.gz' is 1.1G\n",
      "  It will be loaded serially (on one core) due to usage of the 'force' argument.\n",
      "  If it is actually block-gzipped, either rename to .bgz or use the 'force_bgz'\n",
      "  argument.\n",
      "2020-10-22 03:14:18 Hail: WARN: file 'gs://gnomad-wphu/dbNSFP/dbNSFP4.1/dbNSFP4.1a_variant.chrX.gz' is 955.3M\n",
      "  It will be loaded serially (on one core) due to usage of the 'force' argument.\n",
      "  If it is actually block-gzipped, either rename to .bgz or use the 'force_bgz'\n",
      "  argument.\n",
      "2020-10-22 03:14:18 Hail: INFO: Loading 367 fields. Counts by type:\n",
      "  str: 367\n"
     ]
    }
   ],
   "source": [
    "dbNSFP = hl.import_table(\"gs://gnomad-wphu/dbNSFP/dbNSFP4.1/dbNSFP4.1a_variant.chr*.gz\", force=True, missing='.')"
   ]
  },
  {
   "cell_type": "code",
   "execution_count": 22,
   "metadata": {},
   "outputs": [
    {
     "data": {
      "text/html": [
       "<p>84013093 records.</p><b>REVEL_score</b> (<i>str</i>):<ul><table><tbody><tr><td>Non-missing</td><td>73967181 (88.04%)</td></tr><tr><td>Missing</td><td>10045912 (11.96%)</td></tr><tr><td>Min Size</td><td>5</td></tr><tr><td>Max Size</td><td>5</td></tr><tr><td>Mean Size</td><td>5.00</td></tr><tr><td>Sample Values</td><td>[&#x27;0.206&#x27;, &#x27;0.253&#x27;, &#x27;0.206&#x27;, &#x27;0.046&#x27;, &#x27;0.022&#x27;]</td></tr></tbody></table></ul>"
      ],
      "text/plain": [
       "\n",
       "84013093 records.\n",
       "\n",
       "- REVEL_score (str):\n",
       "    Non-missing: 73967181 (88.04%)\n",
       "        Missing: 10045912 (11.96%)\n",
       "       Min Size: 5\n",
       "       Max Size: 5\n",
       "      Mean Size: 5.00\n",
       "  Sample Values: ['0.206', '0.253', '0.206', '0.046', '0.022']"
      ]
     },
     "metadata": {},
     "output_type": "display_data"
    }
   ],
   "source": [
    "dbNSFP.REVEL_score.summarize()"
   ]
  },
  {
   "cell_type": "code",
   "execution_count": 12,
   "metadata": {},
   "outputs": [
    {
     "data": {
      "text/html": [
       "<table><thead><tr><td style=\"white-space: nowrap; max-width: 500px; overflow: hidden; text-overflow: ellipsis; \" colspan=\"1\"><div style=\"text-align: left;\"></div></td><td style=\"white-space: nowrap; max-width: 500px; overflow: hidden; text-overflow: ellipsis; \" colspan=\"1\"><div style=\"text-align: left;\"></div></td><td style=\"white-space: nowrap; max-width: 500px; overflow: hidden; text-overflow: ellipsis; \" colspan=\"1\"><div style=\"text-align: left;\"></div></td><td style=\"white-space: nowrap; max-width: 500px; overflow: hidden; text-overflow: ellipsis; \" colspan=\"1\"><div style=\"text-align: left;\"></div></td><td style=\"white-space: nowrap; max-width: 500px; overflow: hidden; text-overflow: ellipsis; \" colspan=\"1\"><div style=\"text-align: left;\"></div></td></tr><tr><td style=\"white-space: nowrap; max-width: 500px; overflow: hidden; text-overflow: ellipsis; \" colspan=\"1\"><div style=\"text-align: left;border-bottom: solid 2px #000; padding-bottom: 5px\">locus</div></td><td style=\"white-space: nowrap; max-width: 500px; overflow: hidden; text-overflow: ellipsis; \" colspan=\"1\"><div style=\"text-align: left;border-bottom: solid 2px #000; padding-bottom: 5px\">alleles</div></td><td style=\"white-space: nowrap; max-width: 500px; overflow: hidden; text-overflow: ellipsis; \" colspan=\"1\"><div style=\"text-align: left;border-bottom: solid 2px #000; padding-bottom: 5px\">REVEL</div></td><td style=\"white-space: nowrap; max-width: 500px; overflow: hidden; text-overflow: ellipsis; \" colspan=\"1\"><div style=\"text-align: left;border-bottom: solid 2px #000; padding-bottom: 5px\">aaref</div></td><td style=\"white-space: nowrap; max-width: 500px; overflow: hidden; text-overflow: ellipsis; \" colspan=\"1\"><div style=\"text-align: left;border-bottom: solid 2px #000; padding-bottom: 5px\">aaalt</div></td></tr><tr><td style=\"white-space: nowrap; max-width: 500px; overflow: hidden; text-overflow: ellipsis; text-align: left;\">locus&lt;GRCh38&gt;</td><td style=\"white-space: nowrap; max-width: 500px; overflow: hidden; text-overflow: ellipsis; text-align: left;\">array&lt;str&gt;</td><td style=\"white-space: nowrap; max-width: 500px; overflow: hidden; text-overflow: ellipsis; text-align: left;\">float64</td><td style=\"white-space: nowrap; max-width: 500px; overflow: hidden; text-overflow: ellipsis; text-align: left;\">str</td><td style=\"white-space: nowrap; max-width: 500px; overflow: hidden; text-overflow: ellipsis; text-align: left;\">str</td></tr>\n",
       "</thead><tbody><tr><td style=\"white-space: nowrap; max-width: 500px; overflow: hidden; text-overflow: ellipsis; \">chr1:35142</td><td style=\"white-space: nowrap; max-width: 500px; overflow: hidden; text-overflow: ellipsis; \">[&quot;G&quot;,&quot;A&quot;]</td><td style=\"white-space: nowrap; max-width: 500px; overflow: hidden; text-overflow: ellipsis; \">2.70e-02</td><td style=\"white-space: nowrap; max-width: 500px; overflow: hidden; text-overflow: ellipsis; \">&quot;T&quot;</td><td style=\"white-space: nowrap; max-width: 500px; overflow: hidden; text-overflow: ellipsis; \">&quot;M&quot;</td></tr>\n",
       "<tr><td style=\"white-space: nowrap; max-width: 500px; overflow: hidden; text-overflow: ellipsis; \">chr1:35142</td><td style=\"white-space: nowrap; max-width: 500px; overflow: hidden; text-overflow: ellipsis; \">[&quot;G&quot;,&quot;C&quot;]</td><td style=\"white-space: nowrap; max-width: 500px; overflow: hidden; text-overflow: ellipsis; \">3.50e-02</td><td style=\"white-space: nowrap; max-width: 500px; overflow: hidden; text-overflow: ellipsis; \">&quot;T&quot;</td><td style=\"white-space: nowrap; max-width: 500px; overflow: hidden; text-overflow: ellipsis; \">&quot;R&quot;</td></tr>\n",
       "<tr><td style=\"white-space: nowrap; max-width: 500px; overflow: hidden; text-overflow: ellipsis; \">chr1:35142</td><td style=\"white-space: nowrap; max-width: 500px; overflow: hidden; text-overflow: ellipsis; \">[&quot;G&quot;,&quot;T&quot;]</td><td style=\"white-space: nowrap; max-width: 500px; overflow: hidden; text-overflow: ellipsis; \">4.30e-02</td><td style=\"white-space: nowrap; max-width: 500px; overflow: hidden; text-overflow: ellipsis; \">&quot;T&quot;</td><td style=\"white-space: nowrap; max-width: 500px; overflow: hidden; text-overflow: ellipsis; \">&quot;K&quot;</td></tr>\n",
       "<tr><td style=\"white-space: nowrap; max-width: 500px; overflow: hidden; text-overflow: ellipsis; \">chr1:35143</td><td style=\"white-space: nowrap; max-width: 500px; overflow: hidden; text-overflow: ellipsis; \">[&quot;T&quot;,&quot;A&quot;]</td><td style=\"white-space: nowrap; max-width: 500px; overflow: hidden; text-overflow: ellipsis; \">1.80e-02</td><td style=\"white-space: nowrap; max-width: 500px; overflow: hidden; text-overflow: ellipsis; \">&quot;T&quot;</td><td style=\"white-space: nowrap; max-width: 500px; overflow: hidden; text-overflow: ellipsis; \">&quot;S&quot;</td></tr>\n",
       "<tr><td style=\"white-space: nowrap; max-width: 500px; overflow: hidden; text-overflow: ellipsis; \">chr1:35143</td><td style=\"white-space: nowrap; max-width: 500px; overflow: hidden; text-overflow: ellipsis; \">[&quot;T&quot;,&quot;C&quot;]</td><td style=\"white-space: nowrap; max-width: 500px; overflow: hidden; text-overflow: ellipsis; \">3.40e-02</td><td style=\"white-space: nowrap; max-width: 500px; overflow: hidden; text-overflow: ellipsis; \">&quot;T&quot;</td><td style=\"white-space: nowrap; max-width: 500px; overflow: hidden; text-overflow: ellipsis; \">&quot;A&quot;</td></tr>\n",
       "<tr><td style=\"white-space: nowrap; max-width: 500px; overflow: hidden; text-overflow: ellipsis; \">chr1:35143</td><td style=\"white-space: nowrap; max-width: 500px; overflow: hidden; text-overflow: ellipsis; \">[&quot;T&quot;,&quot;G&quot;]</td><td style=\"white-space: nowrap; max-width: 500px; overflow: hidden; text-overflow: ellipsis; \">3.90e-02</td><td style=\"white-space: nowrap; max-width: 500px; overflow: hidden; text-overflow: ellipsis; \">&quot;T&quot;</td><td style=\"white-space: nowrap; max-width: 500px; overflow: hidden; text-overflow: ellipsis; \">&quot;P&quot;</td></tr>\n",
       "<tr><td style=\"white-space: nowrap; max-width: 500px; overflow: hidden; text-overflow: ellipsis; \">chr1:35144</td><td style=\"white-space: nowrap; max-width: 500px; overflow: hidden; text-overflow: ellipsis; \">[&quot;A&quot;,&quot;C&quot;]</td><td style=\"white-space: nowrap; max-width: 500px; overflow: hidden; text-overflow: ellipsis; \">1.20e-02</td><td style=\"white-space: nowrap; max-width: 500px; overflow: hidden; text-overflow: ellipsis; \">&quot;C&quot;</td><td style=\"white-space: nowrap; max-width: 500px; overflow: hidden; text-overflow: ellipsis; \">&quot;W&quot;</td></tr>\n",
       "<tr><td style=\"white-space: nowrap; max-width: 500px; overflow: hidden; text-overflow: ellipsis; \">chr1:35145</td><td style=\"white-space: nowrap; max-width: 500px; overflow: hidden; text-overflow: ellipsis; \">[&quot;C&quot;,&quot;A&quot;]</td><td style=\"white-space: nowrap; max-width: 500px; overflow: hidden; text-overflow: ellipsis; \">2.30e-02</td><td style=\"white-space: nowrap; max-width: 500px; overflow: hidden; text-overflow: ellipsis; \">&quot;C&quot;</td><td style=\"white-space: nowrap; max-width: 500px; overflow: hidden; text-overflow: ellipsis; \">&quot;F&quot;</td></tr>\n",
       "<tr><td style=\"white-space: nowrap; max-width: 500px; overflow: hidden; text-overflow: ellipsis; \">chr1:35145</td><td style=\"white-space: nowrap; max-width: 500px; overflow: hidden; text-overflow: ellipsis; \">[&quot;C&quot;,&quot;G&quot;]</td><td style=\"white-space: nowrap; max-width: 500px; overflow: hidden; text-overflow: ellipsis; \">2.90e-02</td><td style=\"white-space: nowrap; max-width: 500px; overflow: hidden; text-overflow: ellipsis; \">&quot;C&quot;</td><td style=\"white-space: nowrap; max-width: 500px; overflow: hidden; text-overflow: ellipsis; \">&quot;S&quot;</td></tr>\n",
       "<tr><td style=\"white-space: nowrap; max-width: 500px; overflow: hidden; text-overflow: ellipsis; \">chr1:35145</td><td style=\"white-space: nowrap; max-width: 500px; overflow: hidden; text-overflow: ellipsis; \">[&quot;C&quot;,&quot;T&quot;]</td><td style=\"white-space: nowrap; max-width: 500px; overflow: hidden; text-overflow: ellipsis; \">1.60e-02</td><td style=\"white-space: nowrap; max-width: 500px; overflow: hidden; text-overflow: ellipsis; \">&quot;C&quot;</td><td style=\"white-space: nowrap; max-width: 500px; overflow: hidden; text-overflow: ellipsis; \">&quot;Y&quot;</td></tr>\n",
       "</tbody></table><p style=\"background: #fdd; padding: 0.4em;\">showing top 10 rows</p>\n"
      ],
      "text/plain": [
       "+---------------+------------+----------+-------+-------+\n",
       "| locus         | alleles    |    REVEL | aaref | aaalt |\n",
       "+---------------+------------+----------+-------+-------+\n",
       "| locus<GRCh38> | array<str> |  float64 | str   | str   |\n",
       "+---------------+------------+----------+-------+-------+\n",
       "| chr1:35142    | [\"G\",\"A\"]  | 2.70e-02 | \"T\"   | \"M\"   |\n",
       "| chr1:35142    | [\"G\",\"C\"]  | 3.50e-02 | \"T\"   | \"R\"   |\n",
       "| chr1:35142    | [\"G\",\"T\"]  | 4.30e-02 | \"T\"   | \"K\"   |\n",
       "| chr1:35143    | [\"T\",\"A\"]  | 1.80e-02 | \"T\"   | \"S\"   |\n",
       "| chr1:35143    | [\"T\",\"C\"]  | 3.40e-02 | \"T\"   | \"A\"   |\n",
       "| chr1:35143    | [\"T\",\"G\"]  | 3.90e-02 | \"T\"   | \"P\"   |\n",
       "| chr1:35144    | [\"A\",\"C\"]  | 1.20e-02 | \"C\"   | \"W\"   |\n",
       "| chr1:35145    | [\"C\",\"A\"]  | 2.30e-02 | \"C\"   | \"F\"   |\n",
       "| chr1:35145    | [\"C\",\"G\"]  | 2.90e-02 | \"C\"   | \"S\"   |\n",
       "| chr1:35145    | [\"C\",\"T\"]  | 1.60e-02 | \"C\"   | \"Y\"   |\n",
       "+---------------+------------+----------+-------+-------+\n",
       "showing top 10 rows"
      ]
     },
     "metadata": {},
     "output_type": "display_data"
    }
   ],
   "source": [
    "revel_information_grch38.show()"
   ]
  },
  {
   "cell_type": "code",
   "execution_count": 18,
   "metadata": {},
   "outputs": [
    {
     "data": {
      "text/plain": [
       "82077491"
      ]
     },
     "execution_count": 18,
     "metadata": {},
     "output_type": "execute_result"
    }
   ],
   "source": [
    "revel_information_grch38.count()"
   ]
  },
  {
   "cell_type": "code",
   "execution_count": 19,
   "metadata": {},
   "outputs": [
    {
     "data": {
      "text/plain": [
       "1570602305"
      ]
     },
     "execution_count": 19,
     "metadata": {},
     "output_type": "execute_result"
    }
   ],
   "source": [
    "gnomad_variants.count()"
   ]
  },
  {
   "cell_type": "code",
   "execution_count": 20,
   "metadata": {},
   "outputs": [
    {
     "data": {
      "text/plain": [
       "72983629"
      ]
     },
     "execution_count": 20,
     "metadata": {},
     "output_type": "execute_result"
    }
   ],
   "source": [
    "revel_information_grch38.anti_join(gnomad_variants).count()"
   ]
  },
  {
   "cell_type": "code",
   "execution_count": 8,
   "metadata": {},
   "outputs": [
    {
     "name": "stderr",
     "output_type": "stream",
     "text": [
      "2020-10-22 04:13:41 Hail: INFO: wrote table with 84013093 rows in 500 partitions to gs://gnomad-wphu/dbNSFP.ht\n"
     ]
    }
   ],
   "source": [
    "dbNSFP = dbNSFP.repartition(500)\n",
    "#dbNSFP.n_partitions()\n",
    "dbNSFP = dbNSFP.checkpoint(\"gs://gnomad-wphu/dbNSFP.ht\")"
   ]
  },
  {
   "cell_type": "code",
   "execution_count": 25,
   "metadata": {},
   "outputs": [
    {
     "data": {
      "text/plain": [
       "-1935602"
      ]
     },
     "execution_count": 25,
     "metadata": {},
     "output_type": "execute_result"
    }
   ],
   "source": [
    "82077491-84013093"
   ]
  },
  {
   "cell_type": "code",
   "execution_count": 28,
   "metadata": {},
   "outputs": [
    {
     "name": "stderr",
     "output_type": "stream",
     "text": [
      "2020-10-22 02:58:51 Hail: INFO: Reading table without type imputation\n",
      "  Loading field 'chr' as type str (not specified)\n",
      "  Loading field 'hg19_pos' as type int32 (user-supplied)\n",
      "  Loading field 'grch38_pos' as type str (user-supplied)\n",
      "  Loading field 'ref' as type str (not specified)\n",
      "  Loading field 'alt' as type str (not specified)\n",
      "  Loading field 'aaref' as type str (not specified)\n",
      "  Loading field 'aaalt' as type str (not specified)\n",
      "  Loading field 'REVEL' as type float64 (user-supplied)\n"
     ]
    },
    {
     "data": {
      "text/plain": [
       "82100677"
      ]
     },
     "execution_count": 28,
     "metadata": {},
     "output_type": "execute_result"
    }
   ],
   "source": [
    "revel_information = hl.import_table(\"gs://gnomad-wphu/revel_grch38_all_chromosomes.csv\", delimiter=\",\", types={'hg19_pos':hl.tint,'grch38_pos':hl.tstr,'REVEL': hl.tfloat64})\n",
    "revel_information.count()"
   ]
  },
  {
   "cell_type": "code",
   "execution_count": 29,
   "metadata": {},
   "outputs": [
    {
     "data": {
      "text/plain": [
       "23186"
      ]
     },
     "execution_count": 29,
     "metadata": {},
     "output_type": "execute_result"
    }
   ],
   "source": [
    "82100677-82077491"
   ]
  },
  {
   "cell_type": "code",
   "execution_count": 12,
   "metadata": {},
   "outputs": [
    {
     "data": {
      "text/html": [
       "<p>84013093 records.</p><b>VEST4_score</b> (<i>str</i>):<ul><table><tbody><tr><td>Non-missing</td><td>81566269 (97.09%)</td></tr><tr><td>Missing</td><td>2446824 (2.91%)</td></tr><tr><td>Min Size</td><td>1</td></tr><tr><td>Max Size</td><td>209</td></tr><tr><td>Mean Size</td><td>13.96</td></tr><tr><td>Sample Values</td><td>[&#x27;0.213;.;.;0.271;.;0.268;.;.;.;.&#x27;, &#x27;0.193;.;0.174;0.176;.;.;.&#x27;, &#x27;0.772;0.779;0.781&#x27;, &#x27;0.295;0.477;0.545&#x27;, &#x27;0.017;0.017;0.024&#x27;]</td></tr></tbody></table></ul>"
      ],
      "text/plain": [
       "\n",
       "84013093 records.\n",
       "\n",
       "- VEST4_score (str):\n",
       "    Non-missing: 81566269 (97.09%)\n",
       "        Missing: 2446824 (2.91%)\n",
       "       Min Size: 1\n",
       "       Max Size: 209\n",
       "      Mean Size: 13.96\n",
       "  Sample Values: ['0.213;.;.;0.271;.;0.268;.;.;.;.', '0.193;.;0.174;0.176;.;.;.', '0.772;0.779;0.781', '0.295;0.477;0.545', '0.017;0.017;0.024']"
      ]
     },
     "metadata": {},
     "output_type": "display_data"
    }
   ],
   "source": [
    "dbNSFP.VEST4_score.summarize()"
   ]
  },
  {
   "cell_type": "code",
   "execution_count": 9,
   "metadata": {},
   "outputs": [
    {
     "data": {
      "text/html": [
       "<p>1584091437 records.</p><b>revel</b> (<i>struct with 3 fields</i>):<ul><table><tbody><tr><td>Non-missing</td><td>9742241 (0.62%)</td></tr><tr><td>Missing</td><td>1574349196 (99.38%)</td></tr></tbody></table><li><b>revel.revel_score</b> (<i>float64</i>):<ul><table><tbody><tr><td>Non-missing</td><td>9742241 (0.62%)</td></tr><tr><td>Missing</td><td>1574349196 (99.38%)</td></tr><tr><td>Minimum</td><td>0.00</td></tr><tr><td>Maximum</td><td>1.00</td></tr><tr><td>Mean</td><td>0.23</td></tr><tr><td>Std Dev</td><td>0.23</td></tr></tbody></table></ul></li><li><b>revel.ref_aa</b> (<i>str</i>):<ul><table><tbody><tr><td>Non-missing</td><td>9742241 (0.62%)</td></tr><tr><td>Missing</td><td>1574349196 (99.38%)</td></tr><tr><td>Min Size</td><td>1</td></tr><tr><td>Max Size</td><td>1</td></tr><tr><td>Mean Size</td><td>1.00</td></tr><tr><td>Sample Values</td><td>[&#x27;S&#x27;, &#x27;S&#x27;, &#x27;S&#x27;, &#x27;S&#x27;, &#x27;S&#x27;]</td></tr></tbody></table></ul></li><li><b>revel.alt_aa</b> (<i>str</i>):<ul><table><tbody><tr><td>Non-missing</td><td>9742241 (0.62%)</td></tr><tr><td>Missing</td><td>1574349196 (99.38%)</td></tr><tr><td>Min Size</td><td>1</td></tr><tr><td>Max Size</td><td>1</td></tr><tr><td>Mean Size</td><td>1.00</td></tr><tr><td>Sample Values</td><td>[&#x27;T&#x27;, &#x27;P&#x27;, &#x27;A&#x27;, &#x27;Y&#x27;, &#x27;F&#x27;]</td></tr></tbody></table></ul></li></ul>"
      ],
      "text/plain": [
       "\n",
       "1584091437 records.\n",
       "\n",
       "- revel (struct with 3 fields):\n",
       "  Non-missing: 9742241 (0.62%)\n",
       "      Missing: 1574349196 (99.38%)\n",
       "\n",
       "  - revel.revel_score (float64):\n",
       "    Non-missing: 9742241 (0.62%)\n",
       "        Missing: 1574349196 (99.38%)\n",
       "        Minimum: 0.00\n",
       "        Maximum: 1.00\n",
       "           Mean: 0.23\n",
       "        Std Dev: 0.23\n",
       "\n",
       "  - revel.ref_aa (str):\n",
       "      Non-missing: 9742241 (0.62%)\n",
       "          Missing: 1574349196 (99.38%)\n",
       "         Min Size: 1\n",
       "         Max Size: 1\n",
       "        Mean Size: 1.00\n",
       "    Sample Values: ['S', 'S', 'S', 'S', 'S']\n",
       "\n",
       "  - revel.alt_aa (str):\n",
       "      Non-missing: 9742241 (0.62%)\n",
       "          Missing: 1574349196 (99.38%)\n",
       "         Min Size: 1\n",
       "         Max Size: 1\n",
       "        Mean Size: 1.00\n",
       "    Sample Values: ['T', 'P', 'A', 'Y', 'F']"
      ]
     },
     "metadata": {},
     "output_type": "display_data"
    }
   ],
   "source": [
    "full_annotations.revel.summarize()"
   ]
  },
  {
   "cell_type": "code",
   "execution_count": 13,
   "metadata": {},
   "outputs": [
    {
     "data": {
      "text/html": [
       "<table><thead><tr><td style=\"white-space: nowrap; max-width: 500px; overflow: hidden; text-overflow: ellipsis; \" colspan=\"1\"><div style=\"text-align: left;\"></div></td><td style=\"white-space: nowrap; max-width: 500px; overflow: hidden; text-overflow: ellipsis; \" colspan=\"1\"><div style=\"text-align: left;\"></div></td><td style=\"white-space: nowrap; max-width: 500px; overflow: hidden; text-overflow: ellipsis; \" colspan=\"1\"><div style=\"text-align: left;\"></div></td><td style=\"white-space: nowrap; max-width: 500px; overflow: hidden; text-overflow: ellipsis; \" colspan=\"1\"><div style=\"text-align: left;\"></div></td><td style=\"white-space: nowrap; max-width: 500px; overflow: hidden; text-overflow: ellipsis; \" colspan=\"1\"><div style=\"text-align: left;\"></div></td></tr><tr><td style=\"white-space: nowrap; max-width: 500px; overflow: hidden; text-overflow: ellipsis; \" colspan=\"1\"><div style=\"text-align: left;border-bottom: solid 2px #000; padding-bottom: 5px\">locus</div></td><td style=\"white-space: nowrap; max-width: 500px; overflow: hidden; text-overflow: ellipsis; \" colspan=\"1\"><div style=\"text-align: left;border-bottom: solid 2px #000; padding-bottom: 5px\">alleles</div></td><td style=\"white-space: nowrap; max-width: 500px; overflow: hidden; text-overflow: ellipsis; \" colspan=\"1\"><div style=\"text-align: left;border-bottom: solid 2px #000; padding-bottom: 5px\">REVEL</div></td><td style=\"white-space: nowrap; max-width: 500px; overflow: hidden; text-overflow: ellipsis; \" colspan=\"1\"><div style=\"text-align: left;border-bottom: solid 2px #000; padding-bottom: 5px\">aaref</div></td><td style=\"white-space: nowrap; max-width: 500px; overflow: hidden; text-overflow: ellipsis; \" colspan=\"1\"><div style=\"text-align: left;border-bottom: solid 2px #000; padding-bottom: 5px\">aaalt</div></td></tr><tr><td style=\"white-space: nowrap; max-width: 500px; overflow: hidden; text-overflow: ellipsis; text-align: left;\">locus&lt;GRCh38&gt;</td><td style=\"white-space: nowrap; max-width: 500px; overflow: hidden; text-overflow: ellipsis; text-align: left;\">array&lt;str&gt;</td><td style=\"white-space: nowrap; max-width: 500px; overflow: hidden; text-overflow: ellipsis; text-align: left;\">float64</td><td style=\"white-space: nowrap; max-width: 500px; overflow: hidden; text-overflow: ellipsis; text-align: left;\">str</td><td style=\"white-space: nowrap; max-width: 500px; overflow: hidden; text-overflow: ellipsis; text-align: left;\">str</td></tr>\n",
       "</thead><tbody><tr><td style=\"white-space: nowrap; max-width: 500px; overflow: hidden; text-overflow: ellipsis; \">chr1:35142</td><td style=\"white-space: nowrap; max-width: 500px; overflow: hidden; text-overflow: ellipsis; \">[&quot;G&quot;,&quot;A&quot;]</td><td style=\"white-space: nowrap; max-width: 500px; overflow: hidden; text-overflow: ellipsis; \">2.70e-02</td><td style=\"white-space: nowrap; max-width: 500px; overflow: hidden; text-overflow: ellipsis; \">&quot;T&quot;</td><td style=\"white-space: nowrap; max-width: 500px; overflow: hidden; text-overflow: ellipsis; \">&quot;M&quot;</td></tr>\n",
       "<tr><td style=\"white-space: nowrap; max-width: 500px; overflow: hidden; text-overflow: ellipsis; \">chr1:35142</td><td style=\"white-space: nowrap; max-width: 500px; overflow: hidden; text-overflow: ellipsis; \">[&quot;G&quot;,&quot;C&quot;]</td><td style=\"white-space: nowrap; max-width: 500px; overflow: hidden; text-overflow: ellipsis; \">3.50e-02</td><td style=\"white-space: nowrap; max-width: 500px; overflow: hidden; text-overflow: ellipsis; \">&quot;T&quot;</td><td style=\"white-space: nowrap; max-width: 500px; overflow: hidden; text-overflow: ellipsis; \">&quot;R&quot;</td></tr>\n",
       "<tr><td style=\"white-space: nowrap; max-width: 500px; overflow: hidden; text-overflow: ellipsis; \">chr1:35142</td><td style=\"white-space: nowrap; max-width: 500px; overflow: hidden; text-overflow: ellipsis; \">[&quot;G&quot;,&quot;T&quot;]</td><td style=\"white-space: nowrap; max-width: 500px; overflow: hidden; text-overflow: ellipsis; \">4.30e-02</td><td style=\"white-space: nowrap; max-width: 500px; overflow: hidden; text-overflow: ellipsis; \">&quot;T&quot;</td><td style=\"white-space: nowrap; max-width: 500px; overflow: hidden; text-overflow: ellipsis; \">&quot;K&quot;</td></tr>\n",
       "<tr><td style=\"white-space: nowrap; max-width: 500px; overflow: hidden; text-overflow: ellipsis; \">chr1:35143</td><td style=\"white-space: nowrap; max-width: 500px; overflow: hidden; text-overflow: ellipsis; \">[&quot;T&quot;,&quot;A&quot;]</td><td style=\"white-space: nowrap; max-width: 500px; overflow: hidden; text-overflow: ellipsis; \">1.80e-02</td><td style=\"white-space: nowrap; max-width: 500px; overflow: hidden; text-overflow: ellipsis; \">&quot;T&quot;</td><td style=\"white-space: nowrap; max-width: 500px; overflow: hidden; text-overflow: ellipsis; \">&quot;S&quot;</td></tr>\n",
       "<tr><td style=\"white-space: nowrap; max-width: 500px; overflow: hidden; text-overflow: ellipsis; \">chr1:35143</td><td style=\"white-space: nowrap; max-width: 500px; overflow: hidden; text-overflow: ellipsis; \">[&quot;T&quot;,&quot;C&quot;]</td><td style=\"white-space: nowrap; max-width: 500px; overflow: hidden; text-overflow: ellipsis; \">3.40e-02</td><td style=\"white-space: nowrap; max-width: 500px; overflow: hidden; text-overflow: ellipsis; \">&quot;T&quot;</td><td style=\"white-space: nowrap; max-width: 500px; overflow: hidden; text-overflow: ellipsis; \">&quot;A&quot;</td></tr>\n",
       "<tr><td style=\"white-space: nowrap; max-width: 500px; overflow: hidden; text-overflow: ellipsis; \">chr1:35143</td><td style=\"white-space: nowrap; max-width: 500px; overflow: hidden; text-overflow: ellipsis; \">[&quot;T&quot;,&quot;G&quot;]</td><td style=\"white-space: nowrap; max-width: 500px; overflow: hidden; text-overflow: ellipsis; \">3.90e-02</td><td style=\"white-space: nowrap; max-width: 500px; overflow: hidden; text-overflow: ellipsis; \">&quot;T&quot;</td><td style=\"white-space: nowrap; max-width: 500px; overflow: hidden; text-overflow: ellipsis; \">&quot;P&quot;</td></tr>\n",
       "<tr><td style=\"white-space: nowrap; max-width: 500px; overflow: hidden; text-overflow: ellipsis; \">chr1:35144</td><td style=\"white-space: nowrap; max-width: 500px; overflow: hidden; text-overflow: ellipsis; \">[&quot;A&quot;,&quot;C&quot;]</td><td style=\"white-space: nowrap; max-width: 500px; overflow: hidden; text-overflow: ellipsis; \">1.20e-02</td><td style=\"white-space: nowrap; max-width: 500px; overflow: hidden; text-overflow: ellipsis; \">&quot;C&quot;</td><td style=\"white-space: nowrap; max-width: 500px; overflow: hidden; text-overflow: ellipsis; \">&quot;W&quot;</td></tr>\n",
       "<tr><td style=\"white-space: nowrap; max-width: 500px; overflow: hidden; text-overflow: ellipsis; \">chr1:35145</td><td style=\"white-space: nowrap; max-width: 500px; overflow: hidden; text-overflow: ellipsis; \">[&quot;C&quot;,&quot;A&quot;]</td><td style=\"white-space: nowrap; max-width: 500px; overflow: hidden; text-overflow: ellipsis; \">2.30e-02</td><td style=\"white-space: nowrap; max-width: 500px; overflow: hidden; text-overflow: ellipsis; \">&quot;C&quot;</td><td style=\"white-space: nowrap; max-width: 500px; overflow: hidden; text-overflow: ellipsis; \">&quot;F&quot;</td></tr>\n",
       "<tr><td style=\"white-space: nowrap; max-width: 500px; overflow: hidden; text-overflow: ellipsis; \">chr1:35145</td><td style=\"white-space: nowrap; max-width: 500px; overflow: hidden; text-overflow: ellipsis; \">[&quot;C&quot;,&quot;G&quot;]</td><td style=\"white-space: nowrap; max-width: 500px; overflow: hidden; text-overflow: ellipsis; \">2.90e-02</td><td style=\"white-space: nowrap; max-width: 500px; overflow: hidden; text-overflow: ellipsis; \">&quot;C&quot;</td><td style=\"white-space: nowrap; max-width: 500px; overflow: hidden; text-overflow: ellipsis; \">&quot;S&quot;</td></tr>\n",
       "<tr><td style=\"white-space: nowrap; max-width: 500px; overflow: hidden; text-overflow: ellipsis; \">chr1:35145</td><td style=\"white-space: nowrap; max-width: 500px; overflow: hidden; text-overflow: ellipsis; \">[&quot;C&quot;,&quot;T&quot;]</td><td style=\"white-space: nowrap; max-width: 500px; overflow: hidden; text-overflow: ellipsis; \">1.60e-02</td><td style=\"white-space: nowrap; max-width: 500px; overflow: hidden; text-overflow: ellipsis; \">&quot;C&quot;</td><td style=\"white-space: nowrap; max-width: 500px; overflow: hidden; text-overflow: ellipsis; \">&quot;Y&quot;</td></tr>\n",
       "</tbody></table><p style=\"background: #fdd; padding: 0.4em;\">showing top 10 rows</p>\n"
      ],
      "text/plain": [
       "+---------------+------------+----------+-------+-------+\n",
       "| locus         | alleles    |    REVEL | aaref | aaalt |\n",
       "+---------------+------------+----------+-------+-------+\n",
       "| locus<GRCh38> | array<str> |  float64 | str   | str   |\n",
       "+---------------+------------+----------+-------+-------+\n",
       "| chr1:35142    | [\"G\",\"A\"]  | 2.70e-02 | \"T\"   | \"M\"   |\n",
       "| chr1:35142    | [\"G\",\"C\"]  | 3.50e-02 | \"T\"   | \"R\"   |\n",
       "| chr1:35142    | [\"G\",\"T\"]  | 4.30e-02 | \"T\"   | \"K\"   |\n",
       "| chr1:35143    | [\"T\",\"A\"]  | 1.80e-02 | \"T\"   | \"S\"   |\n",
       "| chr1:35143    | [\"T\",\"C\"]  | 3.40e-02 | \"T\"   | \"A\"   |\n",
       "| chr1:35143    | [\"T\",\"G\"]  | 3.90e-02 | \"T\"   | \"P\"   |\n",
       "| chr1:35144    | [\"A\",\"C\"]  | 1.20e-02 | \"C\"   | \"W\"   |\n",
       "| chr1:35145    | [\"C\",\"A\"]  | 2.30e-02 | \"C\"   | \"F\"   |\n",
       "| chr1:35145    | [\"C\",\"G\"]  | 2.90e-02 | \"C\"   | \"S\"   |\n",
       "| chr1:35145    | [\"C\",\"T\"]  | 1.60e-02 | \"C\"   | \"Y\"   |\n",
       "+---------------+------------+----------+-------+-------+\n",
       "showing top 10 rows"
      ]
     },
     "metadata": {},
     "output_type": "display_data"
    }
   ],
   "source": [
    "revel_information_grch38.anti_join(full_annotations).show()"
   ]
  },
  {
   "cell_type": "code",
   "execution_count": 14,
   "metadata": {},
   "outputs": [
    {
     "data": {
      "text/plain": [
       "1317419242"
      ]
     },
     "execution_count": 14,
     "metadata": {},
     "output_type": "execute_result"
    }
   ],
   "source": [
    "full_annotations.filter(hl.is_snp(full_annotations.alleles[0], full_annotations.alleles[1])).count()"
   ]
  },
  {
   "cell_type": "code",
   "execution_count": 15,
   "metadata": {},
   "outputs": [
    {
     "data": {
      "text/plain": [
       "72983629"
      ]
     },
     "execution_count": 15,
     "metadata": {},
     "output_type": "execute_result"
    }
   ],
   "source": [
    "revel_information_grch38.anti_join(full_annotations).count()"
   ]
  },
  {
   "cell_type": "code",
   "execution_count": 18,
   "metadata": {},
   "outputs": [
    {
     "data": {
      "text/plain": [
       "{'chr11': 4850779,\n",
       " 'chr5': 3738178,\n",
       " 'chr22': 1783478,\n",
       " 'chr8': 2880984,\n",
       " 'chr19': 5156147,\n",
       " 'chrY': 31551,\n",
       " 'chr1': 8460922,\n",
       " 'chr15': 2682896,\n",
       " 'chr12': 4361562,\n",
       " 'chr18': 1223623,\n",
       " 'chr20': 1984314,\n",
       " 'chr2': 6108302,\n",
       " 'chr13': 1448194,\n",
       " 'chr7': 3845947,\n",
       " 'chr14': 2672346,\n",
       " 'chr3': 4849223,\n",
       " 'chr17': 4507899,\n",
       " 'chr4': 3388218,\n",
       " 'chr6': 4151134,\n",
       " 'chr9': 3369753,\n",
       " 'chrX': 3100887,\n",
       " 'chr10': 3289465,\n",
       " 'chr21': 841178,\n",
       " 'chr16': 3350511}"
      ]
     },
     "execution_count": 18,
     "metadata": {},
     "output_type": "execute_result"
    }
   ],
   "source": [
    "revel_information_grch38.aggregate(hl.agg.group_by(revel_information_grch38.locus.contig, hl.agg.count()))"
   ]
  },
  {
   "cell_type": "code",
   "execution_count": 34,
   "metadata": {},
   "outputs": [],
   "source": [
    "unique_loci = revel_information_grch38.key_by().key_by(\"locus\").distinct()\n",
    "a = unique_loci.aggregate(hl.agg.group_by(unique_loci.locus.contig, hl.agg.count()))"
   ]
  },
  {
   "cell_type": "code",
   "execution_count": 35,
   "metadata": {},
   "outputs": [],
   "source": [
    "unique_loci_gnomad = gnomad_variants.key_by().key_by(\"locus\").distinct()\n",
    "b = unique_loci_gnomad.aggregate(hl.agg.group_by(unique_loci_gnomad.locus.contig, hl.agg.count()))"
   ]
  },
  {
   "cell_type": "code",
   "execution_count": 36,
   "metadata": {},
   "outputs": [
    {
     "data": {
      "text/plain": [
       "dict"
      ]
     },
     "execution_count": 36,
     "metadata": {},
     "output_type": "execute_result"
    }
   ],
   "source": [
    "type(a)\n",
    "type(b)"
   ]
  },
  {
   "cell_type": "code",
   "execution_count": 7,
   "metadata": {},
   "outputs": [
    {
     "data": {
      "text/html": [
       "<p>1584091437 records.</p><ul><li><b>locus</b> (<i>locus&lt;GRCh38&gt;</i>):<ul><table><tbody><tr><td>Non-missing</td><td>1584091437 (100.00%)</td></tr><tr><td>Missing</td><td>0</td></tr><tr><td>Contig Counts</td><td>{&#x27;chr11&#x27;: 69489149, &#x27;chr5&#x27;: 93769047, &#x27;chr22&#x27;: 22076679, &#x27;chr8&#x27;: 77100610, &#x27;chr19&#x27;: 34268343, &#x27;chrY&#x27;: 14637245, &#x27;chr1&#x27;: 119509995, &#x27;chr15&#x27;: 43776955, &#x27;chr12&#x27;: 68722532, &#x27;chr18&#x27;: 38674164, &#x27;chr20&#x27;: 31905096, &#x27;chr2&#x27;: 124209991, &#x27;chr13&#x27;: 50807608, &#x27;chr7&#x27;: 83637854, &#x27;chr14&#x27;: 46794023, &#x27;chr3&#x27;: 101328983, &#x27;chrM&#x27;: 5746, &#x27;chr17&#x27;: 43009606, &#x27;chr4&#x27;: 99543980, &#x27;chr6&#x27;: 86614746, &#x27;chr9&#x27;: 66585932, &#x27;chrX&#x27;: 130280891, &#x27;chr10&#x27;: 69628678, &#x27;chr21&#x27;: 21073146, &#x27;chr16&#x27;: 46640438}</td></tr></tbody></table></ul></li><li><b>alleles</b> (<i>array&lt;str&gt;</i>):<ul><table><tbody><tr><td>Non-missing</td><td>1584091437 (100.00%)</td></tr><tr><td>Missing</td><td>0</td></tr><tr><td>Min Size</td><td>2</td></tr><tr><td>Max Size</td><td>2</td></tr><tr><td>Mean Size</td><td>2.00</td></tr></tbody></table><li><b>alleles[&lt;elements&gt;]</b> (<i>str</i>):<ul><table><tbody><tr><td>Non-missing</td><td>3168182874 (100.00%)</td></tr><tr><td>Missing</td><td>0</td></tr><tr><td>Min Size</td><td>1</td></tr><tr><td>Max Size</td><td>1382</td></tr><tr><td>Mean Size</td><td>1.91</td></tr><tr><td>Sample Values</td><td>[&#x27;T&#x27;, &#x27;A&#x27;, &#x27;T&#x27;, &#x27;C&#x27;, &#x27;T&#x27;]</td></tr></tbody></table></ul></li></ul></li><li><b>cadd</b> (<i>struct with 2 fields</i>):<ul><table><tbody><tr><td>Non-missing</td><td>1584085691 (100.00%)</td></tr><tr><td>Missing</td><td>5746 (0.00%)</td></tr></tbody></table><li><b>cadd.raw_score</b> (<i>float32</i>):<ul><table><tbody><tr><td>Non-missing</td><td>1584085691 (100.00%)</td></tr><tr><td>Missing</td><td>5746 (0.00%)</td></tr><tr><td>Minimum</td><td>-19.41</td></tr><tr><td>Maximum</td><td>22.12</td></tr><tr><td>Mean</td><td>0.18</td></tr><tr><td>Std Dev</td><td>0.49</td></tr></tbody></table></ul></li><li><b>cadd.phred</b> (<i>float32</i>):<ul><table><tbody><tr><td>Non-missing</td><td>1584085691 (100.00%)</td></tr><tr><td>Missing</td><td>5746 (0.00%)</td></tr><tr><td>Minimum</td><td>0.00</td></tr><tr><td>Maximum</td><td>96.00</td></tr><tr><td>Mean</td><td>3.51</td></tr><tr><td>Std Dev</td><td>3.89</td></tr></tbody></table></ul></li></ul></li><li><b>revel</b> (<i>struct with 3 fields</i>):<ul><table><tbody><tr><td>Non-missing</td><td>9742241 (0.62%)</td></tr><tr><td>Missing</td><td>1574349196 (99.38%)</td></tr></tbody></table><li><b>revel.revel_score</b> (<i>float64</i>):<ul><table><tbody><tr><td>Non-missing</td><td>9742241 (0.62%)</td></tr><tr><td>Missing</td><td>1574349196 (99.38%)</td></tr><tr><td>Minimum</td><td>0.00</td></tr><tr><td>Maximum</td><td>1.00</td></tr><tr><td>Mean</td><td>0.23</td></tr><tr><td>Std Dev</td><td>0.23</td></tr></tbody></table></ul></li><li><b>revel.ref_aa</b> (<i>str</i>):<ul><table><tbody><tr><td>Non-missing</td><td>9742241 (0.62%)</td></tr><tr><td>Missing</td><td>1574349196 (99.38%)</td></tr><tr><td>Min Size</td><td>1</td></tr><tr><td>Max Size</td><td>1</td></tr><tr><td>Mean Size</td><td>1.00</td></tr><tr><td>Sample Values</td><td>[&#x27;S&#x27;, &#x27;S&#x27;, &#x27;S&#x27;, &#x27;S&#x27;, &#x27;S&#x27;]</td></tr></tbody></table></ul></li><li><b>revel.alt_aa</b> (<i>str</i>):<ul><table><tbody><tr><td>Non-missing</td><td>9742241 (0.62%)</td></tr><tr><td>Missing</td><td>1574349196 (99.38%)</td></tr><tr><td>Min Size</td><td>1</td></tr><tr><td>Max Size</td><td>1</td></tr><tr><td>Mean Size</td><td>1.00</td></tr><tr><td>Sample Values</td><td>[&#x27;T&#x27;, &#x27;P&#x27;, &#x27;A&#x27;, &#x27;Y&#x27;, &#x27;F&#x27;]</td></tr></tbody></table></ul></li></ul></li><li><b>splice_ai</b> (<i>struct with 3 fields</i>):<ul><table><tbody><tr><td>Non-missing</td><td>745130422 (47.04%)</td></tr><tr><td>Missing</td><td>838961015 (52.96%)</td></tr></tbody></table><li><b>splice_ai.splice_ai</b> (<i>array&lt;float32&gt;</i>):<ul><table><tbody><tr><td>Non-missing</td><td>583796996 (36.85%)</td></tr><tr><td>Missing</td><td>1000294441 (63.15%)</td></tr><tr><td>Min Size</td><td>4</td></tr><tr><td>Max Size</td><td>4</td></tr><tr><td>Mean Size</td><td>4.00</td></tr></tbody></table><li><b>splice_ai.splice_ai[&lt;elements&gt;]</b> (<i>float32</i>):<ul><table><tbody><tr><td>Non-missing</td><td>2335187984 (100.00%)</td></tr><tr><td>Missing</td><td>0</td></tr><tr><td>Minimum</td><td>-0.00</td></tr><tr><td>Maximum</td><td>1.00</td></tr><tr><td>Mean</td><td>0.00</td></tr><tr><td>Std Dev</td><td>0.02</td></tr></tbody></table></ul></li></ul></li><li><b>splice_ai.max_ds</b> (<i>float32</i>):<ul><table><tbody><tr><td>Non-missing</td><td>583796996 (36.85%)</td></tr><tr><td>Missing</td><td>1000294441 (63.15%)</td></tr><tr><td>Minimum</td><td>0.00</td></tr><tr><td>Maximum</td><td>1.00</td></tr><tr><td>Mean</td><td>0.00</td></tr><tr><td>Std Dev</td><td>0.04</td></tr></tbody></table></ul></li><li><b>splice_ai.splice_consequence</b> (<i>str</i>):<ul><table><tbody><tr><td>Non-missing</td><td>583796996 (36.85%)</td></tr><tr><td>Missing</td><td>1000294441 (63.15%)</td></tr><tr><td>Min Size</td><td>10</td></tr><tr><td>Max Size</td><td>14</td></tr><tr><td>Mean Size</td><td>13.85</td></tr><tr><td>Sample Values</td><td>[&#x27;Donor gain&#x27;, &#x27;Donor gain&#x27;, &#x27;Donor gain&#x27;, &#x27;Donor gain&#x27;, &#x27;Donor gain&#x27;]</td></tr></tbody></table></ul></li></ul></li><li><b>primate_ai</b> (<i>struct with 1 fields</i>):<ul><table><tbody><tr><td>Non-missing</td><td>8388957 (0.53%)</td></tr><tr><td>Missing</td><td>1575702480 (99.47%)</td></tr></tbody></table><li><b>primate_ai.primate_ai_score</b> (<i>float32</i>):<ul><table><tbody><tr><td>Non-missing</td><td>8388957 (0.53%)</td></tr><tr><td>Missing</td><td>1575702480 (99.47%)</td></tr><tr><td>Minimum</td><td>0.11</td></tr><tr><td>Maximum</td><td>0.99</td></tr><tr><td>Mean</td><td>0.54</td></tr><tr><td>Std Dev</td><td>0.20</td></tr></tbody></table></ul></li></ul></li></ul>"
      ],
      "text/plain": [
       "\n",
       "1584091437 records.\n",
       "\n",
       "  - locus (locus<GRCh38>):\n",
       "      Non-missing: 1584091437 (100.00%)\n",
       "          Missing: 0\n",
       "    Contig Counts: {'chr11': 69489149, 'chr5': 93769047, 'chr22': 22076679, 'chr8': 77100610, 'chr19': 34268343, 'chrY': 14637245, 'chr1': 119509995, 'chr15': 43776955, 'chr12': 68722532, 'chr18': 38674164, 'chr20': 31905096, 'chr2': 124209991, 'chr13': 50807608, 'chr7': 83637854, 'chr14': 46794023, 'chr3': 101328983, 'chrM': 5746, 'chr17': 43009606, 'chr4': 99543980, 'chr6': 86614746, 'chr9': 66585932, 'chrX': 130280891, 'chr10': 69628678, 'chr21': 21073146, 'chr16': 46640438}\n",
       "\n",
       "  - alleles (array<str>):\n",
       "    Non-missing: 1584091437 (100.00%)\n",
       "        Missing: 0\n",
       "       Min Size: 2\n",
       "       Max Size: 2\n",
       "      Mean Size: 2.00\n",
       "\n",
       "    - alleles[<elements>] (str):\n",
       "        Non-missing: 3168182874 (100.00%)\n",
       "            Missing: 0\n",
       "           Min Size: 1\n",
       "           Max Size: 1382\n",
       "          Mean Size: 1.91\n",
       "      Sample Values: ['T', 'A', 'T', 'C', 'T']\n",
       "\n",
       "  - cadd (struct with 2 fields):\n",
       "    Non-missing: 1584085691 (100.00%)\n",
       "        Missing: 5746 (0.00%)\n",
       "\n",
       "    - cadd.raw_score (float32):\n",
       "      Non-missing: 1584085691 (100.00%)\n",
       "          Missing: 5746 (0.00%)\n",
       "          Minimum: -19.41\n",
       "          Maximum: 22.12\n",
       "             Mean: 0.18\n",
       "          Std Dev: 0.49\n",
       "\n",
       "    - cadd.phred (float32):\n",
       "      Non-missing: 1584085691 (100.00%)\n",
       "          Missing: 5746 (0.00%)\n",
       "          Minimum: 0.00\n",
       "          Maximum: 96.00\n",
       "             Mean: 3.51\n",
       "          Std Dev: 3.89\n",
       "\n",
       "  - revel (struct with 3 fields):\n",
       "    Non-missing: 9742241 (0.62%)\n",
       "        Missing: 1574349196 (99.38%)\n",
       "\n",
       "    - revel.revel_score (float64):\n",
       "      Non-missing: 9742241 (0.62%)\n",
       "          Missing: 1574349196 (99.38%)\n",
       "          Minimum: 0.00\n",
       "          Maximum: 1.00\n",
       "             Mean: 0.23\n",
       "          Std Dev: 0.23\n",
       "\n",
       "    - revel.ref_aa (str):\n",
       "        Non-missing: 9742241 (0.62%)\n",
       "            Missing: 1574349196 (99.38%)\n",
       "           Min Size: 1\n",
       "           Max Size: 1\n",
       "          Mean Size: 1.00\n",
       "      Sample Values: ['S', 'S', 'S', 'S', 'S']\n",
       "\n",
       "    - revel.alt_aa (str):\n",
       "        Non-missing: 9742241 (0.62%)\n",
       "            Missing: 1574349196 (99.38%)\n",
       "           Min Size: 1\n",
       "           Max Size: 1\n",
       "          Mean Size: 1.00\n",
       "      Sample Values: ['T', 'P', 'A', 'Y', 'F']\n",
       "\n",
       "  - splice_ai (struct with 3 fields):\n",
       "    Non-missing: 745130422 (47.04%)\n",
       "        Missing: 838961015 (52.96%)\n",
       "\n",
       "    - splice_ai.splice_ai (array<float32>):\n",
       "      Non-missing: 583796996 (36.85%)\n",
       "          Missing: 1000294441 (63.15%)\n",
       "         Min Size: 4\n",
       "         Max Size: 4\n",
       "        Mean Size: 4.00\n",
       "\n",
       "      - splice_ai.splice_ai[<elements>] (float32):\n",
       "        Non-missing: 2335187984 (100.00%)\n",
       "            Missing: 0\n",
       "            Minimum: -0.00\n",
       "            Maximum: 1.00\n",
       "               Mean: 0.00\n",
       "            Std Dev: 0.02\n",
       "\n",
       "    - splice_ai.max_ds (float32):\n",
       "      Non-missing: 583796996 (36.85%)\n",
       "          Missing: 1000294441 (63.15%)\n",
       "          Minimum: 0.00\n",
       "          Maximum: 1.00\n",
       "             Mean: 0.00\n",
       "          Std Dev: 0.04\n",
       "\n",
       "    - splice_ai.splice_consequence (str):\n",
       "        Non-missing: 583796996 (36.85%)\n",
       "            Missing: 1000294441 (63.15%)\n",
       "           Min Size: 10\n",
       "           Max Size: 14\n",
       "          Mean Size: 13.85\n",
       "      Sample Values: ['Donor gain', 'Donor gain', 'Donor gain', 'Donor gain', 'Donor gain']\n",
       "\n",
       "  - primate_ai (struct with 1 fields):\n",
       "    Non-missing: 8388957 (0.53%)\n",
       "        Missing: 1575702480 (99.47%)\n",
       "\n",
       "    - primate_ai.primate_ai_score (float32):\n",
       "      Non-missing: 8388957 (0.53%)\n",
       "          Missing: 1575702480 (99.47%)\n",
       "          Minimum: 0.11\n",
       "          Maximum: 0.99\n",
       "             Mean: 0.54\n",
       "          Std Dev: 0.20"
      ]
     },
     "metadata": {},
     "output_type": "display_data"
    }
   ],
   "source": [
    "full_annotations.summarize()"
   ]
  },
  {
   "cell_type": "code",
   "execution_count": 8,
   "metadata": {},
   "outputs": [
    {
     "data": {
      "text/html": [
       "<h3>Columns</h3><p>0 records.</p><ul><li><b>s</b> (<i>str</i>):<ul><table><tbody><tr><td>Non-missing</td><td>0</td></tr><tr><td>Missing</td><td>0</td></tr></tbody></table></ul></li></ul>"
      ],
      "text/plain": [
       "Columns\n",
       "======\n",
       "0 records.\n",
       "\n",
       "  - s (str):\n",
       "    Non-missing: 0\n",
       "        Missing: 0"
      ]
     },
     "metadata": {},
     "output_type": "display_data"
    },
    {
     "data": {
      "text/html": [
       "<h3>Rows</h3><p>3696314616 records.</p><ul><li><b>locus</b> (<i>locus&lt;GRCh38&gt;</i>):<ul><table><tbody><tr><td>Non-missing</td><td>3696314616 (100.00%)</td></tr><tr><td>Missing</td><td>0</td></tr><tr><td>Contig Counts</td><td>{&#x27;chr11&#x27;: 176389931, &#x27;chr5&#x27;: 212300234, &#x27;chr22&#x27;: 56180502, &#x27;chr8&#x27;: 165598617, &#x27;chr19&#x27;: 98755025, &#x27;chrY&#x27;: 7909364, &#x27;chr1&#x27;: 324696513, &#x27;chr15&#x27;: 122307725, &#x27;chr12&#x27;: 185933382, &#x27;chr18&#x27;: 87511547, &#x27;chr20&#x27;: 84077613, &#x27;chr2&#x27;: 307151672, &#x27;chr13&#x27;: 95599997, &#x27;chr7&#x27;: 218906720, &#x27;chr14&#x27;: 114442374, &#x27;chr3&#x27;: 262597980, &#x27;chr17&#x27;: 135095070, &#x27;chr4&#x27;: 202720275, &#x27;chr6&#x27;: 211688500, &#x27;chr9&#x27;: 150691302, &#x27;chrX&#x27;: 147792183, &#x27;chr10&#x27;: 182471028, &#x27;chr21&#x27;: 37698988, &#x27;chr16&#x27;: 107798074}</td></tr></tbody></table></ul></li><li><b>alleles</b> (<i>array&lt;str&gt;</i>):<ul><table><tbody><tr><td>Non-missing</td><td>3696314616 (100.00%)</td></tr><tr><td>Missing</td><td>0</td></tr><tr><td>Min Size</td><td>2</td></tr><tr><td>Max Size</td><td>2</td></tr><tr><td>Mean Size</td><td>2.00</td></tr></tbody></table><li><b>alleles[&lt;elements&gt;]</b> (<i>str</i>):<ul><table><tbody><tr><td>Non-missing</td><td>7392629232 (100.00%)</td></tr><tr><td>Missing</td><td>0</td></tr><tr><td>Min Size</td><td>1</td></tr><tr><td>Max Size</td><td>1382</td></tr><tr><td>Mean Size</td><td>1.38</td></tr><tr><td>Sample Values</td><td>[&#x27;T&#x27;, &#x27;TAACCCTAACCCTAACCCTAACCCTAACCCTAACCCTAACCCTAACCCTAACCC&#x27;, &#x27;T&#x27;, &#x27;TAACCCTAACCCTAACCCTAACCCTAACCCTAACCCTAACCCTAACCCTAACCCA&#x27;, &#x27;T&#x27;]</td></tr></tbody></table></ul></li></ul></li><li><b>rsid</b> (<i>str</i>):<ul><table><tbody><tr><td>Non-missing</td><td>0</td></tr><tr><td>Missing</td><td>3696314616 (100.00%)</td></tr></tbody></table></ul></li><li><b>qual</b> (<i>float64</i>):<ul><table><tbody><tr><td>Non-missing</td><td>3696314616 (100.00%)</td></tr><tr><td>Missing</td><td>0</td></tr><tr><td>Minimum</td><td>-10.00</td></tr><tr><td>Maximum</td><td>-10.00</td></tr><tr><td>Mean</td><td>-10.00</td></tr><tr><td>Std Dev</td><td>0.00</td></tr></tbody></table></ul></li><li><b>filters</b> (<i>set&lt;str&gt;</i>):<ul><table><tbody><tr><td>Non-missing</td><td>0</td></tr><tr><td>Missing</td><td>3696314616 (100.00%)</td></tr></tbody></table></ul></li><li><b>info</b> (<i>struct with 3 fields</i>):<ul><table><tbody><tr><td>Non-missing</td><td>3696314616 (100.00%)</td></tr><tr><td>Missing</td><td>0</td></tr></tbody></table><li><b>info.splice_ai</b> (<i>array&lt;float32&gt;</i>):<ul><table><tbody><tr><td>Non-missing</td><td>3534269705 (95.62%)</td></tr><tr><td>Missing</td><td>162044911 (4.38%)</td></tr><tr><td>Min Size</td><td>4</td></tr><tr><td>Max Size</td><td>4</td></tr><tr><td>Mean Size</td><td>4.00</td></tr></tbody></table><li><b>info.splice_ai[&lt;elements&gt;]</b> (<i>float32</i>):<ul><table><tbody><tr><td>Non-missing</td><td>14137078820 (100.00%)</td></tr><tr><td>Missing</td><td>0</td></tr><tr><td>Minimum</td><td>-0.00</td></tr><tr><td>Maximum</td><td>1.00</td></tr><tr><td>Mean</td><td>0.00</td></tr><tr><td>Std Dev</td><td>0.02</td></tr></tbody></table></ul></li></ul></li><li><b>info.max_ds</b> (<i>float32</i>):<ul><table><tbody><tr><td>Non-missing</td><td>3534269705 (95.62%)</td></tr><tr><td>Missing</td><td>162044911 (4.38%)</td></tr><tr><td>Minimum</td><td>0.00</td></tr><tr><td>Maximum</td><td>1.00</td></tr><tr><td>Mean</td><td>0.00</td></tr><tr><td>Std Dev</td><td>0.04</td></tr></tbody></table></ul></li><li><b>info.splice_consequence</b> (<i>str</i>):<ul><table><tbody><tr><td>Non-missing</td><td>3534269705 (95.62%)</td></tr><tr><td>Missing</td><td>162044911 (4.38%)</td></tr><tr><td>Min Size</td><td>10</td></tr><tr><td>Max Size</td><td>14</td></tr><tr><td>Mean Size</td><td>13.84</td></tr><tr><td>Sample Values</td><td>[&#x27;Acceptor gain&#x27;, &#x27;Donor gain&#x27;, &#x27;Donor gain&#x27;, &#x27;Donor gain&#x27;, &#x27;Donor gain&#x27;]</td></tr></tbody></table></ul></li></ul></li></ul>"
      ],
      "text/plain": [
       "Rows\n",
       "======\n",
       "3696314616 records.\n",
       "\n",
       "  - locus (locus<GRCh38>):\n",
       "      Non-missing: 3696314616 (100.00%)\n",
       "          Missing: 0\n",
       "    Contig Counts: {'chr11': 176389931, 'chr5': 212300234, 'chr22': 56180502, 'chr8': 165598617, 'chr19': 98755025, 'chrY': 7909364, 'chr1': 324696513, 'chr15': 122307725, 'chr12': 185933382, 'chr18': 87511547, 'chr20': 84077613, 'chr2': 307151672, 'chr13': 95599997, 'chr7': 218906720, 'chr14': 114442374, 'chr3': 262597980, 'chr17': 135095070, 'chr4': 202720275, 'chr6': 211688500, 'chr9': 150691302, 'chrX': 147792183, 'chr10': 182471028, 'chr21': 37698988, 'chr16': 107798074}\n",
       "\n",
       "  - alleles (array<str>):\n",
       "    Non-missing: 3696314616 (100.00%)\n",
       "        Missing: 0\n",
       "       Min Size: 2\n",
       "       Max Size: 2\n",
       "      Mean Size: 2.00\n",
       "\n",
       "    - alleles[<elements>] (str):\n",
       "        Non-missing: 7392629232 (100.00%)\n",
       "            Missing: 0\n",
       "           Min Size: 1\n",
       "           Max Size: 1382\n",
       "          Mean Size: 1.38\n",
       "      Sample Values: ['T', 'TAACCCTAACCCTAACCCTAACCCTAACCCTAACCCTAACCCTAACCCTAACCC', 'T', 'TAACCCTAACCCTAACCCTAACCCTAACCCTAACCCTAACCCTAACCCTAACCCA', 'T']\n",
       "\n",
       "  - rsid (str):\n",
       "    Non-missing: 0\n",
       "        Missing: 3696314616 (100.00%)\n",
       "\n",
       "  - qual (float64):\n",
       "    Non-missing: 3696314616 (100.00%)\n",
       "        Missing: 0\n",
       "        Minimum: -10.00\n",
       "        Maximum: -10.00\n",
       "           Mean: -10.00\n",
       "        Std Dev: 0.00\n",
       "\n",
       "  - filters (set<str>):\n",
       "    Non-missing: 0\n",
       "        Missing: 3696314616 (100.00%)\n",
       "\n",
       "  - info (struct with 3 fields):\n",
       "    Non-missing: 3696314616 (100.00%)\n",
       "        Missing: 0\n",
       "\n",
       "    - info.splice_ai (array<float32>):\n",
       "      Non-missing: 3534269705 (95.62%)\n",
       "          Missing: 162044911 (4.38%)\n",
       "         Min Size: 4\n",
       "         Max Size: 4\n",
       "        Mean Size: 4.00\n",
       "\n",
       "      - info.splice_ai[<elements>] (float32):\n",
       "        Non-missing: 14137078820 (100.00%)\n",
       "            Missing: 0\n",
       "            Minimum: -0.00\n",
       "            Maximum: 1.00\n",
       "               Mean: 0.00\n",
       "            Std Dev: 0.02\n",
       "\n",
       "    - info.max_ds (float32):\n",
       "      Non-missing: 3534269705 (95.62%)\n",
       "          Missing: 162044911 (4.38%)\n",
       "          Minimum: 0.00\n",
       "          Maximum: 1.00\n",
       "             Mean: 0.00\n",
       "          Std Dev: 0.04\n",
       "\n",
       "    - info.splice_consequence (str):\n",
       "        Non-missing: 3534269705 (95.62%)\n",
       "            Missing: 162044911 (4.38%)\n",
       "           Min Size: 10\n",
       "           Max Size: 14\n",
       "          Mean Size: 13.84\n",
       "      Sample Values: ['Acceptor gain', 'Donor gain', 'Donor gain', 'Donor gain', 'Donor gain']"
      ]
     },
     "metadata": {},
     "output_type": "display_data"
    },
    {
     "data": {
      "text/html": [
       "<h3>Entries</h3><p>0 records.</p><ul></ul>"
      ],
      "text/plain": [
       "Entries\n",
       "======\n",
       "0 records."
      ]
     },
     "metadata": {},
     "output_type": "display_data"
    }
   ],
   "source": [
    "spliceAi_info_skip_invalid."
   ]
  },
  {
   "cell_type": "code",
   "execution_count": 10,
   "metadata": {},
   "outputs": [
    {
     "data": {
      "text/html": [
       "<p>1317419242 records.</p><b>splice_ai</b> (<i>struct with 3 fields</i>):<ul><table><tbody><tr><td>Non-missing</td><td>482841462 (36.65%)</td></tr><tr><td>Missing</td><td>834577780 (63.35%)</td></tr></tbody></table><li><b>splice_ai.splice_ai</b> (<i>array&lt;float32&gt;</i>):<ul><table><tbody><tr><td>Non-missing</td><td>482841462 (36.65%)</td></tr><tr><td>Missing</td><td>834577780 (63.35%)</td></tr><tr><td>Min Size</td><td>4</td></tr><tr><td>Max Size</td><td>4</td></tr><tr><td>Mean Size</td><td>4.00</td></tr></tbody></table><li><b>splice_ai.splice_ai[&lt;elements&gt;]</b> (<i>float32</i>):<ul><table><tbody><tr><td>Non-missing</td><td>1931365848 (100.00%)</td></tr><tr><td>Missing</td><td>0</td></tr><tr><td>Minimum</td><td>0.00</td></tr><tr><td>Maximum</td><td>1.00</td></tr><tr><td>Mean</td><td>0.00</td></tr><tr><td>Std Dev</td><td>0.02</td></tr></tbody></table></ul></li></ul></li><li><b>splice_ai.max_ds</b> (<i>float32</i>):<ul><table><tbody><tr><td>Non-missing</td><td>482841462 (36.65%)</td></tr><tr><td>Missing</td><td>834577780 (63.35%)</td></tr><tr><td>Minimum</td><td>0.00</td></tr><tr><td>Maximum</td><td>1.00</td></tr><tr><td>Mean</td><td>0.00</td></tr><tr><td>Std Dev</td><td>0.03</td></tr></tbody></table></ul></li><li><b>splice_ai.splice_consequence</b> (<i>str</i>):<ul><table><tbody><tr><td>Non-missing</td><td>482841462 (36.65%)</td></tr><tr><td>Missing</td><td>834577780 (63.35%)</td></tr><tr><td>Min Size</td><td>10</td></tr><tr><td>Max Size</td><td>14</td></tr><tr><td>Mean Size</td><td>13.85</td></tr><tr><td>Sample Values</td><td>[&#x27;Donor gain&#x27;, &#x27;Donor gain&#x27;, &#x27;Donor gain&#x27;, &#x27;Donor gain&#x27;, &#x27;Donor gain&#x27;]</td></tr></tbody></table></ul></li></ul>"
      ],
      "text/plain": [
       "\n",
       "1317419242 records.\n",
       "\n",
       "- splice_ai (struct with 3 fields):\n",
       "  Non-missing: 482841462 (36.65%)\n",
       "      Missing: 834577780 (63.35%)\n",
       "\n",
       "  - splice_ai.splice_ai (array<float32>):\n",
       "    Non-missing: 482841462 (36.65%)\n",
       "        Missing: 834577780 (63.35%)\n",
       "       Min Size: 4\n",
       "       Max Size: 4\n",
       "      Mean Size: 4.00\n",
       "\n",
       "    - splice_ai.splice_ai[<elements>] (float32):\n",
       "      Non-missing: 1931365848 (100.00%)\n",
       "          Missing: 0\n",
       "          Minimum: 0.00\n",
       "          Maximum: 1.00\n",
       "             Mean: 0.00\n",
       "          Std Dev: 0.02\n",
       "\n",
       "  - splice_ai.max_ds (float32):\n",
       "    Non-missing: 482841462 (36.65%)\n",
       "        Missing: 834577780 (63.35%)\n",
       "        Minimum: 0.00\n",
       "        Maximum: 1.00\n",
       "           Mean: 0.00\n",
       "        Std Dev: 0.03\n",
       "\n",
       "  - splice_ai.splice_consequence (str):\n",
       "      Non-missing: 482841462 (36.65%)\n",
       "          Missing: 834577780 (63.35%)\n",
       "         Min Size: 10\n",
       "         Max Size: 14\n",
       "        Mean Size: 13.85\n",
       "    Sample Values: ['Donor gain', 'Donor gain', 'Donor gain', 'Donor gain', 'Donor gain']"
      ]
     },
     "metadata": {},
     "output_type": "display_data"
    }
   ],
   "source": [
    "full_annotations.filter(hl.is_snp(full_annotations.alleles[0],full_annotations.alleles[1])).splice_ai.summarize()"
   ]
  },
  {
   "cell_type": "code",
   "execution_count": 11,
   "metadata": {},
   "outputs": [
    {
     "data": {
      "text/html": [
       "<p>266672195 records.</p><b>splice_ai</b> (<i>struct with 3 fields</i>):<ul><table><tbody><tr><td>Non-missing</td><td>262288960 (98.36%)</td></tr><tr><td>Missing</td><td>4383235 (1.64%)</td></tr></tbody></table><li><b>splice_ai.splice_ai</b> (<i>array&lt;float32&gt;</i>):<ul><table><tbody><tr><td>Non-missing</td><td>100955534 (37.86%)</td></tr><tr><td>Missing</td><td>165716661 (62.14%)</td></tr><tr><td>Min Size</td><td>4</td></tr><tr><td>Max Size</td><td>4</td></tr><tr><td>Mean Size</td><td>4.00</td></tr></tbody></table><li><b>splice_ai.splice_ai[&lt;elements&gt;]</b> (<i>float32</i>):<ul><table><tbody><tr><td>Non-missing</td><td>403822136 (100.00%)</td></tr><tr><td>Missing</td><td>0</td></tr><tr><td>Minimum</td><td>-0.00</td></tr><tr><td>Maximum</td><td>1.00</td></tr><tr><td>Mean</td><td>0.00</td></tr><tr><td>Std Dev</td><td>0.03</td></tr></tbody></table></ul></li></ul></li><li><b>splice_ai.max_ds</b> (<i>float32</i>):<ul><table><tbody><tr><td>Non-missing</td><td>100955534 (37.86%)</td></tr><tr><td>Missing</td><td>165716661 (62.14%)</td></tr><tr><td>Minimum</td><td>0.00</td></tr><tr><td>Maximum</td><td>1.00</td></tr><tr><td>Mean</td><td>0.01</td></tr><tr><td>Std Dev</td><td>0.05</td></tr></tbody></table></ul></li><li><b>splice_ai.splice_consequence</b> (<i>str</i>):<ul><table><tbody><tr><td>Non-missing</td><td>100955534 (37.86%)</td></tr><tr><td>Missing</td><td>165716661 (62.14%)</td></tr><tr><td>Min Size</td><td>10</td></tr><tr><td>Max Size</td><td>14</td></tr><tr><td>Mean Size</td><td>13.84</td></tr><tr><td>Sample Values</td><td>[&#x27;Donor gain&#x27;, &#x27;Acceptor gain&#x27;, &#x27;Acceptor gain&#x27;, &#x27;Acceptor gain&#x27;, &#x27;Acceptor gain&#x27;]</td></tr></tbody></table></ul></li></ul>"
      ],
      "text/plain": [
       "\n",
       "266672195 records.\n",
       "\n",
       "- splice_ai (struct with 3 fields):\n",
       "  Non-missing: 262288960 (98.36%)\n",
       "      Missing: 4383235 (1.64%)\n",
       "\n",
       "  - splice_ai.splice_ai (array<float32>):\n",
       "    Non-missing: 100955534 (37.86%)\n",
       "        Missing: 165716661 (62.14%)\n",
       "       Min Size: 4\n",
       "       Max Size: 4\n",
       "      Mean Size: 4.00\n",
       "\n",
       "    - splice_ai.splice_ai[<elements>] (float32):\n",
       "      Non-missing: 403822136 (100.00%)\n",
       "          Missing: 0\n",
       "          Minimum: -0.00\n",
       "          Maximum: 1.00\n",
       "             Mean: 0.00\n",
       "          Std Dev: 0.03\n",
       "\n",
       "  - splice_ai.max_ds (float32):\n",
       "    Non-missing: 100955534 (37.86%)\n",
       "        Missing: 165716661 (62.14%)\n",
       "        Minimum: 0.00\n",
       "        Maximum: 1.00\n",
       "           Mean: 0.01\n",
       "        Std Dev: 0.05\n",
       "\n",
       "  - splice_ai.splice_consequence (str):\n",
       "      Non-missing: 100955534 (37.86%)\n",
       "          Missing: 165716661 (62.14%)\n",
       "         Min Size: 10\n",
       "         Max Size: 14\n",
       "        Mean Size: 13.84\n",
       "    Sample Values: ['Donor gain', 'Acceptor gain', 'Acceptor gain', 'Acceptor gain', 'Acceptor gain']"
      ]
     },
     "metadata": {},
     "output_type": "display_data"
    }
   ],
   "source": [
    "full_annotations.filter(~hl.is_snp(full_annotations.alleles[0],full_annotations.alleles[1])).splice_ai.summarize()"
   ]
  },
  {
   "cell_type": "code",
   "execution_count": 12,
   "metadata": {},
   "outputs": [
    {
     "data": {
      "text/html": [
       "<p>266669888 records.</p><b>splice_ai</b> (<i>struct with 3 fields</i>):<ul><table><tbody><tr><td>Non-missing</td><td>262288960 (98.36%)</td></tr><tr><td>Missing</td><td>4380928 (1.64%)</td></tr></tbody></table><li><b>splice_ai.splice_ai</b> (<i>array&lt;float32&gt;</i>):<ul><table><tbody><tr><td>Non-missing</td><td>100955534 (37.86%)</td></tr><tr><td>Missing</td><td>165714354 (62.14%)</td></tr><tr><td>Min Size</td><td>4</td></tr><tr><td>Max Size</td><td>4</td></tr><tr><td>Mean Size</td><td>4.00</td></tr></tbody></table><li><b>splice_ai.splice_ai[&lt;elements&gt;]</b> (<i>float32</i>):<ul><table><tbody><tr><td>Non-missing</td><td>403822136 (100.00%)</td></tr><tr><td>Missing</td><td>0</td></tr><tr><td>Minimum</td><td>-0.00</td></tr><tr><td>Maximum</td><td>1.00</td></tr><tr><td>Mean</td><td>0.00</td></tr><tr><td>Std Dev</td><td>0.03</td></tr></tbody></table></ul></li></ul></li><li><b>splice_ai.max_ds</b> (<i>float32</i>):<ul><table><tbody><tr><td>Non-missing</td><td>100955534 (37.86%)</td></tr><tr><td>Missing</td><td>165714354 (62.14%)</td></tr><tr><td>Minimum</td><td>0.00</td></tr><tr><td>Maximum</td><td>1.00</td></tr><tr><td>Mean</td><td>0.01</td></tr><tr><td>Std Dev</td><td>0.05</td></tr></tbody></table></ul></li><li><b>splice_ai.splice_consequence</b> (<i>str</i>):<ul><table><tbody><tr><td>Non-missing</td><td>100955534 (37.86%)</td></tr><tr><td>Missing</td><td>165714354 (62.14%)</td></tr><tr><td>Min Size</td><td>10</td></tr><tr><td>Max Size</td><td>14</td></tr><tr><td>Mean Size</td><td>13.84</td></tr><tr><td>Sample Values</td><td>[&#x27;Donor gain&#x27;, &#x27;Acceptor gain&#x27;, &#x27;Acceptor gain&#x27;, &#x27;Acceptor gain&#x27;, &#x27;Acceptor gain&#x27;]</td></tr></tbody></table></ul></li></ul>"
      ],
      "text/plain": [
       "\n",
       "266669888 records.\n",
       "\n",
       "- splice_ai (struct with 3 fields):\n",
       "  Non-missing: 262288960 (98.36%)\n",
       "      Missing: 4380928 (1.64%)\n",
       "\n",
       "  - splice_ai.splice_ai (array<float32>):\n",
       "    Non-missing: 100955534 (37.86%)\n",
       "        Missing: 165714354 (62.14%)\n",
       "       Min Size: 4\n",
       "       Max Size: 4\n",
       "      Mean Size: 4.00\n",
       "\n",
       "    - splice_ai.splice_ai[<elements>] (float32):\n",
       "      Non-missing: 403822136 (100.00%)\n",
       "          Missing: 0\n",
       "          Minimum: -0.00\n",
       "          Maximum: 1.00\n",
       "             Mean: 0.00\n",
       "          Std Dev: 0.03\n",
       "\n",
       "  - splice_ai.max_ds (float32):\n",
       "    Non-missing: 100955534 (37.86%)\n",
       "        Missing: 165714354 (62.14%)\n",
       "        Minimum: 0.00\n",
       "        Maximum: 1.00\n",
       "           Mean: 0.01\n",
       "        Std Dev: 0.05\n",
       "\n",
       "  - splice_ai.splice_consequence (str):\n",
       "      Non-missing: 100955534 (37.86%)\n",
       "          Missing: 165714354 (62.14%)\n",
       "         Min Size: 10\n",
       "         Max Size: 14\n",
       "        Mean Size: 13.84\n",
       "    Sample Values: ['Donor gain', 'Acceptor gain', 'Acceptor gain', 'Acceptor gain', 'Acceptor gain']"
      ]
     },
     "metadata": {},
     "output_type": "display_data"
    }
   ],
   "source": [
    "full_annotations.filter(hl.is_indel(full_annotations.alleles[0],full_annotations.alleles[1])).splice_ai.summarize()"
   ]
  },
  {
   "cell_type": "code",
   "execution_count": 13,
   "metadata": {},
   "outputs": [
    {
     "data": {
      "text/html": [
       "<table><thead><tr><td style=\"white-space: nowrap; max-width: 500px; overflow: hidden; text-overflow: ellipsis; \" colspan=\"1\"><div style=\"text-align: left;\"></div></td><td style=\"white-space: nowrap; max-width: 500px; overflow: hidden; text-overflow: ellipsis; \" colspan=\"1\"><div style=\"text-align: left;\"></div></td><td style=\"white-space: nowrap; max-width: 500px; overflow: hidden; text-overflow: ellipsis; \" colspan=\"3\"><div style=\"text-align: left;\"></div></td></tr><tr><td style=\"white-space: nowrap; max-width: 500px; overflow: hidden; text-overflow: ellipsis; \" colspan=\"1\"><div style=\"text-align: left;\"></div></td><td style=\"white-space: nowrap; max-width: 500px; overflow: hidden; text-overflow: ellipsis; \" colspan=\"1\"><div style=\"text-align: left;\"></div></td><td style=\"white-space: nowrap; max-width: 500px; overflow: hidden; text-overflow: ellipsis; \" colspan=\"3\"><div style=\"text-align: left;border-bottom: solid 2px #000; padding-bottom: 5px\">splice_ai</div></td></tr><tr><td style=\"white-space: nowrap; max-width: 500px; overflow: hidden; text-overflow: ellipsis; \" colspan=\"1\"><div style=\"text-align: left;border-bottom: solid 2px #000; padding-bottom: 5px\">locus</div></td><td style=\"white-space: nowrap; max-width: 500px; overflow: hidden; text-overflow: ellipsis; \" colspan=\"1\"><div style=\"text-align: left;border-bottom: solid 2px #000; padding-bottom: 5px\">alleles</div></td><td style=\"white-space: nowrap; max-width: 500px; overflow: hidden; text-overflow: ellipsis; \" colspan=\"1\"><div style=\"text-align: left;border-bottom: solid 2px #000; padding-bottom: 5px\">splice_ai</div></td><td style=\"white-space: nowrap; max-width: 500px; overflow: hidden; text-overflow: ellipsis; \" colspan=\"1\"><div style=\"text-align: left;border-bottom: solid 2px #000; padding-bottom: 5px\">max_ds</div></td><td style=\"white-space: nowrap; max-width: 500px; overflow: hidden; text-overflow: ellipsis; \" colspan=\"1\"><div style=\"text-align: left;border-bottom: solid 2px #000; padding-bottom: 5px\">splice_consequence</div></td></tr><tr><td style=\"white-space: nowrap; max-width: 500px; overflow: hidden; text-overflow: ellipsis; text-align: left;\">locus&lt;GRCh38&gt;</td><td style=\"white-space: nowrap; max-width: 500px; overflow: hidden; text-overflow: ellipsis; text-align: left;\">array&lt;str&gt;</td><td style=\"white-space: nowrap; max-width: 500px; overflow: hidden; text-overflow: ellipsis; text-align: left;\">array&lt;float32&gt;</td><td style=\"white-space: nowrap; max-width: 500px; overflow: hidden; text-overflow: ellipsis; text-align: left;\">float32</td><td style=\"white-space: nowrap; max-width: 500px; overflow: hidden; text-overflow: ellipsis; text-align: left;\">str</td></tr>\n",
       "</thead><tbody><tr><td style=\"white-space: nowrap; max-width: 500px; overflow: hidden; text-overflow: ellipsis; \">chr1:10055</td><td style=\"white-space: nowrap; max-width: 500px; overflow: hidden; text-overflow: ellipsis; \">[&quot;T&quot;,&quot;TAACCCTAACCCTAACCCTAACCCTAACCCTAACCCTAACCCTAACCCTAACCC&quot;]</td><td style=\"white-space: nowrap; max-width: 500px; overflow: hidden; text-overflow: ellipsis; \">NA</td><td style=\"white-space: nowrap; max-width: 500px; overflow: hidden; text-overflow: ellipsis; \">NA</td><td style=\"white-space: nowrap; max-width: 500px; overflow: hidden; text-overflow: ellipsis; \">NA</td></tr>\n",
       "<tr><td style=\"white-space: nowrap; max-width: 500px; overflow: hidden; text-overflow: ellipsis; \">chr1:10055</td><td style=\"white-space: nowrap; max-width: 500px; overflow: hidden; text-overflow: ellipsis; \">[&quot;T&quot;,&quot;TAACCCTAACCCTAACCCTAACCCTAACCCTAACCCTAACCCTAACCCTAACCCA&quot;]</td><td style=\"white-space: nowrap; max-width: 500px; overflow: hidden; text-overflow: ellipsis; \">NA</td><td style=\"white-space: nowrap; max-width: 500px; overflow: hidden; text-overflow: ellipsis; \">NA</td><td style=\"white-space: nowrap; max-width: 500px; overflow: hidden; text-overflow: ellipsis; \">NA</td></tr>\n",
       "<tr><td style=\"white-space: nowrap; max-width: 500px; overflow: hidden; text-overflow: ellipsis; \">chr1:10061</td><td style=\"white-space: nowrap; max-width: 500px; overflow: hidden; text-overflow: ellipsis; \">[&quot;T&quot;,&quot;TAACCCTAACCCTAACCCTAACCCTAACCCTAACCCTAACCCTAACCC&quot;]</td><td style=\"white-space: nowrap; max-width: 500px; overflow: hidden; text-overflow: ellipsis; \">NA</td><td style=\"white-space: nowrap; max-width: 500px; overflow: hidden; text-overflow: ellipsis; \">NA</td><td style=\"white-space: nowrap; max-width: 500px; overflow: hidden; text-overflow: ellipsis; \">NA</td></tr>\n",
       "<tr><td style=\"white-space: nowrap; max-width: 500px; overflow: hidden; text-overflow: ellipsis; \">chr1:10064</td><td style=\"white-space: nowrap; max-width: 500px; overflow: hidden; text-overflow: ellipsis; \">[&quot;C&quot;,&quot;CCCTAACCCTAACCCTAACCCTAACCCTAACCCTAACCCTAACCCAACCCTAACCCTAACCCTAACCCTAACCCTAACCCAAA&quot;]</td><td style=\"white-space: nowrap; max-width: 500px; overflow: hidden; text-overflow: ellipsis; \">NA</td><td style=\"white-space: nowrap; max-width: 500px; overflow: hidden; text-overflow: ellipsis; \">NA</td><td style=\"white-space: nowrap; max-width: 500px; overflow: hidden; text-overflow: ellipsis; \">NA</td></tr>\n",
       "<tr><td style=\"white-space: nowrap; max-width: 500px; overflow: hidden; text-overflow: ellipsis; \">chr1:10067</td><td style=\"white-space: nowrap; max-width: 500px; overflow: hidden; text-overflow: ellipsis; \">[&quot;T&quot;,&quot;TAACCCTAACCCTAACCCTAACCCTAACCCTAACCC&quot;]</td><td style=\"white-space: nowrap; max-width: 500px; overflow: hidden; text-overflow: ellipsis; \">NA</td><td style=\"white-space: nowrap; max-width: 500px; overflow: hidden; text-overflow: ellipsis; \">NA</td><td style=\"white-space: nowrap; max-width: 500px; overflow: hidden; text-overflow: ellipsis; \">NA</td></tr>\n",
       "<tr><td style=\"white-space: nowrap; max-width: 500px; overflow: hidden; text-overflow: ellipsis; \">chr1:10067</td><td style=\"white-space: nowrap; max-width: 500px; overflow: hidden; text-overflow: ellipsis; \">[&quot;T&quot;,&quot;TAACCCTAACCCTAACCCTAACCCTAACCCTAACCCTAACCC&quot;]</td><td style=\"white-space: nowrap; max-width: 500px; overflow: hidden; text-overflow: ellipsis; \">NA</td><td style=\"white-space: nowrap; max-width: 500px; overflow: hidden; text-overflow: ellipsis; \">NA</td><td style=\"white-space: nowrap; max-width: 500px; overflow: hidden; text-overflow: ellipsis; \">NA</td></tr>\n",
       "<tr><td style=\"white-space: nowrap; max-width: 500px; overflow: hidden; text-overflow: ellipsis; \">chr1:10073</td><td style=\"white-space: nowrap; max-width: 500px; overflow: hidden; text-overflow: ellipsis; \">[&quot;T&quot;,&quot;TAACCCTAACCCTAACCCTAACCCTAACCCTAACCC&quot;]</td><td style=\"white-space: nowrap; max-width: 500px; overflow: hidden; text-overflow: ellipsis; \">NA</td><td style=\"white-space: nowrap; max-width: 500px; overflow: hidden; text-overflow: ellipsis; \">NA</td><td style=\"white-space: nowrap; max-width: 500px; overflow: hidden; text-overflow: ellipsis; \">NA</td></tr>\n",
       "<tr><td style=\"white-space: nowrap; max-width: 500px; overflow: hidden; text-overflow: ellipsis; \">chr1:10079</td><td style=\"white-space: nowrap; max-width: 500px; overflow: hidden; text-overflow: ellipsis; \">[&quot;T&quot;,&quot;TAACCCTAACCCTAACCCTAACCCTAACCC&quot;]</td><td style=\"white-space: nowrap; max-width: 500px; overflow: hidden; text-overflow: ellipsis; \">NA</td><td style=\"white-space: nowrap; max-width: 500px; overflow: hidden; text-overflow: ellipsis; \">NA</td><td style=\"white-space: nowrap; max-width: 500px; overflow: hidden; text-overflow: ellipsis; \">NA</td></tr>\n",
       "<tr><td style=\"white-space: nowrap; max-width: 500px; overflow: hidden; text-overflow: ellipsis; \">chr1:10091</td><td style=\"white-space: nowrap; max-width: 500px; overflow: hidden; text-overflow: ellipsis; \">[&quot;T&quot;,&quot;TAACCCTAACCCTAACCC&quot;]</td><td style=\"white-space: nowrap; max-width: 500px; overflow: hidden; text-overflow: ellipsis; \">NA</td><td style=\"white-space: nowrap; max-width: 500px; overflow: hidden; text-overflow: ellipsis; \">NA</td><td style=\"white-space: nowrap; max-width: 500px; overflow: hidden; text-overflow: ellipsis; \">NA</td></tr>\n",
       "<tr><td style=\"white-space: nowrap; max-width: 500px; overflow: hidden; text-overflow: ellipsis; \">chr1:10108</td><td style=\"white-space: nowrap; max-width: 500px; overflow: hidden; text-overflow: ellipsis; \">[&quot;C&quot;,&quot;CA&quot;]</td><td style=\"white-space: nowrap; max-width: 500px; overflow: hidden; text-overflow: ellipsis; \">NA</td><td style=\"white-space: nowrap; max-width: 500px; overflow: hidden; text-overflow: ellipsis; \">NA</td><td style=\"white-space: nowrap; max-width: 500px; overflow: hidden; text-overflow: ellipsis; \">NA</td></tr>\n",
       "</tbody></table><p style=\"background: #fdd; padding: 0.4em;\">showing top 10 rows</p>\n"
      ],
      "text/plain": [
       "+---------------+------------------------------------------+---------------------+------------------+------------------------------+\n",
       "| locus         | alleles                                  | splice_ai.splice_ai | splice_ai.max_ds | splice_ai.splice_consequence |\n",
       "+---------------+------------------------------------------+---------------------+------------------+------------------------------+\n",
       "| locus<GRCh38> | array<str>                               | array<float32>      |          float32 | str                          |\n",
       "+---------------+------------------------------------------+---------------------+------------------+------------------------------+\n",
       "| chr1:10055    | [\"T\",\"TAACCCTAACCCTAACCCTAACCCTAACCCT... | NA                  |               NA | NA                           |\n",
       "| chr1:10055    | [\"T\",\"TAACCCTAACCCTAACCCTAACCCTAACCCT... | NA                  |               NA | NA                           |\n",
       "| chr1:10061    | [\"T\",\"TAACCCTAACCCTAACCCTAACCCTAACCCT... | NA                  |               NA | NA                           |\n",
       "| chr1:10064    | [\"C\",\"CCCTAACCCTAACCCTAACCCTAACCCTAAC... | NA                  |               NA | NA                           |\n",
       "| chr1:10067    | [\"T\",\"TAACCCTAACCCTAACCCTAACCCTAACCCT... | NA                  |               NA | NA                           |\n",
       "| chr1:10067    | [\"T\",\"TAACCCTAACCCTAACCCTAACCCTAACCCT... | NA                  |               NA | NA                           |\n",
       "| chr1:10073    | [\"T\",\"TAACCCTAACCCTAACCCTAACCCTAACCCT... | NA                  |               NA | NA                           |\n",
       "| chr1:10079    | [\"T\",\"TAACCCTAACCCTAACCCTAACCCTAACCC\"]   | NA                  |               NA | NA                           |\n",
       "| chr1:10091    | [\"T\",\"TAACCCTAACCCTAACCC\"]               | NA                  |               NA | NA                           |\n",
       "| chr1:10108    | [\"C\",\"CA\"]                               | NA                  |               NA | NA                           |\n",
       "+---------------+------------------------------------------+---------------------+------------------+------------------------------+\n",
       "showing top 10 rows"
      ]
     },
     "metadata": {},
     "output_type": "display_data"
    }
   ],
   "source": [
    "full_annotations.filter(hl.is_indel(full_annotations.alleles[0],full_annotations.alleles[1])).splice_ai.show()"
   ]
  },
  {
   "cell_type": "code",
   "execution_count": 20,
   "metadata": {},
   "outputs": [
    {
     "data": {
      "text/html": [
       "<table><thead><tr><td style=\"white-space: nowrap; max-width: 500px; overflow: hidden; text-overflow: ellipsis; \" colspan=\"1\"><div style=\"text-align: left;\"></div></td><td style=\"white-space: nowrap; max-width: 500px; overflow: hidden; text-overflow: ellipsis; \" colspan=\"1\"><div style=\"text-align: left;\"></div></td><td style=\"white-space: nowrap; max-width: 500px; overflow: hidden; text-overflow: ellipsis; \" colspan=\"2\"><div style=\"text-align: left;\"></div></td><td style=\"white-space: nowrap; max-width: 500px; overflow: hidden; text-overflow: ellipsis; \" colspan=\"3\"><div style=\"text-align: left;\"></div></td><td style=\"white-space: nowrap; max-width: 500px; overflow: hidden; text-overflow: ellipsis; \" colspan=\"3\"><div style=\"text-align: left;\"></div></td><td style=\"white-space: nowrap; max-width: 500px; overflow: hidden; text-overflow: ellipsis; \" colspan=\"1\"><div style=\"text-align: left;\"></div></td></tr><tr><td style=\"white-space: nowrap; max-width: 500px; overflow: hidden; text-overflow: ellipsis; \" colspan=\"1\"><div style=\"text-align: left;\"></div></td><td style=\"white-space: nowrap; max-width: 500px; overflow: hidden; text-overflow: ellipsis; \" colspan=\"1\"><div style=\"text-align: left;\"></div></td><td style=\"white-space: nowrap; max-width: 500px; overflow: hidden; text-overflow: ellipsis; \" colspan=\"2\"><div style=\"text-align: left;border-bottom: solid 2px #000; padding-bottom: 5px\">cadd</div></td><td style=\"white-space: nowrap; max-width: 500px; overflow: hidden; text-overflow: ellipsis; \" colspan=\"3\"><div style=\"text-align: left;border-bottom: solid 2px #000; padding-bottom: 5px\">revel</div></td><td style=\"white-space: nowrap; max-width: 500px; overflow: hidden; text-overflow: ellipsis; \" colspan=\"3\"><div style=\"text-align: left;border-bottom: solid 2px #000; padding-bottom: 5px\">splice_ai</div></td><td style=\"white-space: nowrap; max-width: 500px; overflow: hidden; text-overflow: ellipsis; \" colspan=\"1\"><div style=\"text-align: left;border-bottom: solid 2px #000; padding-bottom: 5px\">primate_ai</div></td></tr><tr><td style=\"white-space: nowrap; max-width: 500px; overflow: hidden; text-overflow: ellipsis; \" colspan=\"1\"><div style=\"text-align: left;border-bottom: solid 2px #000; padding-bottom: 5px\">locus</div></td><td style=\"white-space: nowrap; max-width: 500px; overflow: hidden; text-overflow: ellipsis; \" colspan=\"1\"><div style=\"text-align: left;border-bottom: solid 2px #000; padding-bottom: 5px\">alleles</div></td><td style=\"white-space: nowrap; max-width: 500px; overflow: hidden; text-overflow: ellipsis; \" colspan=\"1\"><div style=\"text-align: left;border-bottom: solid 2px #000; padding-bottom: 5px\">raw_score</div></td><td style=\"white-space: nowrap; max-width: 500px; overflow: hidden; text-overflow: ellipsis; \" colspan=\"1\"><div style=\"text-align: left;border-bottom: solid 2px #000; padding-bottom: 5px\">phred</div></td><td style=\"white-space: nowrap; max-width: 500px; overflow: hidden; text-overflow: ellipsis; \" colspan=\"1\"><div style=\"text-align: left;border-bottom: solid 2px #000; padding-bottom: 5px\">revel_score</div></td><td style=\"white-space: nowrap; max-width: 500px; overflow: hidden; text-overflow: ellipsis; \" colspan=\"1\"><div style=\"text-align: left;border-bottom: solid 2px #000; padding-bottom: 5px\">ref_aa</div></td><td style=\"white-space: nowrap; max-width: 500px; overflow: hidden; text-overflow: ellipsis; \" colspan=\"1\"><div style=\"text-align: left;border-bottom: solid 2px #000; padding-bottom: 5px\">alt_aa</div></td><td style=\"white-space: nowrap; max-width: 500px; overflow: hidden; text-overflow: ellipsis; \" colspan=\"1\"><div style=\"text-align: left;border-bottom: solid 2px #000; padding-bottom: 5px\">splice_ai</div></td><td style=\"white-space: nowrap; max-width: 500px; overflow: hidden; text-overflow: ellipsis; \" colspan=\"1\"><div style=\"text-align: left;border-bottom: solid 2px #000; padding-bottom: 5px\">max_ds</div></td><td style=\"white-space: nowrap; max-width: 500px; overflow: hidden; text-overflow: ellipsis; \" colspan=\"1\"><div style=\"text-align: left;border-bottom: solid 2px #000; padding-bottom: 5px\">splice_consequence</div></td><td style=\"white-space: nowrap; max-width: 500px; overflow: hidden; text-overflow: ellipsis; \" colspan=\"1\"><div style=\"text-align: left;border-bottom: solid 2px #000; padding-bottom: 5px\">primate_ai_score</div></td></tr><tr><td style=\"white-space: nowrap; max-width: 500px; overflow: hidden; text-overflow: ellipsis; text-align: left;\">locus&lt;GRCh38&gt;</td><td style=\"white-space: nowrap; max-width: 500px; overflow: hidden; text-overflow: ellipsis; text-align: left;\">array&lt;str&gt;</td><td style=\"white-space: nowrap; max-width: 500px; overflow: hidden; text-overflow: ellipsis; text-align: left;\">float32</td><td style=\"white-space: nowrap; max-width: 500px; overflow: hidden; text-overflow: ellipsis; text-align: left;\">float32</td><td style=\"white-space: nowrap; max-width: 500px; overflow: hidden; text-overflow: ellipsis; text-align: left;\">float64</td><td style=\"white-space: nowrap; max-width: 500px; overflow: hidden; text-overflow: ellipsis; text-align: left;\">str</td><td style=\"white-space: nowrap; max-width: 500px; overflow: hidden; text-overflow: ellipsis; text-align: left;\">str</td><td style=\"white-space: nowrap; max-width: 500px; overflow: hidden; text-overflow: ellipsis; text-align: left;\">array&lt;float32&gt;</td><td style=\"white-space: nowrap; max-width: 500px; overflow: hidden; text-overflow: ellipsis; text-align: left;\">float32</td><td style=\"white-space: nowrap; max-width: 500px; overflow: hidden; text-overflow: ellipsis; text-align: left;\">str</td><td style=\"white-space: nowrap; max-width: 500px; overflow: hidden; text-overflow: ellipsis; text-align: left;\">float32</td></tr>\n",
       "</thead><tbody><tr><td style=\"white-space: nowrap; max-width: 500px; overflow: hidden; text-overflow: ellipsis; \">chr1:179816</td><td style=\"white-space: nowrap; max-width: 500px; overflow: hidden; text-overflow: ellipsis; \">[&quot;G&quot;,&quot;GA&quot;]</td><td style=\"white-space: nowrap; max-width: 500px; overflow: hidden; text-overflow: ellipsis; \">-5.50e-02</td><td style=\"white-space: nowrap; max-width: 500px; overflow: hidden; text-overflow: ellipsis; \">1.03e+00</td><td style=\"white-space: nowrap; max-width: 500px; overflow: hidden; text-overflow: ellipsis; \">NA</td><td style=\"white-space: nowrap; max-width: 500px; overflow: hidden; text-overflow: ellipsis; \">NA</td><td style=\"white-space: nowrap; max-width: 500px; overflow: hidden; text-overflow: ellipsis; \">NA</td><td style=\"white-space: nowrap; max-width: 500px; overflow: hidden; text-overflow: ellipsis; \">NA</td><td style=\"white-space: nowrap; max-width: 500px; overflow: hidden; text-overflow: ellipsis; \">NA</td><td style=\"white-space: nowrap; max-width: 500px; overflow: hidden; text-overflow: ellipsis; \">NA</td><td style=\"white-space: nowrap; max-width: 500px; overflow: hidden; text-overflow: ellipsis; \">NA</td></tr>\n",
       "<tr><td style=\"white-space: nowrap; max-width: 500px; overflow: hidden; text-overflow: ellipsis; \">chr1:179885</td><td style=\"white-space: nowrap; max-width: 500px; overflow: hidden; text-overflow: ellipsis; \">[&quot;A&quot;,&quot;AGCT&quot;]</td><td style=\"white-space: nowrap; max-width: 500px; overflow: hidden; text-overflow: ellipsis; \">-4.31e-02</td><td style=\"white-space: nowrap; max-width: 500px; overflow: hidden; text-overflow: ellipsis; \">1.09e+00</td><td style=\"white-space: nowrap; max-width: 500px; overflow: hidden; text-overflow: ellipsis; \">NA</td><td style=\"white-space: nowrap; max-width: 500px; overflow: hidden; text-overflow: ellipsis; \">NA</td><td style=\"white-space: nowrap; max-width: 500px; overflow: hidden; text-overflow: ellipsis; \">NA</td><td style=\"white-space: nowrap; max-width: 500px; overflow: hidden; text-overflow: ellipsis; \">NA</td><td style=\"white-space: nowrap; max-width: 500px; overflow: hidden; text-overflow: ellipsis; \">NA</td><td style=\"white-space: nowrap; max-width: 500px; overflow: hidden; text-overflow: ellipsis; \">NA</td><td style=\"white-space: nowrap; max-width: 500px; overflow: hidden; text-overflow: ellipsis; \">NA</td></tr>\n",
       "<tr><td style=\"white-space: nowrap; max-width: 500px; overflow: hidden; text-overflow: ellipsis; \">chr1:180054</td><td style=\"white-space: nowrap; max-width: 500px; overflow: hidden; text-overflow: ellipsis; \">[&quot;TTTA&quot;,&quot;T&quot;]</td><td style=\"white-space: nowrap; max-width: 500px; overflow: hidden; text-overflow: ellipsis; \">-9.53e-02</td><td style=\"white-space: nowrap; max-width: 500px; overflow: hidden; text-overflow: ellipsis; \">8.48e-01</td><td style=\"white-space: nowrap; max-width: 500px; overflow: hidden; text-overflow: ellipsis; \">NA</td><td style=\"white-space: nowrap; max-width: 500px; overflow: hidden; text-overflow: ellipsis; \">NA</td><td style=\"white-space: nowrap; max-width: 500px; overflow: hidden; text-overflow: ellipsis; \">NA</td><td style=\"white-space: nowrap; max-width: 500px; overflow: hidden; text-overflow: ellipsis; \">NA</td><td style=\"white-space: nowrap; max-width: 500px; overflow: hidden; text-overflow: ellipsis; \">NA</td><td style=\"white-space: nowrap; max-width: 500px; overflow: hidden; text-overflow: ellipsis; \">NA</td><td style=\"white-space: nowrap; max-width: 500px; overflow: hidden; text-overflow: ellipsis; \">NA</td></tr>\n",
       "<tr><td style=\"white-space: nowrap; max-width: 500px; overflow: hidden; text-overflow: ellipsis; \">chr1:180088</td><td style=\"white-space: nowrap; max-width: 500px; overflow: hidden; text-overflow: ellipsis; \">[&quot;TACCCTA&quot;,&quot;T&quot;]</td><td style=\"white-space: nowrap; max-width: 500px; overflow: hidden; text-overflow: ellipsis; \">-1.03e-01</td><td style=\"white-space: nowrap; max-width: 500px; overflow: hidden; text-overflow: ellipsis; \">8.16e-01</td><td style=\"white-space: nowrap; max-width: 500px; overflow: hidden; text-overflow: ellipsis; \">NA</td><td style=\"white-space: nowrap; max-width: 500px; overflow: hidden; text-overflow: ellipsis; \">NA</td><td style=\"white-space: nowrap; max-width: 500px; overflow: hidden; text-overflow: ellipsis; \">NA</td><td style=\"white-space: nowrap; max-width: 500px; overflow: hidden; text-overflow: ellipsis; \">NA</td><td style=\"white-space: nowrap; max-width: 500px; overflow: hidden; text-overflow: ellipsis; \">NA</td><td style=\"white-space: nowrap; max-width: 500px; overflow: hidden; text-overflow: ellipsis; \">NA</td><td style=\"white-space: nowrap; max-width: 500px; overflow: hidden; text-overflow: ellipsis; \">NA</td></tr>\n",
       "<tr><td style=\"white-space: nowrap; max-width: 500px; overflow: hidden; text-overflow: ellipsis; \">chr1:180088</td><td style=\"white-space: nowrap; max-width: 500px; overflow: hidden; text-overflow: ellipsis; \">[&quot;TACCCTAACCCTAACCCTAACCCCTAATCCTAACCCTA&quot;,&quot;T&quot;]</td><td style=\"white-space: nowrap; max-width: 500px; overflow: hidden; text-overflow: ellipsis; \">-2.33e-01</td><td style=\"white-space: nowrap; max-width: 500px; overflow: hidden; text-overflow: ellipsis; \">4.33e-01</td><td style=\"white-space: nowrap; max-width: 500px; overflow: hidden; text-overflow: ellipsis; \">NA</td><td style=\"white-space: nowrap; max-width: 500px; overflow: hidden; text-overflow: ellipsis; \">NA</td><td style=\"white-space: nowrap; max-width: 500px; overflow: hidden; text-overflow: ellipsis; \">NA</td><td style=\"white-space: nowrap; max-width: 500px; overflow: hidden; text-overflow: ellipsis; \">NA</td><td style=\"white-space: nowrap; max-width: 500px; overflow: hidden; text-overflow: ellipsis; \">NA</td><td style=\"white-space: nowrap; max-width: 500px; overflow: hidden; text-overflow: ellipsis; \">NA</td><td style=\"white-space: nowrap; max-width: 500px; overflow: hidden; text-overflow: ellipsis; \">NA</td></tr>\n",
       "<tr><td style=\"white-space: nowrap; max-width: 500px; overflow: hidden; text-overflow: ellipsis; \">chr1:180089</td><td style=\"white-space: nowrap; max-width: 500px; overflow: hidden; text-overflow: ellipsis; \">[&quot;ACCCTAACCCTAACCCTAACCCCTAATCCTAACCCTAATCCTAACCCTAACCCTAACCCTAACCCCTAAC&quot;,&quot;A&quot;]</td><td style=\"white-space: nowrap; max-width: 500px; overflow: hidden; text-overflow: ellipsis; \">-2.83e-01</td><td style=\"white-space: nowrap; max-width: 500px; overflow: hidden; text-overflow: ellipsis; \">3.39e-01</td><td style=\"white-space: nowrap; max-width: 500px; overflow: hidden; text-overflow: ellipsis; \">NA</td><td style=\"white-space: nowrap; max-width: 500px; overflow: hidden; text-overflow: ellipsis; \">NA</td><td style=\"white-space: nowrap; max-width: 500px; overflow: hidden; text-overflow: ellipsis; \">NA</td><td style=\"white-space: nowrap; max-width: 500px; overflow: hidden; text-overflow: ellipsis; \">NA</td><td style=\"white-space: nowrap; max-width: 500px; overflow: hidden; text-overflow: ellipsis; \">NA</td><td style=\"white-space: nowrap; max-width: 500px; overflow: hidden; text-overflow: ellipsis; \">NA</td><td style=\"white-space: nowrap; max-width: 500px; overflow: hidden; text-overflow: ellipsis; \">NA</td></tr>\n",
       "<tr><td style=\"white-space: nowrap; max-width: 500px; overflow: hidden; text-overflow: ellipsis; \">chr1:180094</td><td style=\"white-space: nowrap; max-width: 500px; overflow: hidden; text-overflow: ellipsis; \">[&quot;AACCCTAACCCTAACCCCTAATCCTAACCCTAATCCTAACCCTAACCCTAACCCTAACCCCTAACCCCTAACCCTAACCCTAAAACCCTAACCATAACCCTTACCCTTACCCTAATCCTAACCCTAATCCTTACCCTTACCCTTACCCTG&quot;,&quot;A&quot;]</td><td style=\"white-space: nowrap; max-width: 500px; overflow: hidden; text-overflow: ellipsis; \">-2.73e-01</td><td style=\"white-space: nowrap; max-width: 500px; overflow: hidden; text-overflow: ellipsis; \">3.56e-01</td><td style=\"white-space: nowrap; max-width: 500px; overflow: hidden; text-overflow: ellipsis; \">NA</td><td style=\"white-space: nowrap; max-width: 500px; overflow: hidden; text-overflow: ellipsis; \">NA</td><td style=\"white-space: nowrap; max-width: 500px; overflow: hidden; text-overflow: ellipsis; \">NA</td><td style=\"white-space: nowrap; max-width: 500px; overflow: hidden; text-overflow: ellipsis; \">NA</td><td style=\"white-space: nowrap; max-width: 500px; overflow: hidden; text-overflow: ellipsis; \">NA</td><td style=\"white-space: nowrap; max-width: 500px; overflow: hidden; text-overflow: ellipsis; \">NA</td><td style=\"white-space: nowrap; max-width: 500px; overflow: hidden; text-overflow: ellipsis; \">NA</td></tr>\n",
       "<tr><td style=\"white-space: nowrap; max-width: 500px; overflow: hidden; text-overflow: ellipsis; \">chr1:180095</td><td style=\"white-space: nowrap; max-width: 500px; overflow: hidden; text-overflow: ellipsis; \">[&quot;A&quot;,&quot;AC&quot;]</td><td style=\"white-space: nowrap; max-width: 500px; overflow: hidden; text-overflow: ellipsis; \">-3.15e-02</td><td style=\"white-space: nowrap; max-width: 500px; overflow: hidden; text-overflow: ellipsis; \">1.15e+00</td><td style=\"white-space: nowrap; max-width: 500px; overflow: hidden; text-overflow: ellipsis; \">NA</td><td style=\"white-space: nowrap; max-width: 500px; overflow: hidden; text-overflow: ellipsis; \">NA</td><td style=\"white-space: nowrap; max-width: 500px; overflow: hidden; text-overflow: ellipsis; \">NA</td><td style=\"white-space: nowrap; max-width: 500px; overflow: hidden; text-overflow: ellipsis; \">NA</td><td style=\"white-space: nowrap; max-width: 500px; overflow: hidden; text-overflow: ellipsis; \">NA</td><td style=\"white-space: nowrap; max-width: 500px; overflow: hidden; text-overflow: ellipsis; \">NA</td><td style=\"white-space: nowrap; max-width: 500px; overflow: hidden; text-overflow: ellipsis; \">NA</td></tr>\n",
       "<tr><td style=\"white-space: nowrap; max-width: 500px; overflow: hidden; text-overflow: ellipsis; \">chr1:180095</td><td style=\"white-space: nowrap; max-width: 500px; overflow: hidden; text-overflow: ellipsis; \">[&quot;ACCCTAACCCTAACCCCTAATCCTAACCCTAATCCTAACCCTAACCCTAACCCTAAC&quot;,&quot;A&quot;]</td><td style=\"white-space: nowrap; max-width: 500px; overflow: hidden; text-overflow: ellipsis; \">-2.84e-01</td><td style=\"white-space: nowrap; max-width: 500px; overflow: hidden; text-overflow: ellipsis; \">3.36e-01</td><td style=\"white-space: nowrap; max-width: 500px; overflow: hidden; text-overflow: ellipsis; \">NA</td><td style=\"white-space: nowrap; max-width: 500px; overflow: hidden; text-overflow: ellipsis; \">NA</td><td style=\"white-space: nowrap; max-width: 500px; overflow: hidden; text-overflow: ellipsis; \">NA</td><td style=\"white-space: nowrap; max-width: 500px; overflow: hidden; text-overflow: ellipsis; \">NA</td><td style=\"white-space: nowrap; max-width: 500px; overflow: hidden; text-overflow: ellipsis; \">NA</td><td style=\"white-space: nowrap; max-width: 500px; overflow: hidden; text-overflow: ellipsis; \">NA</td><td style=\"white-space: nowrap; max-width: 500px; overflow: hidden; text-overflow: ellipsis; \">NA</td></tr>\n",
       "<tr><td style=\"white-space: nowrap; max-width: 500px; overflow: hidden; text-overflow: ellipsis; \">chr1:180096</td><td style=\"white-space: nowrap; max-width: 500px; overflow: hidden; text-overflow: ellipsis; \">[&quot;CCCTAACCCTAACCCCTAAT&quot;,&quot;C&quot;]</td><td style=\"white-space: nowrap; max-width: 500px; overflow: hidden; text-overflow: ellipsis; \">-1.58e-01</td><td style=\"white-space: nowrap; max-width: 500px; overflow: hidden; text-overflow: ellipsis; \">6.27e-01</td><td style=\"white-space: nowrap; max-width: 500px; overflow: hidden; text-overflow: ellipsis; \">NA</td><td style=\"white-space: nowrap; max-width: 500px; overflow: hidden; text-overflow: ellipsis; \">NA</td><td style=\"white-space: nowrap; max-width: 500px; overflow: hidden; text-overflow: ellipsis; \">NA</td><td style=\"white-space: nowrap; max-width: 500px; overflow: hidden; text-overflow: ellipsis; \">NA</td><td style=\"white-space: nowrap; max-width: 500px; overflow: hidden; text-overflow: ellipsis; \">NA</td><td style=\"white-space: nowrap; max-width: 500px; overflow: hidden; text-overflow: ellipsis; \">NA</td><td style=\"white-space: nowrap; max-width: 500px; overflow: hidden; text-overflow: ellipsis; \">NA</td></tr>\n",
       "</tbody></table><p style=\"background: #fdd; padding: 0.4em;\">showing top 10 rows</p>\n"
      ],
      "text/plain": [
       "+---------------+------------------------------------------+----------------+------------+-------------------+--------------+--------------+\n",
       "| locus         | alleles                                  | cadd.raw_score | cadd.phred | revel.revel_score | revel.ref_aa | revel.alt_aa |\n",
       "+---------------+------------------------------------------+----------------+------------+-------------------+--------------+--------------+\n",
       "| locus<GRCh38> | array<str>                               |        float32 |    float32 |           float64 | str          | str          |\n",
       "+---------------+------------------------------------------+----------------+------------+-------------------+--------------+--------------+\n",
       "| chr1:179816   | [\"G\",\"GA\"]                               |      -5.50e-02 |   1.03e+00 |                NA | NA           | NA           |\n",
       "| chr1:179885   | [\"A\",\"AGCT\"]                             |      -4.31e-02 |   1.09e+00 |                NA | NA           | NA           |\n",
       "| chr1:180054   | [\"TTTA\",\"T\"]                             |      -9.53e-02 |   8.48e-01 |                NA | NA           | NA           |\n",
       "| chr1:180088   | [\"TACCCTA\",\"T\"]                          |      -1.03e-01 |   8.16e-01 |                NA | NA           | NA           |\n",
       "| chr1:180088   | [\"TACCCTAACCCTAACCCTAACCCCTAATCCTAACC... |      -2.33e-01 |   4.33e-01 |                NA | NA           | NA           |\n",
       "| chr1:180089   | [\"ACCCTAACCCTAACCCTAACCCCTAATCCTAACCC... |      -2.83e-01 |   3.39e-01 |                NA | NA           | NA           |\n",
       "| chr1:180094   | [\"AACCCTAACCCTAACCCCTAATCCTAACCCTAATC... |      -2.73e-01 |   3.56e-01 |                NA | NA           | NA           |\n",
       "| chr1:180095   | [\"A\",\"AC\"]                               |      -3.15e-02 |   1.15e+00 |                NA | NA           | NA           |\n",
       "| chr1:180095   | [\"ACCCTAACCCTAACCCCTAATCCTAACCCTAATCC... |      -2.84e-01 |   3.36e-01 |                NA | NA           | NA           |\n",
       "| chr1:180096   | [\"CCCTAACCCTAACCCCTAAT\",\"C\"]             |      -1.58e-01 |   6.27e-01 |                NA | NA           | NA           |\n",
       "+---------------+------------------------------------------+----------------+------------+-------------------+--------------+--------------+\n",
       "\n",
       "+---------------------+------------------+------------------------------+-----------------------------+\n",
       "| splice_ai.splice_ai | splice_ai.max_ds | splice_ai.splice_consequence | primate_ai.primate_ai_score |\n",
       "+---------------------+------------------+------------------------------+-----------------------------+\n",
       "| array<float32>      |          float32 | str                          |                     float32 |\n",
       "+---------------------+------------------+------------------------------+-----------------------------+\n",
       "| NA                  |               NA | NA                           |                          NA |\n",
       "| NA                  |               NA | NA                           |                          NA |\n",
       "| NA                  |               NA | NA                           |                          NA |\n",
       "| NA                  |               NA | NA                           |                          NA |\n",
       "| NA                  |               NA | NA                           |                          NA |\n",
       "| NA                  |               NA | NA                           |                          NA |\n",
       "| NA                  |               NA | NA                           |                          NA |\n",
       "| NA                  |               NA | NA                           |                          NA |\n",
       "| NA                  |               NA | NA                           |                          NA |\n",
       "| NA                  |               NA | NA                           |                          NA |\n",
       "+---------------------+------------------+------------------------------+-----------------------------+\n",
       "showing top 10 rows"
      ]
     },
     "metadata": {},
     "output_type": "display_data"
    },
    {
     "data": {
      "text/html": [
       "<table><thead><tr><td style=\"white-space: nowrap; max-width: 500px; overflow: hidden; text-overflow: ellipsis; \" colspan=\"1\"><div style=\"text-align: left;\"></div></td><td style=\"white-space: nowrap; max-width: 500px; overflow: hidden; text-overflow: ellipsis; \" colspan=\"1\"><div style=\"text-align: left;\"></div></td><td style=\"white-space: nowrap; max-width: 500px; overflow: hidden; text-overflow: ellipsis; \" colspan=\"2\"><div style=\"text-align: left;\"></div></td><td style=\"white-space: nowrap; max-width: 500px; overflow: hidden; text-overflow: ellipsis; \" colspan=\"3\"><div style=\"text-align: left;\"></div></td><td style=\"white-space: nowrap; max-width: 500px; overflow: hidden; text-overflow: ellipsis; \" colspan=\"3\"><div style=\"text-align: left;\"></div></td><td style=\"white-space: nowrap; max-width: 500px; overflow: hidden; text-overflow: ellipsis; \" colspan=\"1\"><div style=\"text-align: left;\"></div></td></tr><tr><td style=\"white-space: nowrap; max-width: 500px; overflow: hidden; text-overflow: ellipsis; \" colspan=\"1\"><div style=\"text-align: left;\"></div></td><td style=\"white-space: nowrap; max-width: 500px; overflow: hidden; text-overflow: ellipsis; \" colspan=\"1\"><div style=\"text-align: left;\"></div></td><td style=\"white-space: nowrap; max-width: 500px; overflow: hidden; text-overflow: ellipsis; \" colspan=\"2\"><div style=\"text-align: left;border-bottom: solid 2px #000; padding-bottom: 5px\">cadd</div></td><td style=\"white-space: nowrap; max-width: 500px; overflow: hidden; text-overflow: ellipsis; \" colspan=\"3\"><div style=\"text-align: left;border-bottom: solid 2px #000; padding-bottom: 5px\">revel</div></td><td style=\"white-space: nowrap; max-width: 500px; overflow: hidden; text-overflow: ellipsis; \" colspan=\"3\"><div style=\"text-align: left;border-bottom: solid 2px #000; padding-bottom: 5px\">splice_ai</div></td><td style=\"white-space: nowrap; max-width: 500px; overflow: hidden; text-overflow: ellipsis; \" colspan=\"1\"><div style=\"text-align: left;border-bottom: solid 2px #000; padding-bottom: 5px\">primate_ai</div></td></tr><tr><td style=\"white-space: nowrap; max-width: 500px; overflow: hidden; text-overflow: ellipsis; \" colspan=\"1\"><div style=\"text-align: left;border-bottom: solid 2px #000; padding-bottom: 5px\">locus</div></td><td style=\"white-space: nowrap; max-width: 500px; overflow: hidden; text-overflow: ellipsis; \" colspan=\"1\"><div style=\"text-align: left;border-bottom: solid 2px #000; padding-bottom: 5px\">alleles</div></td><td style=\"white-space: nowrap; max-width: 500px; overflow: hidden; text-overflow: ellipsis; \" colspan=\"1\"><div style=\"text-align: left;border-bottom: solid 2px #000; padding-bottom: 5px\">raw_score</div></td><td style=\"white-space: nowrap; max-width: 500px; overflow: hidden; text-overflow: ellipsis; \" colspan=\"1\"><div style=\"text-align: left;border-bottom: solid 2px #000; padding-bottom: 5px\">phred</div></td><td style=\"white-space: nowrap; max-width: 500px; overflow: hidden; text-overflow: ellipsis; \" colspan=\"1\"><div style=\"text-align: left;border-bottom: solid 2px #000; padding-bottom: 5px\">revel_score</div></td><td style=\"white-space: nowrap; max-width: 500px; overflow: hidden; text-overflow: ellipsis; \" colspan=\"1\"><div style=\"text-align: left;border-bottom: solid 2px #000; padding-bottom: 5px\">ref_aa</div></td><td style=\"white-space: nowrap; max-width: 500px; overflow: hidden; text-overflow: ellipsis; \" colspan=\"1\"><div style=\"text-align: left;border-bottom: solid 2px #000; padding-bottom: 5px\">alt_aa</div></td><td style=\"white-space: nowrap; max-width: 500px; overflow: hidden; text-overflow: ellipsis; \" colspan=\"1\"><div style=\"text-align: left;border-bottom: solid 2px #000; padding-bottom: 5px\">splice_ai</div></td><td style=\"white-space: nowrap; max-width: 500px; overflow: hidden; text-overflow: ellipsis; \" colspan=\"1\"><div style=\"text-align: left;border-bottom: solid 2px #000; padding-bottom: 5px\">max_ds</div></td><td style=\"white-space: nowrap; max-width: 500px; overflow: hidden; text-overflow: ellipsis; \" colspan=\"1\"><div style=\"text-align: left;border-bottom: solid 2px #000; padding-bottom: 5px\">splice_consequence</div></td><td style=\"white-space: nowrap; max-width: 500px; overflow: hidden; text-overflow: ellipsis; \" colspan=\"1\"><div style=\"text-align: left;border-bottom: solid 2px #000; padding-bottom: 5px\">primate_ai_score</div></td></tr><tr><td style=\"white-space: nowrap; max-width: 500px; overflow: hidden; text-overflow: ellipsis; text-align: left;\">locus&lt;GRCh38&gt;</td><td style=\"white-space: nowrap; max-width: 500px; overflow: hidden; text-overflow: ellipsis; text-align: left;\">array&lt;str&gt;</td><td style=\"white-space: nowrap; max-width: 500px; overflow: hidden; text-overflow: ellipsis; text-align: left;\">float32</td><td style=\"white-space: nowrap; max-width: 500px; overflow: hidden; text-overflow: ellipsis; text-align: left;\">float32</td><td style=\"white-space: nowrap; max-width: 500px; overflow: hidden; text-overflow: ellipsis; text-align: left;\">float64</td><td style=\"white-space: nowrap; max-width: 500px; overflow: hidden; text-overflow: ellipsis; text-align: left;\">str</td><td style=\"white-space: nowrap; max-width: 500px; overflow: hidden; text-overflow: ellipsis; text-align: left;\">str</td><td style=\"white-space: nowrap; max-width: 500px; overflow: hidden; text-overflow: ellipsis; text-align: left;\">array&lt;float32&gt;</td><td style=\"white-space: nowrap; max-width: 500px; overflow: hidden; text-overflow: ellipsis; text-align: left;\">float32</td><td style=\"white-space: nowrap; max-width: 500px; overflow: hidden; text-overflow: ellipsis; text-align: left;\">str</td><td style=\"white-space: nowrap; max-width: 500px; overflow: hidden; text-overflow: ellipsis; text-align: left;\">float32</td></tr>\n",
       "</thead><tbody><tr><td style=\"white-space: nowrap; max-width: 500px; overflow: hidden; text-overflow: ellipsis; \">chr1:10055</td><td style=\"white-space: nowrap; max-width: 500px; overflow: hidden; text-overflow: ellipsis; \">[&quot;T&quot;,&quot;TAACCCTAACCCTAACCCTAACCCTAACCCTAACCCTAACCCTAACCCTAACCC&quot;]</td><td style=\"white-space: nowrap; max-width: 500px; overflow: hidden; text-overflow: ellipsis; \">1.92e-01</td><td style=\"white-space: nowrap; max-width: 500px; overflow: hidden; text-overflow: ellipsis; \">3.03e+00</td><td style=\"white-space: nowrap; max-width: 500px; overflow: hidden; text-overflow: ellipsis; \">NA</td><td style=\"white-space: nowrap; max-width: 500px; overflow: hidden; text-overflow: ellipsis; \">NA</td><td style=\"white-space: nowrap; max-width: 500px; overflow: hidden; text-overflow: ellipsis; \">NA</td><td style=\"white-space: nowrap; max-width: 500px; overflow: hidden; text-overflow: ellipsis; \">NA</td><td style=\"white-space: nowrap; max-width: 500px; overflow: hidden; text-overflow: ellipsis; \">NA</td><td style=\"white-space: nowrap; max-width: 500px; overflow: hidden; text-overflow: ellipsis; \">NA</td><td style=\"white-space: nowrap; max-width: 500px; overflow: hidden; text-overflow: ellipsis; \">NA</td></tr>\n",
       "<tr><td style=\"white-space: nowrap; max-width: 500px; overflow: hidden; text-overflow: ellipsis; \">chr1:10055</td><td style=\"white-space: nowrap; max-width: 500px; overflow: hidden; text-overflow: ellipsis; \">[&quot;T&quot;,&quot;TAACCCTAACCCTAACCCTAACCCTAACCCTAACCCTAACCCTAACCCTAACCCA&quot;]</td><td style=\"white-space: nowrap; max-width: 500px; overflow: hidden; text-overflow: ellipsis; \">1.92e-01</td><td style=\"white-space: nowrap; max-width: 500px; overflow: hidden; text-overflow: ellipsis; \">3.03e+00</td><td style=\"white-space: nowrap; max-width: 500px; overflow: hidden; text-overflow: ellipsis; \">NA</td><td style=\"white-space: nowrap; max-width: 500px; overflow: hidden; text-overflow: ellipsis; \">NA</td><td style=\"white-space: nowrap; max-width: 500px; overflow: hidden; text-overflow: ellipsis; \">NA</td><td style=\"white-space: nowrap; max-width: 500px; overflow: hidden; text-overflow: ellipsis; \">NA</td><td style=\"white-space: nowrap; max-width: 500px; overflow: hidden; text-overflow: ellipsis; \">NA</td><td style=\"white-space: nowrap; max-width: 500px; overflow: hidden; text-overflow: ellipsis; \">NA</td><td style=\"white-space: nowrap; max-width: 500px; overflow: hidden; text-overflow: ellipsis; \">NA</td></tr>\n",
       "<tr><td style=\"white-space: nowrap; max-width: 500px; overflow: hidden; text-overflow: ellipsis; \">chr1:10061</td><td style=\"white-space: nowrap; max-width: 500px; overflow: hidden; text-overflow: ellipsis; \">[&quot;T&quot;,&quot;TAACCCTAACCCTAACCCTAACCCTAACCCTAACCCTAACCCTAACCC&quot;]</td><td style=\"white-space: nowrap; max-width: 500px; overflow: hidden; text-overflow: ellipsis; \">2.00e-01</td><td style=\"white-space: nowrap; max-width: 500px; overflow: hidden; text-overflow: ellipsis; \">3.12e+00</td><td style=\"white-space: nowrap; max-width: 500px; overflow: hidden; text-overflow: ellipsis; \">NA</td><td style=\"white-space: nowrap; max-width: 500px; overflow: hidden; text-overflow: ellipsis; \">NA</td><td style=\"white-space: nowrap; max-width: 500px; overflow: hidden; text-overflow: ellipsis; \">NA</td><td style=\"white-space: nowrap; max-width: 500px; overflow: hidden; text-overflow: ellipsis; \">NA</td><td style=\"white-space: nowrap; max-width: 500px; overflow: hidden; text-overflow: ellipsis; \">NA</td><td style=\"white-space: nowrap; max-width: 500px; overflow: hidden; text-overflow: ellipsis; \">NA</td><td style=\"white-space: nowrap; max-width: 500px; overflow: hidden; text-overflow: ellipsis; \">NA</td></tr>\n",
       "<tr><td style=\"white-space: nowrap; max-width: 500px; overflow: hidden; text-overflow: ellipsis; \">chr1:10064</td><td style=\"white-space: nowrap; max-width: 500px; overflow: hidden; text-overflow: ellipsis; \">[&quot;C&quot;,&quot;CCCTAACCCTAACCCTAACCCTAACCCTAACCCTAACCCTAACCCAACCCTAACCCTAACCCTAACCCTAACCCTAACCCAAA&quot;]</td><td style=\"white-space: nowrap; max-width: 500px; overflow: hidden; text-overflow: ellipsis; \">1.90e-01</td><td style=\"white-space: nowrap; max-width: 500px; overflow: hidden; text-overflow: ellipsis; \">3.02e+00</td><td style=\"white-space: nowrap; max-width: 500px; overflow: hidden; text-overflow: ellipsis; \">NA</td><td style=\"white-space: nowrap; max-width: 500px; overflow: hidden; text-overflow: ellipsis; \">NA</td><td style=\"white-space: nowrap; max-width: 500px; overflow: hidden; text-overflow: ellipsis; \">NA</td><td style=\"white-space: nowrap; max-width: 500px; overflow: hidden; text-overflow: ellipsis; \">NA</td><td style=\"white-space: nowrap; max-width: 500px; overflow: hidden; text-overflow: ellipsis; \">NA</td><td style=\"white-space: nowrap; max-width: 500px; overflow: hidden; text-overflow: ellipsis; \">NA</td><td style=\"white-space: nowrap; max-width: 500px; overflow: hidden; text-overflow: ellipsis; \">NA</td></tr>\n",
       "<tr><td style=\"white-space: nowrap; max-width: 500px; overflow: hidden; text-overflow: ellipsis; \">chr1:10067</td><td style=\"white-space: nowrap; max-width: 500px; overflow: hidden; text-overflow: ellipsis; \">[&quot;T&quot;,&quot;TAACCCTAACCCTAACCCTAACCCTAACCCTAACCC&quot;]</td><td style=\"white-space: nowrap; max-width: 500px; overflow: hidden; text-overflow: ellipsis; \">2.51e-01</td><td style=\"white-space: nowrap; max-width: 500px; overflow: hidden; text-overflow: ellipsis; \">3.71e+00</td><td style=\"white-space: nowrap; max-width: 500px; overflow: hidden; text-overflow: ellipsis; \">NA</td><td style=\"white-space: nowrap; max-width: 500px; overflow: hidden; text-overflow: ellipsis; \">NA</td><td style=\"white-space: nowrap; max-width: 500px; overflow: hidden; text-overflow: ellipsis; \">NA</td><td style=\"white-space: nowrap; max-width: 500px; overflow: hidden; text-overflow: ellipsis; \">NA</td><td style=\"white-space: nowrap; max-width: 500px; overflow: hidden; text-overflow: ellipsis; \">NA</td><td style=\"white-space: nowrap; max-width: 500px; overflow: hidden; text-overflow: ellipsis; \">NA</td><td style=\"white-space: nowrap; max-width: 500px; overflow: hidden; text-overflow: ellipsis; \">NA</td></tr>\n",
       "<tr><td style=\"white-space: nowrap; max-width: 500px; overflow: hidden; text-overflow: ellipsis; \">chr1:10067</td><td style=\"white-space: nowrap; max-width: 500px; overflow: hidden; text-overflow: ellipsis; \">[&quot;T&quot;,&quot;TAACCCTAACCCTAACCCTAACCCTAACCCTAACCCTAACCC&quot;]</td><td style=\"white-space: nowrap; max-width: 500px; overflow: hidden; text-overflow: ellipsis; \">2.25e-01</td><td style=\"white-space: nowrap; max-width: 500px; overflow: hidden; text-overflow: ellipsis; \">3.42e+00</td><td style=\"white-space: nowrap; max-width: 500px; overflow: hidden; text-overflow: ellipsis; \">NA</td><td style=\"white-space: nowrap; max-width: 500px; overflow: hidden; text-overflow: ellipsis; \">NA</td><td style=\"white-space: nowrap; max-width: 500px; overflow: hidden; text-overflow: ellipsis; \">NA</td><td style=\"white-space: nowrap; max-width: 500px; overflow: hidden; text-overflow: ellipsis; \">NA</td><td style=\"white-space: nowrap; max-width: 500px; overflow: hidden; text-overflow: ellipsis; \">NA</td><td style=\"white-space: nowrap; max-width: 500px; overflow: hidden; text-overflow: ellipsis; \">NA</td><td style=\"white-space: nowrap; max-width: 500px; overflow: hidden; text-overflow: ellipsis; \">NA</td></tr>\n",
       "<tr><td style=\"white-space: nowrap; max-width: 500px; overflow: hidden; text-overflow: ellipsis; \">chr1:10073</td><td style=\"white-space: nowrap; max-width: 500px; overflow: hidden; text-overflow: ellipsis; \">[&quot;T&quot;,&quot;TAACCCTAACCCTAACCCTAACCCTAACCCTAACCC&quot;]</td><td style=\"white-space: nowrap; max-width: 500px; overflow: hidden; text-overflow: ellipsis; \">2.51e-01</td><td style=\"white-space: nowrap; max-width: 500px; overflow: hidden; text-overflow: ellipsis; \">3.71e+00</td><td style=\"white-space: nowrap; max-width: 500px; overflow: hidden; text-overflow: ellipsis; \">NA</td><td style=\"white-space: nowrap; max-width: 500px; overflow: hidden; text-overflow: ellipsis; \">NA</td><td style=\"white-space: nowrap; max-width: 500px; overflow: hidden; text-overflow: ellipsis; \">NA</td><td style=\"white-space: nowrap; max-width: 500px; overflow: hidden; text-overflow: ellipsis; \">NA</td><td style=\"white-space: nowrap; max-width: 500px; overflow: hidden; text-overflow: ellipsis; \">NA</td><td style=\"white-space: nowrap; max-width: 500px; overflow: hidden; text-overflow: ellipsis; \">NA</td><td style=\"white-space: nowrap; max-width: 500px; overflow: hidden; text-overflow: ellipsis; \">NA</td></tr>\n",
       "<tr><td style=\"white-space: nowrap; max-width: 500px; overflow: hidden; text-overflow: ellipsis; \">chr1:10079</td><td style=\"white-space: nowrap; max-width: 500px; overflow: hidden; text-overflow: ellipsis; \">[&quot;T&quot;,&quot;TAACCCTAACCCTAACCCTAACCCTAACCC&quot;]</td><td style=\"white-space: nowrap; max-width: 500px; overflow: hidden; text-overflow: ellipsis; \">2.77e-01</td><td style=\"white-space: nowrap; max-width: 500px; overflow: hidden; text-overflow: ellipsis; \">4.02e+00</td><td style=\"white-space: nowrap; max-width: 500px; overflow: hidden; text-overflow: ellipsis; \">NA</td><td style=\"white-space: nowrap; max-width: 500px; overflow: hidden; text-overflow: ellipsis; \">NA</td><td style=\"white-space: nowrap; max-width: 500px; overflow: hidden; text-overflow: ellipsis; \">NA</td><td style=\"white-space: nowrap; max-width: 500px; overflow: hidden; text-overflow: ellipsis; \">NA</td><td style=\"white-space: nowrap; max-width: 500px; overflow: hidden; text-overflow: ellipsis; \">NA</td><td style=\"white-space: nowrap; max-width: 500px; overflow: hidden; text-overflow: ellipsis; \">NA</td><td style=\"white-space: nowrap; max-width: 500px; overflow: hidden; text-overflow: ellipsis; \">NA</td></tr>\n",
       "<tr><td style=\"white-space: nowrap; max-width: 500px; overflow: hidden; text-overflow: ellipsis; \">chr1:10091</td><td style=\"white-space: nowrap; max-width: 500px; overflow: hidden; text-overflow: ellipsis; \">[&quot;T&quot;,&quot;TAACCCTAACCCTAACCC&quot;]</td><td style=\"white-space: nowrap; max-width: 500px; overflow: hidden; text-overflow: ellipsis; \">3.28e-01</td><td style=\"white-space: nowrap; max-width: 500px; overflow: hidden; text-overflow: ellipsis; \">4.61e+00</td><td style=\"white-space: nowrap; max-width: 500px; overflow: hidden; text-overflow: ellipsis; \">NA</td><td style=\"white-space: nowrap; max-width: 500px; overflow: hidden; text-overflow: ellipsis; \">NA</td><td style=\"white-space: nowrap; max-width: 500px; overflow: hidden; text-overflow: ellipsis; \">NA</td><td style=\"white-space: nowrap; max-width: 500px; overflow: hidden; text-overflow: ellipsis; \">NA</td><td style=\"white-space: nowrap; max-width: 500px; overflow: hidden; text-overflow: ellipsis; \">NA</td><td style=\"white-space: nowrap; max-width: 500px; overflow: hidden; text-overflow: ellipsis; \">NA</td><td style=\"white-space: nowrap; max-width: 500px; overflow: hidden; text-overflow: ellipsis; \">NA</td></tr>\n",
       "<tr><td style=\"white-space: nowrap; max-width: 500px; overflow: hidden; text-overflow: ellipsis; \">chr1:10108</td><td style=\"white-space: nowrap; max-width: 500px; overflow: hidden; text-overflow: ellipsis; \">[&quot;C&quot;,&quot;CA&quot;]</td><td style=\"white-space: nowrap; max-width: 500px; overflow: hidden; text-overflow: ellipsis; \">3.91e-01</td><td style=\"white-space: nowrap; max-width: 500px; overflow: hidden; text-overflow: ellipsis; \">5.32e+00</td><td style=\"white-space: nowrap; max-width: 500px; overflow: hidden; text-overflow: ellipsis; \">NA</td><td style=\"white-space: nowrap; max-width: 500px; overflow: hidden; text-overflow: ellipsis; \">NA</td><td style=\"white-space: nowrap; max-width: 500px; overflow: hidden; text-overflow: ellipsis; \">NA</td><td style=\"white-space: nowrap; max-width: 500px; overflow: hidden; text-overflow: ellipsis; \">NA</td><td style=\"white-space: nowrap; max-width: 500px; overflow: hidden; text-overflow: ellipsis; \">NA</td><td style=\"white-space: nowrap; max-width: 500px; overflow: hidden; text-overflow: ellipsis; \">NA</td><td style=\"white-space: nowrap; max-width: 500px; overflow: hidden; text-overflow: ellipsis; \">NA</td></tr>\n",
       "</tbody></table><p style=\"background: #fdd; padding: 0.4em;\">showing top 10 rows</p>\n"
      ],
      "text/plain": [
       "+---------------+------------------------------------------+----------------+------------+-------------------+--------------+--------------+\n",
       "| locus         | alleles                                  | cadd.raw_score | cadd.phred | revel.revel_score | revel.ref_aa | revel.alt_aa |\n",
       "+---------------+------------------------------------------+----------------+------------+-------------------+--------------+--------------+\n",
       "| locus<GRCh38> | array<str>                               |        float32 |    float32 |           float64 | str          | str          |\n",
       "+---------------+------------------------------------------+----------------+------------+-------------------+--------------+--------------+\n",
       "| chr1:10055    | [\"T\",\"TAACCCTAACCCTAACCCTAACCCTAACCCT... |       1.92e-01 |   3.03e+00 |                NA | NA           | NA           |\n",
       "| chr1:10055    | [\"T\",\"TAACCCTAACCCTAACCCTAACCCTAACCCT... |       1.92e-01 |   3.03e+00 |                NA | NA           | NA           |\n",
       "| chr1:10061    | [\"T\",\"TAACCCTAACCCTAACCCTAACCCTAACCCT... |       2.00e-01 |   3.12e+00 |                NA | NA           | NA           |\n",
       "| chr1:10064    | [\"C\",\"CCCTAACCCTAACCCTAACCCTAACCCTAAC... |       1.90e-01 |   3.02e+00 |                NA | NA           | NA           |\n",
       "| chr1:10067    | [\"T\",\"TAACCCTAACCCTAACCCTAACCCTAACCCT... |       2.51e-01 |   3.71e+00 |                NA | NA           | NA           |\n",
       "| chr1:10067    | [\"T\",\"TAACCCTAACCCTAACCCTAACCCTAACCCT... |       2.25e-01 |   3.42e+00 |                NA | NA           | NA           |\n",
       "| chr1:10073    | [\"T\",\"TAACCCTAACCCTAACCCTAACCCTAACCCT... |       2.51e-01 |   3.71e+00 |                NA | NA           | NA           |\n",
       "| chr1:10079    | [\"T\",\"TAACCCTAACCCTAACCCTAACCCTAACCC\"]   |       2.77e-01 |   4.02e+00 |                NA | NA           | NA           |\n",
       "| chr1:10091    | [\"T\",\"TAACCCTAACCCTAACCC\"]               |       3.28e-01 |   4.61e+00 |                NA | NA           | NA           |\n",
       "| chr1:10108    | [\"C\",\"CA\"]                               |       3.91e-01 |   5.32e+00 |                NA | NA           | NA           |\n",
       "+---------------+------------------------------------------+----------------+------------+-------------------+--------------+--------------+\n",
       "\n",
       "+---------------------+------------------+------------------------------+-----------------------------+\n",
       "| splice_ai.splice_ai | splice_ai.max_ds | splice_ai.splice_consequence | primate_ai.primate_ai_score |\n",
       "+---------------------+------------------+------------------------------+-----------------------------+\n",
       "| array<float32>      |          float32 | str                          |                     float32 |\n",
       "+---------------------+------------------+------------------------------+-----------------------------+\n",
       "| NA                  |               NA | NA                           |                          NA |\n",
       "| NA                  |               NA | NA                           |                          NA |\n",
       "| NA                  |               NA | NA                           |                          NA |\n",
       "| NA                  |               NA | NA                           |                          NA |\n",
       "| NA                  |               NA | NA                           |                          NA |\n",
       "| NA                  |               NA | NA                           |                          NA |\n",
       "| NA                  |               NA | NA                           |                          NA |\n",
       "| NA                  |               NA | NA                           |                          NA |\n",
       "| NA                  |               NA | NA                           |                          NA |\n",
       "| NA                  |               NA | NA                           |                          NA |\n",
       "+---------------------+------------------+------------------------------+-----------------------------+\n",
       "showing top 10 rows"
      ]
     },
     "metadata": {},
     "output_type": "display_data"
    },
    {
     "data": {
      "text/html": [
       "<p>4380928 records.</p><b>splice_ai</b> (<i>struct with 3 fields</i>):<ul><table><tbody><tr><td>Non-missing</td><td>0</td></tr><tr><td>Missing</td><td>4380928 (100.00%)</td></tr></tbody></table></ul>"
      ],
      "text/plain": [
       "\n",
       "4380928 records.\n",
       "\n",
       "- splice_ai (struct with 3 fields):\n",
       "  Non-missing: 0\n",
       "      Missing: 4380928 (100.00%)"
      ]
     },
     "metadata": {},
     "output_type": "display_data"
    },
    {
     "data": {
      "text/html": [
       "<p>262288960 records.</p><b>splice_ai</b> (<i>struct with 3 fields</i>):<ul><table><tbody><tr><td>Non-missing</td><td>262288960 (100.00%)</td></tr><tr><td>Missing</td><td>0</td></tr></tbody></table><li><b>splice_ai.splice_ai</b> (<i>array&lt;float32&gt;</i>):<ul><table><tbody><tr><td>Non-missing</td><td>100955534 (38.49%)</td></tr><tr><td>Missing</td><td>161333426 (61.51%)</td></tr><tr><td>Min Size</td><td>4</td></tr><tr><td>Max Size</td><td>4</td></tr><tr><td>Mean Size</td><td>4.00</td></tr></tbody></table><li><b>splice_ai.splice_ai[&lt;elements&gt;]</b> (<i>float32</i>):<ul><table><tbody><tr><td>Non-missing</td><td>403822136 (100.00%)</td></tr><tr><td>Missing</td><td>0</td></tr><tr><td>Minimum</td><td>-0.00</td></tr><tr><td>Maximum</td><td>1.00</td></tr><tr><td>Mean</td><td>0.00</td></tr><tr><td>Std Dev</td><td>0.03</td></tr></tbody></table></ul></li></ul></li><li><b>splice_ai.max_ds</b> (<i>float32</i>):<ul><table><tbody><tr><td>Non-missing</td><td>100955534 (38.49%)</td></tr><tr><td>Missing</td><td>161333426 (61.51%)</td></tr><tr><td>Minimum</td><td>0.00</td></tr><tr><td>Maximum</td><td>1.00</td></tr><tr><td>Mean</td><td>0.01</td></tr><tr><td>Std Dev</td><td>0.05</td></tr></tbody></table></ul></li><li><b>splice_ai.splice_consequence</b> (<i>str</i>):<ul><table><tbody><tr><td>Non-missing</td><td>100955534 (38.49%)</td></tr><tr><td>Missing</td><td>161333426 (61.51%)</td></tr><tr><td>Min Size</td><td>10</td></tr><tr><td>Max Size</td><td>14</td></tr><tr><td>Mean Size</td><td>13.84</td></tr><tr><td>Sample Values</td><td>[&#x27;Donor gain&#x27;, &#x27;Acceptor gain&#x27;, &#x27;Acceptor gain&#x27;, &#x27;Acceptor gain&#x27;, &#x27;Acceptor gain&#x27;]</td></tr></tbody></table></ul></li></ul>"
      ],
      "text/plain": [
       "\n",
       "262288960 records.\n",
       "\n",
       "- splice_ai (struct with 3 fields):\n",
       "  Non-missing: 262288960 (100.00%)\n",
       "      Missing: 0\n",
       "\n",
       "  - splice_ai.splice_ai (array<float32>):\n",
       "    Non-missing: 100955534 (38.49%)\n",
       "        Missing: 161333426 (61.51%)\n",
       "       Min Size: 4\n",
       "       Max Size: 4\n",
       "      Mean Size: 4.00\n",
       "\n",
       "    - splice_ai.splice_ai[<elements>] (float32):\n",
       "      Non-missing: 403822136 (100.00%)\n",
       "          Missing: 0\n",
       "          Minimum: -0.00\n",
       "          Maximum: 1.00\n",
       "             Mean: 0.00\n",
       "          Std Dev: 0.03\n",
       "\n",
       "  - splice_ai.max_ds (float32):\n",
       "    Non-missing: 100955534 (38.49%)\n",
       "        Missing: 161333426 (61.51%)\n",
       "        Minimum: 0.00\n",
       "        Maximum: 1.00\n",
       "           Mean: 0.01\n",
       "        Std Dev: 0.05\n",
       "\n",
       "  - splice_ai.splice_consequence (str):\n",
       "      Non-missing: 100955534 (38.49%)\n",
       "          Missing: 161333426 (61.51%)\n",
       "         Min Size: 10\n",
       "         Max Size: 14\n",
       "        Mean Size: 13.84\n",
       "    Sample Values: ['Donor gain', 'Acceptor gain', 'Acceptor gain', 'Acceptor gain', 'Acceptor gain']"
      ]
     },
     "metadata": {},
     "output_type": "display_data"
    }
   ],
   "source": [
    "a = full_annotations.filter(hl.is_indel(full_annotations.alleles[0],full_annotations.alleles[1]))\n",
    "b = a.filter(hl.is_missing(a.splice_ai))\n",
    "b.show()\n",
    "c = a.filter(hl.is_defined(a.splice_ai))\n",
    "c.show()\n",
    "b.splice_ai.summarize()\n",
    "c.splice_ai.summarize()"
   ]
  },
  {
   "cell_type": "code",
   "execution_count": 21,
   "metadata": {},
   "outputs": [
    {
     "data": {
      "text/html": [
       "<p>4380928 records.</p><b>splice_ai</b> (<i>struct with 3 fields</i>):<ul><table><tbody><tr><td>Non-missing</td><td>0</td></tr><tr><td>Missing</td><td>4380928 (100.00%)</td></tr></tbody></table></ul>"
      ],
      "text/plain": [
       "\n",
       "4380928 records.\n",
       "\n",
       "- splice_ai (struct with 3 fields):\n",
       "  Non-missing: 0\n",
       "      Missing: 4380928 (100.00%)"
      ]
     },
     "metadata": {},
     "output_type": "display_data"
    },
    {
     "name": "stdout",
     "output_type": "stream",
     "text": [
      "None\n"
     ]
    },
    {
     "data": {
      "text/html": [
       "<p>262288960 records.</p><b>splice_ai</b> (<i>struct with 3 fields</i>):<ul><table><tbody><tr><td>Non-missing</td><td>262288960 (100.00%)</td></tr><tr><td>Missing</td><td>0</td></tr></tbody></table><li><b>splice_ai.splice_ai</b> (<i>array&lt;float32&gt;</i>):<ul><table><tbody><tr><td>Non-missing</td><td>100955534 (38.49%)</td></tr><tr><td>Missing</td><td>161333426 (61.51%)</td></tr><tr><td>Min Size</td><td>4</td></tr><tr><td>Max Size</td><td>4</td></tr><tr><td>Mean Size</td><td>4.00</td></tr></tbody></table><li><b>splice_ai.splice_ai[&lt;elements&gt;]</b> (<i>float32</i>):<ul><table><tbody><tr><td>Non-missing</td><td>403822136 (100.00%)</td></tr><tr><td>Missing</td><td>0</td></tr><tr><td>Minimum</td><td>-0.00</td></tr><tr><td>Maximum</td><td>1.00</td></tr><tr><td>Mean</td><td>0.00</td></tr><tr><td>Std Dev</td><td>0.03</td></tr></tbody></table></ul></li></ul></li><li><b>splice_ai.max_ds</b> (<i>float32</i>):<ul><table><tbody><tr><td>Non-missing</td><td>100955534 (38.49%)</td></tr><tr><td>Missing</td><td>161333426 (61.51%)</td></tr><tr><td>Minimum</td><td>0.00</td></tr><tr><td>Maximum</td><td>1.00</td></tr><tr><td>Mean</td><td>0.01</td></tr><tr><td>Std Dev</td><td>0.05</td></tr></tbody></table></ul></li><li><b>splice_ai.splice_consequence</b> (<i>str</i>):<ul><table><tbody><tr><td>Non-missing</td><td>100955534 (38.49%)</td></tr><tr><td>Missing</td><td>161333426 (61.51%)</td></tr><tr><td>Min Size</td><td>10</td></tr><tr><td>Max Size</td><td>14</td></tr><tr><td>Mean Size</td><td>13.84</td></tr><tr><td>Sample Values</td><td>[&#x27;Donor gain&#x27;, &#x27;Acceptor gain&#x27;, &#x27;Acceptor gain&#x27;, &#x27;Acceptor gain&#x27;, &#x27;Acceptor gain&#x27;]</td></tr></tbody></table></ul></li></ul>"
      ],
      "text/plain": [
       "\n",
       "262288960 records.\n",
       "\n",
       "- splice_ai (struct with 3 fields):\n",
       "  Non-missing: 262288960 (100.00%)\n",
       "      Missing: 0\n",
       "\n",
       "  - splice_ai.splice_ai (array<float32>):\n",
       "    Non-missing: 100955534 (38.49%)\n",
       "        Missing: 161333426 (61.51%)\n",
       "       Min Size: 4\n",
       "       Max Size: 4\n",
       "      Mean Size: 4.00\n",
       "\n",
       "    - splice_ai.splice_ai[<elements>] (float32):\n",
       "      Non-missing: 403822136 (100.00%)\n",
       "          Missing: 0\n",
       "          Minimum: -0.00\n",
       "          Maximum: 1.00\n",
       "             Mean: 0.00\n",
       "          Std Dev: 0.03\n",
       "\n",
       "  - splice_ai.max_ds (float32):\n",
       "    Non-missing: 100955534 (38.49%)\n",
       "        Missing: 161333426 (61.51%)\n",
       "        Minimum: 0.00\n",
       "        Maximum: 1.00\n",
       "           Mean: 0.01\n",
       "        Std Dev: 0.05\n",
       "\n",
       "  - splice_ai.splice_consequence (str):\n",
       "      Non-missing: 100955534 (38.49%)\n",
       "          Missing: 161333426 (61.51%)\n",
       "         Min Size: 10\n",
       "         Max Size: 14\n",
       "        Mean Size: 13.84\n",
       "    Sample Values: ['Donor gain', 'Acceptor gain', 'Acceptor gain', 'Acceptor gain', 'Acceptor gain']"
      ]
     },
     "metadata": {},
     "output_type": "display_data"
    },
    {
     "name": "stdout",
     "output_type": "stream",
     "text": [
      "None\n"
     ]
    }
   ],
   "source": [
    "print(b.splice_ai.summarize())\n",
    "print(c.splice_ai.summarize())"
   ]
  },
  {
   "cell_type": "code",
   "execution_count": 22,
   "metadata": {},
   "outputs": [
    {
     "data": {
      "text/html": [
       "<h3>Columns</h3><p>0 records.</p><ul><li><b>s</b> (<i>str</i>):<ul><table><tbody><tr><td>Non-missing</td><td>0</td></tr><tr><td>Missing</td><td>0</td></tr></tbody></table></ul></li></ul>"
      ],
      "text/plain": [
       "Columns\n",
       "======\n",
       "0 records.\n",
       "\n",
       "  - s (str):\n",
       "    Non-missing: 0\n",
       "        Missing: 0"
      ]
     },
     "metadata": {},
     "output_type": "display_data"
    },
    {
     "data": {
      "text/html": [
       "<h3>Rows</h3><p>263071868 records.</p><ul><li><b>locus</b> (<i>locus&lt;GRCh38&gt;</i>):<ul><table><tbody><tr><td>Non-missing</td><td>263071868 (100.00%)</td></tr><tr><td>Missing</td><td>0</td></tr><tr><td>Contig Counts</td><td>{&#x27;chr11&#x27;: 11664173, &#x27;chr5&#x27;: 15405197, &#x27;chr22&#x27;: 3618580, &#x27;chr8&#x27;: 12618223, &#x27;chr19&#x27;: 6793978, &#x27;chrY&#x27;: 1624633, &#x27;chr1&#x27;: 20097560, &#x27;chr15&#x27;: 7537321, &#x27;chr12&#x27;: 12114513, &#x27;chr18&#x27;: 6583523, &#x27;chr20&#x27;: 5545355, &#x27;chr2&#x27;: 20940975, &#x27;chr13&#x27;: 8585290, &#x27;chr7&#x27;: 14492115, &#x27;chr14&#x27;: 8163417, &#x27;chr3&#x27;: 17000241, &#x27;chr17&#x27;: 7893956, &#x27;chr4&#x27;: 16917567, &#x27;chr6&#x27;: 14979613, &#x27;chr9&#x27;: 10722816, &#x27;chrX&#x27;: 16407215, &#x27;chr10&#x27;: 12017810, &#x27;chr21&#x27;: 3498821, &#x27;chr16&#x27;: 7848976}</td></tr></tbody></table></ul></li><li><b>alleles</b> (<i>array&lt;str&gt;</i>):<ul><table><tbody><tr><td>Non-missing</td><td>263071868 (100.00%)</td></tr><tr><td>Missing</td><td>0</td></tr><tr><td>Min Size</td><td>2</td></tr><tr><td>Max Size</td><td>2</td></tr><tr><td>Mean Size</td><td>2.00</td></tr></tbody></table><li><b>alleles[&lt;elements&gt;]</b> (<i>str</i>):<ul><table><tbody><tr><td>Non-missing</td><td>526143736 (100.00%)</td></tr><tr><td>Missing</td><td>0</td></tr><tr><td>Min Size</td><td>1</td></tr><tr><td>Max Size</td><td>1382</td></tr><tr><td>Mean Size</td><td>6.37</td></tr><tr><td>Sample Values</td><td>[&#x27;T&#x27;, &#x27;TAACCCTAACCCTAACCCTAACCCTAACCCTAACCCTAACCCTAACCCTAACCC&#x27;, &#x27;T&#x27;, &#x27;TAACCCTAACCCTAACCCTAACCCTAACCCTAACCCTAACCCTAACCCTAACCCA&#x27;, &#x27;T&#x27;]</td></tr></tbody></table></ul></li></ul></li><li><b>rsid</b> (<i>str</i>):<ul><table><tbody><tr><td>Non-missing</td><td>0</td></tr><tr><td>Missing</td><td>263071868 (100.00%)</td></tr></tbody></table></ul></li><li><b>qual</b> (<i>float64</i>):<ul><table><tbody><tr><td>Non-missing</td><td>263071868 (100.00%)</td></tr><tr><td>Missing</td><td>0</td></tr><tr><td>Minimum</td><td>-10.00</td></tr><tr><td>Maximum</td><td>-10.00</td></tr><tr><td>Mean</td><td>-10.00</td></tr><tr><td>Std Dev</td><td>0.00</td></tr></tbody></table></ul></li><li><b>filters</b> (<i>set&lt;str&gt;</i>):<ul><table><tbody><tr><td>Non-missing</td><td>0</td></tr><tr><td>Missing</td><td>263071868 (100.00%)</td></tr></tbody></table></ul></li><li><b>info</b> (<i>struct with 1 fields</i>):<ul><table><tbody><tr><td>Non-missing</td><td>263071868 (100.00%)</td></tr><tr><td>Missing</td><td>0</td></tr></tbody></table><li><b>info.SpliceAI</b> (<i>array&lt;str&gt;</i>):<ul><table><tbody><tr><td>Non-missing</td><td>101026957 (38.40%)</td></tr><tr><td>Missing</td><td>162044911 (61.60%)</td></tr><tr><td>Min Size</td><td>1</td></tr><tr><td>Max Size</td><td>21</td></tr><tr><td>Mean Size</td><td>1.03</td></tr></tbody></table><li><b>info.SpliceAI[&lt;elements&gt;]</b> (<i>str</i>):<ul><table><tbody><tr><td>Non-missing</td><td>103769092 (100.00%)</td></tr><tr><td>Missing</td><td>0</td></tr><tr><td>Min Size</td><td>32</td></tr><tr><td>Max Size</td><td>1318</td></tr><tr><td>Mean Size</td><td>47.80</td></tr><tr><td>Sample Values</td><td>[&#x27;GT|OR4F5|0.01|0.00|0.05|0.00|20|-26|6|-44&#x27;, &#x27;GTTTTTT|OR4F5|0.07|0.00|0.03|0.00|20|-26|-44|-24&#x27;, &#x27;CT|OR4F5|0.11|0.00|0.00|0.00|-25|34|33|18&#x27;, &#x27;C|OR4F5|0.09|0.00|0.00|0.00|-40|-2|18|3&#x27;, &#x27;AT|OR4F5|0.01|0.00|0.00|0.00|-17|-38|33|19&#x27;]</td></tr></tbody></table></ul></li></ul></li></ul></li></ul>"
      ],
      "text/plain": [
       "Rows\n",
       "======\n",
       "263071868 records.\n",
       "\n",
       "  - locus (locus<GRCh38>):\n",
       "      Non-missing: 263071868 (100.00%)\n",
       "          Missing: 0\n",
       "    Contig Counts: {'chr11': 11664173, 'chr5': 15405197, 'chr22': 3618580, 'chr8': 12618223, 'chr19': 6793978, 'chrY': 1624633, 'chr1': 20097560, 'chr15': 7537321, 'chr12': 12114513, 'chr18': 6583523, 'chr20': 5545355, 'chr2': 20940975, 'chr13': 8585290, 'chr7': 14492115, 'chr14': 8163417, 'chr3': 17000241, 'chr17': 7893956, 'chr4': 16917567, 'chr6': 14979613, 'chr9': 10722816, 'chrX': 16407215, 'chr10': 12017810, 'chr21': 3498821, 'chr16': 7848976}\n",
       "\n",
       "  - alleles (array<str>):\n",
       "    Non-missing: 263071868 (100.00%)\n",
       "        Missing: 0\n",
       "       Min Size: 2\n",
       "       Max Size: 2\n",
       "      Mean Size: 2.00\n",
       "\n",
       "    - alleles[<elements>] (str):\n",
       "        Non-missing: 526143736 (100.00%)\n",
       "            Missing: 0\n",
       "           Min Size: 1\n",
       "           Max Size: 1382\n",
       "          Mean Size: 6.37\n",
       "      Sample Values: ['T', 'TAACCCTAACCCTAACCCTAACCCTAACCCTAACCCTAACCCTAACCCTAACCC', 'T', 'TAACCCTAACCCTAACCCTAACCCTAACCCTAACCCTAACCCTAACCCTAACCCA', 'T']\n",
       "\n",
       "  - rsid (str):\n",
       "    Non-missing: 0\n",
       "        Missing: 263071868 (100.00%)\n",
       "\n",
       "  - qual (float64):\n",
       "    Non-missing: 263071868 (100.00%)\n",
       "        Missing: 0\n",
       "        Minimum: -10.00\n",
       "        Maximum: -10.00\n",
       "           Mean: -10.00\n",
       "        Std Dev: 0.00\n",
       "\n",
       "  - filters (set<str>):\n",
       "    Non-missing: 0\n",
       "        Missing: 263071868 (100.00%)\n",
       "\n",
       "  - info (struct with 1 fields):\n",
       "    Non-missing: 263071868 (100.00%)\n",
       "        Missing: 0\n",
       "\n",
       "    - info.SpliceAI (array<str>):\n",
       "      Non-missing: 101026957 (38.40%)\n",
       "          Missing: 162044911 (61.60%)\n",
       "         Min Size: 1\n",
       "         Max Size: 21\n",
       "        Mean Size: 1.03\n",
       "\n",
       "      - info.SpliceAI[<elements>] (str):\n",
       "          Non-missing: 103769092 (100.00%)\n",
       "              Missing: 0\n",
       "             Min Size: 32\n",
       "             Max Size: 1318\n",
       "            Mean Size: 47.80\n",
       "        Sample Values: ['GT|OR4F5|0.01|0.00|0.05|0.00|20|-26|6|-44', 'GTTTTTT|OR4F5|0.07|0.00|0.03|0.00|20|-26|-44|-24', 'CT|OR4F5|0.11|0.00|0.00|0.00|-25|34|33|18', 'C|OR4F5|0.09|0.00|0.00|0.00|-40|-2|18|3', 'AT|OR4F5|0.01|0.00|0.00|0.00|-17|-38|33|19']"
      ]
     },
     "metadata": {},
     "output_type": "display_data"
    },
    {
     "data": {
      "text/html": [
       "<h3>Entries</h3><p>0 records.</p><ul></ul>"
      ],
      "text/plain": [
       "Entries\n",
       "======\n",
       "0 records."
      ]
     },
     "metadata": {},
     "output_type": "display_data"
    }
   ],
   "source": [
    "spliceAi_indels_skip_invalid.summarize()"
   ]
  },
  {
   "cell_type": "code",
   "execution_count": 9,
   "metadata": {},
   "outputs": [
    {
     "data": {
      "text/html": [
       "<p>1584091437 records.</p><ul><li><b>locus</b> (<i>locus&lt;GRCh38&gt;</i>):<ul><table><tbody><tr><td>Non-missing</td><td>1584091437 (100.00%)</td></tr><tr><td>Missing</td><td>0</td></tr><tr><td>Contig Counts</td><td>{&#x27;chr11&#x27;: 69489149, &#x27;chr5&#x27;: 93769047, &#x27;chr22&#x27;: 22076679, &#x27;chr8&#x27;: 77100610, &#x27;chr19&#x27;: 34268343, &#x27;chrY&#x27;: 14637245, &#x27;chr1&#x27;: 119509995, &#x27;chr15&#x27;: 43776955, &#x27;chr12&#x27;: 68722532, &#x27;chr18&#x27;: 38674164, &#x27;chr20&#x27;: 31905096, &#x27;chr2&#x27;: 124209991, &#x27;chr13&#x27;: 50807608, &#x27;chr7&#x27;: 83637854, &#x27;chr14&#x27;: 46794023, &#x27;chr3&#x27;: 101328983, &#x27;chrM&#x27;: 5746, &#x27;chr17&#x27;: 43009606, &#x27;chr4&#x27;: 99543980, &#x27;chr6&#x27;: 86614746, &#x27;chr9&#x27;: 66585932, &#x27;chrX&#x27;: 130280891, &#x27;chr10&#x27;: 69628678, &#x27;chr21&#x27;: 21073146, &#x27;chr16&#x27;: 46640438}</td></tr></tbody></table></ul></li><li><b>alleles</b> (<i>array&lt;str&gt;</i>):<ul><table><tbody><tr><td>Non-missing</td><td>1584091437 (100.00%)</td></tr><tr><td>Missing</td><td>0</td></tr><tr><td>Min Size</td><td>2</td></tr><tr><td>Max Size</td><td>2</td></tr><tr><td>Mean Size</td><td>2.00</td></tr></tbody></table><li><b>alleles[&lt;elements&gt;]</b> (<i>str</i>):<ul><table><tbody><tr><td>Non-missing</td><td>3168182874 (100.00%)</td></tr><tr><td>Missing</td><td>0</td></tr><tr><td>Min Size</td><td>1</td></tr><tr><td>Max Size</td><td>1382</td></tr><tr><td>Mean Size</td><td>1.91</td></tr><tr><td>Sample Values</td><td>[&#x27;T&#x27;, &#x27;A&#x27;, &#x27;T&#x27;, &#x27;C&#x27;, &#x27;T&#x27;]</td></tr></tbody></table></ul></li></ul></li><li><b>cadd</b> (<i>struct with 2 fields</i>):<ul><table><tbody><tr><td>Non-missing</td><td>1584085691 (100.00%)</td></tr><tr><td>Missing</td><td>5746 (0.00%)</td></tr></tbody></table><li><b>cadd.raw_score</b> (<i>float32</i>):<ul><table><tbody><tr><td>Non-missing</td><td>1584085691 (100.00%)</td></tr><tr><td>Missing</td><td>5746 (0.00%)</td></tr><tr><td>Minimum</td><td>-19.41</td></tr><tr><td>Maximum</td><td>22.12</td></tr><tr><td>Mean</td><td>0.18</td></tr><tr><td>Std Dev</td><td>0.49</td></tr></tbody></table></ul></li><li><b>cadd.phred</b> (<i>float32</i>):<ul><table><tbody><tr><td>Non-missing</td><td>1584085691 (100.00%)</td></tr><tr><td>Missing</td><td>5746 (0.00%)</td></tr><tr><td>Minimum</td><td>0.00</td></tr><tr><td>Maximum</td><td>96.00</td></tr><tr><td>Mean</td><td>3.51</td></tr><tr><td>Std Dev</td><td>3.89</td></tr></tbody></table></ul></li></ul></li><li><b>revel</b> (<i>struct with 3 fields</i>):<ul><table><tbody><tr><td>Non-missing</td><td>9742241 (0.62%)</td></tr><tr><td>Missing</td><td>1574349196 (99.38%)</td></tr></tbody></table><li><b>revel.revel_score</b> (<i>float64</i>):<ul><table><tbody><tr><td>Non-missing</td><td>9742241 (0.62%)</td></tr><tr><td>Missing</td><td>1574349196 (99.38%)</td></tr><tr><td>Minimum</td><td>0.00</td></tr><tr><td>Maximum</td><td>1.00</td></tr><tr><td>Mean</td><td>0.23</td></tr><tr><td>Std Dev</td><td>0.23</td></tr></tbody></table></ul></li><li><b>revel.ref_aa</b> (<i>str</i>):<ul><table><tbody><tr><td>Non-missing</td><td>9742241 (0.62%)</td></tr><tr><td>Missing</td><td>1574349196 (99.38%)</td></tr><tr><td>Min Size</td><td>1</td></tr><tr><td>Max Size</td><td>1</td></tr><tr><td>Mean Size</td><td>1.00</td></tr><tr><td>Sample Values</td><td>[&#x27;S&#x27;, &#x27;S&#x27;, &#x27;S&#x27;, &#x27;S&#x27;, &#x27;S&#x27;]</td></tr></tbody></table></ul></li><li><b>revel.alt_aa</b> (<i>str</i>):<ul><table><tbody><tr><td>Non-missing</td><td>9742241 (0.62%)</td></tr><tr><td>Missing</td><td>1574349196 (99.38%)</td></tr><tr><td>Min Size</td><td>1</td></tr><tr><td>Max Size</td><td>1</td></tr><tr><td>Mean Size</td><td>1.00</td></tr><tr><td>Sample Values</td><td>[&#x27;T&#x27;, &#x27;P&#x27;, &#x27;A&#x27;, &#x27;Y&#x27;, &#x27;F&#x27;]</td></tr></tbody></table></ul></li></ul></li><li><b>splice_ai</b> (<i>struct with 3 fields</i>):<ul><table><tbody><tr><td>Non-missing</td><td>745130422 (47.04%)</td></tr><tr><td>Missing</td><td>838961015 (52.96%)</td></tr></tbody></table><li><b>splice_ai.splice_ai</b> (<i>array&lt;float32&gt;</i>):<ul><table><tbody><tr><td>Non-missing</td><td>583796996 (36.85%)</td></tr><tr><td>Missing</td><td>1000294441 (63.15%)</td></tr><tr><td>Min Size</td><td>4</td></tr><tr><td>Max Size</td><td>4</td></tr><tr><td>Mean Size</td><td>4.00</td></tr></tbody></table><li><b>splice_ai.splice_ai[&lt;elements&gt;]</b> (<i>float32</i>):<ul><table><tbody><tr><td>Non-missing</td><td>2335187984 (100.00%)</td></tr><tr><td>Missing</td><td>0</td></tr><tr><td>Minimum</td><td>-0.00</td></tr><tr><td>Maximum</td><td>1.00</td></tr><tr><td>Mean</td><td>0.00</td></tr><tr><td>Std Dev</td><td>0.02</td></tr></tbody></table></ul></li></ul></li><li><b>splice_ai.max_ds</b> (<i>float32</i>):<ul><table><tbody><tr><td>Non-missing</td><td>583796996 (36.85%)</td></tr><tr><td>Missing</td><td>1000294441 (63.15%)</td></tr><tr><td>Minimum</td><td>0.00</td></tr><tr><td>Maximum</td><td>1.00</td></tr><tr><td>Mean</td><td>0.00</td></tr><tr><td>Std Dev</td><td>0.04</td></tr></tbody></table></ul></li><li><b>splice_ai.splice_consequence</b> (<i>str</i>):<ul><table><tbody><tr><td>Non-missing</td><td>583796996 (36.85%)</td></tr><tr><td>Missing</td><td>1000294441 (63.15%)</td></tr><tr><td>Min Size</td><td>10</td></tr><tr><td>Max Size</td><td>14</td></tr><tr><td>Mean Size</td><td>13.85</td></tr><tr><td>Sample Values</td><td>[&#x27;Donor gain&#x27;, &#x27;Donor gain&#x27;, &#x27;Donor gain&#x27;, &#x27;Donor gain&#x27;, &#x27;Donor gain&#x27;]</td></tr></tbody></table></ul></li></ul></li><li><b>primate_ai</b> (<i>struct with 1 fields</i>):<ul><table><tbody><tr><td>Non-missing</td><td>8388957 (0.53%)</td></tr><tr><td>Missing</td><td>1575702480 (99.47%)</td></tr></tbody></table><li><b>primate_ai.primate_ai_score</b> (<i>float32</i>):<ul><table><tbody><tr><td>Non-missing</td><td>8388957 (0.53%)</td></tr><tr><td>Missing</td><td>1575702480 (99.47%)</td></tr><tr><td>Minimum</td><td>0.11</td></tr><tr><td>Maximum</td><td>0.99</td></tr><tr><td>Mean</td><td>0.54</td></tr><tr><td>Std Dev</td><td>0.20</td></tr></tbody></table></ul></li></ul></li></ul>"
      ],
      "text/plain": [
       "\n",
       "1584091437 records.\n",
       "\n",
       "  - locus (locus<GRCh38>):\n",
       "      Non-missing: 1584091437 (100.00%)\n",
       "          Missing: 0\n",
       "    Contig Counts: {'chr11': 69489149, 'chr5': 93769047, 'chr22': 22076679, 'chr8': 77100610, 'chr19': 34268343, 'chrY': 14637245, 'chr1': 119509995, 'chr15': 43776955, 'chr12': 68722532, 'chr18': 38674164, 'chr20': 31905096, 'chr2': 124209991, 'chr13': 50807608, 'chr7': 83637854, 'chr14': 46794023, 'chr3': 101328983, 'chrM': 5746, 'chr17': 43009606, 'chr4': 99543980, 'chr6': 86614746, 'chr9': 66585932, 'chrX': 130280891, 'chr10': 69628678, 'chr21': 21073146, 'chr16': 46640438}\n",
       "\n",
       "  - alleles (array<str>):\n",
       "    Non-missing: 1584091437 (100.00%)\n",
       "        Missing: 0\n",
       "       Min Size: 2\n",
       "       Max Size: 2\n",
       "      Mean Size: 2.00\n",
       "\n",
       "    - alleles[<elements>] (str):\n",
       "        Non-missing: 3168182874 (100.00%)\n",
       "            Missing: 0\n",
       "           Min Size: 1\n",
       "           Max Size: 1382\n",
       "          Mean Size: 1.91\n",
       "      Sample Values: ['T', 'A', 'T', 'C', 'T']\n",
       "\n",
       "  - cadd (struct with 2 fields):\n",
       "    Non-missing: 1584085691 (100.00%)\n",
       "        Missing: 5746 (0.00%)\n",
       "\n",
       "    - cadd.raw_score (float32):\n",
       "      Non-missing: 1584085691 (100.00%)\n",
       "          Missing: 5746 (0.00%)\n",
       "          Minimum: -19.41\n",
       "          Maximum: 22.12\n",
       "             Mean: 0.18\n",
       "          Std Dev: 0.49\n",
       "\n",
       "    - cadd.phred (float32):\n",
       "      Non-missing: 1584085691 (100.00%)\n",
       "          Missing: 5746 (0.00%)\n",
       "          Minimum: 0.00\n",
       "          Maximum: 96.00\n",
       "             Mean: 3.51\n",
       "          Std Dev: 3.89\n",
       "\n",
       "  - revel (struct with 3 fields):\n",
       "    Non-missing: 9742241 (0.62%)\n",
       "        Missing: 1574349196 (99.38%)\n",
       "\n",
       "    - revel.revel_score (float64):\n",
       "      Non-missing: 9742241 (0.62%)\n",
       "          Missing: 1574349196 (99.38%)\n",
       "          Minimum: 0.00\n",
       "          Maximum: 1.00\n",
       "             Mean: 0.23\n",
       "          Std Dev: 0.23\n",
       "\n",
       "    - revel.ref_aa (str):\n",
       "        Non-missing: 9742241 (0.62%)\n",
       "            Missing: 1574349196 (99.38%)\n",
       "           Min Size: 1\n",
       "           Max Size: 1\n",
       "          Mean Size: 1.00\n",
       "      Sample Values: ['S', 'S', 'S', 'S', 'S']\n",
       "\n",
       "    - revel.alt_aa (str):\n",
       "        Non-missing: 9742241 (0.62%)\n",
       "            Missing: 1574349196 (99.38%)\n",
       "           Min Size: 1\n",
       "           Max Size: 1\n",
       "          Mean Size: 1.00\n",
       "      Sample Values: ['T', 'P', 'A', 'Y', 'F']\n",
       "\n",
       "  - splice_ai (struct with 3 fields):\n",
       "    Non-missing: 745130422 (47.04%)\n",
       "        Missing: 838961015 (52.96%)\n",
       "\n",
       "    - splice_ai.splice_ai (array<float32>):\n",
       "      Non-missing: 583796996 (36.85%)\n",
       "          Missing: 1000294441 (63.15%)\n",
       "         Min Size: 4\n",
       "         Max Size: 4\n",
       "        Mean Size: 4.00\n",
       "\n",
       "      - splice_ai.splice_ai[<elements>] (float32):\n",
       "        Non-missing: 2335187984 (100.00%)\n",
       "            Missing: 0\n",
       "            Minimum: -0.00\n",
       "            Maximum: 1.00\n",
       "               Mean: 0.00\n",
       "            Std Dev: 0.02\n",
       "\n",
       "    - splice_ai.max_ds (float32):\n",
       "      Non-missing: 583796996 (36.85%)\n",
       "          Missing: 1000294441 (63.15%)\n",
       "          Minimum: 0.00\n",
       "          Maximum: 1.00\n",
       "             Mean: 0.00\n",
       "          Std Dev: 0.04\n",
       "\n",
       "    - splice_ai.splice_consequence (str):\n",
       "        Non-missing: 583796996 (36.85%)\n",
       "            Missing: 1000294441 (63.15%)\n",
       "           Min Size: 10\n",
       "           Max Size: 14\n",
       "          Mean Size: 13.85\n",
       "      Sample Values: ['Donor gain', 'Donor gain', 'Donor gain', 'Donor gain', 'Donor gain']\n",
       "\n",
       "  - primate_ai (struct with 1 fields):\n",
       "    Non-missing: 8388957 (0.53%)\n",
       "        Missing: 1575702480 (99.47%)\n",
       "\n",
       "    - primate_ai.primate_ai_score (float32):\n",
       "      Non-missing: 8388957 (0.53%)\n",
       "          Missing: 1575702480 (99.47%)\n",
       "          Minimum: 0.11\n",
       "          Maximum: 0.99\n",
       "             Mean: 0.54\n",
       "          Std Dev: 0.20"
      ]
     },
     "metadata": {},
     "output_type": "display_data"
    }
   ],
   "source": [
    "full_annotations.summarize()"
   ]
  },
  {
   "cell_type": "code",
   "execution_count": 8,
   "metadata": {},
   "outputs": [
    {
     "ename": "FatalError",
     "evalue": "ZipException: File does not conform to block gzip format.\n\nJava stack trace:\njava.util.zip.ZipException: File does not conform to block gzip format.\n\tat is.hail.io.compress.BGzipInputStream$BGzipHeader.<init>(BGzipInputStream.java:41)\n\tat is.hail.io.compress.BGzipInputStream.resetState(BGzipInputStream.java:256)\n\tat is.hail.io.compress.BGzipInputStream.<init>(BGzipInputStream.java:110)\n\tat is.hail.io.compress.BGzipInputStream.<init>(BGzipInputStream.java:122)\n\tat is.hail.io.fs.BGZipCompressionCodec$.makeInputStream(FS.scala:57)\n\tat is.hail.io.fs.FS$class.open(FS.scala:141)\n\tat is.hail.io.fs.HadoopFS.open(HadoopFS.scala:70)\n\tat is.hail.io.fs.FS$class.open(FS.scala:148)\n\tat is.hail.io.fs.HadoopFS.open(HadoopFS.scala:70)\n\tat is.hail.io.fs.FS$class.readLines(FS.scala:208)\n\tat is.hail.io.fs.HadoopFS.readLines(HadoopFS.scala:70)\n\tat is.hail.expr.ir.TextTableReader$.readMetadata(TextTableReader.scala:268)\n\tat is.hail.expr.ir.TextTableReader$.apply(TextTableReader.scala:306)\n\tat is.hail.expr.ir.TextTableReader$.fromJValue(TextTableReader.scala:313)\n\tat is.hail.expr.ir.TableReader$.fromJValue(TableIR.scala:101)\n\tat is.hail.expr.ir.IRParser$.table_ir_1(Parser.scala:1366)\n\tat is.hail.expr.ir.IRParser$.table_ir(Parser.scala:1342)\n\tat is.hail.expr.ir.IRParser$$anonfun$parse_table_ir$1.apply(Parser.scala:1813)\n\tat is.hail.expr.ir.IRParser$$anonfun$parse_table_ir$1.apply(Parser.scala:1813)\n\tat is.hail.expr.ir.IRParser$.parse(Parser.scala:1802)\n\tat is.hail.expr.ir.IRParser$.parse_table_ir(Parser.scala:1813)\n\tat is.hail.backend.spark.SparkBackend$$anonfun$parse_table_ir$1.apply(SparkBackend.scala:542)\n\tat is.hail.backend.spark.SparkBackend$$anonfun$parse_table_ir$1.apply(SparkBackend.scala:541)\n\tat is.hail.expr.ir.ExecuteContext$$anonfun$scoped$1.apply(ExecuteContext.scala:20)\n\tat is.hail.expr.ir.ExecuteContext$$anonfun$scoped$1.apply(ExecuteContext.scala:18)\n\tat is.hail.utils.package$.using(package.scala:609)\n\tat is.hail.annotations.Region$.scoped(Region.scala:18)\n\tat is.hail.expr.ir.ExecuteContext$.scoped(ExecuteContext.scala:18)\n\tat is.hail.backend.spark.SparkBackend.withExecuteContext(SparkBackend.scala:230)\n\tat is.hail.backend.spark.SparkBackend.parse_table_ir(SparkBackend.scala:541)\n\tat sun.reflect.NativeMethodAccessorImpl.invoke0(Native Method)\n\tat sun.reflect.NativeMethodAccessorImpl.invoke(NativeMethodAccessorImpl.java:62)\n\tat sun.reflect.DelegatingMethodAccessorImpl.invoke(DelegatingMethodAccessorImpl.java:43)\n\tat java.lang.reflect.Method.invoke(Method.java:498)\n\tat py4j.reflection.MethodInvoker.invoke(MethodInvoker.java:244)\n\tat py4j.reflection.ReflectionEngine.invoke(ReflectionEngine.java:357)\n\tat py4j.Gateway.invoke(Gateway.java:282)\n\tat py4j.commands.AbstractCommand.invokeMethod(AbstractCommand.java:132)\n\tat py4j.commands.CallCommand.execute(CallCommand.java:79)\n\tat py4j.GatewayConnection.run(GatewayConnection.java:238)\n\tat java.lang.Thread.run(Thread.java:748)\n\n\n\nHail version: 0.2.57-582b2e31b8bd\nError summary: ZipException: File does not conform to block gzip format.",
     "output_type": "error",
     "traceback": [
      "\u001b[0;31m---------------------------------------------------------------------------\u001b[0m",
      "\u001b[0;31mFatalError\u001b[0m                                Traceback (most recent call last)",
      "\u001b[0;32m<ipython-input-8-aef33a41b4b8>\u001b[0m in \u001b[0;36m<module>\u001b[0;34m\u001b[0m\n\u001b[1;32m      1\u001b[0m primate_ai_test= hl.import_table(\"gs://gnomad-wphu/PrimateAI_scores_v0.2_hg38.tsv.bgz\",\n\u001b[1;32m      2\u001b[0m                                           \u001b[0mforce_bgz\u001b[0m\u001b[0;34m=\u001b[0m\u001b[0;32mTrue\u001b[0m\u001b[0;34m,\u001b[0m \u001b[0mcomment\u001b[0m\u001b[0;34m=\u001b[0m\u001b[0;34m\"#\"\u001b[0m\u001b[0;34m,\u001b[0m \u001b[0mskip_blank_lines\u001b[0m\u001b[0;34m=\u001b[0m\u001b[0;32mTrue\u001b[0m\u001b[0;34m,\u001b[0m\u001b[0;34m\u001b[0m\u001b[0;34m\u001b[0m\u001b[0m\n\u001b[0;32m----> 3\u001b[0;31m                                           \u001b[0mtypes\u001b[0m\u001b[0;34m=\u001b[0m\u001b[0;34m{\u001b[0m\u001b[0;34m\"pos\"\u001b[0m\u001b[0;34m:\u001b[0m\u001b[0mhl\u001b[0m\u001b[0;34m.\u001b[0m\u001b[0mtint32\u001b[0m\u001b[0;34m,\u001b[0m \u001b[0;34m'primateDL_score'\u001b[0m\u001b[0;34m:\u001b[0m\u001b[0mhl\u001b[0m\u001b[0;34m.\u001b[0m\u001b[0mtfloat32\u001b[0m\u001b[0;34m,\u001b[0m \u001b[0;34m'ExAC_coverage'\u001b[0m\u001b[0;34m:\u001b[0m\u001b[0mhl\u001b[0m\u001b[0;34m.\u001b[0m\u001b[0mtfloat32\u001b[0m\u001b[0;34m}\u001b[0m\u001b[0;34m\u001b[0m\u001b[0;34m\u001b[0m\u001b[0m\n\u001b[0m\u001b[1;32m      4\u001b[0m                                          )\n\u001b[1;32m      5\u001b[0m \u001b[0mprimate_ai_test\u001b[0m\u001b[0;34m.\u001b[0m\u001b[0mshow\u001b[0m\u001b[0;34m(\u001b[0m\u001b[0;34m)\u001b[0m\u001b[0;34m\u001b[0m\u001b[0;34m\u001b[0m\u001b[0m\n",
      "\u001b[0;32m<decorator-gen-1423>\u001b[0m in \u001b[0;36mimport_table\u001b[0;34m(paths, key, min_partitions, impute, no_header, comment, delimiter, missing, types, quote, skip_blank_lines, force_bgz, filter, find_replace, force)\u001b[0m\n",
      "\u001b[0;32m/opt/conda/miniconda3/lib/python3.6/site-packages/hail/typecheck/check.py\u001b[0m in \u001b[0;36mwrapper\u001b[0;34m(__original_func, *args, **kwargs)\u001b[0m\n\u001b[1;32m    612\u001b[0m     \u001b[0;32mdef\u001b[0m \u001b[0mwrapper\u001b[0m\u001b[0;34m(\u001b[0m\u001b[0m__original_func\u001b[0m\u001b[0;34m,\u001b[0m \u001b[0;34m*\u001b[0m\u001b[0margs\u001b[0m\u001b[0;34m,\u001b[0m \u001b[0;34m**\u001b[0m\u001b[0mkwargs\u001b[0m\u001b[0;34m)\u001b[0m\u001b[0;34m:\u001b[0m\u001b[0;34m\u001b[0m\u001b[0;34m\u001b[0m\u001b[0m\n\u001b[1;32m    613\u001b[0m         \u001b[0margs_\u001b[0m\u001b[0;34m,\u001b[0m \u001b[0mkwargs_\u001b[0m \u001b[0;34m=\u001b[0m \u001b[0mcheck_all\u001b[0m\u001b[0;34m(\u001b[0m\u001b[0m__original_func\u001b[0m\u001b[0;34m,\u001b[0m \u001b[0margs\u001b[0m\u001b[0;34m,\u001b[0m \u001b[0mkwargs\u001b[0m\u001b[0;34m,\u001b[0m \u001b[0mcheckers\u001b[0m\u001b[0;34m,\u001b[0m \u001b[0mis_method\u001b[0m\u001b[0;34m=\u001b[0m\u001b[0mis_method\u001b[0m\u001b[0;34m)\u001b[0m\u001b[0;34m\u001b[0m\u001b[0;34m\u001b[0m\u001b[0m\n\u001b[0;32m--> 614\u001b[0;31m         \u001b[0;32mreturn\u001b[0m \u001b[0m__original_func\u001b[0m\u001b[0;34m(\u001b[0m\u001b[0;34m*\u001b[0m\u001b[0margs_\u001b[0m\u001b[0;34m,\u001b[0m \u001b[0;34m**\u001b[0m\u001b[0mkwargs_\u001b[0m\u001b[0;34m)\u001b[0m\u001b[0;34m\u001b[0m\u001b[0;34m\u001b[0m\u001b[0m\n\u001b[0m\u001b[1;32m    615\u001b[0m \u001b[0;34m\u001b[0m\u001b[0m\n\u001b[1;32m    616\u001b[0m     \u001b[0;32mreturn\u001b[0m \u001b[0mwrapper\u001b[0m\u001b[0;34m\u001b[0m\u001b[0;34m\u001b[0m\u001b[0m\n",
      "\u001b[0;32m/opt/conda/miniconda3/lib/python3.6/site-packages/hail/methods/impex.py\u001b[0m in \u001b[0;36mimport_table\u001b[0;34m(paths, key, min_partitions, impute, no_header, comment, delimiter, missing, types, quote, skip_blank_lines, force_bgz, filter, find_replace, force)\u001b[0m\n\u001b[1;32m   1521\u001b[0m                             \u001b[0mskip_blank_lines\u001b[0m\u001b[0;34m,\u001b[0m \u001b[0mforce_bgz\u001b[0m\u001b[0;34m,\u001b[0m \u001b[0mfilter\u001b[0m\u001b[0;34m,\u001b[0m \u001b[0mfind_replace\u001b[0m\u001b[0;34m,\u001b[0m\u001b[0;34m\u001b[0m\u001b[0;34m\u001b[0m\u001b[0m\n\u001b[1;32m   1522\u001b[0m                             force)\n\u001b[0;32m-> 1523\u001b[0;31m     \u001b[0mht\u001b[0m \u001b[0;34m=\u001b[0m \u001b[0mTable\u001b[0m\u001b[0;34m(\u001b[0m\u001b[0mir\u001b[0m\u001b[0;34m.\u001b[0m\u001b[0mTableRead\u001b[0m\u001b[0;34m(\u001b[0m\u001b[0mtr\u001b[0m\u001b[0;34m)\u001b[0m\u001b[0;34m)\u001b[0m\u001b[0;34m\u001b[0m\u001b[0;34m\u001b[0m\u001b[0m\n\u001b[0m\u001b[1;32m   1524\u001b[0m \u001b[0;34m\u001b[0m\u001b[0m\n\u001b[1;32m   1525\u001b[0m     \u001b[0mstrs\u001b[0m \u001b[0;34m=\u001b[0m \u001b[0;34m[\u001b[0m\u001b[0;34m]\u001b[0m\u001b[0;34m\u001b[0m\u001b[0;34m\u001b[0m\u001b[0m\n",
      "\u001b[0;32m/opt/conda/miniconda3/lib/python3.6/site-packages/hail/table.py\u001b[0m in \u001b[0;36m__init__\u001b[0;34m(self, tir)\u001b[0m\n\u001b[1;32m    341\u001b[0m \u001b[0;34m\u001b[0m\u001b[0m\n\u001b[1;32m    342\u001b[0m         \u001b[0mself\u001b[0m\u001b[0;34m.\u001b[0m\u001b[0m_tir\u001b[0m \u001b[0;34m=\u001b[0m \u001b[0mtir\u001b[0m\u001b[0;34m\u001b[0m\u001b[0;34m\u001b[0m\u001b[0m\n\u001b[0;32m--> 343\u001b[0;31m         \u001b[0mself\u001b[0m\u001b[0;34m.\u001b[0m\u001b[0m_type\u001b[0m \u001b[0;34m=\u001b[0m \u001b[0mself\u001b[0m\u001b[0;34m.\u001b[0m\u001b[0m_tir\u001b[0m\u001b[0;34m.\u001b[0m\u001b[0mtyp\u001b[0m\u001b[0;34m\u001b[0m\u001b[0;34m\u001b[0m\u001b[0m\n\u001b[0m\u001b[1;32m    344\u001b[0m \u001b[0;34m\u001b[0m\u001b[0m\n\u001b[1;32m    345\u001b[0m         \u001b[0mself\u001b[0m\u001b[0;34m.\u001b[0m\u001b[0m_row_axis\u001b[0m \u001b[0;34m=\u001b[0m \u001b[0;34m'row'\u001b[0m\u001b[0;34m\u001b[0m\u001b[0;34m\u001b[0m\u001b[0m\n",
      "\u001b[0;32m/opt/conda/miniconda3/lib/python3.6/site-packages/hail/ir/base_ir.py\u001b[0m in \u001b[0;36mtyp\u001b[0;34m(self)\u001b[0m\n\u001b[1;32m    292\u001b[0m     \u001b[0;32mdef\u001b[0m \u001b[0mtyp\u001b[0m\u001b[0;34m(\u001b[0m\u001b[0mself\u001b[0m\u001b[0;34m)\u001b[0m\u001b[0;34m:\u001b[0m\u001b[0;34m\u001b[0m\u001b[0;34m\u001b[0m\u001b[0m\n\u001b[1;32m    293\u001b[0m         \u001b[0;32mif\u001b[0m \u001b[0mself\u001b[0m\u001b[0;34m.\u001b[0m\u001b[0m_type\u001b[0m \u001b[0;32mis\u001b[0m \u001b[0;32mNone\u001b[0m\u001b[0;34m:\u001b[0m\u001b[0;34m\u001b[0m\u001b[0;34m\u001b[0m\u001b[0m\n\u001b[0;32m--> 294\u001b[0;31m             \u001b[0mself\u001b[0m\u001b[0;34m.\u001b[0m\u001b[0m_compute_type\u001b[0m\u001b[0;34m(\u001b[0m\u001b[0;34m)\u001b[0m\u001b[0;34m\u001b[0m\u001b[0;34m\u001b[0m\u001b[0m\n\u001b[0m\u001b[1;32m    295\u001b[0m             \u001b[0;32massert\u001b[0m \u001b[0mself\u001b[0m\u001b[0;34m.\u001b[0m\u001b[0m_type\u001b[0m \u001b[0;32mis\u001b[0m \u001b[0;32mnot\u001b[0m \u001b[0;32mNone\u001b[0m\u001b[0;34m,\u001b[0m \u001b[0mself\u001b[0m\u001b[0;34m\u001b[0m\u001b[0;34m\u001b[0m\u001b[0m\n\u001b[1;32m    296\u001b[0m         \u001b[0;32mreturn\u001b[0m \u001b[0mself\u001b[0m\u001b[0;34m.\u001b[0m\u001b[0m_type\u001b[0m\u001b[0;34m\u001b[0m\u001b[0;34m\u001b[0m\u001b[0m\n",
      "\u001b[0;32m/opt/conda/miniconda3/lib/python3.6/site-packages/hail/ir/table_ir.py\u001b[0m in \u001b[0;36m_compute_type\u001b[0;34m(self)\u001b[0m\n\u001b[1;32m    248\u001b[0m \u001b[0;34m\u001b[0m\u001b[0m\n\u001b[1;32m    249\u001b[0m     \u001b[0;32mdef\u001b[0m \u001b[0m_compute_type\u001b[0m\u001b[0;34m(\u001b[0m\u001b[0mself\u001b[0m\u001b[0;34m)\u001b[0m\u001b[0;34m:\u001b[0m\u001b[0;34m\u001b[0m\u001b[0;34m\u001b[0m\u001b[0m\n\u001b[0;32m--> 250\u001b[0;31m         \u001b[0mself\u001b[0m\u001b[0;34m.\u001b[0m\u001b[0m_type\u001b[0m \u001b[0;34m=\u001b[0m \u001b[0mEnv\u001b[0m\u001b[0;34m.\u001b[0m\u001b[0mbackend\u001b[0m\u001b[0;34m(\u001b[0m\u001b[0;34m)\u001b[0m\u001b[0;34m.\u001b[0m\u001b[0mtable_type\u001b[0m\u001b[0;34m(\u001b[0m\u001b[0mself\u001b[0m\u001b[0;34m)\u001b[0m\u001b[0;34m\u001b[0m\u001b[0;34m\u001b[0m\u001b[0m\n\u001b[0m\u001b[1;32m    251\u001b[0m \u001b[0;34m\u001b[0m\u001b[0m\n\u001b[1;32m    252\u001b[0m \u001b[0;34m\u001b[0m\u001b[0m\n",
      "\u001b[0;32m/opt/conda/miniconda3/lib/python3.6/site-packages/hail/backend/spark_backend.py\u001b[0m in \u001b[0;36mtable_type\u001b[0;34m(self, tir)\u001b[0m\n\u001b[1;32m    306\u001b[0m \u001b[0;34m\u001b[0m\u001b[0m\n\u001b[1;32m    307\u001b[0m     \u001b[0;32mdef\u001b[0m \u001b[0mtable_type\u001b[0m\u001b[0;34m(\u001b[0m\u001b[0mself\u001b[0m\u001b[0;34m,\u001b[0m \u001b[0mtir\u001b[0m\u001b[0;34m)\u001b[0m\u001b[0;34m:\u001b[0m\u001b[0;34m\u001b[0m\u001b[0;34m\u001b[0m\u001b[0m\n\u001b[0;32m--> 308\u001b[0;31m         \u001b[0mjir\u001b[0m \u001b[0;34m=\u001b[0m \u001b[0mself\u001b[0m\u001b[0;34m.\u001b[0m\u001b[0m_to_java_table_ir\u001b[0m\u001b[0;34m(\u001b[0m\u001b[0mtir\u001b[0m\u001b[0;34m)\u001b[0m\u001b[0;34m\u001b[0m\u001b[0;34m\u001b[0m\u001b[0m\n\u001b[0m\u001b[1;32m    309\u001b[0m         \u001b[0;32mreturn\u001b[0m \u001b[0mttable\u001b[0m\u001b[0;34m.\u001b[0m\u001b[0m_from_java\u001b[0m\u001b[0;34m(\u001b[0m\u001b[0mjir\u001b[0m\u001b[0;34m.\u001b[0m\u001b[0mtyp\u001b[0m\u001b[0;34m(\u001b[0m\u001b[0;34m)\u001b[0m\u001b[0;34m)\u001b[0m\u001b[0;34m\u001b[0m\u001b[0;34m\u001b[0m\u001b[0m\n\u001b[1;32m    310\u001b[0m \u001b[0;34m\u001b[0m\u001b[0m\n",
      "\u001b[0;32m/opt/conda/miniconda3/lib/python3.6/site-packages/hail/backend/spark_backend.py\u001b[0m in \u001b[0;36m_to_java_table_ir\u001b[0;34m(self, ir)\u001b[0m\n\u001b[1;32m    284\u001b[0m \u001b[0;34m\u001b[0m\u001b[0m\n\u001b[1;32m    285\u001b[0m     \u001b[0;32mdef\u001b[0m \u001b[0m_to_java_table_ir\u001b[0m\u001b[0;34m(\u001b[0m\u001b[0mself\u001b[0m\u001b[0;34m,\u001b[0m \u001b[0mir\u001b[0m\u001b[0;34m)\u001b[0m\u001b[0;34m:\u001b[0m\u001b[0;34m\u001b[0m\u001b[0;34m\u001b[0m\u001b[0m\n\u001b[0;32m--> 286\u001b[0;31m         \u001b[0;32mreturn\u001b[0m \u001b[0mself\u001b[0m\u001b[0;34m.\u001b[0m\u001b[0m_to_java_ir\u001b[0m\u001b[0;34m(\u001b[0m\u001b[0mir\u001b[0m\u001b[0;34m,\u001b[0m \u001b[0mself\u001b[0m\u001b[0;34m.\u001b[0m\u001b[0m_parse_table_ir\u001b[0m\u001b[0;34m)\u001b[0m\u001b[0;34m\u001b[0m\u001b[0;34m\u001b[0m\u001b[0m\n\u001b[0m\u001b[1;32m    287\u001b[0m \u001b[0;34m\u001b[0m\u001b[0m\n\u001b[1;32m    288\u001b[0m     \u001b[0;32mdef\u001b[0m \u001b[0m_to_java_matrix_ir\u001b[0m\u001b[0;34m(\u001b[0m\u001b[0mself\u001b[0m\u001b[0;34m,\u001b[0m \u001b[0mir\u001b[0m\u001b[0;34m)\u001b[0m\u001b[0;34m:\u001b[0m\u001b[0;34m\u001b[0m\u001b[0;34m\u001b[0m\u001b[0m\n",
      "\u001b[0;32m/opt/conda/miniconda3/lib/python3.6/site-packages/hail/backend/spark_backend.py\u001b[0m in \u001b[0;36m_to_java_ir\u001b[0;34m(self, ir, parse)\u001b[0m\n\u001b[1;32m    277\u001b[0m             \u001b[0mr\u001b[0m \u001b[0;34m=\u001b[0m \u001b[0mCSERenderer\u001b[0m\u001b[0;34m(\u001b[0m\u001b[0mstop_at_jir\u001b[0m\u001b[0;34m=\u001b[0m\u001b[0;32mTrue\u001b[0m\u001b[0;34m)\u001b[0m\u001b[0;34m\u001b[0m\u001b[0;34m\u001b[0m\u001b[0m\n\u001b[1;32m    278\u001b[0m             \u001b[0;31m# FIXME parse should be static\u001b[0m\u001b[0;34m\u001b[0m\u001b[0;34m\u001b[0m\u001b[0;34m\u001b[0m\u001b[0m\n\u001b[0;32m--> 279\u001b[0;31m             \u001b[0mir\u001b[0m\u001b[0;34m.\u001b[0m\u001b[0m_jir\u001b[0m \u001b[0;34m=\u001b[0m \u001b[0mparse\u001b[0m\u001b[0;34m(\u001b[0m\u001b[0mr\u001b[0m\u001b[0;34m(\u001b[0m\u001b[0mir\u001b[0m\u001b[0;34m)\u001b[0m\u001b[0;34m,\u001b[0m \u001b[0mir_map\u001b[0m\u001b[0;34m=\u001b[0m\u001b[0mr\u001b[0m\u001b[0;34m.\u001b[0m\u001b[0mjirs\u001b[0m\u001b[0;34m)\u001b[0m\u001b[0;34m\u001b[0m\u001b[0;34m\u001b[0m\u001b[0m\n\u001b[0m\u001b[1;32m    280\u001b[0m         \u001b[0;32mreturn\u001b[0m \u001b[0mir\u001b[0m\u001b[0;34m.\u001b[0m\u001b[0m_jir\u001b[0m\u001b[0;34m\u001b[0m\u001b[0;34m\u001b[0m\u001b[0m\n\u001b[1;32m    281\u001b[0m \u001b[0;34m\u001b[0m\u001b[0m\n",
      "\u001b[0;32m/opt/conda/miniconda3/lib/python3.6/site-packages/hail/backend/spark_backend.py\u001b[0m in \u001b[0;36m_parse_table_ir\u001b[0;34m(self, code, ref_map, ir_map)\u001b[0m\n\u001b[1;32m    252\u001b[0m \u001b[0;34m\u001b[0m\u001b[0m\n\u001b[1;32m    253\u001b[0m     \u001b[0;32mdef\u001b[0m \u001b[0m_parse_table_ir\u001b[0m\u001b[0;34m(\u001b[0m\u001b[0mself\u001b[0m\u001b[0;34m,\u001b[0m \u001b[0mcode\u001b[0m\u001b[0;34m,\u001b[0m \u001b[0mref_map\u001b[0m\u001b[0;34m=\u001b[0m\u001b[0;34m{\u001b[0m\u001b[0;34m}\u001b[0m\u001b[0;34m,\u001b[0m \u001b[0mir_map\u001b[0m\u001b[0;34m=\u001b[0m\u001b[0;34m{\u001b[0m\u001b[0;34m}\u001b[0m\u001b[0;34m)\u001b[0m\u001b[0;34m:\u001b[0m\u001b[0;34m\u001b[0m\u001b[0;34m\u001b[0m\u001b[0m\n\u001b[0;32m--> 254\u001b[0;31m         \u001b[0;32mreturn\u001b[0m \u001b[0mself\u001b[0m\u001b[0;34m.\u001b[0m\u001b[0m_jbackend\u001b[0m\u001b[0;34m.\u001b[0m\u001b[0mparse_table_ir\u001b[0m\u001b[0;34m(\u001b[0m\u001b[0mcode\u001b[0m\u001b[0;34m,\u001b[0m \u001b[0mref_map\u001b[0m\u001b[0;34m,\u001b[0m \u001b[0mir_map\u001b[0m\u001b[0;34m)\u001b[0m\u001b[0;34m\u001b[0m\u001b[0;34m\u001b[0m\u001b[0m\n\u001b[0m\u001b[1;32m    255\u001b[0m \u001b[0;34m\u001b[0m\u001b[0m\n\u001b[1;32m    256\u001b[0m     \u001b[0;32mdef\u001b[0m \u001b[0m_parse_matrix_ir\u001b[0m\u001b[0;34m(\u001b[0m\u001b[0mself\u001b[0m\u001b[0;34m,\u001b[0m \u001b[0mcode\u001b[0m\u001b[0;34m,\u001b[0m \u001b[0mref_map\u001b[0m\u001b[0;34m=\u001b[0m\u001b[0;34m{\u001b[0m\u001b[0;34m}\u001b[0m\u001b[0;34m,\u001b[0m \u001b[0mir_map\u001b[0m\u001b[0;34m=\u001b[0m\u001b[0;34m{\u001b[0m\u001b[0;34m}\u001b[0m\u001b[0;34m)\u001b[0m\u001b[0;34m:\u001b[0m\u001b[0;34m\u001b[0m\u001b[0;34m\u001b[0m\u001b[0m\n",
      "\u001b[0;32m/usr/lib/spark/python/lib/py4j-0.10.7-src.zip/py4j/java_gateway.py\u001b[0m in \u001b[0;36m__call__\u001b[0;34m(self, *args)\u001b[0m\n\u001b[1;32m   1255\u001b[0m         \u001b[0manswer\u001b[0m \u001b[0;34m=\u001b[0m \u001b[0mself\u001b[0m\u001b[0;34m.\u001b[0m\u001b[0mgateway_client\u001b[0m\u001b[0;34m.\u001b[0m\u001b[0msend_command\u001b[0m\u001b[0;34m(\u001b[0m\u001b[0mcommand\u001b[0m\u001b[0;34m)\u001b[0m\u001b[0;34m\u001b[0m\u001b[0;34m\u001b[0m\u001b[0m\n\u001b[1;32m   1256\u001b[0m         return_value = get_return_value(\n\u001b[0;32m-> 1257\u001b[0;31m             answer, self.gateway_client, self.target_id, self.name)\n\u001b[0m\u001b[1;32m   1258\u001b[0m \u001b[0;34m\u001b[0m\u001b[0m\n\u001b[1;32m   1259\u001b[0m         \u001b[0;32mfor\u001b[0m \u001b[0mtemp_arg\u001b[0m \u001b[0;32min\u001b[0m \u001b[0mtemp_args\u001b[0m\u001b[0;34m:\u001b[0m\u001b[0;34m\u001b[0m\u001b[0;34m\u001b[0m\u001b[0m\n",
      "\u001b[0;32m/opt/conda/miniconda3/lib/python3.6/site-packages/hail/backend/spark_backend.py\u001b[0m in \u001b[0;36mdeco\u001b[0;34m(*args, **kwargs)\u001b[0m\n\u001b[1;32m     40\u001b[0m             raise FatalError('%s\\n\\nJava stack trace:\\n%s\\n'\n\u001b[1;32m     41\u001b[0m                              \u001b[0;34m'Hail version: %s\\n'\u001b[0m\u001b[0;34m\u001b[0m\u001b[0;34m\u001b[0m\u001b[0m\n\u001b[0;32m---> 42\u001b[0;31m                              'Error summary: %s' % (deepest, full, hail.__version__, deepest)) from None\n\u001b[0m\u001b[1;32m     43\u001b[0m         \u001b[0;32mexcept\u001b[0m \u001b[0mpyspark\u001b[0m\u001b[0;34m.\u001b[0m\u001b[0msql\u001b[0m\u001b[0;34m.\u001b[0m\u001b[0mutils\u001b[0m\u001b[0;34m.\u001b[0m\u001b[0mCapturedException\u001b[0m \u001b[0;32mas\u001b[0m \u001b[0me\u001b[0m\u001b[0;34m:\u001b[0m\u001b[0;34m\u001b[0m\u001b[0;34m\u001b[0m\u001b[0m\n\u001b[1;32m     44\u001b[0m             raise FatalError('%s\\n\\nJava stack trace:\\n%s\\n'\n",
      "\u001b[0;31mFatalError\u001b[0m: ZipException: File does not conform to block gzip format.\n\nJava stack trace:\njava.util.zip.ZipException: File does not conform to block gzip format.\n\tat is.hail.io.compress.BGzipInputStream$BGzipHeader.<init>(BGzipInputStream.java:41)\n\tat is.hail.io.compress.BGzipInputStream.resetState(BGzipInputStream.java:256)\n\tat is.hail.io.compress.BGzipInputStream.<init>(BGzipInputStream.java:110)\n\tat is.hail.io.compress.BGzipInputStream.<init>(BGzipInputStream.java:122)\n\tat is.hail.io.fs.BGZipCompressionCodec$.makeInputStream(FS.scala:57)\n\tat is.hail.io.fs.FS$class.open(FS.scala:141)\n\tat is.hail.io.fs.HadoopFS.open(HadoopFS.scala:70)\n\tat is.hail.io.fs.FS$class.open(FS.scala:148)\n\tat is.hail.io.fs.HadoopFS.open(HadoopFS.scala:70)\n\tat is.hail.io.fs.FS$class.readLines(FS.scala:208)\n\tat is.hail.io.fs.HadoopFS.readLines(HadoopFS.scala:70)\n\tat is.hail.expr.ir.TextTableReader$.readMetadata(TextTableReader.scala:268)\n\tat is.hail.expr.ir.TextTableReader$.apply(TextTableReader.scala:306)\n\tat is.hail.expr.ir.TextTableReader$.fromJValue(TextTableReader.scala:313)\n\tat is.hail.expr.ir.TableReader$.fromJValue(TableIR.scala:101)\n\tat is.hail.expr.ir.IRParser$.table_ir_1(Parser.scala:1366)\n\tat is.hail.expr.ir.IRParser$.table_ir(Parser.scala:1342)\n\tat is.hail.expr.ir.IRParser$$anonfun$parse_table_ir$1.apply(Parser.scala:1813)\n\tat is.hail.expr.ir.IRParser$$anonfun$parse_table_ir$1.apply(Parser.scala:1813)\n\tat is.hail.expr.ir.IRParser$.parse(Parser.scala:1802)\n\tat is.hail.expr.ir.IRParser$.parse_table_ir(Parser.scala:1813)\n\tat is.hail.backend.spark.SparkBackend$$anonfun$parse_table_ir$1.apply(SparkBackend.scala:542)\n\tat is.hail.backend.spark.SparkBackend$$anonfun$parse_table_ir$1.apply(SparkBackend.scala:541)\n\tat is.hail.expr.ir.ExecuteContext$$anonfun$scoped$1.apply(ExecuteContext.scala:20)\n\tat is.hail.expr.ir.ExecuteContext$$anonfun$scoped$1.apply(ExecuteContext.scala:18)\n\tat is.hail.utils.package$.using(package.scala:609)\n\tat is.hail.annotations.Region$.scoped(Region.scala:18)\n\tat is.hail.expr.ir.ExecuteContext$.scoped(ExecuteContext.scala:18)\n\tat is.hail.backend.spark.SparkBackend.withExecuteContext(SparkBackend.scala:230)\n\tat is.hail.backend.spark.SparkBackend.parse_table_ir(SparkBackend.scala:541)\n\tat sun.reflect.NativeMethodAccessorImpl.invoke0(Native Method)\n\tat sun.reflect.NativeMethodAccessorImpl.invoke(NativeMethodAccessorImpl.java:62)\n\tat sun.reflect.DelegatingMethodAccessorImpl.invoke(DelegatingMethodAccessorImpl.java:43)\n\tat java.lang.reflect.Method.invoke(Method.java:498)\n\tat py4j.reflection.MethodInvoker.invoke(MethodInvoker.java:244)\n\tat py4j.reflection.ReflectionEngine.invoke(ReflectionEngine.java:357)\n\tat py4j.Gateway.invoke(Gateway.java:282)\n\tat py4j.commands.AbstractCommand.invokeMethod(AbstractCommand.java:132)\n\tat py4j.commands.CallCommand.execute(CallCommand.java:79)\n\tat py4j.GatewayConnection.run(GatewayConnection.java:238)\n\tat java.lang.Thread.run(Thread.java:748)\n\n\n\nHail version: 0.2.57-582b2e31b8bd\nError summary: ZipException: File does not conform to block gzip format."
     ]
    }
   ],
   "source": [
    "primate_ai_test= hl.import_table(\"gs://gnomad-wphu/PrimateAI_scores_v0.2_hg38.tsv.gz\",\n",
    "                                          force_bgz=True, comment=\"#\", skip_blank_lines=True,\n",
    "                                          types={\"pos\":hl.tint32, 'primateDL_score':hl.tfloat32, 'ExAC_coverage':hl.tfloat32}\n",
    "                                         )\n",
    "primate_ai_test.show()"
   ]
  },
  {
   "cell_type": "code",
   "execution_count": null,
   "metadata": {},
   "outputs": [],
   "source": []
  }
 ],
 "metadata": {
  "kernelspec": {
   "display_name": "Hail",
   "language": "python",
   "name": "hail"
  },
  "language_info": {
   "codemirror_mode": {
    "name": "ipython",
    "version": 3
   },
   "file_extension": ".py",
   "mimetype": "text/x-python",
   "name": "python",
   "nbconvert_exporter": "python",
   "pygments_lexer": "ipython3",
   "version": "3.6.10"
  }
 },
 "nbformat": 4,
 "nbformat_minor": 4
}
